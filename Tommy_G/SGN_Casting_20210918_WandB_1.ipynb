{
  "nbformat": 4,
  "nbformat_minor": 0,
  "metadata": {
    "colab": {
      "name": "SGN_Casting_20210918_WandB_1.ipynb",
      "provenance": [],
      "collapsed_sections": [],
      "toc_visible": true,
      "include_colab_link": true
    },
    "kernelspec": {
      "display_name": "Python 3",
      "name": "python3"
    },
    "accelerator": "GPU",
    "widgets": {
      "application/vnd.jupyter.widget-state+json": {
        "bda49c39ebc94ad29ec440bbb4e3b555": {
          "model_module": "@jupyter-widgets/controls",
          "model_name": "VBoxModel",
          "model_module_version": "1.5.0",
          "state": {
            "_view_name": "VBoxView",
            "_dom_classes": [],
            "_model_name": "VBoxModel",
            "_view_module": "@jupyter-widgets/controls",
            "_model_module_version": "1.5.0",
            "_view_count": null,
            "_view_module_version": "1.5.0",
            "box_style": "",
            "layout": "IPY_MODEL_037c912bdba54f39b2ccdada95dd0b57",
            "_model_module": "@jupyter-widgets/controls",
            "children": [
              "IPY_MODEL_d22aa343b52b4cc8bbbb9be5c9d07c9e",
              "IPY_MODEL_e128a31e5c2a47c6bbc77415a2b07786"
            ]
          }
        },
        "037c912bdba54f39b2ccdada95dd0b57": {
          "model_module": "@jupyter-widgets/base",
          "model_name": "LayoutModel",
          "model_module_version": "1.2.0",
          "state": {
            "_view_name": "LayoutView",
            "grid_template_rows": null,
            "right": null,
            "justify_content": null,
            "_view_module": "@jupyter-widgets/base",
            "overflow": null,
            "_model_module_version": "1.2.0",
            "_view_count": null,
            "flex_flow": null,
            "width": null,
            "min_width": null,
            "border": null,
            "align_items": null,
            "bottom": null,
            "_model_module": "@jupyter-widgets/base",
            "top": null,
            "grid_column": null,
            "overflow_y": null,
            "overflow_x": null,
            "grid_auto_flow": null,
            "grid_area": null,
            "grid_template_columns": null,
            "flex": null,
            "_model_name": "LayoutModel",
            "justify_items": null,
            "grid_row": null,
            "max_height": null,
            "align_content": null,
            "visibility": null,
            "align_self": null,
            "height": null,
            "min_height": null,
            "padding": null,
            "grid_auto_rows": null,
            "grid_gap": null,
            "max_width": null,
            "order": null,
            "_view_module_version": "1.2.0",
            "grid_template_areas": null,
            "object_position": null,
            "object_fit": null,
            "grid_auto_columns": null,
            "margin": null,
            "display": null,
            "left": null
          }
        },
        "d22aa343b52b4cc8bbbb9be5c9d07c9e": {
          "model_module": "@jupyter-widgets/controls",
          "model_name": "LabelModel",
          "model_module_version": "1.5.0",
          "state": {
            "_view_name": "LabelView",
            "style": "IPY_MODEL_3c97172ffbf64c13a35020ecc1069cc2",
            "_dom_classes": [],
            "description": "",
            "_model_name": "LabelModel",
            "placeholder": "​",
            "_view_module": "@jupyter-widgets/controls",
            "_model_module_version": "1.5.0",
            "value": " 0.01MB of 0.01MB uploaded (0.00MB deduped)\r",
            "_view_count": null,
            "_view_module_version": "1.5.0",
            "description_tooltip": null,
            "_model_module": "@jupyter-widgets/controls",
            "layout": "IPY_MODEL_da379acbc2ab4e7dbe743a8dd566a990"
          }
        },
        "e128a31e5c2a47c6bbc77415a2b07786": {
          "model_module": "@jupyter-widgets/controls",
          "model_name": "FloatProgressModel",
          "model_module_version": "1.5.0",
          "state": {
            "_view_name": "ProgressView",
            "style": "IPY_MODEL_7a0bec3ec2b642aca02bb8d7ed016962",
            "_dom_classes": [],
            "description": "",
            "_model_name": "FloatProgressModel",
            "bar_style": "",
            "max": 1,
            "_view_module": "@jupyter-widgets/controls",
            "_model_module_version": "1.5.0",
            "value": 1,
            "_view_count": null,
            "_view_module_version": "1.5.0",
            "orientation": "horizontal",
            "min": 0,
            "description_tooltip": null,
            "_model_module": "@jupyter-widgets/controls",
            "layout": "IPY_MODEL_0e1abdec1618409bb68861214a65ff81"
          }
        },
        "3c97172ffbf64c13a35020ecc1069cc2": {
          "model_module": "@jupyter-widgets/controls",
          "model_name": "DescriptionStyleModel",
          "model_module_version": "1.5.0",
          "state": {
            "_view_name": "StyleView",
            "_model_name": "DescriptionStyleModel",
            "description_width": "",
            "_view_module": "@jupyter-widgets/base",
            "_model_module_version": "1.5.0",
            "_view_count": null,
            "_view_module_version": "1.2.0",
            "_model_module": "@jupyter-widgets/controls"
          }
        },
        "da379acbc2ab4e7dbe743a8dd566a990": {
          "model_module": "@jupyter-widgets/base",
          "model_name": "LayoutModel",
          "model_module_version": "1.2.0",
          "state": {
            "_view_name": "LayoutView",
            "grid_template_rows": null,
            "right": null,
            "justify_content": null,
            "_view_module": "@jupyter-widgets/base",
            "overflow": null,
            "_model_module_version": "1.2.0",
            "_view_count": null,
            "flex_flow": null,
            "width": null,
            "min_width": null,
            "border": null,
            "align_items": null,
            "bottom": null,
            "_model_module": "@jupyter-widgets/base",
            "top": null,
            "grid_column": null,
            "overflow_y": null,
            "overflow_x": null,
            "grid_auto_flow": null,
            "grid_area": null,
            "grid_template_columns": null,
            "flex": null,
            "_model_name": "LayoutModel",
            "justify_items": null,
            "grid_row": null,
            "max_height": null,
            "align_content": null,
            "visibility": null,
            "align_self": null,
            "height": null,
            "min_height": null,
            "padding": null,
            "grid_auto_rows": null,
            "grid_gap": null,
            "max_width": null,
            "order": null,
            "_view_module_version": "1.2.0",
            "grid_template_areas": null,
            "object_position": null,
            "object_fit": null,
            "grid_auto_columns": null,
            "margin": null,
            "display": null,
            "left": null
          }
        },
        "7a0bec3ec2b642aca02bb8d7ed016962": {
          "model_module": "@jupyter-widgets/controls",
          "model_name": "ProgressStyleModel",
          "model_module_version": "1.5.0",
          "state": {
            "_view_name": "StyleView",
            "_model_name": "ProgressStyleModel",
            "description_width": "",
            "_view_module": "@jupyter-widgets/base",
            "_model_module_version": "1.5.0",
            "_view_count": null,
            "_view_module_version": "1.2.0",
            "bar_color": null,
            "_model_module": "@jupyter-widgets/controls"
          }
        },
        "0e1abdec1618409bb68861214a65ff81": {
          "model_module": "@jupyter-widgets/base",
          "model_name": "LayoutModel",
          "model_module_version": "1.2.0",
          "state": {
            "_view_name": "LayoutView",
            "grid_template_rows": null,
            "right": null,
            "justify_content": null,
            "_view_module": "@jupyter-widgets/base",
            "overflow": null,
            "_model_module_version": "1.2.0",
            "_view_count": null,
            "flex_flow": null,
            "width": null,
            "min_width": null,
            "border": null,
            "align_items": null,
            "bottom": null,
            "_model_module": "@jupyter-widgets/base",
            "top": null,
            "grid_column": null,
            "overflow_y": null,
            "overflow_x": null,
            "grid_auto_flow": null,
            "grid_area": null,
            "grid_template_columns": null,
            "flex": null,
            "_model_name": "LayoutModel",
            "justify_items": null,
            "grid_row": null,
            "max_height": null,
            "align_content": null,
            "visibility": null,
            "align_self": null,
            "height": null,
            "min_height": null,
            "padding": null,
            "grid_auto_rows": null,
            "grid_gap": null,
            "max_width": null,
            "order": null,
            "_view_module_version": "1.2.0",
            "grid_template_areas": null,
            "object_position": null,
            "object_fit": null,
            "grid_auto_columns": null,
            "margin": null,
            "display": null,
            "left": null
          }
        },
        "deef750dad974a2fb1879acd694ffc1c": {
          "model_module": "@jupyter-widgets/controls",
          "model_name": "VBoxModel",
          "model_module_version": "1.5.0",
          "state": {
            "_view_name": "VBoxView",
            "_dom_classes": [],
            "_model_name": "VBoxModel",
            "_view_module": "@jupyter-widgets/controls",
            "_model_module_version": "1.5.0",
            "_view_count": null,
            "_view_module_version": "1.5.0",
            "box_style": "",
            "layout": "IPY_MODEL_64a98e0f97ed49a4919793e3f9ad56ac",
            "_model_module": "@jupyter-widgets/controls",
            "children": [
              "IPY_MODEL_760c0b1c619741b1845d2366dbbe34c9",
              "IPY_MODEL_26208875fed448dd9f09202f64efdb8a"
            ]
          }
        },
        "64a98e0f97ed49a4919793e3f9ad56ac": {
          "model_module": "@jupyter-widgets/base",
          "model_name": "LayoutModel",
          "model_module_version": "1.2.0",
          "state": {
            "_view_name": "LayoutView",
            "grid_template_rows": null,
            "right": null,
            "justify_content": null,
            "_view_module": "@jupyter-widgets/base",
            "overflow": null,
            "_model_module_version": "1.2.0",
            "_view_count": null,
            "flex_flow": null,
            "width": null,
            "min_width": null,
            "border": null,
            "align_items": null,
            "bottom": null,
            "_model_module": "@jupyter-widgets/base",
            "top": null,
            "grid_column": null,
            "overflow_y": null,
            "overflow_x": null,
            "grid_auto_flow": null,
            "grid_area": null,
            "grid_template_columns": null,
            "flex": null,
            "_model_name": "LayoutModel",
            "justify_items": null,
            "grid_row": null,
            "max_height": null,
            "align_content": null,
            "visibility": null,
            "align_self": null,
            "height": null,
            "min_height": null,
            "padding": null,
            "grid_auto_rows": null,
            "grid_gap": null,
            "max_width": null,
            "order": null,
            "_view_module_version": "1.2.0",
            "grid_template_areas": null,
            "object_position": null,
            "object_fit": null,
            "grid_auto_columns": null,
            "margin": null,
            "display": null,
            "left": null
          }
        },
        "760c0b1c619741b1845d2366dbbe34c9": {
          "model_module": "@jupyter-widgets/controls",
          "model_name": "LabelModel",
          "model_module_version": "1.5.0",
          "state": {
            "_view_name": "LabelView",
            "style": "IPY_MODEL_4c054749dcb3452d9ef40402e67e7c29",
            "_dom_classes": [],
            "description": "",
            "_model_name": "LabelModel",
            "placeholder": "​",
            "_view_module": "@jupyter-widgets/controls",
            "_model_module_version": "1.5.0",
            "value": " 0.01MB of 0.01MB uploaded (0.00MB deduped)\r",
            "_view_count": null,
            "_view_module_version": "1.5.0",
            "description_tooltip": null,
            "_model_module": "@jupyter-widgets/controls",
            "layout": "IPY_MODEL_e1ac94084c8540cda931cb7a92e7aac3"
          }
        },
        "26208875fed448dd9f09202f64efdb8a": {
          "model_module": "@jupyter-widgets/controls",
          "model_name": "FloatProgressModel",
          "model_module_version": "1.5.0",
          "state": {
            "_view_name": "ProgressView",
            "style": "IPY_MODEL_82d891d0911547e88fd32dd70d635300",
            "_dom_classes": [],
            "description": "",
            "_model_name": "FloatProgressModel",
            "bar_style": "",
            "max": 1,
            "_view_module": "@jupyter-widgets/controls",
            "_model_module_version": "1.5.0",
            "value": 1,
            "_view_count": null,
            "_view_module_version": "1.5.0",
            "orientation": "horizontal",
            "min": 0,
            "description_tooltip": null,
            "_model_module": "@jupyter-widgets/controls",
            "layout": "IPY_MODEL_9952f83480e64c858489b47abadc1ce5"
          }
        },
        "4c054749dcb3452d9ef40402e67e7c29": {
          "model_module": "@jupyter-widgets/controls",
          "model_name": "DescriptionStyleModel",
          "model_module_version": "1.5.0",
          "state": {
            "_view_name": "StyleView",
            "_model_name": "DescriptionStyleModel",
            "description_width": "",
            "_view_module": "@jupyter-widgets/base",
            "_model_module_version": "1.5.0",
            "_view_count": null,
            "_view_module_version": "1.2.0",
            "_model_module": "@jupyter-widgets/controls"
          }
        },
        "e1ac94084c8540cda931cb7a92e7aac3": {
          "model_module": "@jupyter-widgets/base",
          "model_name": "LayoutModel",
          "model_module_version": "1.2.0",
          "state": {
            "_view_name": "LayoutView",
            "grid_template_rows": null,
            "right": null,
            "justify_content": null,
            "_view_module": "@jupyter-widgets/base",
            "overflow": null,
            "_model_module_version": "1.2.0",
            "_view_count": null,
            "flex_flow": null,
            "width": null,
            "min_width": null,
            "border": null,
            "align_items": null,
            "bottom": null,
            "_model_module": "@jupyter-widgets/base",
            "top": null,
            "grid_column": null,
            "overflow_y": null,
            "overflow_x": null,
            "grid_auto_flow": null,
            "grid_area": null,
            "grid_template_columns": null,
            "flex": null,
            "_model_name": "LayoutModel",
            "justify_items": null,
            "grid_row": null,
            "max_height": null,
            "align_content": null,
            "visibility": null,
            "align_self": null,
            "height": null,
            "min_height": null,
            "padding": null,
            "grid_auto_rows": null,
            "grid_gap": null,
            "max_width": null,
            "order": null,
            "_view_module_version": "1.2.0",
            "grid_template_areas": null,
            "object_position": null,
            "object_fit": null,
            "grid_auto_columns": null,
            "margin": null,
            "display": null,
            "left": null
          }
        },
        "82d891d0911547e88fd32dd70d635300": {
          "model_module": "@jupyter-widgets/controls",
          "model_name": "ProgressStyleModel",
          "model_module_version": "1.5.0",
          "state": {
            "_view_name": "StyleView",
            "_model_name": "ProgressStyleModel",
            "description_width": "",
            "_view_module": "@jupyter-widgets/base",
            "_model_module_version": "1.5.0",
            "_view_count": null,
            "_view_module_version": "1.2.0",
            "bar_color": null,
            "_model_module": "@jupyter-widgets/controls"
          }
        },
        "9952f83480e64c858489b47abadc1ce5": {
          "model_module": "@jupyter-widgets/base",
          "model_name": "LayoutModel",
          "model_module_version": "1.2.0",
          "state": {
            "_view_name": "LayoutView",
            "grid_template_rows": null,
            "right": null,
            "justify_content": null,
            "_view_module": "@jupyter-widgets/base",
            "overflow": null,
            "_model_module_version": "1.2.0",
            "_view_count": null,
            "flex_flow": null,
            "width": null,
            "min_width": null,
            "border": null,
            "align_items": null,
            "bottom": null,
            "_model_module": "@jupyter-widgets/base",
            "top": null,
            "grid_column": null,
            "overflow_y": null,
            "overflow_x": null,
            "grid_auto_flow": null,
            "grid_area": null,
            "grid_template_columns": null,
            "flex": null,
            "_model_name": "LayoutModel",
            "justify_items": null,
            "grid_row": null,
            "max_height": null,
            "align_content": null,
            "visibility": null,
            "align_self": null,
            "height": null,
            "min_height": null,
            "padding": null,
            "grid_auto_rows": null,
            "grid_gap": null,
            "max_width": null,
            "order": null,
            "_view_module_version": "1.2.0",
            "grid_template_areas": null,
            "object_position": null,
            "object_fit": null,
            "grid_auto_columns": null,
            "margin": null,
            "display": null,
            "left": null
          }
        },
        "14296ca73ebc45579f4b4f614c98ba64": {
          "model_module": "@jupyter-widgets/controls",
          "model_name": "VBoxModel",
          "model_module_version": "1.5.0",
          "state": {
            "_view_name": "VBoxView",
            "_dom_classes": [],
            "_model_name": "VBoxModel",
            "_view_module": "@jupyter-widgets/controls",
            "_model_module_version": "1.5.0",
            "_view_count": null,
            "_view_module_version": "1.5.0",
            "box_style": "",
            "layout": "IPY_MODEL_ebb368cefd794b1085063af3da233a15",
            "_model_module": "@jupyter-widgets/controls",
            "children": [
              "IPY_MODEL_7f82a029ee3e487da7201d09a3476b8d",
              "IPY_MODEL_0bda131a403f422787ef5f99e84b7626"
            ]
          }
        },
        "ebb368cefd794b1085063af3da233a15": {
          "model_module": "@jupyter-widgets/base",
          "model_name": "LayoutModel",
          "model_module_version": "1.2.0",
          "state": {
            "_view_name": "LayoutView",
            "grid_template_rows": null,
            "right": null,
            "justify_content": null,
            "_view_module": "@jupyter-widgets/base",
            "overflow": null,
            "_model_module_version": "1.2.0",
            "_view_count": null,
            "flex_flow": null,
            "width": null,
            "min_width": null,
            "border": null,
            "align_items": null,
            "bottom": null,
            "_model_module": "@jupyter-widgets/base",
            "top": null,
            "grid_column": null,
            "overflow_y": null,
            "overflow_x": null,
            "grid_auto_flow": null,
            "grid_area": null,
            "grid_template_columns": null,
            "flex": null,
            "_model_name": "LayoutModel",
            "justify_items": null,
            "grid_row": null,
            "max_height": null,
            "align_content": null,
            "visibility": null,
            "align_self": null,
            "height": null,
            "min_height": null,
            "padding": null,
            "grid_auto_rows": null,
            "grid_gap": null,
            "max_width": null,
            "order": null,
            "_view_module_version": "1.2.0",
            "grid_template_areas": null,
            "object_position": null,
            "object_fit": null,
            "grid_auto_columns": null,
            "margin": null,
            "display": null,
            "left": null
          }
        },
        "7f82a029ee3e487da7201d09a3476b8d": {
          "model_module": "@jupyter-widgets/controls",
          "model_name": "LabelModel",
          "model_module_version": "1.5.0",
          "state": {
            "_view_name": "LabelView",
            "style": "IPY_MODEL_3258b7ca1d5d408b90fe2b966fad3920",
            "_dom_classes": [],
            "description": "",
            "_model_name": "LabelModel",
            "placeholder": "​",
            "_view_module": "@jupyter-widgets/controls",
            "_model_module_version": "1.5.0",
            "value": " 0.01MB of 0.01MB uploaded (0.00MB deduped)\r",
            "_view_count": null,
            "_view_module_version": "1.5.0",
            "description_tooltip": null,
            "_model_module": "@jupyter-widgets/controls",
            "layout": "IPY_MODEL_d3eeff9622bd47d3909ea6fe2be293f3"
          }
        },
        "0bda131a403f422787ef5f99e84b7626": {
          "model_module": "@jupyter-widgets/controls",
          "model_name": "FloatProgressModel",
          "model_module_version": "1.5.0",
          "state": {
            "_view_name": "ProgressView",
            "style": "IPY_MODEL_04ec75e5d6e74c0e8596e261f39b7a6e",
            "_dom_classes": [],
            "description": "",
            "_model_name": "FloatProgressModel",
            "bar_style": "",
            "max": 1,
            "_view_module": "@jupyter-widgets/controls",
            "_model_module_version": "1.5.0",
            "value": 1,
            "_view_count": null,
            "_view_module_version": "1.5.0",
            "orientation": "horizontal",
            "min": 0,
            "description_tooltip": null,
            "_model_module": "@jupyter-widgets/controls",
            "layout": "IPY_MODEL_99de6b8bbb344272a2fa51b80938a584"
          }
        },
        "3258b7ca1d5d408b90fe2b966fad3920": {
          "model_module": "@jupyter-widgets/controls",
          "model_name": "DescriptionStyleModel",
          "model_module_version": "1.5.0",
          "state": {
            "_view_name": "StyleView",
            "_model_name": "DescriptionStyleModel",
            "description_width": "",
            "_view_module": "@jupyter-widgets/base",
            "_model_module_version": "1.5.0",
            "_view_count": null,
            "_view_module_version": "1.2.0",
            "_model_module": "@jupyter-widgets/controls"
          }
        },
        "d3eeff9622bd47d3909ea6fe2be293f3": {
          "model_module": "@jupyter-widgets/base",
          "model_name": "LayoutModel",
          "model_module_version": "1.2.0",
          "state": {
            "_view_name": "LayoutView",
            "grid_template_rows": null,
            "right": null,
            "justify_content": null,
            "_view_module": "@jupyter-widgets/base",
            "overflow": null,
            "_model_module_version": "1.2.0",
            "_view_count": null,
            "flex_flow": null,
            "width": null,
            "min_width": null,
            "border": null,
            "align_items": null,
            "bottom": null,
            "_model_module": "@jupyter-widgets/base",
            "top": null,
            "grid_column": null,
            "overflow_y": null,
            "overflow_x": null,
            "grid_auto_flow": null,
            "grid_area": null,
            "grid_template_columns": null,
            "flex": null,
            "_model_name": "LayoutModel",
            "justify_items": null,
            "grid_row": null,
            "max_height": null,
            "align_content": null,
            "visibility": null,
            "align_self": null,
            "height": null,
            "min_height": null,
            "padding": null,
            "grid_auto_rows": null,
            "grid_gap": null,
            "max_width": null,
            "order": null,
            "_view_module_version": "1.2.0",
            "grid_template_areas": null,
            "object_position": null,
            "object_fit": null,
            "grid_auto_columns": null,
            "margin": null,
            "display": null,
            "left": null
          }
        },
        "04ec75e5d6e74c0e8596e261f39b7a6e": {
          "model_module": "@jupyter-widgets/controls",
          "model_name": "ProgressStyleModel",
          "model_module_version": "1.5.0",
          "state": {
            "_view_name": "StyleView",
            "_model_name": "ProgressStyleModel",
            "description_width": "",
            "_view_module": "@jupyter-widgets/base",
            "_model_module_version": "1.5.0",
            "_view_count": null,
            "_view_module_version": "1.2.0",
            "bar_color": null,
            "_model_module": "@jupyter-widgets/controls"
          }
        },
        "99de6b8bbb344272a2fa51b80938a584": {
          "model_module": "@jupyter-widgets/base",
          "model_name": "LayoutModel",
          "model_module_version": "1.2.0",
          "state": {
            "_view_name": "LayoutView",
            "grid_template_rows": null,
            "right": null,
            "justify_content": null,
            "_view_module": "@jupyter-widgets/base",
            "overflow": null,
            "_model_module_version": "1.2.0",
            "_view_count": null,
            "flex_flow": null,
            "width": null,
            "min_width": null,
            "border": null,
            "align_items": null,
            "bottom": null,
            "_model_module": "@jupyter-widgets/base",
            "top": null,
            "grid_column": null,
            "overflow_y": null,
            "overflow_x": null,
            "grid_auto_flow": null,
            "grid_area": null,
            "grid_template_columns": null,
            "flex": null,
            "_model_name": "LayoutModel",
            "justify_items": null,
            "grid_row": null,
            "max_height": null,
            "align_content": null,
            "visibility": null,
            "align_self": null,
            "height": null,
            "min_height": null,
            "padding": null,
            "grid_auto_rows": null,
            "grid_gap": null,
            "max_width": null,
            "order": null,
            "_view_module_version": "1.2.0",
            "grid_template_areas": null,
            "object_position": null,
            "object_fit": null,
            "grid_auto_columns": null,
            "margin": null,
            "display": null,
            "left": null
          }
        },
        "e514cd5c9b2c44269fd82dfb55299287": {
          "model_module": "@jupyter-widgets/controls",
          "model_name": "VBoxModel",
          "model_module_version": "1.5.0",
          "state": {
            "_view_name": "VBoxView",
            "_dom_classes": [],
            "_model_name": "VBoxModel",
            "_view_module": "@jupyter-widgets/controls",
            "_model_module_version": "1.5.0",
            "_view_count": null,
            "_view_module_version": "1.5.0",
            "box_style": "",
            "layout": "IPY_MODEL_5ee93328265948c4bebd0e529469d7f6",
            "_model_module": "@jupyter-widgets/controls",
            "children": [
              "IPY_MODEL_ce6751da3328462aaddaf0100630eb47",
              "IPY_MODEL_d59b2942b9114e0daf2cc77fe695a052"
            ]
          }
        },
        "5ee93328265948c4bebd0e529469d7f6": {
          "model_module": "@jupyter-widgets/base",
          "model_name": "LayoutModel",
          "model_module_version": "1.2.0",
          "state": {
            "_view_name": "LayoutView",
            "grid_template_rows": null,
            "right": null,
            "justify_content": null,
            "_view_module": "@jupyter-widgets/base",
            "overflow": null,
            "_model_module_version": "1.2.0",
            "_view_count": null,
            "flex_flow": null,
            "width": null,
            "min_width": null,
            "border": null,
            "align_items": null,
            "bottom": null,
            "_model_module": "@jupyter-widgets/base",
            "top": null,
            "grid_column": null,
            "overflow_y": null,
            "overflow_x": null,
            "grid_auto_flow": null,
            "grid_area": null,
            "grid_template_columns": null,
            "flex": null,
            "_model_name": "LayoutModel",
            "justify_items": null,
            "grid_row": null,
            "max_height": null,
            "align_content": null,
            "visibility": null,
            "align_self": null,
            "height": null,
            "min_height": null,
            "padding": null,
            "grid_auto_rows": null,
            "grid_gap": null,
            "max_width": null,
            "order": null,
            "_view_module_version": "1.2.0",
            "grid_template_areas": null,
            "object_position": null,
            "object_fit": null,
            "grid_auto_columns": null,
            "margin": null,
            "display": null,
            "left": null
          }
        },
        "ce6751da3328462aaddaf0100630eb47": {
          "model_module": "@jupyter-widgets/controls",
          "model_name": "LabelModel",
          "model_module_version": "1.5.0",
          "state": {
            "_view_name": "LabelView",
            "style": "IPY_MODEL_1bbb54cbe26b4586bca17b4f453f790d",
            "_dom_classes": [],
            "description": "",
            "_model_name": "LabelModel",
            "placeholder": "​",
            "_view_module": "@jupyter-widgets/controls",
            "_model_module_version": "1.5.0",
            "value": " 0.01MB of 0.01MB uploaded (0.00MB deduped)\r",
            "_view_count": null,
            "_view_module_version": "1.5.0",
            "description_tooltip": null,
            "_model_module": "@jupyter-widgets/controls",
            "layout": "IPY_MODEL_2ffcb816742a4180b870a33452a5af55"
          }
        },
        "d59b2942b9114e0daf2cc77fe695a052": {
          "model_module": "@jupyter-widgets/controls",
          "model_name": "FloatProgressModel",
          "model_module_version": "1.5.0",
          "state": {
            "_view_name": "ProgressView",
            "style": "IPY_MODEL_5256647e9a9f42ffbce4a328431317f9",
            "_dom_classes": [],
            "description": "",
            "_model_name": "FloatProgressModel",
            "bar_style": "",
            "max": 1,
            "_view_module": "@jupyter-widgets/controls",
            "_model_module_version": "1.5.0",
            "value": 1,
            "_view_count": null,
            "_view_module_version": "1.5.0",
            "orientation": "horizontal",
            "min": 0,
            "description_tooltip": null,
            "_model_module": "@jupyter-widgets/controls",
            "layout": "IPY_MODEL_c532eb24b0cc4e188e0376a9ccb4f308"
          }
        },
        "1bbb54cbe26b4586bca17b4f453f790d": {
          "model_module": "@jupyter-widgets/controls",
          "model_name": "DescriptionStyleModel",
          "model_module_version": "1.5.0",
          "state": {
            "_view_name": "StyleView",
            "_model_name": "DescriptionStyleModel",
            "description_width": "",
            "_view_module": "@jupyter-widgets/base",
            "_model_module_version": "1.5.0",
            "_view_count": null,
            "_view_module_version": "1.2.0",
            "_model_module": "@jupyter-widgets/controls"
          }
        },
        "2ffcb816742a4180b870a33452a5af55": {
          "model_module": "@jupyter-widgets/base",
          "model_name": "LayoutModel",
          "model_module_version": "1.2.0",
          "state": {
            "_view_name": "LayoutView",
            "grid_template_rows": null,
            "right": null,
            "justify_content": null,
            "_view_module": "@jupyter-widgets/base",
            "overflow": null,
            "_model_module_version": "1.2.0",
            "_view_count": null,
            "flex_flow": null,
            "width": null,
            "min_width": null,
            "border": null,
            "align_items": null,
            "bottom": null,
            "_model_module": "@jupyter-widgets/base",
            "top": null,
            "grid_column": null,
            "overflow_y": null,
            "overflow_x": null,
            "grid_auto_flow": null,
            "grid_area": null,
            "grid_template_columns": null,
            "flex": null,
            "_model_name": "LayoutModel",
            "justify_items": null,
            "grid_row": null,
            "max_height": null,
            "align_content": null,
            "visibility": null,
            "align_self": null,
            "height": null,
            "min_height": null,
            "padding": null,
            "grid_auto_rows": null,
            "grid_gap": null,
            "max_width": null,
            "order": null,
            "_view_module_version": "1.2.0",
            "grid_template_areas": null,
            "object_position": null,
            "object_fit": null,
            "grid_auto_columns": null,
            "margin": null,
            "display": null,
            "left": null
          }
        },
        "5256647e9a9f42ffbce4a328431317f9": {
          "model_module": "@jupyter-widgets/controls",
          "model_name": "ProgressStyleModel",
          "model_module_version": "1.5.0",
          "state": {
            "_view_name": "StyleView",
            "_model_name": "ProgressStyleModel",
            "description_width": "",
            "_view_module": "@jupyter-widgets/base",
            "_model_module_version": "1.5.0",
            "_view_count": null,
            "_view_module_version": "1.2.0",
            "bar_color": null,
            "_model_module": "@jupyter-widgets/controls"
          }
        },
        "c532eb24b0cc4e188e0376a9ccb4f308": {
          "model_module": "@jupyter-widgets/base",
          "model_name": "LayoutModel",
          "model_module_version": "1.2.0",
          "state": {
            "_view_name": "LayoutView",
            "grid_template_rows": null,
            "right": null,
            "justify_content": null,
            "_view_module": "@jupyter-widgets/base",
            "overflow": null,
            "_model_module_version": "1.2.0",
            "_view_count": null,
            "flex_flow": null,
            "width": null,
            "min_width": null,
            "border": null,
            "align_items": null,
            "bottom": null,
            "_model_module": "@jupyter-widgets/base",
            "top": null,
            "grid_column": null,
            "overflow_y": null,
            "overflow_x": null,
            "grid_auto_flow": null,
            "grid_area": null,
            "grid_template_columns": null,
            "flex": null,
            "_model_name": "LayoutModel",
            "justify_items": null,
            "grid_row": null,
            "max_height": null,
            "align_content": null,
            "visibility": null,
            "align_self": null,
            "height": null,
            "min_height": null,
            "padding": null,
            "grid_auto_rows": null,
            "grid_gap": null,
            "max_width": null,
            "order": null,
            "_view_module_version": "1.2.0",
            "grid_template_areas": null,
            "object_position": null,
            "object_fit": null,
            "grid_auto_columns": null,
            "margin": null,
            "display": null,
            "left": null
          }
        },
        "9cf6099d93cc4810922a2f8c7cdb5a6d": {
          "model_module": "@jupyter-widgets/controls",
          "model_name": "VBoxModel",
          "model_module_version": "1.5.0",
          "state": {
            "_view_name": "VBoxView",
            "_dom_classes": [],
            "_model_name": "VBoxModel",
            "_view_module": "@jupyter-widgets/controls",
            "_model_module_version": "1.5.0",
            "_view_count": null,
            "_view_module_version": "1.5.0",
            "box_style": "",
            "layout": "IPY_MODEL_8da2f2e6de924f5e843931972b1e455f",
            "_model_module": "@jupyter-widgets/controls",
            "children": [
              "IPY_MODEL_867064c60ad548ce9c455d93e4030c60",
              "IPY_MODEL_dc13d4f28b05434cad78401cce1ec7a6"
            ]
          }
        },
        "8da2f2e6de924f5e843931972b1e455f": {
          "model_module": "@jupyter-widgets/base",
          "model_name": "LayoutModel",
          "model_module_version": "1.2.0",
          "state": {
            "_view_name": "LayoutView",
            "grid_template_rows": null,
            "right": null,
            "justify_content": null,
            "_view_module": "@jupyter-widgets/base",
            "overflow": null,
            "_model_module_version": "1.2.0",
            "_view_count": null,
            "flex_flow": null,
            "width": null,
            "min_width": null,
            "border": null,
            "align_items": null,
            "bottom": null,
            "_model_module": "@jupyter-widgets/base",
            "top": null,
            "grid_column": null,
            "overflow_y": null,
            "overflow_x": null,
            "grid_auto_flow": null,
            "grid_area": null,
            "grid_template_columns": null,
            "flex": null,
            "_model_name": "LayoutModel",
            "justify_items": null,
            "grid_row": null,
            "max_height": null,
            "align_content": null,
            "visibility": null,
            "align_self": null,
            "height": null,
            "min_height": null,
            "padding": null,
            "grid_auto_rows": null,
            "grid_gap": null,
            "max_width": null,
            "order": null,
            "_view_module_version": "1.2.0",
            "grid_template_areas": null,
            "object_position": null,
            "object_fit": null,
            "grid_auto_columns": null,
            "margin": null,
            "display": null,
            "left": null
          }
        },
        "867064c60ad548ce9c455d93e4030c60": {
          "model_module": "@jupyter-widgets/controls",
          "model_name": "LabelModel",
          "model_module_version": "1.5.0",
          "state": {
            "_view_name": "LabelView",
            "style": "IPY_MODEL_6b85de1814a34185bd4525f69f95b3e4",
            "_dom_classes": [],
            "description": "",
            "_model_name": "LabelModel",
            "placeholder": "​",
            "_view_module": "@jupyter-widgets/controls",
            "_model_module_version": "1.5.0",
            "value": " 0.01MB of 0.01MB uploaded (0.00MB deduped)\r",
            "_view_count": null,
            "_view_module_version": "1.5.0",
            "description_tooltip": null,
            "_model_module": "@jupyter-widgets/controls",
            "layout": "IPY_MODEL_2487233fc46c47c6ade976cbaf3d9365"
          }
        },
        "dc13d4f28b05434cad78401cce1ec7a6": {
          "model_module": "@jupyter-widgets/controls",
          "model_name": "FloatProgressModel",
          "model_module_version": "1.5.0",
          "state": {
            "_view_name": "ProgressView",
            "style": "IPY_MODEL_59ce085da1b84c459d19a35afea6340f",
            "_dom_classes": [],
            "description": "",
            "_model_name": "FloatProgressModel",
            "bar_style": "",
            "max": 1,
            "_view_module": "@jupyter-widgets/controls",
            "_model_module_version": "1.5.0",
            "value": 1,
            "_view_count": null,
            "_view_module_version": "1.5.0",
            "orientation": "horizontal",
            "min": 0,
            "description_tooltip": null,
            "_model_module": "@jupyter-widgets/controls",
            "layout": "IPY_MODEL_80ed4e4230844b7898af3089eae96373"
          }
        },
        "6b85de1814a34185bd4525f69f95b3e4": {
          "model_module": "@jupyter-widgets/controls",
          "model_name": "DescriptionStyleModel",
          "model_module_version": "1.5.0",
          "state": {
            "_view_name": "StyleView",
            "_model_name": "DescriptionStyleModel",
            "description_width": "",
            "_view_module": "@jupyter-widgets/base",
            "_model_module_version": "1.5.0",
            "_view_count": null,
            "_view_module_version": "1.2.0",
            "_model_module": "@jupyter-widgets/controls"
          }
        },
        "2487233fc46c47c6ade976cbaf3d9365": {
          "model_module": "@jupyter-widgets/base",
          "model_name": "LayoutModel",
          "model_module_version": "1.2.0",
          "state": {
            "_view_name": "LayoutView",
            "grid_template_rows": null,
            "right": null,
            "justify_content": null,
            "_view_module": "@jupyter-widgets/base",
            "overflow": null,
            "_model_module_version": "1.2.0",
            "_view_count": null,
            "flex_flow": null,
            "width": null,
            "min_width": null,
            "border": null,
            "align_items": null,
            "bottom": null,
            "_model_module": "@jupyter-widgets/base",
            "top": null,
            "grid_column": null,
            "overflow_y": null,
            "overflow_x": null,
            "grid_auto_flow": null,
            "grid_area": null,
            "grid_template_columns": null,
            "flex": null,
            "_model_name": "LayoutModel",
            "justify_items": null,
            "grid_row": null,
            "max_height": null,
            "align_content": null,
            "visibility": null,
            "align_self": null,
            "height": null,
            "min_height": null,
            "padding": null,
            "grid_auto_rows": null,
            "grid_gap": null,
            "max_width": null,
            "order": null,
            "_view_module_version": "1.2.0",
            "grid_template_areas": null,
            "object_position": null,
            "object_fit": null,
            "grid_auto_columns": null,
            "margin": null,
            "display": null,
            "left": null
          }
        },
        "59ce085da1b84c459d19a35afea6340f": {
          "model_module": "@jupyter-widgets/controls",
          "model_name": "ProgressStyleModel",
          "model_module_version": "1.5.0",
          "state": {
            "_view_name": "StyleView",
            "_model_name": "ProgressStyleModel",
            "description_width": "",
            "_view_module": "@jupyter-widgets/base",
            "_model_module_version": "1.5.0",
            "_view_count": null,
            "_view_module_version": "1.2.0",
            "bar_color": null,
            "_model_module": "@jupyter-widgets/controls"
          }
        },
        "80ed4e4230844b7898af3089eae96373": {
          "model_module": "@jupyter-widgets/base",
          "model_name": "LayoutModel",
          "model_module_version": "1.2.0",
          "state": {
            "_view_name": "LayoutView",
            "grid_template_rows": null,
            "right": null,
            "justify_content": null,
            "_view_module": "@jupyter-widgets/base",
            "overflow": null,
            "_model_module_version": "1.2.0",
            "_view_count": null,
            "flex_flow": null,
            "width": null,
            "min_width": null,
            "border": null,
            "align_items": null,
            "bottom": null,
            "_model_module": "@jupyter-widgets/base",
            "top": null,
            "grid_column": null,
            "overflow_y": null,
            "overflow_x": null,
            "grid_auto_flow": null,
            "grid_area": null,
            "grid_template_columns": null,
            "flex": null,
            "_model_name": "LayoutModel",
            "justify_items": null,
            "grid_row": null,
            "max_height": null,
            "align_content": null,
            "visibility": null,
            "align_self": null,
            "height": null,
            "min_height": null,
            "padding": null,
            "grid_auto_rows": null,
            "grid_gap": null,
            "max_width": null,
            "order": null,
            "_view_module_version": "1.2.0",
            "grid_template_areas": null,
            "object_position": null,
            "object_fit": null,
            "grid_auto_columns": null,
            "margin": null,
            "display": null,
            "left": null
          }
        },
        "4f2e3a064f8f4e1eac59abcff936cd12": {
          "model_module": "@jupyter-widgets/controls",
          "model_name": "VBoxModel",
          "model_module_version": "1.5.0",
          "state": {
            "_view_name": "VBoxView",
            "_dom_classes": [],
            "_model_name": "VBoxModel",
            "_view_module": "@jupyter-widgets/controls",
            "_model_module_version": "1.5.0",
            "_view_count": null,
            "_view_module_version": "1.5.0",
            "box_style": "",
            "layout": "IPY_MODEL_8a250db9c3114722a4a720244c18090b",
            "_model_module": "@jupyter-widgets/controls",
            "children": [
              "IPY_MODEL_d731a5f74fb845dd9e6169e70af044ab",
              "IPY_MODEL_c9093a71c02943d0b36a08d846dfb3c3"
            ]
          }
        },
        "8a250db9c3114722a4a720244c18090b": {
          "model_module": "@jupyter-widgets/base",
          "model_name": "LayoutModel",
          "model_module_version": "1.2.0",
          "state": {
            "_view_name": "LayoutView",
            "grid_template_rows": null,
            "right": null,
            "justify_content": null,
            "_view_module": "@jupyter-widgets/base",
            "overflow": null,
            "_model_module_version": "1.2.0",
            "_view_count": null,
            "flex_flow": null,
            "width": null,
            "min_width": null,
            "border": null,
            "align_items": null,
            "bottom": null,
            "_model_module": "@jupyter-widgets/base",
            "top": null,
            "grid_column": null,
            "overflow_y": null,
            "overflow_x": null,
            "grid_auto_flow": null,
            "grid_area": null,
            "grid_template_columns": null,
            "flex": null,
            "_model_name": "LayoutModel",
            "justify_items": null,
            "grid_row": null,
            "max_height": null,
            "align_content": null,
            "visibility": null,
            "align_self": null,
            "height": null,
            "min_height": null,
            "padding": null,
            "grid_auto_rows": null,
            "grid_gap": null,
            "max_width": null,
            "order": null,
            "_view_module_version": "1.2.0",
            "grid_template_areas": null,
            "object_position": null,
            "object_fit": null,
            "grid_auto_columns": null,
            "margin": null,
            "display": null,
            "left": null
          }
        },
        "d731a5f74fb845dd9e6169e70af044ab": {
          "model_module": "@jupyter-widgets/controls",
          "model_name": "LabelModel",
          "model_module_version": "1.5.0",
          "state": {
            "_view_name": "LabelView",
            "style": "IPY_MODEL_49a5d66858b04db88e4c384a5e3c4495",
            "_dom_classes": [],
            "description": "",
            "_model_name": "LabelModel",
            "placeholder": "​",
            "_view_module": "@jupyter-widgets/controls",
            "_model_module_version": "1.5.0",
            "value": " 0.01MB of 0.01MB uploaded (0.00MB deduped)\r",
            "_view_count": null,
            "_view_module_version": "1.5.0",
            "description_tooltip": null,
            "_model_module": "@jupyter-widgets/controls",
            "layout": "IPY_MODEL_b4b8f27b7243409db1bdc14e79b78527"
          }
        },
        "c9093a71c02943d0b36a08d846dfb3c3": {
          "model_module": "@jupyter-widgets/controls",
          "model_name": "FloatProgressModel",
          "model_module_version": "1.5.0",
          "state": {
            "_view_name": "ProgressView",
            "style": "IPY_MODEL_4ffac459023a4d8a89486e5df985ea32",
            "_dom_classes": [],
            "description": "",
            "_model_name": "FloatProgressModel",
            "bar_style": "",
            "max": 1,
            "_view_module": "@jupyter-widgets/controls",
            "_model_module_version": "1.5.0",
            "value": 1,
            "_view_count": null,
            "_view_module_version": "1.5.0",
            "orientation": "horizontal",
            "min": 0,
            "description_tooltip": null,
            "_model_module": "@jupyter-widgets/controls",
            "layout": "IPY_MODEL_03619cc1233d481688b68317b43457ea"
          }
        },
        "49a5d66858b04db88e4c384a5e3c4495": {
          "model_module": "@jupyter-widgets/controls",
          "model_name": "DescriptionStyleModel",
          "model_module_version": "1.5.0",
          "state": {
            "_view_name": "StyleView",
            "_model_name": "DescriptionStyleModel",
            "description_width": "",
            "_view_module": "@jupyter-widgets/base",
            "_model_module_version": "1.5.0",
            "_view_count": null,
            "_view_module_version": "1.2.0",
            "_model_module": "@jupyter-widgets/controls"
          }
        },
        "b4b8f27b7243409db1bdc14e79b78527": {
          "model_module": "@jupyter-widgets/base",
          "model_name": "LayoutModel",
          "model_module_version": "1.2.0",
          "state": {
            "_view_name": "LayoutView",
            "grid_template_rows": null,
            "right": null,
            "justify_content": null,
            "_view_module": "@jupyter-widgets/base",
            "overflow": null,
            "_model_module_version": "1.2.0",
            "_view_count": null,
            "flex_flow": null,
            "width": null,
            "min_width": null,
            "border": null,
            "align_items": null,
            "bottom": null,
            "_model_module": "@jupyter-widgets/base",
            "top": null,
            "grid_column": null,
            "overflow_y": null,
            "overflow_x": null,
            "grid_auto_flow": null,
            "grid_area": null,
            "grid_template_columns": null,
            "flex": null,
            "_model_name": "LayoutModel",
            "justify_items": null,
            "grid_row": null,
            "max_height": null,
            "align_content": null,
            "visibility": null,
            "align_self": null,
            "height": null,
            "min_height": null,
            "padding": null,
            "grid_auto_rows": null,
            "grid_gap": null,
            "max_width": null,
            "order": null,
            "_view_module_version": "1.2.0",
            "grid_template_areas": null,
            "object_position": null,
            "object_fit": null,
            "grid_auto_columns": null,
            "margin": null,
            "display": null,
            "left": null
          }
        },
        "4ffac459023a4d8a89486e5df985ea32": {
          "model_module": "@jupyter-widgets/controls",
          "model_name": "ProgressStyleModel",
          "model_module_version": "1.5.0",
          "state": {
            "_view_name": "StyleView",
            "_model_name": "ProgressStyleModel",
            "description_width": "",
            "_view_module": "@jupyter-widgets/base",
            "_model_module_version": "1.5.0",
            "_view_count": null,
            "_view_module_version": "1.2.0",
            "bar_color": null,
            "_model_module": "@jupyter-widgets/controls"
          }
        },
        "03619cc1233d481688b68317b43457ea": {
          "model_module": "@jupyter-widgets/base",
          "model_name": "LayoutModel",
          "model_module_version": "1.2.0",
          "state": {
            "_view_name": "LayoutView",
            "grid_template_rows": null,
            "right": null,
            "justify_content": null,
            "_view_module": "@jupyter-widgets/base",
            "overflow": null,
            "_model_module_version": "1.2.0",
            "_view_count": null,
            "flex_flow": null,
            "width": null,
            "min_width": null,
            "border": null,
            "align_items": null,
            "bottom": null,
            "_model_module": "@jupyter-widgets/base",
            "top": null,
            "grid_column": null,
            "overflow_y": null,
            "overflow_x": null,
            "grid_auto_flow": null,
            "grid_area": null,
            "grid_template_columns": null,
            "flex": null,
            "_model_name": "LayoutModel",
            "justify_items": null,
            "grid_row": null,
            "max_height": null,
            "align_content": null,
            "visibility": null,
            "align_self": null,
            "height": null,
            "min_height": null,
            "padding": null,
            "grid_auto_rows": null,
            "grid_gap": null,
            "max_width": null,
            "order": null,
            "_view_module_version": "1.2.0",
            "grid_template_areas": null,
            "object_position": null,
            "object_fit": null,
            "grid_auto_columns": null,
            "margin": null,
            "display": null,
            "left": null
          }
        },
        "d4a4fb1ad9454d738c152af921e40e3f": {
          "model_module": "@jupyter-widgets/controls",
          "model_name": "VBoxModel",
          "model_module_version": "1.5.0",
          "state": {
            "_view_name": "VBoxView",
            "_dom_classes": [],
            "_model_name": "VBoxModel",
            "_view_module": "@jupyter-widgets/controls",
            "_model_module_version": "1.5.0",
            "_view_count": null,
            "_view_module_version": "1.5.0",
            "box_style": "",
            "layout": "IPY_MODEL_4d7513cbbe8d44a9825b38c599db009f",
            "_model_module": "@jupyter-widgets/controls",
            "children": [
              "IPY_MODEL_c1471d5dd43445d2bf984d7f470b9412",
              "IPY_MODEL_bd40131d9a7b494395d71f18ad1d1dde"
            ]
          }
        },
        "4d7513cbbe8d44a9825b38c599db009f": {
          "model_module": "@jupyter-widgets/base",
          "model_name": "LayoutModel",
          "model_module_version": "1.2.0",
          "state": {
            "_view_name": "LayoutView",
            "grid_template_rows": null,
            "right": null,
            "justify_content": null,
            "_view_module": "@jupyter-widgets/base",
            "overflow": null,
            "_model_module_version": "1.2.0",
            "_view_count": null,
            "flex_flow": null,
            "width": null,
            "min_width": null,
            "border": null,
            "align_items": null,
            "bottom": null,
            "_model_module": "@jupyter-widgets/base",
            "top": null,
            "grid_column": null,
            "overflow_y": null,
            "overflow_x": null,
            "grid_auto_flow": null,
            "grid_area": null,
            "grid_template_columns": null,
            "flex": null,
            "_model_name": "LayoutModel",
            "justify_items": null,
            "grid_row": null,
            "max_height": null,
            "align_content": null,
            "visibility": null,
            "align_self": null,
            "height": null,
            "min_height": null,
            "padding": null,
            "grid_auto_rows": null,
            "grid_gap": null,
            "max_width": null,
            "order": null,
            "_view_module_version": "1.2.0",
            "grid_template_areas": null,
            "object_position": null,
            "object_fit": null,
            "grid_auto_columns": null,
            "margin": null,
            "display": null,
            "left": null
          }
        },
        "c1471d5dd43445d2bf984d7f470b9412": {
          "model_module": "@jupyter-widgets/controls",
          "model_name": "LabelModel",
          "model_module_version": "1.5.0",
          "state": {
            "_view_name": "LabelView",
            "style": "IPY_MODEL_1425d4756ca84902a49f3f9b875b45dd",
            "_dom_classes": [],
            "description": "",
            "_model_name": "LabelModel",
            "placeholder": "​",
            "_view_module": "@jupyter-widgets/controls",
            "_model_module_version": "1.5.0",
            "value": " 0.01MB of 0.01MB uploaded (0.00MB deduped)\r",
            "_view_count": null,
            "_view_module_version": "1.5.0",
            "description_tooltip": null,
            "_model_module": "@jupyter-widgets/controls",
            "layout": "IPY_MODEL_a68ed4bf6de84e1faa32d303111f4adb"
          }
        },
        "bd40131d9a7b494395d71f18ad1d1dde": {
          "model_module": "@jupyter-widgets/controls",
          "model_name": "FloatProgressModel",
          "model_module_version": "1.5.0",
          "state": {
            "_view_name": "ProgressView",
            "style": "IPY_MODEL_7037715d0a614173a1471e5d3a3b78eb",
            "_dom_classes": [],
            "description": "",
            "_model_name": "FloatProgressModel",
            "bar_style": "",
            "max": 1,
            "_view_module": "@jupyter-widgets/controls",
            "_model_module_version": "1.5.0",
            "value": 1,
            "_view_count": null,
            "_view_module_version": "1.5.0",
            "orientation": "horizontal",
            "min": 0,
            "description_tooltip": null,
            "_model_module": "@jupyter-widgets/controls",
            "layout": "IPY_MODEL_2caebfa17b2a4968bd55879bf41d55b3"
          }
        },
        "1425d4756ca84902a49f3f9b875b45dd": {
          "model_module": "@jupyter-widgets/controls",
          "model_name": "DescriptionStyleModel",
          "model_module_version": "1.5.0",
          "state": {
            "_view_name": "StyleView",
            "_model_name": "DescriptionStyleModel",
            "description_width": "",
            "_view_module": "@jupyter-widgets/base",
            "_model_module_version": "1.5.0",
            "_view_count": null,
            "_view_module_version": "1.2.0",
            "_model_module": "@jupyter-widgets/controls"
          }
        },
        "a68ed4bf6de84e1faa32d303111f4adb": {
          "model_module": "@jupyter-widgets/base",
          "model_name": "LayoutModel",
          "model_module_version": "1.2.0",
          "state": {
            "_view_name": "LayoutView",
            "grid_template_rows": null,
            "right": null,
            "justify_content": null,
            "_view_module": "@jupyter-widgets/base",
            "overflow": null,
            "_model_module_version": "1.2.0",
            "_view_count": null,
            "flex_flow": null,
            "width": null,
            "min_width": null,
            "border": null,
            "align_items": null,
            "bottom": null,
            "_model_module": "@jupyter-widgets/base",
            "top": null,
            "grid_column": null,
            "overflow_y": null,
            "overflow_x": null,
            "grid_auto_flow": null,
            "grid_area": null,
            "grid_template_columns": null,
            "flex": null,
            "_model_name": "LayoutModel",
            "justify_items": null,
            "grid_row": null,
            "max_height": null,
            "align_content": null,
            "visibility": null,
            "align_self": null,
            "height": null,
            "min_height": null,
            "padding": null,
            "grid_auto_rows": null,
            "grid_gap": null,
            "max_width": null,
            "order": null,
            "_view_module_version": "1.2.0",
            "grid_template_areas": null,
            "object_position": null,
            "object_fit": null,
            "grid_auto_columns": null,
            "margin": null,
            "display": null,
            "left": null
          }
        },
        "7037715d0a614173a1471e5d3a3b78eb": {
          "model_module": "@jupyter-widgets/controls",
          "model_name": "ProgressStyleModel",
          "model_module_version": "1.5.0",
          "state": {
            "_view_name": "StyleView",
            "_model_name": "ProgressStyleModel",
            "description_width": "",
            "_view_module": "@jupyter-widgets/base",
            "_model_module_version": "1.5.0",
            "_view_count": null,
            "_view_module_version": "1.2.0",
            "bar_color": null,
            "_model_module": "@jupyter-widgets/controls"
          }
        },
        "2caebfa17b2a4968bd55879bf41d55b3": {
          "model_module": "@jupyter-widgets/base",
          "model_name": "LayoutModel",
          "model_module_version": "1.2.0",
          "state": {
            "_view_name": "LayoutView",
            "grid_template_rows": null,
            "right": null,
            "justify_content": null,
            "_view_module": "@jupyter-widgets/base",
            "overflow": null,
            "_model_module_version": "1.2.0",
            "_view_count": null,
            "flex_flow": null,
            "width": null,
            "min_width": null,
            "border": null,
            "align_items": null,
            "bottom": null,
            "_model_module": "@jupyter-widgets/base",
            "top": null,
            "grid_column": null,
            "overflow_y": null,
            "overflow_x": null,
            "grid_auto_flow": null,
            "grid_area": null,
            "grid_template_columns": null,
            "flex": null,
            "_model_name": "LayoutModel",
            "justify_items": null,
            "grid_row": null,
            "max_height": null,
            "align_content": null,
            "visibility": null,
            "align_self": null,
            "height": null,
            "min_height": null,
            "padding": null,
            "grid_auto_rows": null,
            "grid_gap": null,
            "max_width": null,
            "order": null,
            "_view_module_version": "1.2.0",
            "grid_template_areas": null,
            "object_position": null,
            "object_fit": null,
            "grid_auto_columns": null,
            "margin": null,
            "display": null,
            "left": null
          }
        },
        "a3c0300e8fb34742b5e2a1857621f431": {
          "model_module": "@jupyter-widgets/controls",
          "model_name": "VBoxModel",
          "model_module_version": "1.5.0",
          "state": {
            "_view_name": "VBoxView",
            "_dom_classes": [],
            "_model_name": "VBoxModel",
            "_view_module": "@jupyter-widgets/controls",
            "_model_module_version": "1.5.0",
            "_view_count": null,
            "_view_module_version": "1.5.0",
            "box_style": "",
            "layout": "IPY_MODEL_ea15fccd4d1c483f9ee0e390307c9926",
            "_model_module": "@jupyter-widgets/controls",
            "children": [
              "IPY_MODEL_514b7fd8df094fe287007f5e328655f1",
              "IPY_MODEL_7e9fd564be6b423ba09527643b7c4d77"
            ]
          }
        },
        "ea15fccd4d1c483f9ee0e390307c9926": {
          "model_module": "@jupyter-widgets/base",
          "model_name": "LayoutModel",
          "model_module_version": "1.2.0",
          "state": {
            "_view_name": "LayoutView",
            "grid_template_rows": null,
            "right": null,
            "justify_content": null,
            "_view_module": "@jupyter-widgets/base",
            "overflow": null,
            "_model_module_version": "1.2.0",
            "_view_count": null,
            "flex_flow": null,
            "width": null,
            "min_width": null,
            "border": null,
            "align_items": null,
            "bottom": null,
            "_model_module": "@jupyter-widgets/base",
            "top": null,
            "grid_column": null,
            "overflow_y": null,
            "overflow_x": null,
            "grid_auto_flow": null,
            "grid_area": null,
            "grid_template_columns": null,
            "flex": null,
            "_model_name": "LayoutModel",
            "justify_items": null,
            "grid_row": null,
            "max_height": null,
            "align_content": null,
            "visibility": null,
            "align_self": null,
            "height": null,
            "min_height": null,
            "padding": null,
            "grid_auto_rows": null,
            "grid_gap": null,
            "max_width": null,
            "order": null,
            "_view_module_version": "1.2.0",
            "grid_template_areas": null,
            "object_position": null,
            "object_fit": null,
            "grid_auto_columns": null,
            "margin": null,
            "display": null,
            "left": null
          }
        },
        "514b7fd8df094fe287007f5e328655f1": {
          "model_module": "@jupyter-widgets/controls",
          "model_name": "LabelModel",
          "model_module_version": "1.5.0",
          "state": {
            "_view_name": "LabelView",
            "style": "IPY_MODEL_c1f5999816cf4d22ba2cdafc7df4b30b",
            "_dom_classes": [],
            "description": "",
            "_model_name": "LabelModel",
            "placeholder": "​",
            "_view_module": "@jupyter-widgets/controls",
            "_model_module_version": "1.5.0",
            "value": " 0.01MB of 0.01MB uploaded (0.00MB deduped)\r",
            "_view_count": null,
            "_view_module_version": "1.5.0",
            "description_tooltip": null,
            "_model_module": "@jupyter-widgets/controls",
            "layout": "IPY_MODEL_e92ce36164cc426ab44eac99a825cc53"
          }
        },
        "7e9fd564be6b423ba09527643b7c4d77": {
          "model_module": "@jupyter-widgets/controls",
          "model_name": "FloatProgressModel",
          "model_module_version": "1.5.0",
          "state": {
            "_view_name": "ProgressView",
            "style": "IPY_MODEL_ccb7a25802ea4bad8494418f207c6add",
            "_dom_classes": [],
            "description": "",
            "_model_name": "FloatProgressModel",
            "bar_style": "",
            "max": 1,
            "_view_module": "@jupyter-widgets/controls",
            "_model_module_version": "1.5.0",
            "value": 1,
            "_view_count": null,
            "_view_module_version": "1.5.0",
            "orientation": "horizontal",
            "min": 0,
            "description_tooltip": null,
            "_model_module": "@jupyter-widgets/controls",
            "layout": "IPY_MODEL_542880e3297e4eabb8c253f2d0263607"
          }
        },
        "c1f5999816cf4d22ba2cdafc7df4b30b": {
          "model_module": "@jupyter-widgets/controls",
          "model_name": "DescriptionStyleModel",
          "model_module_version": "1.5.0",
          "state": {
            "_view_name": "StyleView",
            "_model_name": "DescriptionStyleModel",
            "description_width": "",
            "_view_module": "@jupyter-widgets/base",
            "_model_module_version": "1.5.0",
            "_view_count": null,
            "_view_module_version": "1.2.0",
            "_model_module": "@jupyter-widgets/controls"
          }
        },
        "e92ce36164cc426ab44eac99a825cc53": {
          "model_module": "@jupyter-widgets/base",
          "model_name": "LayoutModel",
          "model_module_version": "1.2.0",
          "state": {
            "_view_name": "LayoutView",
            "grid_template_rows": null,
            "right": null,
            "justify_content": null,
            "_view_module": "@jupyter-widgets/base",
            "overflow": null,
            "_model_module_version": "1.2.0",
            "_view_count": null,
            "flex_flow": null,
            "width": null,
            "min_width": null,
            "border": null,
            "align_items": null,
            "bottom": null,
            "_model_module": "@jupyter-widgets/base",
            "top": null,
            "grid_column": null,
            "overflow_y": null,
            "overflow_x": null,
            "grid_auto_flow": null,
            "grid_area": null,
            "grid_template_columns": null,
            "flex": null,
            "_model_name": "LayoutModel",
            "justify_items": null,
            "grid_row": null,
            "max_height": null,
            "align_content": null,
            "visibility": null,
            "align_self": null,
            "height": null,
            "min_height": null,
            "padding": null,
            "grid_auto_rows": null,
            "grid_gap": null,
            "max_width": null,
            "order": null,
            "_view_module_version": "1.2.0",
            "grid_template_areas": null,
            "object_position": null,
            "object_fit": null,
            "grid_auto_columns": null,
            "margin": null,
            "display": null,
            "left": null
          }
        },
        "ccb7a25802ea4bad8494418f207c6add": {
          "model_module": "@jupyter-widgets/controls",
          "model_name": "ProgressStyleModel",
          "model_module_version": "1.5.0",
          "state": {
            "_view_name": "StyleView",
            "_model_name": "ProgressStyleModel",
            "description_width": "",
            "_view_module": "@jupyter-widgets/base",
            "_model_module_version": "1.5.0",
            "_view_count": null,
            "_view_module_version": "1.2.0",
            "bar_color": null,
            "_model_module": "@jupyter-widgets/controls"
          }
        },
        "542880e3297e4eabb8c253f2d0263607": {
          "model_module": "@jupyter-widgets/base",
          "model_name": "LayoutModel",
          "model_module_version": "1.2.0",
          "state": {
            "_view_name": "LayoutView",
            "grid_template_rows": null,
            "right": null,
            "justify_content": null,
            "_view_module": "@jupyter-widgets/base",
            "overflow": null,
            "_model_module_version": "1.2.0",
            "_view_count": null,
            "flex_flow": null,
            "width": null,
            "min_width": null,
            "border": null,
            "align_items": null,
            "bottom": null,
            "_model_module": "@jupyter-widgets/base",
            "top": null,
            "grid_column": null,
            "overflow_y": null,
            "overflow_x": null,
            "grid_auto_flow": null,
            "grid_area": null,
            "grid_template_columns": null,
            "flex": null,
            "_model_name": "LayoutModel",
            "justify_items": null,
            "grid_row": null,
            "max_height": null,
            "align_content": null,
            "visibility": null,
            "align_self": null,
            "height": null,
            "min_height": null,
            "padding": null,
            "grid_auto_rows": null,
            "grid_gap": null,
            "max_width": null,
            "order": null,
            "_view_module_version": "1.2.0",
            "grid_template_areas": null,
            "object_position": null,
            "object_fit": null,
            "grid_auto_columns": null,
            "margin": null,
            "display": null,
            "left": null
          }
        },
        "7663f960d7dc477c872a9c619bf617d6": {
          "model_module": "@jupyter-widgets/controls",
          "model_name": "VBoxModel",
          "model_module_version": "1.5.0",
          "state": {
            "_view_name": "VBoxView",
            "_dom_classes": [],
            "_model_name": "VBoxModel",
            "_view_module": "@jupyter-widgets/controls",
            "_model_module_version": "1.5.0",
            "_view_count": null,
            "_view_module_version": "1.5.0",
            "box_style": "",
            "layout": "IPY_MODEL_282e67eceeaf43a99e70b3beaf07ce76",
            "_model_module": "@jupyter-widgets/controls",
            "children": [
              "IPY_MODEL_9814c6468f084b6eacf680ff9a2438b0",
              "IPY_MODEL_ed2b13a17ec54b60bf69e5261b104e1b"
            ]
          }
        },
        "282e67eceeaf43a99e70b3beaf07ce76": {
          "model_module": "@jupyter-widgets/base",
          "model_name": "LayoutModel",
          "model_module_version": "1.2.0",
          "state": {
            "_view_name": "LayoutView",
            "grid_template_rows": null,
            "right": null,
            "justify_content": null,
            "_view_module": "@jupyter-widgets/base",
            "overflow": null,
            "_model_module_version": "1.2.0",
            "_view_count": null,
            "flex_flow": null,
            "width": null,
            "min_width": null,
            "border": null,
            "align_items": null,
            "bottom": null,
            "_model_module": "@jupyter-widgets/base",
            "top": null,
            "grid_column": null,
            "overflow_y": null,
            "overflow_x": null,
            "grid_auto_flow": null,
            "grid_area": null,
            "grid_template_columns": null,
            "flex": null,
            "_model_name": "LayoutModel",
            "justify_items": null,
            "grid_row": null,
            "max_height": null,
            "align_content": null,
            "visibility": null,
            "align_self": null,
            "height": null,
            "min_height": null,
            "padding": null,
            "grid_auto_rows": null,
            "grid_gap": null,
            "max_width": null,
            "order": null,
            "_view_module_version": "1.2.0",
            "grid_template_areas": null,
            "object_position": null,
            "object_fit": null,
            "grid_auto_columns": null,
            "margin": null,
            "display": null,
            "left": null
          }
        },
        "9814c6468f084b6eacf680ff9a2438b0": {
          "model_module": "@jupyter-widgets/controls",
          "model_name": "LabelModel",
          "model_module_version": "1.5.0",
          "state": {
            "_view_name": "LabelView",
            "style": "IPY_MODEL_50269ce503654cef8344eb4569540b64",
            "_dom_classes": [],
            "description": "",
            "_model_name": "LabelModel",
            "placeholder": "​",
            "_view_module": "@jupyter-widgets/controls",
            "_model_module_version": "1.5.0",
            "value": " 0.01MB of 0.01MB uploaded (0.00MB deduped)\r",
            "_view_count": null,
            "_view_module_version": "1.5.0",
            "description_tooltip": null,
            "_model_module": "@jupyter-widgets/controls",
            "layout": "IPY_MODEL_999089ca69eb4eb2a5e1a1f8be105856"
          }
        },
        "ed2b13a17ec54b60bf69e5261b104e1b": {
          "model_module": "@jupyter-widgets/controls",
          "model_name": "FloatProgressModel",
          "model_module_version": "1.5.0",
          "state": {
            "_view_name": "ProgressView",
            "style": "IPY_MODEL_ac4886b941674f728015c5e2519743d6",
            "_dom_classes": [],
            "description": "",
            "_model_name": "FloatProgressModel",
            "bar_style": "",
            "max": 1,
            "_view_module": "@jupyter-widgets/controls",
            "_model_module_version": "1.5.0",
            "value": 1,
            "_view_count": null,
            "_view_module_version": "1.5.0",
            "orientation": "horizontal",
            "min": 0,
            "description_tooltip": null,
            "_model_module": "@jupyter-widgets/controls",
            "layout": "IPY_MODEL_68f6171ea5164835b4c9f797a88b19d3"
          }
        },
        "50269ce503654cef8344eb4569540b64": {
          "model_module": "@jupyter-widgets/controls",
          "model_name": "DescriptionStyleModel",
          "model_module_version": "1.5.0",
          "state": {
            "_view_name": "StyleView",
            "_model_name": "DescriptionStyleModel",
            "description_width": "",
            "_view_module": "@jupyter-widgets/base",
            "_model_module_version": "1.5.0",
            "_view_count": null,
            "_view_module_version": "1.2.0",
            "_model_module": "@jupyter-widgets/controls"
          }
        },
        "999089ca69eb4eb2a5e1a1f8be105856": {
          "model_module": "@jupyter-widgets/base",
          "model_name": "LayoutModel",
          "model_module_version": "1.2.0",
          "state": {
            "_view_name": "LayoutView",
            "grid_template_rows": null,
            "right": null,
            "justify_content": null,
            "_view_module": "@jupyter-widgets/base",
            "overflow": null,
            "_model_module_version": "1.2.0",
            "_view_count": null,
            "flex_flow": null,
            "width": null,
            "min_width": null,
            "border": null,
            "align_items": null,
            "bottom": null,
            "_model_module": "@jupyter-widgets/base",
            "top": null,
            "grid_column": null,
            "overflow_y": null,
            "overflow_x": null,
            "grid_auto_flow": null,
            "grid_area": null,
            "grid_template_columns": null,
            "flex": null,
            "_model_name": "LayoutModel",
            "justify_items": null,
            "grid_row": null,
            "max_height": null,
            "align_content": null,
            "visibility": null,
            "align_self": null,
            "height": null,
            "min_height": null,
            "padding": null,
            "grid_auto_rows": null,
            "grid_gap": null,
            "max_width": null,
            "order": null,
            "_view_module_version": "1.2.0",
            "grid_template_areas": null,
            "object_position": null,
            "object_fit": null,
            "grid_auto_columns": null,
            "margin": null,
            "display": null,
            "left": null
          }
        },
        "ac4886b941674f728015c5e2519743d6": {
          "model_module": "@jupyter-widgets/controls",
          "model_name": "ProgressStyleModel",
          "model_module_version": "1.5.0",
          "state": {
            "_view_name": "StyleView",
            "_model_name": "ProgressStyleModel",
            "description_width": "",
            "_view_module": "@jupyter-widgets/base",
            "_model_module_version": "1.5.0",
            "_view_count": null,
            "_view_module_version": "1.2.0",
            "bar_color": null,
            "_model_module": "@jupyter-widgets/controls"
          }
        },
        "68f6171ea5164835b4c9f797a88b19d3": {
          "model_module": "@jupyter-widgets/base",
          "model_name": "LayoutModel",
          "model_module_version": "1.2.0",
          "state": {
            "_view_name": "LayoutView",
            "grid_template_rows": null,
            "right": null,
            "justify_content": null,
            "_view_module": "@jupyter-widgets/base",
            "overflow": null,
            "_model_module_version": "1.2.0",
            "_view_count": null,
            "flex_flow": null,
            "width": null,
            "min_width": null,
            "border": null,
            "align_items": null,
            "bottom": null,
            "_model_module": "@jupyter-widgets/base",
            "top": null,
            "grid_column": null,
            "overflow_y": null,
            "overflow_x": null,
            "grid_auto_flow": null,
            "grid_area": null,
            "grid_template_columns": null,
            "flex": null,
            "_model_name": "LayoutModel",
            "justify_items": null,
            "grid_row": null,
            "max_height": null,
            "align_content": null,
            "visibility": null,
            "align_self": null,
            "height": null,
            "min_height": null,
            "padding": null,
            "grid_auto_rows": null,
            "grid_gap": null,
            "max_width": null,
            "order": null,
            "_view_module_version": "1.2.0",
            "grid_template_areas": null,
            "object_position": null,
            "object_fit": null,
            "grid_auto_columns": null,
            "margin": null,
            "display": null,
            "left": null
          }
        },
        "c235b510651249cdace6cd26a6930142": {
          "model_module": "@jupyter-widgets/controls",
          "model_name": "VBoxModel",
          "model_module_version": "1.5.0",
          "state": {
            "_view_name": "VBoxView",
            "_dom_classes": [],
            "_model_name": "VBoxModel",
            "_view_module": "@jupyter-widgets/controls",
            "_model_module_version": "1.5.0",
            "_view_count": null,
            "_view_module_version": "1.5.0",
            "box_style": "",
            "layout": "IPY_MODEL_3948b7be73d143b9a825aa6c9d1b4db2",
            "_model_module": "@jupyter-widgets/controls",
            "children": [
              "IPY_MODEL_b6150b15886044d6abd0f4fe85d1ab09",
              "IPY_MODEL_bf12672c50804af5af36a4bfbce54fe9"
            ]
          }
        },
        "3948b7be73d143b9a825aa6c9d1b4db2": {
          "model_module": "@jupyter-widgets/base",
          "model_name": "LayoutModel",
          "model_module_version": "1.2.0",
          "state": {
            "_view_name": "LayoutView",
            "grid_template_rows": null,
            "right": null,
            "justify_content": null,
            "_view_module": "@jupyter-widgets/base",
            "overflow": null,
            "_model_module_version": "1.2.0",
            "_view_count": null,
            "flex_flow": null,
            "width": null,
            "min_width": null,
            "border": null,
            "align_items": null,
            "bottom": null,
            "_model_module": "@jupyter-widgets/base",
            "top": null,
            "grid_column": null,
            "overflow_y": null,
            "overflow_x": null,
            "grid_auto_flow": null,
            "grid_area": null,
            "grid_template_columns": null,
            "flex": null,
            "_model_name": "LayoutModel",
            "justify_items": null,
            "grid_row": null,
            "max_height": null,
            "align_content": null,
            "visibility": null,
            "align_self": null,
            "height": null,
            "min_height": null,
            "padding": null,
            "grid_auto_rows": null,
            "grid_gap": null,
            "max_width": null,
            "order": null,
            "_view_module_version": "1.2.0",
            "grid_template_areas": null,
            "object_position": null,
            "object_fit": null,
            "grid_auto_columns": null,
            "margin": null,
            "display": null,
            "left": null
          }
        },
        "b6150b15886044d6abd0f4fe85d1ab09": {
          "model_module": "@jupyter-widgets/controls",
          "model_name": "LabelModel",
          "model_module_version": "1.5.0",
          "state": {
            "_view_name": "LabelView",
            "style": "IPY_MODEL_54cdf634fdf442cab9b1ad217124ca4c",
            "_dom_classes": [],
            "description": "",
            "_model_name": "LabelModel",
            "placeholder": "​",
            "_view_module": "@jupyter-widgets/controls",
            "_model_module_version": "1.5.0",
            "value": " 0.01MB of 0.01MB uploaded (0.00MB deduped)\r",
            "_view_count": null,
            "_view_module_version": "1.5.0",
            "description_tooltip": null,
            "_model_module": "@jupyter-widgets/controls",
            "layout": "IPY_MODEL_99e152f6762c4f22b1d45c51e08cfc8c"
          }
        },
        "bf12672c50804af5af36a4bfbce54fe9": {
          "model_module": "@jupyter-widgets/controls",
          "model_name": "FloatProgressModel",
          "model_module_version": "1.5.0",
          "state": {
            "_view_name": "ProgressView",
            "style": "IPY_MODEL_563a9f53cc97434ab59914e5d2b0eee7",
            "_dom_classes": [],
            "description": "",
            "_model_name": "FloatProgressModel",
            "bar_style": "",
            "max": 1,
            "_view_module": "@jupyter-widgets/controls",
            "_model_module_version": "1.5.0",
            "value": 1,
            "_view_count": null,
            "_view_module_version": "1.5.0",
            "orientation": "horizontal",
            "min": 0,
            "description_tooltip": null,
            "_model_module": "@jupyter-widgets/controls",
            "layout": "IPY_MODEL_a4a908966af34de9bfba71d81c9c25ef"
          }
        },
        "54cdf634fdf442cab9b1ad217124ca4c": {
          "model_module": "@jupyter-widgets/controls",
          "model_name": "DescriptionStyleModel",
          "model_module_version": "1.5.0",
          "state": {
            "_view_name": "StyleView",
            "_model_name": "DescriptionStyleModel",
            "description_width": "",
            "_view_module": "@jupyter-widgets/base",
            "_model_module_version": "1.5.0",
            "_view_count": null,
            "_view_module_version": "1.2.0",
            "_model_module": "@jupyter-widgets/controls"
          }
        },
        "99e152f6762c4f22b1d45c51e08cfc8c": {
          "model_module": "@jupyter-widgets/base",
          "model_name": "LayoutModel",
          "model_module_version": "1.2.0",
          "state": {
            "_view_name": "LayoutView",
            "grid_template_rows": null,
            "right": null,
            "justify_content": null,
            "_view_module": "@jupyter-widgets/base",
            "overflow": null,
            "_model_module_version": "1.2.0",
            "_view_count": null,
            "flex_flow": null,
            "width": null,
            "min_width": null,
            "border": null,
            "align_items": null,
            "bottom": null,
            "_model_module": "@jupyter-widgets/base",
            "top": null,
            "grid_column": null,
            "overflow_y": null,
            "overflow_x": null,
            "grid_auto_flow": null,
            "grid_area": null,
            "grid_template_columns": null,
            "flex": null,
            "_model_name": "LayoutModel",
            "justify_items": null,
            "grid_row": null,
            "max_height": null,
            "align_content": null,
            "visibility": null,
            "align_self": null,
            "height": null,
            "min_height": null,
            "padding": null,
            "grid_auto_rows": null,
            "grid_gap": null,
            "max_width": null,
            "order": null,
            "_view_module_version": "1.2.0",
            "grid_template_areas": null,
            "object_position": null,
            "object_fit": null,
            "grid_auto_columns": null,
            "margin": null,
            "display": null,
            "left": null
          }
        },
        "563a9f53cc97434ab59914e5d2b0eee7": {
          "model_module": "@jupyter-widgets/controls",
          "model_name": "ProgressStyleModel",
          "model_module_version": "1.5.0",
          "state": {
            "_view_name": "StyleView",
            "_model_name": "ProgressStyleModel",
            "description_width": "",
            "_view_module": "@jupyter-widgets/base",
            "_model_module_version": "1.5.0",
            "_view_count": null,
            "_view_module_version": "1.2.0",
            "bar_color": null,
            "_model_module": "@jupyter-widgets/controls"
          }
        },
        "a4a908966af34de9bfba71d81c9c25ef": {
          "model_module": "@jupyter-widgets/base",
          "model_name": "LayoutModel",
          "model_module_version": "1.2.0",
          "state": {
            "_view_name": "LayoutView",
            "grid_template_rows": null,
            "right": null,
            "justify_content": null,
            "_view_module": "@jupyter-widgets/base",
            "overflow": null,
            "_model_module_version": "1.2.0",
            "_view_count": null,
            "flex_flow": null,
            "width": null,
            "min_width": null,
            "border": null,
            "align_items": null,
            "bottom": null,
            "_model_module": "@jupyter-widgets/base",
            "top": null,
            "grid_column": null,
            "overflow_y": null,
            "overflow_x": null,
            "grid_auto_flow": null,
            "grid_area": null,
            "grid_template_columns": null,
            "flex": null,
            "_model_name": "LayoutModel",
            "justify_items": null,
            "grid_row": null,
            "max_height": null,
            "align_content": null,
            "visibility": null,
            "align_self": null,
            "height": null,
            "min_height": null,
            "padding": null,
            "grid_auto_rows": null,
            "grid_gap": null,
            "max_width": null,
            "order": null,
            "_view_module_version": "1.2.0",
            "grid_template_areas": null,
            "object_position": null,
            "object_fit": null,
            "grid_auto_columns": null,
            "margin": null,
            "display": null,
            "left": null
          }
        },
        "fb5dd48185294d9fa9b4f623706533d7": {
          "model_module": "@jupyter-widgets/controls",
          "model_name": "VBoxModel",
          "model_module_version": "1.5.0",
          "state": {
            "_view_name": "VBoxView",
            "_dom_classes": [],
            "_model_name": "VBoxModel",
            "_view_module": "@jupyter-widgets/controls",
            "_model_module_version": "1.5.0",
            "_view_count": null,
            "_view_module_version": "1.5.0",
            "box_style": "",
            "layout": "IPY_MODEL_f6180ca2d312409ebb569a32593b86a6",
            "_model_module": "@jupyter-widgets/controls",
            "children": [
              "IPY_MODEL_01e774041658423da674a0e5f75bb272",
              "IPY_MODEL_5e04d989126e44a183600899ec28acf6"
            ]
          }
        },
        "f6180ca2d312409ebb569a32593b86a6": {
          "model_module": "@jupyter-widgets/base",
          "model_name": "LayoutModel",
          "model_module_version": "1.2.0",
          "state": {
            "_view_name": "LayoutView",
            "grid_template_rows": null,
            "right": null,
            "justify_content": null,
            "_view_module": "@jupyter-widgets/base",
            "overflow": null,
            "_model_module_version": "1.2.0",
            "_view_count": null,
            "flex_flow": null,
            "width": null,
            "min_width": null,
            "border": null,
            "align_items": null,
            "bottom": null,
            "_model_module": "@jupyter-widgets/base",
            "top": null,
            "grid_column": null,
            "overflow_y": null,
            "overflow_x": null,
            "grid_auto_flow": null,
            "grid_area": null,
            "grid_template_columns": null,
            "flex": null,
            "_model_name": "LayoutModel",
            "justify_items": null,
            "grid_row": null,
            "max_height": null,
            "align_content": null,
            "visibility": null,
            "align_self": null,
            "height": null,
            "min_height": null,
            "padding": null,
            "grid_auto_rows": null,
            "grid_gap": null,
            "max_width": null,
            "order": null,
            "_view_module_version": "1.2.0",
            "grid_template_areas": null,
            "object_position": null,
            "object_fit": null,
            "grid_auto_columns": null,
            "margin": null,
            "display": null,
            "left": null
          }
        },
        "01e774041658423da674a0e5f75bb272": {
          "model_module": "@jupyter-widgets/controls",
          "model_name": "LabelModel",
          "model_module_version": "1.5.0",
          "state": {
            "_view_name": "LabelView",
            "style": "IPY_MODEL_838e73a4146e4238a48036744c271f51",
            "_dom_classes": [],
            "description": "",
            "_model_name": "LabelModel",
            "placeholder": "​",
            "_view_module": "@jupyter-widgets/controls",
            "_model_module_version": "1.5.0",
            "value": " 0.01MB of 0.01MB uploaded (0.00MB deduped)\r",
            "_view_count": null,
            "_view_module_version": "1.5.0",
            "description_tooltip": null,
            "_model_module": "@jupyter-widgets/controls",
            "layout": "IPY_MODEL_951b41f3e7a54769a2d52821d89fbf2f"
          }
        },
        "5e04d989126e44a183600899ec28acf6": {
          "model_module": "@jupyter-widgets/controls",
          "model_name": "FloatProgressModel",
          "model_module_version": "1.5.0",
          "state": {
            "_view_name": "ProgressView",
            "style": "IPY_MODEL_806c5894db664601af65a73f2a1f6f73",
            "_dom_classes": [],
            "description": "",
            "_model_name": "FloatProgressModel",
            "bar_style": "",
            "max": 1,
            "_view_module": "@jupyter-widgets/controls",
            "_model_module_version": "1.5.0",
            "value": 1,
            "_view_count": null,
            "_view_module_version": "1.5.0",
            "orientation": "horizontal",
            "min": 0,
            "description_tooltip": null,
            "_model_module": "@jupyter-widgets/controls",
            "layout": "IPY_MODEL_f917af3369004671a5d77e8d5c204a06"
          }
        },
        "838e73a4146e4238a48036744c271f51": {
          "model_module": "@jupyter-widgets/controls",
          "model_name": "DescriptionStyleModel",
          "model_module_version": "1.5.0",
          "state": {
            "_view_name": "StyleView",
            "_model_name": "DescriptionStyleModel",
            "description_width": "",
            "_view_module": "@jupyter-widgets/base",
            "_model_module_version": "1.5.0",
            "_view_count": null,
            "_view_module_version": "1.2.0",
            "_model_module": "@jupyter-widgets/controls"
          }
        },
        "951b41f3e7a54769a2d52821d89fbf2f": {
          "model_module": "@jupyter-widgets/base",
          "model_name": "LayoutModel",
          "model_module_version": "1.2.0",
          "state": {
            "_view_name": "LayoutView",
            "grid_template_rows": null,
            "right": null,
            "justify_content": null,
            "_view_module": "@jupyter-widgets/base",
            "overflow": null,
            "_model_module_version": "1.2.0",
            "_view_count": null,
            "flex_flow": null,
            "width": null,
            "min_width": null,
            "border": null,
            "align_items": null,
            "bottom": null,
            "_model_module": "@jupyter-widgets/base",
            "top": null,
            "grid_column": null,
            "overflow_y": null,
            "overflow_x": null,
            "grid_auto_flow": null,
            "grid_area": null,
            "grid_template_columns": null,
            "flex": null,
            "_model_name": "LayoutModel",
            "justify_items": null,
            "grid_row": null,
            "max_height": null,
            "align_content": null,
            "visibility": null,
            "align_self": null,
            "height": null,
            "min_height": null,
            "padding": null,
            "grid_auto_rows": null,
            "grid_gap": null,
            "max_width": null,
            "order": null,
            "_view_module_version": "1.2.0",
            "grid_template_areas": null,
            "object_position": null,
            "object_fit": null,
            "grid_auto_columns": null,
            "margin": null,
            "display": null,
            "left": null
          }
        },
        "806c5894db664601af65a73f2a1f6f73": {
          "model_module": "@jupyter-widgets/controls",
          "model_name": "ProgressStyleModel",
          "model_module_version": "1.5.0",
          "state": {
            "_view_name": "StyleView",
            "_model_name": "ProgressStyleModel",
            "description_width": "",
            "_view_module": "@jupyter-widgets/base",
            "_model_module_version": "1.5.0",
            "_view_count": null,
            "_view_module_version": "1.2.0",
            "bar_color": null,
            "_model_module": "@jupyter-widgets/controls"
          }
        },
        "f917af3369004671a5d77e8d5c204a06": {
          "model_module": "@jupyter-widgets/base",
          "model_name": "LayoutModel",
          "model_module_version": "1.2.0",
          "state": {
            "_view_name": "LayoutView",
            "grid_template_rows": null,
            "right": null,
            "justify_content": null,
            "_view_module": "@jupyter-widgets/base",
            "overflow": null,
            "_model_module_version": "1.2.0",
            "_view_count": null,
            "flex_flow": null,
            "width": null,
            "min_width": null,
            "border": null,
            "align_items": null,
            "bottom": null,
            "_model_module": "@jupyter-widgets/base",
            "top": null,
            "grid_column": null,
            "overflow_y": null,
            "overflow_x": null,
            "grid_auto_flow": null,
            "grid_area": null,
            "grid_template_columns": null,
            "flex": null,
            "_model_name": "LayoutModel",
            "justify_items": null,
            "grid_row": null,
            "max_height": null,
            "align_content": null,
            "visibility": null,
            "align_self": null,
            "height": null,
            "min_height": null,
            "padding": null,
            "grid_auto_rows": null,
            "grid_gap": null,
            "max_width": null,
            "order": null,
            "_view_module_version": "1.2.0",
            "grid_template_areas": null,
            "object_position": null,
            "object_fit": null,
            "grid_auto_columns": null,
            "margin": null,
            "display": null,
            "left": null
          }
        },
        "0b9f65dfa8c1443cb261cda01073d179": {
          "model_module": "@jupyter-widgets/controls",
          "model_name": "VBoxModel",
          "model_module_version": "1.5.0",
          "state": {
            "_view_name": "VBoxView",
            "_dom_classes": [],
            "_model_name": "VBoxModel",
            "_view_module": "@jupyter-widgets/controls",
            "_model_module_version": "1.5.0",
            "_view_count": null,
            "_view_module_version": "1.5.0",
            "box_style": "",
            "layout": "IPY_MODEL_27432d85f61c4782bf3c6ca0a263348d",
            "_model_module": "@jupyter-widgets/controls",
            "children": [
              "IPY_MODEL_d688673b309443d59b0ffcfbd7a2d891",
              "IPY_MODEL_83e75db2e1cc4e73b9aa3e96a5a71f02"
            ]
          }
        },
        "27432d85f61c4782bf3c6ca0a263348d": {
          "model_module": "@jupyter-widgets/base",
          "model_name": "LayoutModel",
          "model_module_version": "1.2.0",
          "state": {
            "_view_name": "LayoutView",
            "grid_template_rows": null,
            "right": null,
            "justify_content": null,
            "_view_module": "@jupyter-widgets/base",
            "overflow": null,
            "_model_module_version": "1.2.0",
            "_view_count": null,
            "flex_flow": null,
            "width": null,
            "min_width": null,
            "border": null,
            "align_items": null,
            "bottom": null,
            "_model_module": "@jupyter-widgets/base",
            "top": null,
            "grid_column": null,
            "overflow_y": null,
            "overflow_x": null,
            "grid_auto_flow": null,
            "grid_area": null,
            "grid_template_columns": null,
            "flex": null,
            "_model_name": "LayoutModel",
            "justify_items": null,
            "grid_row": null,
            "max_height": null,
            "align_content": null,
            "visibility": null,
            "align_self": null,
            "height": null,
            "min_height": null,
            "padding": null,
            "grid_auto_rows": null,
            "grid_gap": null,
            "max_width": null,
            "order": null,
            "_view_module_version": "1.2.0",
            "grid_template_areas": null,
            "object_position": null,
            "object_fit": null,
            "grid_auto_columns": null,
            "margin": null,
            "display": null,
            "left": null
          }
        },
        "d688673b309443d59b0ffcfbd7a2d891": {
          "model_module": "@jupyter-widgets/controls",
          "model_name": "LabelModel",
          "model_module_version": "1.5.0",
          "state": {
            "_view_name": "LabelView",
            "style": "IPY_MODEL_1bef4a061c214ee2b65082e8052116fd",
            "_dom_classes": [],
            "description": "",
            "_model_name": "LabelModel",
            "placeholder": "​",
            "_view_module": "@jupyter-widgets/controls",
            "_model_module_version": "1.5.0",
            "value": " 0.01MB of 0.01MB uploaded (0.00MB deduped)\r",
            "_view_count": null,
            "_view_module_version": "1.5.0",
            "description_tooltip": null,
            "_model_module": "@jupyter-widgets/controls",
            "layout": "IPY_MODEL_7ded9db33c8d449a842063b0ef0da045"
          }
        },
        "83e75db2e1cc4e73b9aa3e96a5a71f02": {
          "model_module": "@jupyter-widgets/controls",
          "model_name": "FloatProgressModel",
          "model_module_version": "1.5.0",
          "state": {
            "_view_name": "ProgressView",
            "style": "IPY_MODEL_187afa796baa462e8acc3906f45ad15e",
            "_dom_classes": [],
            "description": "",
            "_model_name": "FloatProgressModel",
            "bar_style": "",
            "max": 1,
            "_view_module": "@jupyter-widgets/controls",
            "_model_module_version": "1.5.0",
            "value": 1,
            "_view_count": null,
            "_view_module_version": "1.5.0",
            "orientation": "horizontal",
            "min": 0,
            "description_tooltip": null,
            "_model_module": "@jupyter-widgets/controls",
            "layout": "IPY_MODEL_da159c56c4ea4d7997877bc79488d2ed"
          }
        },
        "1bef4a061c214ee2b65082e8052116fd": {
          "model_module": "@jupyter-widgets/controls",
          "model_name": "DescriptionStyleModel",
          "model_module_version": "1.5.0",
          "state": {
            "_view_name": "StyleView",
            "_model_name": "DescriptionStyleModel",
            "description_width": "",
            "_view_module": "@jupyter-widgets/base",
            "_model_module_version": "1.5.0",
            "_view_count": null,
            "_view_module_version": "1.2.0",
            "_model_module": "@jupyter-widgets/controls"
          }
        },
        "7ded9db33c8d449a842063b0ef0da045": {
          "model_module": "@jupyter-widgets/base",
          "model_name": "LayoutModel",
          "model_module_version": "1.2.0",
          "state": {
            "_view_name": "LayoutView",
            "grid_template_rows": null,
            "right": null,
            "justify_content": null,
            "_view_module": "@jupyter-widgets/base",
            "overflow": null,
            "_model_module_version": "1.2.0",
            "_view_count": null,
            "flex_flow": null,
            "width": null,
            "min_width": null,
            "border": null,
            "align_items": null,
            "bottom": null,
            "_model_module": "@jupyter-widgets/base",
            "top": null,
            "grid_column": null,
            "overflow_y": null,
            "overflow_x": null,
            "grid_auto_flow": null,
            "grid_area": null,
            "grid_template_columns": null,
            "flex": null,
            "_model_name": "LayoutModel",
            "justify_items": null,
            "grid_row": null,
            "max_height": null,
            "align_content": null,
            "visibility": null,
            "align_self": null,
            "height": null,
            "min_height": null,
            "padding": null,
            "grid_auto_rows": null,
            "grid_gap": null,
            "max_width": null,
            "order": null,
            "_view_module_version": "1.2.0",
            "grid_template_areas": null,
            "object_position": null,
            "object_fit": null,
            "grid_auto_columns": null,
            "margin": null,
            "display": null,
            "left": null
          }
        },
        "187afa796baa462e8acc3906f45ad15e": {
          "model_module": "@jupyter-widgets/controls",
          "model_name": "ProgressStyleModel",
          "model_module_version": "1.5.0",
          "state": {
            "_view_name": "StyleView",
            "_model_name": "ProgressStyleModel",
            "description_width": "",
            "_view_module": "@jupyter-widgets/base",
            "_model_module_version": "1.5.0",
            "_view_count": null,
            "_view_module_version": "1.2.0",
            "bar_color": null,
            "_model_module": "@jupyter-widgets/controls"
          }
        },
        "da159c56c4ea4d7997877bc79488d2ed": {
          "model_module": "@jupyter-widgets/base",
          "model_name": "LayoutModel",
          "model_module_version": "1.2.0",
          "state": {
            "_view_name": "LayoutView",
            "grid_template_rows": null,
            "right": null,
            "justify_content": null,
            "_view_module": "@jupyter-widgets/base",
            "overflow": null,
            "_model_module_version": "1.2.0",
            "_view_count": null,
            "flex_flow": null,
            "width": null,
            "min_width": null,
            "border": null,
            "align_items": null,
            "bottom": null,
            "_model_module": "@jupyter-widgets/base",
            "top": null,
            "grid_column": null,
            "overflow_y": null,
            "overflow_x": null,
            "grid_auto_flow": null,
            "grid_area": null,
            "grid_template_columns": null,
            "flex": null,
            "_model_name": "LayoutModel",
            "justify_items": null,
            "grid_row": null,
            "max_height": null,
            "align_content": null,
            "visibility": null,
            "align_self": null,
            "height": null,
            "min_height": null,
            "padding": null,
            "grid_auto_rows": null,
            "grid_gap": null,
            "max_width": null,
            "order": null,
            "_view_module_version": "1.2.0",
            "grid_template_areas": null,
            "object_position": null,
            "object_fit": null,
            "grid_auto_columns": null,
            "margin": null,
            "display": null,
            "left": null
          }
        },
        "7a48c95d6d6645ca807d5d1ed197205a": {
          "model_module": "@jupyter-widgets/controls",
          "model_name": "VBoxModel",
          "model_module_version": "1.5.0",
          "state": {
            "_view_name": "VBoxView",
            "_dom_classes": [],
            "_model_name": "VBoxModel",
            "_view_module": "@jupyter-widgets/controls",
            "_model_module_version": "1.5.0",
            "_view_count": null,
            "_view_module_version": "1.5.0",
            "box_style": "",
            "layout": "IPY_MODEL_77d754fe68c8412ba0662f8b025d8fd4",
            "_model_module": "@jupyter-widgets/controls",
            "children": [
              "IPY_MODEL_ad62f91c02064e91aeee75907c24d043",
              "IPY_MODEL_c74d9f1e65fc4b5f99075b94030cf6b3"
            ]
          }
        },
        "77d754fe68c8412ba0662f8b025d8fd4": {
          "model_module": "@jupyter-widgets/base",
          "model_name": "LayoutModel",
          "model_module_version": "1.2.0",
          "state": {
            "_view_name": "LayoutView",
            "grid_template_rows": null,
            "right": null,
            "justify_content": null,
            "_view_module": "@jupyter-widgets/base",
            "overflow": null,
            "_model_module_version": "1.2.0",
            "_view_count": null,
            "flex_flow": null,
            "width": null,
            "min_width": null,
            "border": null,
            "align_items": null,
            "bottom": null,
            "_model_module": "@jupyter-widgets/base",
            "top": null,
            "grid_column": null,
            "overflow_y": null,
            "overflow_x": null,
            "grid_auto_flow": null,
            "grid_area": null,
            "grid_template_columns": null,
            "flex": null,
            "_model_name": "LayoutModel",
            "justify_items": null,
            "grid_row": null,
            "max_height": null,
            "align_content": null,
            "visibility": null,
            "align_self": null,
            "height": null,
            "min_height": null,
            "padding": null,
            "grid_auto_rows": null,
            "grid_gap": null,
            "max_width": null,
            "order": null,
            "_view_module_version": "1.2.0",
            "grid_template_areas": null,
            "object_position": null,
            "object_fit": null,
            "grid_auto_columns": null,
            "margin": null,
            "display": null,
            "left": null
          }
        },
        "ad62f91c02064e91aeee75907c24d043": {
          "model_module": "@jupyter-widgets/controls",
          "model_name": "LabelModel",
          "model_module_version": "1.5.0",
          "state": {
            "_view_name": "LabelView",
            "style": "IPY_MODEL_109b78f5c31243bcb194461dc1799f36",
            "_dom_classes": [],
            "description": "",
            "_model_name": "LabelModel",
            "placeholder": "​",
            "_view_module": "@jupyter-widgets/controls",
            "_model_module_version": "1.5.0",
            "value": " 0.01MB of 0.01MB uploaded (0.00MB deduped)\r",
            "_view_count": null,
            "_view_module_version": "1.5.0",
            "description_tooltip": null,
            "_model_module": "@jupyter-widgets/controls",
            "layout": "IPY_MODEL_e6918cdf9cca48f68a9f7bc285490362"
          }
        },
        "c74d9f1e65fc4b5f99075b94030cf6b3": {
          "model_module": "@jupyter-widgets/controls",
          "model_name": "FloatProgressModel",
          "model_module_version": "1.5.0",
          "state": {
            "_view_name": "ProgressView",
            "style": "IPY_MODEL_7df435c68ee042c1998f4f099bccc761",
            "_dom_classes": [],
            "description": "",
            "_model_name": "FloatProgressModel",
            "bar_style": "",
            "max": 1,
            "_view_module": "@jupyter-widgets/controls",
            "_model_module_version": "1.5.0",
            "value": 1,
            "_view_count": null,
            "_view_module_version": "1.5.0",
            "orientation": "horizontal",
            "min": 0,
            "description_tooltip": null,
            "_model_module": "@jupyter-widgets/controls",
            "layout": "IPY_MODEL_8f67180a44794a6c910f1fcacc82a238"
          }
        },
        "109b78f5c31243bcb194461dc1799f36": {
          "model_module": "@jupyter-widgets/controls",
          "model_name": "DescriptionStyleModel",
          "model_module_version": "1.5.0",
          "state": {
            "_view_name": "StyleView",
            "_model_name": "DescriptionStyleModel",
            "description_width": "",
            "_view_module": "@jupyter-widgets/base",
            "_model_module_version": "1.5.0",
            "_view_count": null,
            "_view_module_version": "1.2.0",
            "_model_module": "@jupyter-widgets/controls"
          }
        },
        "e6918cdf9cca48f68a9f7bc285490362": {
          "model_module": "@jupyter-widgets/base",
          "model_name": "LayoutModel",
          "model_module_version": "1.2.0",
          "state": {
            "_view_name": "LayoutView",
            "grid_template_rows": null,
            "right": null,
            "justify_content": null,
            "_view_module": "@jupyter-widgets/base",
            "overflow": null,
            "_model_module_version": "1.2.0",
            "_view_count": null,
            "flex_flow": null,
            "width": null,
            "min_width": null,
            "border": null,
            "align_items": null,
            "bottom": null,
            "_model_module": "@jupyter-widgets/base",
            "top": null,
            "grid_column": null,
            "overflow_y": null,
            "overflow_x": null,
            "grid_auto_flow": null,
            "grid_area": null,
            "grid_template_columns": null,
            "flex": null,
            "_model_name": "LayoutModel",
            "justify_items": null,
            "grid_row": null,
            "max_height": null,
            "align_content": null,
            "visibility": null,
            "align_self": null,
            "height": null,
            "min_height": null,
            "padding": null,
            "grid_auto_rows": null,
            "grid_gap": null,
            "max_width": null,
            "order": null,
            "_view_module_version": "1.2.0",
            "grid_template_areas": null,
            "object_position": null,
            "object_fit": null,
            "grid_auto_columns": null,
            "margin": null,
            "display": null,
            "left": null
          }
        },
        "7df435c68ee042c1998f4f099bccc761": {
          "model_module": "@jupyter-widgets/controls",
          "model_name": "ProgressStyleModel",
          "model_module_version": "1.5.0",
          "state": {
            "_view_name": "StyleView",
            "_model_name": "ProgressStyleModel",
            "description_width": "",
            "_view_module": "@jupyter-widgets/base",
            "_model_module_version": "1.5.0",
            "_view_count": null,
            "_view_module_version": "1.2.0",
            "bar_color": null,
            "_model_module": "@jupyter-widgets/controls"
          }
        },
        "8f67180a44794a6c910f1fcacc82a238": {
          "model_module": "@jupyter-widgets/base",
          "model_name": "LayoutModel",
          "model_module_version": "1.2.0",
          "state": {
            "_view_name": "LayoutView",
            "grid_template_rows": null,
            "right": null,
            "justify_content": null,
            "_view_module": "@jupyter-widgets/base",
            "overflow": null,
            "_model_module_version": "1.2.0",
            "_view_count": null,
            "flex_flow": null,
            "width": null,
            "min_width": null,
            "border": null,
            "align_items": null,
            "bottom": null,
            "_model_module": "@jupyter-widgets/base",
            "top": null,
            "grid_column": null,
            "overflow_y": null,
            "overflow_x": null,
            "grid_auto_flow": null,
            "grid_area": null,
            "grid_template_columns": null,
            "flex": null,
            "_model_name": "LayoutModel",
            "justify_items": null,
            "grid_row": null,
            "max_height": null,
            "align_content": null,
            "visibility": null,
            "align_self": null,
            "height": null,
            "min_height": null,
            "padding": null,
            "grid_auto_rows": null,
            "grid_gap": null,
            "max_width": null,
            "order": null,
            "_view_module_version": "1.2.0",
            "grid_template_areas": null,
            "object_position": null,
            "object_fit": null,
            "grid_auto_columns": null,
            "margin": null,
            "display": null,
            "left": null
          }
        },
        "201c7edc6aea4621a67201ede819abfc": {
          "model_module": "@jupyter-widgets/controls",
          "model_name": "VBoxModel",
          "model_module_version": "1.5.0",
          "state": {
            "_view_name": "VBoxView",
            "_dom_classes": [],
            "_model_name": "VBoxModel",
            "_view_module": "@jupyter-widgets/controls",
            "_model_module_version": "1.5.0",
            "_view_count": null,
            "_view_module_version": "1.5.0",
            "box_style": "",
            "layout": "IPY_MODEL_cf94aeb0e3934f44ad16d6e6ee59e68f",
            "_model_module": "@jupyter-widgets/controls",
            "children": [
              "IPY_MODEL_b202f145e7254730bda31c2a4f5b358d",
              "IPY_MODEL_81723b16f68e4b7cb91d950658671ee7"
            ]
          }
        },
        "cf94aeb0e3934f44ad16d6e6ee59e68f": {
          "model_module": "@jupyter-widgets/base",
          "model_name": "LayoutModel",
          "model_module_version": "1.2.0",
          "state": {
            "_view_name": "LayoutView",
            "grid_template_rows": null,
            "right": null,
            "justify_content": null,
            "_view_module": "@jupyter-widgets/base",
            "overflow": null,
            "_model_module_version": "1.2.0",
            "_view_count": null,
            "flex_flow": null,
            "width": null,
            "min_width": null,
            "border": null,
            "align_items": null,
            "bottom": null,
            "_model_module": "@jupyter-widgets/base",
            "top": null,
            "grid_column": null,
            "overflow_y": null,
            "overflow_x": null,
            "grid_auto_flow": null,
            "grid_area": null,
            "grid_template_columns": null,
            "flex": null,
            "_model_name": "LayoutModel",
            "justify_items": null,
            "grid_row": null,
            "max_height": null,
            "align_content": null,
            "visibility": null,
            "align_self": null,
            "height": null,
            "min_height": null,
            "padding": null,
            "grid_auto_rows": null,
            "grid_gap": null,
            "max_width": null,
            "order": null,
            "_view_module_version": "1.2.0",
            "grid_template_areas": null,
            "object_position": null,
            "object_fit": null,
            "grid_auto_columns": null,
            "margin": null,
            "display": null,
            "left": null
          }
        },
        "b202f145e7254730bda31c2a4f5b358d": {
          "model_module": "@jupyter-widgets/controls",
          "model_name": "LabelModel",
          "model_module_version": "1.5.0",
          "state": {
            "_view_name": "LabelView",
            "style": "IPY_MODEL_936ccd3627004cb79519adbc44463db8",
            "_dom_classes": [],
            "description": "",
            "_model_name": "LabelModel",
            "placeholder": "​",
            "_view_module": "@jupyter-widgets/controls",
            "_model_module_version": "1.5.0",
            "value": " 0.01MB of 0.01MB uploaded (0.00MB deduped)\r",
            "_view_count": null,
            "_view_module_version": "1.5.0",
            "description_tooltip": null,
            "_model_module": "@jupyter-widgets/controls",
            "layout": "IPY_MODEL_1b1e52b7562e4be2bfe8b51cbbd9c1a7"
          }
        },
        "81723b16f68e4b7cb91d950658671ee7": {
          "model_module": "@jupyter-widgets/controls",
          "model_name": "FloatProgressModel",
          "model_module_version": "1.5.0",
          "state": {
            "_view_name": "ProgressView",
            "style": "IPY_MODEL_310f85ecdd814fcfb586b44fef2f19e6",
            "_dom_classes": [],
            "description": "",
            "_model_name": "FloatProgressModel",
            "bar_style": "",
            "max": 1,
            "_view_module": "@jupyter-widgets/controls",
            "_model_module_version": "1.5.0",
            "value": 1,
            "_view_count": null,
            "_view_module_version": "1.5.0",
            "orientation": "horizontal",
            "min": 0,
            "description_tooltip": null,
            "_model_module": "@jupyter-widgets/controls",
            "layout": "IPY_MODEL_900726f550dd44d1a89ab97e48bb1f65"
          }
        },
        "936ccd3627004cb79519adbc44463db8": {
          "model_module": "@jupyter-widgets/controls",
          "model_name": "DescriptionStyleModel",
          "model_module_version": "1.5.0",
          "state": {
            "_view_name": "StyleView",
            "_model_name": "DescriptionStyleModel",
            "description_width": "",
            "_view_module": "@jupyter-widgets/base",
            "_model_module_version": "1.5.0",
            "_view_count": null,
            "_view_module_version": "1.2.0",
            "_model_module": "@jupyter-widgets/controls"
          }
        },
        "1b1e52b7562e4be2bfe8b51cbbd9c1a7": {
          "model_module": "@jupyter-widgets/base",
          "model_name": "LayoutModel",
          "model_module_version": "1.2.0",
          "state": {
            "_view_name": "LayoutView",
            "grid_template_rows": null,
            "right": null,
            "justify_content": null,
            "_view_module": "@jupyter-widgets/base",
            "overflow": null,
            "_model_module_version": "1.2.0",
            "_view_count": null,
            "flex_flow": null,
            "width": null,
            "min_width": null,
            "border": null,
            "align_items": null,
            "bottom": null,
            "_model_module": "@jupyter-widgets/base",
            "top": null,
            "grid_column": null,
            "overflow_y": null,
            "overflow_x": null,
            "grid_auto_flow": null,
            "grid_area": null,
            "grid_template_columns": null,
            "flex": null,
            "_model_name": "LayoutModel",
            "justify_items": null,
            "grid_row": null,
            "max_height": null,
            "align_content": null,
            "visibility": null,
            "align_self": null,
            "height": null,
            "min_height": null,
            "padding": null,
            "grid_auto_rows": null,
            "grid_gap": null,
            "max_width": null,
            "order": null,
            "_view_module_version": "1.2.0",
            "grid_template_areas": null,
            "object_position": null,
            "object_fit": null,
            "grid_auto_columns": null,
            "margin": null,
            "display": null,
            "left": null
          }
        },
        "310f85ecdd814fcfb586b44fef2f19e6": {
          "model_module": "@jupyter-widgets/controls",
          "model_name": "ProgressStyleModel",
          "model_module_version": "1.5.0",
          "state": {
            "_view_name": "StyleView",
            "_model_name": "ProgressStyleModel",
            "description_width": "",
            "_view_module": "@jupyter-widgets/base",
            "_model_module_version": "1.5.0",
            "_view_count": null,
            "_view_module_version": "1.2.0",
            "bar_color": null,
            "_model_module": "@jupyter-widgets/controls"
          }
        },
        "900726f550dd44d1a89ab97e48bb1f65": {
          "model_module": "@jupyter-widgets/base",
          "model_name": "LayoutModel",
          "model_module_version": "1.2.0",
          "state": {
            "_view_name": "LayoutView",
            "grid_template_rows": null,
            "right": null,
            "justify_content": null,
            "_view_module": "@jupyter-widgets/base",
            "overflow": null,
            "_model_module_version": "1.2.0",
            "_view_count": null,
            "flex_flow": null,
            "width": null,
            "min_width": null,
            "border": null,
            "align_items": null,
            "bottom": null,
            "_model_module": "@jupyter-widgets/base",
            "top": null,
            "grid_column": null,
            "overflow_y": null,
            "overflow_x": null,
            "grid_auto_flow": null,
            "grid_area": null,
            "grid_template_columns": null,
            "flex": null,
            "_model_name": "LayoutModel",
            "justify_items": null,
            "grid_row": null,
            "max_height": null,
            "align_content": null,
            "visibility": null,
            "align_self": null,
            "height": null,
            "min_height": null,
            "padding": null,
            "grid_auto_rows": null,
            "grid_gap": null,
            "max_width": null,
            "order": null,
            "_view_module_version": "1.2.0",
            "grid_template_areas": null,
            "object_position": null,
            "object_fit": null,
            "grid_auto_columns": null,
            "margin": null,
            "display": null,
            "left": null
          }
        },
        "b2cfbc8dfe9d4f3f9164d2b0c6385a84": {
          "model_module": "@jupyter-widgets/controls",
          "model_name": "VBoxModel",
          "model_module_version": "1.5.0",
          "state": {
            "_view_name": "VBoxView",
            "_dom_classes": [],
            "_model_name": "VBoxModel",
            "_view_module": "@jupyter-widgets/controls",
            "_model_module_version": "1.5.0",
            "_view_count": null,
            "_view_module_version": "1.5.0",
            "box_style": "",
            "layout": "IPY_MODEL_bc3d787d69474b79b959e3cca15aac95",
            "_model_module": "@jupyter-widgets/controls",
            "children": [
              "IPY_MODEL_e3ea7a2050b14982933f70004ad2f1a2",
              "IPY_MODEL_08b827544ddd40c697807288338422e0"
            ]
          }
        },
        "bc3d787d69474b79b959e3cca15aac95": {
          "model_module": "@jupyter-widgets/base",
          "model_name": "LayoutModel",
          "model_module_version": "1.2.0",
          "state": {
            "_view_name": "LayoutView",
            "grid_template_rows": null,
            "right": null,
            "justify_content": null,
            "_view_module": "@jupyter-widgets/base",
            "overflow": null,
            "_model_module_version": "1.2.0",
            "_view_count": null,
            "flex_flow": null,
            "width": null,
            "min_width": null,
            "border": null,
            "align_items": null,
            "bottom": null,
            "_model_module": "@jupyter-widgets/base",
            "top": null,
            "grid_column": null,
            "overflow_y": null,
            "overflow_x": null,
            "grid_auto_flow": null,
            "grid_area": null,
            "grid_template_columns": null,
            "flex": null,
            "_model_name": "LayoutModel",
            "justify_items": null,
            "grid_row": null,
            "max_height": null,
            "align_content": null,
            "visibility": null,
            "align_self": null,
            "height": null,
            "min_height": null,
            "padding": null,
            "grid_auto_rows": null,
            "grid_gap": null,
            "max_width": null,
            "order": null,
            "_view_module_version": "1.2.0",
            "grid_template_areas": null,
            "object_position": null,
            "object_fit": null,
            "grid_auto_columns": null,
            "margin": null,
            "display": null,
            "left": null
          }
        },
        "e3ea7a2050b14982933f70004ad2f1a2": {
          "model_module": "@jupyter-widgets/controls",
          "model_name": "LabelModel",
          "model_module_version": "1.5.0",
          "state": {
            "_view_name": "LabelView",
            "style": "IPY_MODEL_1a5a98f76fb84d1299f8a79346e34776",
            "_dom_classes": [],
            "description": "",
            "_model_name": "LabelModel",
            "placeholder": "​",
            "_view_module": "@jupyter-widgets/controls",
            "_model_module_version": "1.5.0",
            "value": " 0.01MB of 0.01MB uploaded (0.00MB deduped)\r",
            "_view_count": null,
            "_view_module_version": "1.5.0",
            "description_tooltip": null,
            "_model_module": "@jupyter-widgets/controls",
            "layout": "IPY_MODEL_8e69de5a1cb343158b9b3da13d284d06"
          }
        },
        "08b827544ddd40c697807288338422e0": {
          "model_module": "@jupyter-widgets/controls",
          "model_name": "FloatProgressModel",
          "model_module_version": "1.5.0",
          "state": {
            "_view_name": "ProgressView",
            "style": "IPY_MODEL_5e7bdedd0cb24a7796270e6e3cefa82b",
            "_dom_classes": [],
            "description": "",
            "_model_name": "FloatProgressModel",
            "bar_style": "",
            "max": 1,
            "_view_module": "@jupyter-widgets/controls",
            "_model_module_version": "1.5.0",
            "value": 1,
            "_view_count": null,
            "_view_module_version": "1.5.0",
            "orientation": "horizontal",
            "min": 0,
            "description_tooltip": null,
            "_model_module": "@jupyter-widgets/controls",
            "layout": "IPY_MODEL_13d63696610a4d35bd77b017a2cb160f"
          }
        },
        "1a5a98f76fb84d1299f8a79346e34776": {
          "model_module": "@jupyter-widgets/controls",
          "model_name": "DescriptionStyleModel",
          "model_module_version": "1.5.0",
          "state": {
            "_view_name": "StyleView",
            "_model_name": "DescriptionStyleModel",
            "description_width": "",
            "_view_module": "@jupyter-widgets/base",
            "_model_module_version": "1.5.0",
            "_view_count": null,
            "_view_module_version": "1.2.0",
            "_model_module": "@jupyter-widgets/controls"
          }
        },
        "8e69de5a1cb343158b9b3da13d284d06": {
          "model_module": "@jupyter-widgets/base",
          "model_name": "LayoutModel",
          "model_module_version": "1.2.0",
          "state": {
            "_view_name": "LayoutView",
            "grid_template_rows": null,
            "right": null,
            "justify_content": null,
            "_view_module": "@jupyter-widgets/base",
            "overflow": null,
            "_model_module_version": "1.2.0",
            "_view_count": null,
            "flex_flow": null,
            "width": null,
            "min_width": null,
            "border": null,
            "align_items": null,
            "bottom": null,
            "_model_module": "@jupyter-widgets/base",
            "top": null,
            "grid_column": null,
            "overflow_y": null,
            "overflow_x": null,
            "grid_auto_flow": null,
            "grid_area": null,
            "grid_template_columns": null,
            "flex": null,
            "_model_name": "LayoutModel",
            "justify_items": null,
            "grid_row": null,
            "max_height": null,
            "align_content": null,
            "visibility": null,
            "align_self": null,
            "height": null,
            "min_height": null,
            "padding": null,
            "grid_auto_rows": null,
            "grid_gap": null,
            "max_width": null,
            "order": null,
            "_view_module_version": "1.2.0",
            "grid_template_areas": null,
            "object_position": null,
            "object_fit": null,
            "grid_auto_columns": null,
            "margin": null,
            "display": null,
            "left": null
          }
        },
        "5e7bdedd0cb24a7796270e6e3cefa82b": {
          "model_module": "@jupyter-widgets/controls",
          "model_name": "ProgressStyleModel",
          "model_module_version": "1.5.0",
          "state": {
            "_view_name": "StyleView",
            "_model_name": "ProgressStyleModel",
            "description_width": "",
            "_view_module": "@jupyter-widgets/base",
            "_model_module_version": "1.5.0",
            "_view_count": null,
            "_view_module_version": "1.2.0",
            "bar_color": null,
            "_model_module": "@jupyter-widgets/controls"
          }
        },
        "13d63696610a4d35bd77b017a2cb160f": {
          "model_module": "@jupyter-widgets/base",
          "model_name": "LayoutModel",
          "model_module_version": "1.2.0",
          "state": {
            "_view_name": "LayoutView",
            "grid_template_rows": null,
            "right": null,
            "justify_content": null,
            "_view_module": "@jupyter-widgets/base",
            "overflow": null,
            "_model_module_version": "1.2.0",
            "_view_count": null,
            "flex_flow": null,
            "width": null,
            "min_width": null,
            "border": null,
            "align_items": null,
            "bottom": null,
            "_model_module": "@jupyter-widgets/base",
            "top": null,
            "grid_column": null,
            "overflow_y": null,
            "overflow_x": null,
            "grid_auto_flow": null,
            "grid_area": null,
            "grid_template_columns": null,
            "flex": null,
            "_model_name": "LayoutModel",
            "justify_items": null,
            "grid_row": null,
            "max_height": null,
            "align_content": null,
            "visibility": null,
            "align_self": null,
            "height": null,
            "min_height": null,
            "padding": null,
            "grid_auto_rows": null,
            "grid_gap": null,
            "max_width": null,
            "order": null,
            "_view_module_version": "1.2.0",
            "grid_template_areas": null,
            "object_position": null,
            "object_fit": null,
            "grid_auto_columns": null,
            "margin": null,
            "display": null,
            "left": null
          }
        }
      }
    }
  },
  "cells": [
    {
      "cell_type": "markdown",
      "metadata": {
        "id": "view-in-github",
        "colab_type": "text"
      },
      "source": [
        "<a href=\"https://colab.research.google.com/github/33quitykubby/SIGNATE_Practice/blob/main/Tommy_G/SGN_Casting_20210918_WandB_1.ipynb\" target=\"_parent\"><img src=\"https://colab.research.google.com/assets/colab-badge.svg\" alt=\"Open In Colab\"/></a>"
      ]
    },
    {
      "cell_type": "markdown",
      "metadata": {
        "id": "RldyjemLqDXe"
      },
      "source": [
        "# **【練習問題】鋳造製品の欠陥検出**  \n",
        "https://signate.jp/competitions/406/data\n",
        "\n",
        "---\n",
        "\n",
        "Pytorchを使った2値分類  \n",
        "モデル：EfficientNet B0  \n",
        "Weights and Biasesの導入テスト"
      ]
    },
    {
      "cell_type": "markdown",
      "metadata": {
        "id": "CMCwGXe-WupI"
      },
      "source": [
        "参考  \n",
        "https://axa.biopapyrus.jp/deep-learning/pytorch/simple-cnn-classification.html\n",
        "\n",
        "Dataloader  \n",
        "https://pystyle.info/pytorch-how-to-create-custom-dataset-class/  \n",
        "https://qiita.com/kumonk/items/0f3cad018cc9aec67a63\n",
        "\n",
        "交差検証  \n",
        "https://qiita.com/ground0state/items/ad879a84bf946ef94da8  \n",
        "\n",
        "学習  \n",
        "https://hntk03.hatenablog.com/entry/2019/08/27/112435\n",
        "\n",
        "コンペ：prob space 宗教画テーマの分類  \n",
        "トピック EfficientNetB0使ったベースライン紹介(skywalker氏)  \n",
        "https://comp.probspace.com/competitions/religious_art/submissions\\\\"
      ]
    },
    {
      "cell_type": "markdown",
      "metadata": {
        "id": "4yjr95zhc49p"
      },
      "source": [
        "## Weights and Biases  \n",
        "---\n",
        "https://wandb.ai/home\n",
        "\n",
        "参考  \n",
        "pytorch + WandB  \n",
        "https://theaisummer.com/weights-and-biases-tutorial/\n",
        "\n",
        "colab + WandB  \n",
        "https://colab.research.google.com/github/wandb/examples/blob/master/colabs/pytorch/Simple_PyTorch_Integration.ipynb#scrollTo=sAZBTFNQq0ys"
      ]
    },
    {
      "cell_type": "markdown",
      "metadata": {
        "id": "bm3vSEEp0CHz"
      },
      "source": [
        "# マウント"
      ]
    },
    {
      "cell_type": "code",
      "metadata": {
        "id": "wZ9lKM-fidq7"
      },
      "source": [
        ""
      ],
      "execution_count": null,
      "outputs": []
    },
    {
      "cell_type": "code",
      "metadata": {
        "colab": {
          "base_uri": "https://localhost:8080/"
        },
        "id": "AiFICu0bz-8q",
        "outputId": "b9cbcc12-7c02-4071-df22-ec09923ef411"
      },
      "source": [
        "from google.colab import drive\n",
        "drive.mount('/content/drive')"
      ],
      "execution_count": 1,
      "outputs": [
        {
          "output_type": "stream",
          "name": "stdout",
          "text": [
            "Mounted at /content/drive\n"
          ]
        }
      ]
    },
    {
      "cell_type": "markdown",
      "metadata": {
        "id": "hVNoUNk0bAL2"
      },
      "source": [
        "# Setting"
      ]
    },
    {
      "cell_type": "code",
      "metadata": {
        "colab": {
          "base_uri": "https://localhost:8080/"
        },
        "id": "OO0lVjLbbIZu",
        "outputId": "436a52e7-c70b-481a-f5a1-6ad10871e3b5"
      },
      "source": [
        "!nvidia-smi"
      ],
      "execution_count": 2,
      "outputs": [
        {
          "output_type": "stream",
          "name": "stdout",
          "text": [
            "Wed Sep 22 11:44:45 2021       \n",
            "+-----------------------------------------------------------------------------+\n",
            "| NVIDIA-SMI 470.63.01    Driver Version: 460.32.03    CUDA Version: 11.2     |\n",
            "|-------------------------------+----------------------+----------------------+\n",
            "| GPU  Name        Persistence-M| Bus-Id        Disp.A | Volatile Uncorr. ECC |\n",
            "| Fan  Temp  Perf  Pwr:Usage/Cap|         Memory-Usage | GPU-Util  Compute M. |\n",
            "|                               |                      |               MIG M. |\n",
            "|===============================+======================+======================|\n",
            "|   0  Tesla K80           Off  | 00000000:00:04.0 Off |                    0 |\n",
            "| N/A   50C    P8    30W / 149W |      0MiB / 11441MiB |      0%      Default |\n",
            "|                               |                      |                  N/A |\n",
            "+-------------------------------+----------------------+----------------------+\n",
            "                                                                               \n",
            "+-----------------------------------------------------------------------------+\n",
            "| Processes:                                                                  |\n",
            "|  GPU   GI   CI        PID   Type   Process name                  GPU Memory |\n",
            "|        ID   ID                                                   Usage      |\n",
            "|=============================================================================|\n",
            "|  No running processes found                                                 |\n",
            "+-----------------------------------------------------------------------------+\n"
          ]
        }
      ]
    },
    {
      "cell_type": "code",
      "metadata": {
        "id": "ST8jePcWbKem",
        "colab": {
          "base_uri": "https://localhost:8080/"
        },
        "outputId": "a1b8ea80-a63f-45c8-9c87-e013ea5d4a2f"
      },
      "source": [
        "# !pip uninstall albumentations -y\n",
        "# !pip install albumentations==0.4.5 -q\n",
        "!pip install albumentations==0.5.0 -q"
      ],
      "execution_count": 3,
      "outputs": [
        {
          "output_type": "stream",
          "name": "stdout",
          "text": [
            "\u001b[K     |████████████████████████████████| 70 kB 3.8 MB/s \n",
            "\u001b[K     |████████████████████████████████| 37.1 MB 50 kB/s \n",
            "\u001b[K     |████████████████████████████████| 948 kB 40.9 MB/s \n",
            "\u001b[?25h"
          ]
        }
      ]
    },
    {
      "cell_type": "code",
      "metadata": {
        "id": "Om6NpJutbMih",
        "colab": {
          "base_uri": "https://localhost:8080/"
        },
        "outputId": "da81c77f-a510-45a4-aa60-352c01c0e3bd"
      },
      "source": [
        "!pip install timm -q"
      ],
      "execution_count": 4,
      "outputs": [
        {
          "output_type": "stream",
          "name": "stdout",
          "text": [
            "\u001b[?25l\r\u001b[K     |▉                               | 10 kB 27.9 MB/s eta 0:00:01\r\u001b[K     |█▊                              | 20 kB 25.9 MB/s eta 0:00:01\r\u001b[K     |██▋                             | 30 kB 12.0 MB/s eta 0:00:01\r\u001b[K     |███▌                            | 40 kB 9.4 MB/s eta 0:00:01\r\u001b[K     |████▍                           | 51 kB 5.4 MB/s eta 0:00:01\r\u001b[K     |█████▏                          | 61 kB 5.9 MB/s eta 0:00:01\r\u001b[K     |██████                          | 71 kB 5.7 MB/s eta 0:00:01\r\u001b[K     |███████                         | 81 kB 6.4 MB/s eta 0:00:01\r\u001b[K     |███████▉                        | 92 kB 4.9 MB/s eta 0:00:01\r\u001b[K     |████████▊                       | 102 kB 5.2 MB/s eta 0:00:01\r\u001b[K     |█████████▋                      | 112 kB 5.2 MB/s eta 0:00:01\r\u001b[K     |██████████▍                     | 122 kB 5.2 MB/s eta 0:00:01\r\u001b[K     |███████████▎                    | 133 kB 5.2 MB/s eta 0:00:01\r\u001b[K     |████████████▏                   | 143 kB 5.2 MB/s eta 0:00:01\r\u001b[K     |█████████████                   | 153 kB 5.2 MB/s eta 0:00:01\r\u001b[K     |██████████████                  | 163 kB 5.2 MB/s eta 0:00:01\r\u001b[K     |██████████████▊                 | 174 kB 5.2 MB/s eta 0:00:01\r\u001b[K     |███████████████▋                | 184 kB 5.2 MB/s eta 0:00:01\r\u001b[K     |████████████████▌               | 194 kB 5.2 MB/s eta 0:00:01\r\u001b[K     |█████████████████▍              | 204 kB 5.2 MB/s eta 0:00:01\r\u001b[K     |██████████████████▎             | 215 kB 5.2 MB/s eta 0:00:01\r\u001b[K     |███████████████████▏            | 225 kB 5.2 MB/s eta 0:00:01\r\u001b[K     |████████████████████            | 235 kB 5.2 MB/s eta 0:00:01\r\u001b[K     |████████████████████▉           | 245 kB 5.2 MB/s eta 0:00:01\r\u001b[K     |█████████████████████▊          | 256 kB 5.2 MB/s eta 0:00:01\r\u001b[K     |██████████████████████▋         | 266 kB 5.2 MB/s eta 0:00:01\r\u001b[K     |███████████████████████▌        | 276 kB 5.2 MB/s eta 0:00:01\r\u001b[K     |████████████████████████▍       | 286 kB 5.2 MB/s eta 0:00:01\r\u001b[K     |█████████████████████████▏      | 296 kB 5.2 MB/s eta 0:00:01\r\u001b[K     |██████████████████████████      | 307 kB 5.2 MB/s eta 0:00:01\r\u001b[K     |███████████████████████████     | 317 kB 5.2 MB/s eta 0:00:01\r\u001b[K     |███████████████████████████▉    | 327 kB 5.2 MB/s eta 0:00:01\r\u001b[K     |████████████████████████████▊   | 337 kB 5.2 MB/s eta 0:00:01\r\u001b[K     |█████████████████████████████▌  | 348 kB 5.2 MB/s eta 0:00:01\r\u001b[K     |██████████████████████████████▍ | 358 kB 5.2 MB/s eta 0:00:01\r\u001b[K     |███████████████████████████████▎| 368 kB 5.2 MB/s eta 0:00:01\r\u001b[K     |████████████████████████████████| 376 kB 5.2 MB/s \n",
            "\u001b[?25h"
          ]
        }
      ]
    },
    {
      "cell_type": "markdown",
      "metadata": {
        "id": "uD8FWoQBce0L"
      },
      "source": [
        "# Weights and Biases セットアップ\n",
        "---\n",
        "https://wandb.ai/home"
      ]
    },
    {
      "cell_type": "code",
      "metadata": {
        "colab": {
          "base_uri": "https://localhost:8080/"
        },
        "id": "_gov-kJDc2Ih",
        "outputId": "96aedc9e-c67e-49c6-caaa-c278103448bf"
      },
      "source": [
        "!pip install wandb --upgrade"
      ],
      "execution_count": 5,
      "outputs": [
        {
          "output_type": "stream",
          "name": "stdout",
          "text": [
            "Collecting wandb\n",
            "  Downloading wandb-0.12.2-py2.py3-none-any.whl (1.7 MB)\n",
            "\u001b[K     |████████████████████████████████| 1.7 MB 5.3 MB/s \n",
            "\u001b[?25hRequirement already satisfied: promise<3,>=2.0 in /usr/local/lib/python3.7/dist-packages (from wandb) (2.3)\n",
            "Collecting sentry-sdk>=1.0.0\n",
            "  Downloading sentry_sdk-1.4.0-py2.py3-none-any.whl (139 kB)\n",
            "\u001b[K     |████████████████████████████████| 139 kB 45.7 MB/s \n",
            "\u001b[?25hCollecting subprocess32>=3.5.3\n",
            "  Downloading subprocess32-3.5.4.tar.gz (97 kB)\n",
            "\u001b[K     |████████████████████████████████| 97 kB 6.4 MB/s \n",
            "\u001b[?25hCollecting shortuuid>=0.5.0\n",
            "  Downloading shortuuid-1.0.1-py3-none-any.whl (7.5 kB)\n",
            "Requirement already satisfied: requests<3,>=2.0.0 in /usr/local/lib/python3.7/dist-packages (from wandb) (2.23.0)\n",
            "Requirement already satisfied: PyYAML in /usr/local/lib/python3.7/dist-packages (from wandb) (3.13)\n",
            "Requirement already satisfied: protobuf>=3.12.0 in /usr/local/lib/python3.7/dist-packages (from wandb) (3.17.3)\n",
            "Collecting GitPython>=1.0.0\n",
            "  Downloading GitPython-3.1.24-py3-none-any.whl (180 kB)\n",
            "\u001b[K     |████████████████████████████████| 180 kB 50.3 MB/s \n",
            "\u001b[?25hCollecting docker-pycreds>=0.4.0\n",
            "  Downloading docker_pycreds-0.4.0-py2.py3-none-any.whl (9.0 kB)\n",
            "Collecting yaspin>=1.0.0\n",
            "  Downloading yaspin-2.1.0-py3-none-any.whl (18 kB)\n",
            "Requirement already satisfied: psutil>=5.0.0 in /usr/local/lib/python3.7/dist-packages (from wandb) (5.4.8)\n",
            "Collecting pathtools\n",
            "  Downloading pathtools-0.1.2.tar.gz (11 kB)\n",
            "Requirement already satisfied: Click!=8.0.0,>=7.0 in /usr/local/lib/python3.7/dist-packages (from wandb) (7.1.2)\n",
            "Requirement already satisfied: six>=1.13.0 in /usr/local/lib/python3.7/dist-packages (from wandb) (1.15.0)\n",
            "Collecting configparser>=3.8.1\n",
            "  Downloading configparser-5.0.2-py3-none-any.whl (19 kB)\n",
            "Requirement already satisfied: python-dateutil>=2.6.1 in /usr/local/lib/python3.7/dist-packages (from wandb) (2.8.2)\n",
            "Collecting gitdb<5,>=4.0.1\n",
            "  Downloading gitdb-4.0.7-py3-none-any.whl (63 kB)\n",
            "\u001b[K     |████████████████████████████████| 63 kB 1.7 MB/s \n",
            "\u001b[?25hRequirement already satisfied: typing-extensions>=3.7.4.3 in /usr/local/lib/python3.7/dist-packages (from GitPython>=1.0.0->wandb) (3.7.4.3)\n",
            "Collecting smmap<5,>=3.0.1\n",
            "  Downloading smmap-4.0.0-py2.py3-none-any.whl (24 kB)\n",
            "Requirement already satisfied: idna<3,>=2.5 in /usr/local/lib/python3.7/dist-packages (from requests<3,>=2.0.0->wandb) (2.10)\n",
            "Requirement already satisfied: urllib3!=1.25.0,!=1.25.1,<1.26,>=1.21.1 in /usr/local/lib/python3.7/dist-packages (from requests<3,>=2.0.0->wandb) (1.24.3)\n",
            "Requirement already satisfied: chardet<4,>=3.0.2 in /usr/local/lib/python3.7/dist-packages (from requests<3,>=2.0.0->wandb) (3.0.4)\n",
            "Requirement already satisfied: certifi>=2017.4.17 in /usr/local/lib/python3.7/dist-packages (from requests<3,>=2.0.0->wandb) (2021.5.30)\n",
            "Requirement already satisfied: termcolor<2.0.0,>=1.1.0 in /usr/local/lib/python3.7/dist-packages (from yaspin>=1.0.0->wandb) (1.1.0)\n",
            "Building wheels for collected packages: subprocess32, pathtools\n",
            "  Building wheel for subprocess32 (setup.py) ... \u001b[?25l\u001b[?25hdone\n",
            "  Created wheel for subprocess32: filename=subprocess32-3.5.4-py3-none-any.whl size=6502 sha256=5cafafc89d672431441ae3a767a6630d0bb4b052ddaed683130459e4408ea946\n",
            "  Stored in directory: /root/.cache/pip/wheels/50/ca/fa/8fca8d246e64f19488d07567547ddec8eb084e8c0d7a59226a\n",
            "  Building wheel for pathtools (setup.py) ... \u001b[?25l\u001b[?25hdone\n",
            "  Created wheel for pathtools: filename=pathtools-0.1.2-py3-none-any.whl size=8807 sha256=6232422235a69f9290dd57a1ddbe38e44aeb3362b7a4cbef1f932f7ad7bd32a3\n",
            "  Stored in directory: /root/.cache/pip/wheels/3e/31/09/fa59cef12cdcfecc627b3d24273699f390e71828921b2cbba2\n",
            "Successfully built subprocess32 pathtools\n",
            "Installing collected packages: smmap, gitdb, yaspin, subprocess32, shortuuid, sentry-sdk, pathtools, GitPython, docker-pycreds, configparser, wandb\n",
            "Successfully installed GitPython-3.1.24 configparser-5.0.2 docker-pycreds-0.4.0 gitdb-4.0.7 pathtools-0.1.2 sentry-sdk-1.4.0 shortuuid-1.0.1 smmap-4.0.0 subprocess32-3.5.4 wandb-0.12.2 yaspin-2.1.0\n"
          ]
        }
      ]
    },
    {
      "cell_type": "code",
      "metadata": {
        "colab": {
          "base_uri": "https://localhost:8080/",
          "height": 70
        },
        "id": "4qw5oUYleh_a",
        "outputId": "f2dd6ec5-b969-4f0b-a771-5c9bebd018dc"
      },
      "source": [
        "import wandb\n",
        "\n",
        "# 認証コードを入力する必要がある\n",
        "wandb.login()"
      ],
      "execution_count": 6,
      "outputs": [
        {
          "output_type": "display_data",
          "data": {
            "application/javascript": [
              "\n",
              "        window._wandbApiKey = new Promise((resolve, reject) => {\n",
              "            function loadScript(url) {\n",
              "            return new Promise(function(resolve, reject) {\n",
              "                let newScript = document.createElement(\"script\");\n",
              "                newScript.onerror = reject;\n",
              "                newScript.onload = resolve;\n",
              "                document.body.appendChild(newScript);\n",
              "                newScript.src = url;\n",
              "            });\n",
              "            }\n",
              "            loadScript(\"https://cdn.jsdelivr.net/npm/postmate/build/postmate.min.js\").then(() => {\n",
              "            const iframe = document.createElement('iframe')\n",
              "            iframe.style.cssText = \"width:0;height:0;border:none\"\n",
              "            document.body.appendChild(iframe)\n",
              "            const handshake = new Postmate({\n",
              "                container: iframe,\n",
              "                url: 'https://wandb.ai/authorize'\n",
              "            });\n",
              "            const timeout = setTimeout(() => reject(\"Couldn't auto authenticate\"), 5000)\n",
              "            handshake.then(function(child) {\n",
              "                child.on('authorize', data => {\n",
              "                    clearTimeout(timeout)\n",
              "                    resolve(data)\n",
              "                });\n",
              "            });\n",
              "            })\n",
              "        });\n",
              "    "
            ],
            "text/plain": [
              "<IPython.core.display.Javascript object>"
            ]
          },
          "metadata": {}
        },
        {
          "output_type": "stream",
          "name": "stderr",
          "text": [
            "\u001b[34m\u001b[1mwandb\u001b[0m: Appending key for api.wandb.ai to your netrc file: /root/.netrc\n"
          ]
        },
        {
          "output_type": "execute_result",
          "data": {
            "text/plain": [
              "True"
            ]
          },
          "metadata": {},
          "execution_count": 6
        }
      ]
    },
    {
      "cell_type": "code",
      "metadata": {
        "id": "-IgNDjhbo4Wa"
      },
      "source": [
        "# Weight and Biasesのプロジェクト名\n",
        "WAB_PROJECT_NAME = \"test_casting_2\"\n",
        "\n",
        "#\n",
        "WAB_ACCONT = \"tommyg\""
      ],
      "execution_count": 7,
      "outputs": []
    },
    {
      "cell_type": "markdown",
      "metadata": {
        "id": "JHMr41d5zjf6"
      },
      "source": [
        "# パス指定"
      ]
    },
    {
      "cell_type": "code",
      "metadata": {
        "id": "NLh2Ztdt0Vdr"
      },
      "source": [
        "BASE_PATH = '/content/drive/MyDrive/Colab Notebooks/SIGNATE_鋳造/'\n",
        "\n",
        "OUTPUT_DIR = '/content/drive/Othercomputers/myPC/GoogleDrive/OutputFile/Signate_Casting/'\n"
      ],
      "execution_count": 8,
      "outputs": []
    },
    {
      "cell_type": "markdown",
      "metadata": {
        "id": "Ro7AvASOJXn5"
      },
      "source": [
        "# **import**"
      ]
    },
    {
      "cell_type": "code",
      "metadata": {
        "id": "lvt04YLKidvv"
      },
      "source": [
        "import warnings\n",
        "warnings.simplefilter('ignore')\n",
        "import os\n",
        "import gc\n",
        "gc.enable()\n",
        "import sys\n",
        "import glob\n",
        "import time\n",
        "import random\n",
        "import numpy as np\n",
        "import pandas as pd\n",
        "from PIL import Image\n",
        "import matplotlib.pyplot as plt\n",
        "import torch\n",
        "import torchvision\n",
        "import torch.nn as nn\n",
        "import torch.nn.functional as Func\n",
        "import torch.optim as optim\n",
        "from torchvision import datasets, models, transforms\n",
        "from sklearn.model_selection import GroupKFold, StratifiedKFold\n",
        "from datetime import datetime\n",
        "from tqdm.autonotebook import tqdm as tqdm\n",
        "import albumentations as A\n",
        "from albumentations.pytorch import ToTensorV2\n",
        "from sklearn.metrics import roc_auc_score\n",
        "import timm\n",
        "\n",
        "import datetime\n",
        "\n",
        "from torch.utils.data import DataLoader, Dataset\n",
        "from torchvision import transforms\n",
        "from pathlib import Path"
      ],
      "execution_count": 9,
      "outputs": []
    },
    {
      "cell_type": "code",
      "metadata": {
        "id": "Qqk7xVQXilAv",
        "colab": {
          "base_uri": "https://localhost:8080/"
        },
        "outputId": "91706b53-9ab1-4238-eb96-7406d2cea432"
      },
      "source": [
        "  !rm /etc/localtime\n",
        "  !ln -s /usr/share/zoneinfo/Asia/Tokyo /etc/localtime\n",
        "  !date\n",
        "\n",
        "#終了時刻\n",
        "time_of_begin = datetime.datetime.now(datetime.timezone(datetime.timedelta(hours=9)))"
      ],
      "execution_count": 10,
      "outputs": [
        {
          "output_type": "stream",
          "name": "stdout",
          "text": [
            "Wed Sep 22 20:45:18 JST 2021\n"
          ]
        }
      ]
    },
    {
      "cell_type": "markdown",
      "metadata": {
        "id": "L_Aj0xV6A-yK"
      },
      "source": [
        "# 乱数シード固定"
      ]
    },
    {
      "cell_type": "code",
      "metadata": {
        "id": "-6wWYV33hP4E"
      },
      "source": [
        "def seed_everything(seed:int==42):\n",
        "    random.seed(seed)\n",
        "    os.environ['PYTHONHASHSEED'] = str(seed)\n",
        "    np.random.seed(seed)\n",
        "    \n",
        "    torch.manual_seed(seed)\n",
        "    torch.cuda.manual_seed_all(seed)\n",
        "    torch.backends.cudnn.deterministic = True\n",
        "\n",
        "seed_everything(32)"
      ],
      "execution_count": 11,
      "outputs": []
    },
    {
      "cell_type": "code",
      "metadata": {
        "id": "WB-k7BdGLYEE"
      },
      "source": [
        "\n",
        "# wandb.init(project='test', entity=WAB_ACCONT)"
      ],
      "execution_count": 12,
      "outputs": []
    },
    {
      "cell_type": "markdown",
      "metadata": {
        "id": "YYbOZFvgmimv"
      },
      "source": [
        "# データ読み込み"
      ]
    },
    {
      "cell_type": "markdown",
      "metadata": {
        "id": "NE9IYwPGMk3E"
      },
      "source": [
        "## MyDataset(未使用)"
      ]
    },
    {
      "cell_type": "code",
      "metadata": {
        "id": "-DmEuDhOhwrj"
      },
      "source": [
        "import torchvision.transforms as transforms\n",
        "\n",
        "class MyDataset(torch.utils.data.Dataset):\n",
        "\n",
        "  def __init__(self, imageSize, dir_path, transform=None):\n",
        "    self.transforms = transforms.Compose([\n",
        "                                          transforms.Resize(imageSize),\n",
        "                                          transforms.ToTensor(),\n",
        "    ])\n",
        "\n",
        "    train_data_dir = dir_path + \"train_data/\"\n",
        "    self.image_paths = [str(p) for p in Path(train_data_dir).glob(\"*.jpeg\")]\n",
        "    self.data_num = len(self.image_paths) #lenの返り値\n",
        "\n",
        "    # ラベル用のデータ読み込み\n",
        "    self.train_labels = pd.read_csv(dir_path + \"train.csv\", index_col='id')\n",
        "\n",
        "  def __len__(self):\n",
        "    return self.data_num\n",
        "\n",
        "  def __getitem__(self, idx):\n",
        "    p = self.image_paths[idx]\n",
        "    image = Image.open(p)\n",
        "\n",
        "    print(p)\n",
        "\n",
        "    if self.transform:\n",
        "      out_data = self.transform(image)\n",
        "\n",
        "    #ラベル取り出し\n",
        "    str_p = p.rsplit('/', 1)[1]    \n",
        "    label = self.train_labels['target'][str_p]\n",
        "\n",
        "    return out_data, out_label\n"
      ],
      "execution_count": 13,
      "outputs": []
    },
    {
      "cell_type": "markdown",
      "metadata": {
        "id": "QJ8O6ZIzPNHB"
      },
      "source": [
        "## TrainDataset"
      ]
    },
    {
      "cell_type": "code",
      "metadata": {
        "id": "3aOKfKA4PNHD"
      },
      "source": [
        "import torchvision.transforms as transforms\n",
        "\n",
        "class TrainDataset(torch.utils.data.Dataset):\n",
        "\n",
        "  def __init__(self, imageSize, dir_path, index, transform=None):\n",
        "    self.transform = A.Compose([\n",
        "                                          A.Resize(imageSize,imageSize),\n",
        "                                          A.VerticalFlip(p=0.5),\n",
        "                                          A.HorizontalFlip(p=0.5),\n",
        "                                          # A.Normalize(),\n",
        "                                          ToTensorV2(),\n",
        "    ])\n",
        "\n",
        "    train_data_dir = dir_path + \"train_data/\"\n",
        "    self.image_paths = [str(p) for p in Path(train_data_dir).glob(\"*.jpeg\")]\n",
        "\n",
        "    self.index = index\n",
        "    # print(index[1])\n",
        "    # print(index[249])\n",
        "\n",
        "    self.data_num = len(self.index) #lenの返り値\n",
        "\n",
        "    # ラベル用のデータ読み込み\n",
        "    self.train_labels = pd.read_csv(dir_path + \"train.csv\", index_col='id')\n",
        "\n",
        "  def __len__(self):\n",
        "    return self.data_num\n",
        "\n",
        "  def __getitem__(self, idx):\n",
        "    current_index = self.index[idx]\n",
        "    # print(idx)\n",
        "    # print(current_index)\n",
        "\n",
        "    p = self.image_paths[current_index]\n",
        "    image = Image.open(p)\n",
        "    image = np.array(image)\n",
        "\n",
        "    img = self.transform(image=image)\n",
        "    out_data = img['image']\n",
        "\n",
        "    #ラベル取り出し\n",
        "    str_p = p.rsplit('/', 1)[1]    \n",
        "    out_label = self.train_labels['target'][str_p]\n",
        "\n",
        "    return {\n",
        "            'image' : torch.tensor(out_data, dtype=torch.float),\n",
        "            'target' : torch.tensor(out_label, dtype=torch.float).long(),}\n"
      ],
      "execution_count": 14,
      "outputs": []
    },
    {
      "cell_type": "markdown",
      "metadata": {
        "id": "3iBgztf-IJ_O"
      },
      "source": [
        "## TestDataset"
      ]
    },
    {
      "cell_type": "code",
      "metadata": {
        "id": "EQ63Vtb8IJ_R"
      },
      "source": [
        "class TestDataset(torch.utils.data.Dataset):\n",
        "\n",
        "  def __init__(self, imageSize, dir_path, transform=None):\n",
        "    self.transform = A.Compose([\n",
        "                                          A.Resize(imageSize,imageSize),\n",
        "                                          # A.Normalize(),\n",
        "                                          ToTensorV2(),\n",
        "    ])\n",
        "\n",
        "\n",
        "    train_data_dir = dir_path + \"test_data/\"\n",
        "    self.image_paths = [str(p) for p in Path(train_data_dir).glob(\"*.jpeg\")]\n",
        "\n",
        "    self.data_num = len(self.image_paths) #lenの返り値\n",
        "\n",
        "  def __len__(self):\n",
        "    return self.data_num\n",
        "\n",
        "  def __getitem__(self, idx):\n",
        "    # print(self.image_paths[idx])\n",
        "    p = self.image_paths[idx]\n",
        "    image = Image.open(p)\n",
        "    image = np.array(image)\n",
        "\n",
        "    img = self.transform(image=image)\n",
        "    out_data = img['image']\n",
        "\n",
        "    return {\n",
        "            'image' : torch.tensor(out_data, dtype=torch.float),}\n"
      ],
      "execution_count": 15,
      "outputs": []
    },
    {
      "cell_type": "markdown",
      "metadata": {
        "id": "oLOJcpMDTbvX"
      },
      "source": [
        "# 全データ取得"
      ]
    },
    {
      "cell_type": "code",
      "metadata": {
        "id": "gpOxqIvzIWNV",
        "colab": {
          "base_uri": "https://localhost:8080/",
          "height": 473
        },
        "outputId": "14027460-df36-44dd-f265-4b4f47bd2b7e"
      },
      "source": [
        "train_labels = pd.read_csv(BASE_PATH + \"train.csv\", index_col='id')\n",
        "\n",
        "print(train_labels.shape)\n",
        "train_labels"
      ],
      "execution_count": 16,
      "outputs": [
        {
          "output_type": "stream",
          "name": "stdout",
          "text": [
            "(250, 1)\n"
          ]
        },
        {
          "output_type": "execute_result",
          "data": {
            "text/html": [
              "<div>\n",
              "<style scoped>\n",
              "    .dataframe tbody tr th:only-of-type {\n",
              "        vertical-align: middle;\n",
              "    }\n",
              "\n",
              "    .dataframe tbody tr th {\n",
              "        vertical-align: top;\n",
              "    }\n",
              "\n",
              "    .dataframe thead th {\n",
              "        text-align: right;\n",
              "    }\n",
              "</style>\n",
              "<table border=\"1\" class=\"dataframe\">\n",
              "  <thead>\n",
              "    <tr style=\"text-align: right;\">\n",
              "      <th></th>\n",
              "      <th>target</th>\n",
              "    </tr>\n",
              "    <tr>\n",
              "      <th>id</th>\n",
              "      <th></th>\n",
              "    </tr>\n",
              "  </thead>\n",
              "  <tbody>\n",
              "    <tr>\n",
              "      <th>cast_def_0_335.jpeg</th>\n",
              "      <td>0</td>\n",
              "    </tr>\n",
              "    <tr>\n",
              "      <th>cast_def_0_323.jpeg</th>\n",
              "      <td>0</td>\n",
              "    </tr>\n",
              "    <tr>\n",
              "      <th>cast_def_0_61.jpeg</th>\n",
              "      <td>0</td>\n",
              "    </tr>\n",
              "    <tr>\n",
              "      <th>cast_def_0_163.jpeg</th>\n",
              "      <td>0</td>\n",
              "    </tr>\n",
              "    <tr>\n",
              "      <th>cast_def_0_175.jpeg</th>\n",
              "      <td>0</td>\n",
              "    </tr>\n",
              "    <tr>\n",
              "      <th>...</th>\n",
              "      <td>...</td>\n",
              "    </tr>\n",
              "    <tr>\n",
              "      <th>cast_ok_0_346.jpeg</th>\n",
              "      <td>1</td>\n",
              "    </tr>\n",
              "    <tr>\n",
              "      <th>cast_ok_0_307.jpeg</th>\n",
              "      <td>1</td>\n",
              "    </tr>\n",
              "    <tr>\n",
              "      <th>cast_ok_0_242.jpeg</th>\n",
              "      <td>1</td>\n",
              "    </tr>\n",
              "    <tr>\n",
              "      <th>cast_ok_0_184.jpeg</th>\n",
              "      <td>1</td>\n",
              "    </tr>\n",
              "    <tr>\n",
              "      <th>cast_ok_0_350.jpeg</th>\n",
              "      <td>1</td>\n",
              "    </tr>\n",
              "  </tbody>\n",
              "</table>\n",
              "<p>250 rows × 1 columns</p>\n",
              "</div>"
            ],
            "text/plain": [
              "                     target\n",
              "id                         \n",
              "cast_def_0_335.jpeg       0\n",
              "cast_def_0_323.jpeg       0\n",
              "cast_def_0_61.jpeg        0\n",
              "cast_def_0_163.jpeg       0\n",
              "cast_def_0_175.jpeg       0\n",
              "...                     ...\n",
              "cast_ok_0_346.jpeg        1\n",
              "cast_ok_0_307.jpeg        1\n",
              "cast_ok_0_242.jpeg        1\n",
              "cast_ok_0_184.jpeg        1\n",
              "cast_ok_0_350.jpeg        1\n",
              "\n",
              "[250 rows x 1 columns]"
            ]
          },
          "metadata": {},
          "execution_count": 16
        }
      ]
    },
    {
      "cell_type": "markdown",
      "metadata": {
        "id": "Wb1_nlnunBkD"
      },
      "source": [
        "# Model"
      ]
    },
    {
      "cell_type": "code",
      "metadata": {
        "id": "Ed8DRzUCfVsc"
      },
      "source": [
        "# モデル\n",
        "MODEL_DEFINE = 'efficientnet_b0'\n",
        "\n",
        "# クラス\n",
        "CLASSES = 2\n",
        "\n",
        "# エポック\n",
        "EPOCHS = 10\n"
      ],
      "execution_count": 17,
      "outputs": []
    },
    {
      "cell_type": "code",
      "metadata": {
        "id": "PEJ-ucVInFQt"
      },
      "source": [
        "class Model(nn.Module):    \n",
        "    def __init__(self, pretrained=False):\n",
        "        super().__init__()\n",
        "        self.modelbase = timm.create_model(MODEL_DEFINE, \n",
        "                                          pretrained=pretrained,\n",
        "                                          in_chans=3)        \n",
        "        self.n_features = self.modelbase.classifier.in_features\n",
        "        self.modelbase.classifier = nn.Linear(self.n_features, CLASSES)\n",
        "\n",
        "    def forward(self, x):\n",
        "        output = self.modelbase(x)\n",
        "        output = Func.log_softmax(output, dim = 1)\n",
        "        return output\n"
      ],
      "execution_count": 18,
      "outputs": []
    },
    {
      "cell_type": "code",
      "metadata": {
        "id": "6N6GrRoXK6Mj"
      },
      "source": [
        "momdel = Model()\n",
        "\n",
        "# model"
      ],
      "execution_count": 19,
      "outputs": []
    },
    {
      "cell_type": "markdown",
      "metadata": {
        "id": "aUqEOR_xKLhF"
      },
      "source": [
        "# 学習"
      ]
    },
    {
      "cell_type": "code",
      "metadata": {
        "id": "65ixLoYDhelk"
      },
      "source": [
        "# 学習率\n",
        "LEARNING_RATE = 1e-3\n",
        "\n",
        "# 減衰率\n",
        "WEIGHT_DECAY = 1e-5\n",
        "\n",
        "# GPU/CPU\n",
        "DEVICE = torch.device('cuda' if torch.cuda.is_available() else 'cpu')\n",
        "\n",
        "# ベストケースのモデル情報の格納場所\n",
        "MODEL_DIR = BASE_PATH + \"model_data/\"\n",
        "\n",
        "# fold数\n",
        "FOLDS = 3"
      ],
      "execution_count": 20,
      "outputs": []
    },
    {
      "cell_type": "markdown",
      "metadata": {
        "id": "8SGxSHTMKp4a"
      },
      "source": [
        "## 学習関数"
      ]
    },
    {
      "cell_type": "code",
      "metadata": {
        "id": "5lNxEQbSKx8p"
      },
      "source": [
        "def func_train(model, device, optimizer, loss_function, train_loader):\n",
        "    model.train()\n",
        "    running_loss = 0\n",
        "    correct = 0\n",
        "    total = 0\n",
        "    \n",
        "    for batch_idx,  train in enumerate(train_loader):\n",
        "        images = train['image'].to(device)\n",
        "        labels = train['target'].to(device)\n",
        "        \n",
        "        optimizer.zero_grad() \n",
        "        preds = model(images)\n",
        "        \n",
        "        loss = loss_function(preds, labels)\n",
        "        loss.backward()\n",
        "        optimizer.step()\n",
        "        \n",
        "        running_loss += loss.item()\n",
        "        \n",
        "    train_loss = running_loss / len(train_loader)\n",
        "    \n",
        "    return train_loss"
      ],
      "execution_count": 21,
      "outputs": []
    },
    {
      "cell_type": "markdown",
      "metadata": {
        "id": "YGRAohZFnx5t"
      },
      "source": [
        "## valid関数"
      ]
    },
    {
      "cell_type": "code",
      "metadata": {
        "id": "eUMuwsMUnx6B"
      },
      "source": [
        "\n",
        "def func_valid(model, device, loss_function, dataloader ):    \n",
        "    model.eval()\n",
        "    running_loss = 0\n",
        "    test_preds = []\n",
        "\n",
        "    for batch_idx, valid in enumerate(dataloader):\n",
        "        images = valid['image'].to(device)\n",
        "        labels = valid['target'].to(device)\n",
        "        preds = model(images)     \n",
        "        \n",
        "        loss = loss_function(preds, labels) \n",
        "        running_loss += loss.item()\n",
        "\n",
        "    valid_loss = running_loss / len(dataloader)   \n",
        "    return valid_loss"
      ],
      "execution_count": 22,
      "outputs": []
    },
    {
      "cell_type": "markdown",
      "metadata": {
        "id": "nmDjvVExXfVu"
      },
      "source": [
        "## テスト関数"
      ]
    },
    {
      "cell_type": "code",
      "metadata": {
        "id": "MiHXyISkWVt4"
      },
      "source": [
        "\n",
        "def func_test(model, device, dataloader ):    \n",
        "    model.eval()        \n",
        "    final_loss = 0\n",
        "    test_preds = []\n",
        "\n",
        "    for step, test in enumerate(dataloader):\n",
        "        print(\"stap=\",step)    \n",
        "        images = test['image'].to(device)\n",
        "        preds = model(images)            \n",
        "        test_preds.append(preds.sigmoid().detach().cpu().numpy())                \n",
        "    \n",
        "    test_preds = np.concatenate(test_preds)    \n",
        "    return test_preds"
      ],
      "execution_count": 23,
      "outputs": []
    },
    {
      "cell_type": "markdown",
      "metadata": {
        "id": "P9bxYc-TXiEL"
      },
      "source": [
        "## 学習と推論の実行（メインの関数）"
      ]
    },
    {
      "cell_type": "code",
      "metadata": {
        "id": "OClC8zR9KiCy"
      },
      "source": [
        "def do_train_predict(config=None):\n",
        "\n",
        "    # kf = StratifiedKFold(n_splits=3)\n",
        "    from sklearn.model_selection import KFold\n",
        "\n",
        "    kf = KFold(n_splits=FOLDS, shuffle=True)\n",
        "\n",
        "\n",
        "    # テストデータの数を知りたい\n",
        "    dir = BASE_PATH + \"test_data/\"\n",
        "    test_len = sum(os.path.isfile(os.path.join(dir,name)) for name in os.listdir(dir))\n",
        "\n",
        "    # pred初期化\n",
        "    pred = np.zeros((test_len, CLASSES))\n",
        "\n",
        "    cv = 0\n",
        "    for _fold, (train_index, valid_index) in enumerate(kf.split(train_labels)):\n",
        "\n",
        "      wandb.init(project=WAB_PROJECT_NAME, entity=WAB_ACCONT, config=config, group='casting_A', job_type=\"eval\")\n",
        "      config = wandb.config    \n",
        "\n",
        "      # batch_size = 16\n",
        "      batch_size = config.batch_size\n",
        "\n",
        "      # print(train_index)\n",
        "      # print(valid_index)  \n",
        "\n",
        "      # loss最小値の初期化(とりあえず100)\n",
        "      min_loss = 100\n",
        "\n",
        "\n",
        "      train_dataset = TrainDataset(224, dir_path=BASE_PATH, index = train_index)\n",
        "      train_dataloader = DataLoader(train_dataset, batch_size, shuffle=True)\n",
        "\n",
        "      valid_dataset = TrainDataset(224, dir_path=BASE_PATH, index = valid_index)\n",
        "      valid_dataloader = DataLoader(valid_dataset, batch_size, shuffle=False)\n",
        "\n",
        "      model = Model(pretrained=True)\n",
        "      model.to(DEVICE)\n",
        "      optimizer = torch.optim.Adam(model.parameters(),\n",
        "                                    # lr=LEARNING_RATE,\n",
        "                                    lr = config.learning_rate,\n",
        "                                    weight_decay=WEIGHT_DECAY)\n",
        "      \n",
        "      loss_function = nn.CrossEntropyLoss()\n",
        "\n",
        "      start_time = time.time()\n",
        "      end_time = start_time\n",
        "\n",
        "      # 学習\n",
        "      # EPOCHS = 2 # for test\n",
        "      for epoch in range(EPOCHS):\n",
        "        start_time = time.time()\n",
        "\n",
        "        train_loss = func_train(model, DEVICE, optimizer, loss_function, train_dataloader)\n",
        "        valid_loss = func_valid(model, DEVICE, loss_function, valid_dataloader)\n",
        "\n",
        "        if valid_loss < min_loss:\n",
        "            min_loss = valid_loss            \n",
        "            MODEL_PATH = f\"{MODEL_DIR}best_{MODEL_DEFINE}_fold{_fold+1}.pth\"\n",
        "            torch.save(model.state_dict(), MODEL_PATH)\n",
        "        # else:\n",
        "        #     continue\n",
        "\n",
        "        end_time = time.time()\n",
        "        print(f\"FOLD: {_fold+1} | EPOCH:{epoch+1:02d} | train_loss:{train_loss:.6f} | valid_loss:{valid_loss:.6f} | time:{end_time-start_time:.1f}s \")\n",
        "        wandb.log({'epoch': epoch + 1, 'loss': valid_loss})\n",
        "\n",
        "      print(\"final valid_loss : \",valid_loss )\n",
        "\n",
        "      model.load_state_dict(torch.load(MODEL_PATH))\n",
        "      test_dataset = TestDataset(224, dir_path=BASE_PATH)\n",
        "      test_dataloader = DataLoader(test_dataset, batch_size, shuffle=False)\n",
        "\n",
        "      pred_list = func_test(model, DEVICE, test_dataloader)\n",
        "\n",
        "      # print(pred_list)\n",
        "\n",
        "      pred += pred_list/FOLDS\n",
        "\n",
        "      wandb.finish()\n"
      ],
      "execution_count": 24,
      "outputs": []
    },
    {
      "cell_type": "markdown",
      "metadata": {
        "id": "EBI-z3Q8izz8"
      },
      "source": [
        "## Weights and Biases処理"
      ]
    },
    {
      "cell_type": "code",
      "metadata": {
        "id": "U0NE0ra6SxSk"
      },
      "source": [
        "import math\n",
        "\n",
        "sweep_config = {\n",
        "                'method': 'random',\n",
        "                # 'metric': {'goal': 'minimize', 'name': 'loss'},\n",
        "                'parameters': {\n",
        "                    'batch_size': {\n",
        "                        'distribution': 'q_log_uniform',\n",
        "                        'max': math.log(32),\n",
        "                        'min': math.log(16),\n",
        "                        'q': 1\n",
        "                    },\n",
        "                #     'epochs': {'value': 5},\n",
        "                #     'fc_layer_size': {'values': [128, 256, 512]},\n",
        "                    'learning_rate': {'distribution': 'uniform',\n",
        "                                      'max': 1e-3,\n",
        "                                      'min': 1e-4},\n",
        "                    # 'optimizer': {'values': ['adam', 'sgd']\n",
        "                }\n",
        " }"
      ],
      "execution_count": 25,
      "outputs": []
    },
    {
      "cell_type": "code",
      "metadata": {
        "colab": {
          "base_uri": "https://localhost:8080/"
        },
        "id": "QT-A074SSrHG",
        "outputId": "a49304fb-341f-411d-b58b-0da9993a2001"
      },
      "source": [
        "sweep_id = wandb.sweep(sweep_config, project=WAB_PROJECT_NAME)"
      ],
      "execution_count": 26,
      "outputs": [
        {
          "output_type": "stream",
          "name": "stdout",
          "text": [
            "Create sweep with ID: 6rkvcus8\n",
            "Sweep URL: https://wandb.ai/tommyg/test_casting_2/sweeps/6rkvcus8\n"
          ]
        }
      ]
    },
    {
      "cell_type": "code",
      "metadata": {
        "colab": {
          "base_uri": "https://localhost:8080/",
          "height": 1000,
          "referenced_widgets": [
            "bda49c39ebc94ad29ec440bbb4e3b555",
            "037c912bdba54f39b2ccdada95dd0b57",
            "d22aa343b52b4cc8bbbb9be5c9d07c9e",
            "e128a31e5c2a47c6bbc77415a2b07786",
            "3c97172ffbf64c13a35020ecc1069cc2",
            "da379acbc2ab4e7dbe743a8dd566a990",
            "7a0bec3ec2b642aca02bb8d7ed016962",
            "0e1abdec1618409bb68861214a65ff81",
            "deef750dad974a2fb1879acd694ffc1c",
            "64a98e0f97ed49a4919793e3f9ad56ac",
            "760c0b1c619741b1845d2366dbbe34c9",
            "26208875fed448dd9f09202f64efdb8a",
            "4c054749dcb3452d9ef40402e67e7c29",
            "e1ac94084c8540cda931cb7a92e7aac3",
            "82d891d0911547e88fd32dd70d635300",
            "9952f83480e64c858489b47abadc1ce5",
            "14296ca73ebc45579f4b4f614c98ba64",
            "ebb368cefd794b1085063af3da233a15",
            "7f82a029ee3e487da7201d09a3476b8d",
            "0bda131a403f422787ef5f99e84b7626",
            "3258b7ca1d5d408b90fe2b966fad3920",
            "d3eeff9622bd47d3909ea6fe2be293f3",
            "04ec75e5d6e74c0e8596e261f39b7a6e",
            "99de6b8bbb344272a2fa51b80938a584",
            "e514cd5c9b2c44269fd82dfb55299287",
            "5ee93328265948c4bebd0e529469d7f6",
            "ce6751da3328462aaddaf0100630eb47",
            "d59b2942b9114e0daf2cc77fe695a052",
            "1bbb54cbe26b4586bca17b4f453f790d",
            "2ffcb816742a4180b870a33452a5af55",
            "5256647e9a9f42ffbce4a328431317f9",
            "c532eb24b0cc4e188e0376a9ccb4f308",
            "9cf6099d93cc4810922a2f8c7cdb5a6d",
            "8da2f2e6de924f5e843931972b1e455f",
            "867064c60ad548ce9c455d93e4030c60",
            "dc13d4f28b05434cad78401cce1ec7a6",
            "6b85de1814a34185bd4525f69f95b3e4",
            "2487233fc46c47c6ade976cbaf3d9365",
            "59ce085da1b84c459d19a35afea6340f",
            "80ed4e4230844b7898af3089eae96373",
            "4f2e3a064f8f4e1eac59abcff936cd12",
            "8a250db9c3114722a4a720244c18090b",
            "d731a5f74fb845dd9e6169e70af044ab",
            "c9093a71c02943d0b36a08d846dfb3c3",
            "49a5d66858b04db88e4c384a5e3c4495",
            "b4b8f27b7243409db1bdc14e79b78527",
            "4ffac459023a4d8a89486e5df985ea32",
            "03619cc1233d481688b68317b43457ea",
            "d4a4fb1ad9454d738c152af921e40e3f",
            "4d7513cbbe8d44a9825b38c599db009f",
            "c1471d5dd43445d2bf984d7f470b9412",
            "bd40131d9a7b494395d71f18ad1d1dde",
            "1425d4756ca84902a49f3f9b875b45dd",
            "a68ed4bf6de84e1faa32d303111f4adb",
            "7037715d0a614173a1471e5d3a3b78eb",
            "2caebfa17b2a4968bd55879bf41d55b3",
            "a3c0300e8fb34742b5e2a1857621f431",
            "ea15fccd4d1c483f9ee0e390307c9926",
            "514b7fd8df094fe287007f5e328655f1",
            "7e9fd564be6b423ba09527643b7c4d77",
            "c1f5999816cf4d22ba2cdafc7df4b30b",
            "e92ce36164cc426ab44eac99a825cc53",
            "ccb7a25802ea4bad8494418f207c6add",
            "542880e3297e4eabb8c253f2d0263607",
            "7663f960d7dc477c872a9c619bf617d6",
            "282e67eceeaf43a99e70b3beaf07ce76",
            "9814c6468f084b6eacf680ff9a2438b0",
            "ed2b13a17ec54b60bf69e5261b104e1b",
            "50269ce503654cef8344eb4569540b64",
            "999089ca69eb4eb2a5e1a1f8be105856",
            "ac4886b941674f728015c5e2519743d6",
            "68f6171ea5164835b4c9f797a88b19d3",
            "c235b510651249cdace6cd26a6930142",
            "3948b7be73d143b9a825aa6c9d1b4db2",
            "b6150b15886044d6abd0f4fe85d1ab09",
            "bf12672c50804af5af36a4bfbce54fe9",
            "54cdf634fdf442cab9b1ad217124ca4c",
            "99e152f6762c4f22b1d45c51e08cfc8c",
            "563a9f53cc97434ab59914e5d2b0eee7",
            "a4a908966af34de9bfba71d81c9c25ef",
            "fb5dd48185294d9fa9b4f623706533d7",
            "f6180ca2d312409ebb569a32593b86a6",
            "01e774041658423da674a0e5f75bb272",
            "5e04d989126e44a183600899ec28acf6",
            "838e73a4146e4238a48036744c271f51",
            "951b41f3e7a54769a2d52821d89fbf2f",
            "806c5894db664601af65a73f2a1f6f73",
            "f917af3369004671a5d77e8d5c204a06",
            "0b9f65dfa8c1443cb261cda01073d179",
            "27432d85f61c4782bf3c6ca0a263348d",
            "d688673b309443d59b0ffcfbd7a2d891",
            "83e75db2e1cc4e73b9aa3e96a5a71f02",
            "1bef4a061c214ee2b65082e8052116fd",
            "7ded9db33c8d449a842063b0ef0da045",
            "187afa796baa462e8acc3906f45ad15e",
            "da159c56c4ea4d7997877bc79488d2ed",
            "7a48c95d6d6645ca807d5d1ed197205a",
            "77d754fe68c8412ba0662f8b025d8fd4",
            "ad62f91c02064e91aeee75907c24d043",
            "c74d9f1e65fc4b5f99075b94030cf6b3",
            "109b78f5c31243bcb194461dc1799f36",
            "e6918cdf9cca48f68a9f7bc285490362",
            "7df435c68ee042c1998f4f099bccc761",
            "8f67180a44794a6c910f1fcacc82a238",
            "201c7edc6aea4621a67201ede819abfc",
            "cf94aeb0e3934f44ad16d6e6ee59e68f",
            "b202f145e7254730bda31c2a4f5b358d",
            "81723b16f68e4b7cb91d950658671ee7",
            "936ccd3627004cb79519adbc44463db8",
            "1b1e52b7562e4be2bfe8b51cbbd9c1a7",
            "310f85ecdd814fcfb586b44fef2f19e6",
            "900726f550dd44d1a89ab97e48bb1f65",
            "b2cfbc8dfe9d4f3f9164d2b0c6385a84",
            "bc3d787d69474b79b959e3cca15aac95",
            "e3ea7a2050b14982933f70004ad2f1a2",
            "08b827544ddd40c697807288338422e0",
            "1a5a98f76fb84d1299f8a79346e34776",
            "8e69de5a1cb343158b9b3da13d284d06",
            "5e7bdedd0cb24a7796270e6e3cefa82b",
            "13d63696610a4d35bd77b017a2cb160f"
          ]
        },
        "id": "2hdt5bX4Q8-V",
        "outputId": "98d311e2-a593-4f40-b4e1-7d4af285450c"
      },
      "source": [
        "wandb.agent(sweep_id, function=do_train_predict, count=5)"
      ],
      "execution_count": 27,
      "outputs": [
        {
          "output_type": "stream",
          "name": "stderr",
          "text": [
            "\u001b[34m\u001b[1mwandb\u001b[0m: Agent Starting Run: 2497wpzh with config:\n",
            "\u001b[34m\u001b[1mwandb\u001b[0m: \tbatch_size: 19\n",
            "\u001b[34m\u001b[1mwandb\u001b[0m: \tlearning_rate: 0.0005552131735236642\n",
            "\u001b[34m\u001b[1mwandb\u001b[0m: Currently logged in as: \u001b[33mtommyg\u001b[0m (use `wandb login --relogin` to force relogin)\n",
            "\u001b[34m\u001b[1mwandb\u001b[0m: \u001b[33mWARNING\u001b[0m Ignored wandb.init() arg project when running a sweep\n",
            "\u001b[34m\u001b[1mwandb\u001b[0m: \u001b[33mWARNING\u001b[0m Ignored wandb.init() arg entity when running a sweep\n"
          ]
        },
        {
          "output_type": "display_data",
          "data": {
            "text/html": [
              "\n",
              "                Tracking run with wandb version 0.12.2<br/>\n",
              "                Syncing run <strong style=\"color:#cdcd00\">pretty-sweep-1</strong> to <a href=\"https://wandb.ai\" target=\"_blank\">Weights & Biases</a> <a href=\"https://docs.wandb.com/integrations/jupyter.html\" target=\"_blank\">(Documentation)</a>.<br/>\n",
              "                Project page: <a href=\"https://wandb.ai/tommyg/test_casting_2\" target=\"_blank\">https://wandb.ai/tommyg/test_casting_2</a><br/>\n",
              "                Sweep page: <a href=\"https://wandb.ai/tommyg/test_casting_2/sweeps/6rkvcus8\" target=\"_blank\">https://wandb.ai/tommyg/test_casting_2/sweeps/6rkvcus8</a><br/>\n",
              "Run page: <a href=\"https://wandb.ai/tommyg/test_casting_2/runs/2497wpzh\" target=\"_blank\">https://wandb.ai/tommyg/test_casting_2/runs/2497wpzh</a><br/>\n",
              "                Run data is saved locally in <code>/content/wandb/run-20210922_114521-2497wpzh</code><br/><br/>\n",
              "            "
            ],
            "text/plain": [
              "<IPython.core.display.HTML object>"
            ]
          },
          "metadata": {}
        },
        {
          "output_type": "stream",
          "name": "stderr",
          "text": [
            "Downloading: \"https://github.com/rwightman/pytorch-image-models/releases/download/v0.1-weights/efficientnet_b0_ra-3dd342df.pth\" to /root/.cache/torch/hub/checkpoints/efficientnet_b0_ra-3dd342df.pth\n"
          ]
        },
        {
          "output_type": "stream",
          "name": "stdout",
          "text": [
            "FOLD: 1 | EPOCH:01 | train_loss:0.424881 | valid_loss:4.964986 | time:64.2s \n",
            "FOLD: 1 | EPOCH:02 | train_loss:0.132970 | valid_loss:0.260991 | time:4.2s \n",
            "FOLD: 1 | EPOCH:03 | train_loss:0.162685 | valid_loss:0.053393 | time:4.2s \n",
            "FOLD: 1 | EPOCH:04 | train_loss:0.052349 | valid_loss:0.164951 | time:4.0s \n",
            "FOLD: 1 | EPOCH:05 | train_loss:0.037040 | valid_loss:0.034552 | time:4.2s \n",
            "FOLD: 1 | EPOCH:06 | train_loss:0.021182 | valid_loss:0.009307 | time:4.2s \n",
            "FOLD: 1 | EPOCH:07 | train_loss:0.012492 | valid_loss:0.004485 | time:4.2s \n",
            "FOLD: 1 | EPOCH:08 | train_loss:0.028461 | valid_loss:0.001749 | time:4.1s \n",
            "FOLD: 1 | EPOCH:09 | train_loss:0.030640 | valid_loss:0.017378 | time:4.0s \n",
            "FOLD: 1 | EPOCH:10 | train_loss:0.012001 | valid_loss:0.295384 | time:4.0s \n",
            "final valid_loss :  0.29538409506585594\n",
            "stap= 0\n",
            "stap= 1\n",
            "stap= 2\n",
            "stap= 3\n",
            "stap= 4\n",
            "stap= 5\n"
          ]
        },
        {
          "output_type": "display_data",
          "data": {
            "text/html": [
              "<br/>Waiting for W&B process to finish, PID 349<br/>Program ended successfully."
            ],
            "text/plain": [
              "<IPython.core.display.HTML object>"
            ]
          },
          "metadata": {}
        },
        {
          "output_type": "display_data",
          "data": {
            "application/vnd.jupyter.widget-view+json": {
              "model_id": "bda49c39ebc94ad29ec440bbb4e3b555",
              "version_minor": 0,
              "version_major": 2
            },
            "text/plain": [
              "VBox(children=(Label(value=' 0.00MB of 0.00MB uploaded (0.00MB deduped)\\r'), FloatProgress(value=1.0, max=1.0)…"
            ]
          },
          "metadata": {}
        },
        {
          "output_type": "display_data",
          "data": {
            "text/html": [
              "Find user logs for this run at: <code>/content/wandb/run-20210922_114521-2497wpzh/logs/debug.log</code>"
            ],
            "text/plain": [
              "<IPython.core.display.HTML object>"
            ]
          },
          "metadata": {}
        },
        {
          "output_type": "display_data",
          "data": {
            "text/html": [
              "Find internal logs for this run at: <code>/content/wandb/run-20210922_114521-2497wpzh/logs/debug-internal.log</code>"
            ],
            "text/plain": [
              "<IPython.core.display.HTML object>"
            ]
          },
          "metadata": {}
        },
        {
          "output_type": "display_data",
          "data": {
            "text/html": [
              "<h3>Run summary:</h3><br/><style>\n",
              "    table.wandb td:nth-child(1) { padding: 0 10px; text-align: right }\n",
              "    </style><table class=\"wandb\">\n",
              "<tr><td>epoch</td><td>10</td></tr><tr><td>loss</td><td>0.29538</td></tr></table>"
            ],
            "text/plain": [
              "<IPython.core.display.HTML object>"
            ]
          },
          "metadata": {}
        },
        {
          "output_type": "display_data",
          "data": {
            "text/html": [
              "<h3>Run history:</h3><br/><style>\n",
              "    table.wandb td:nth-child(1) { padding: 0 10px; text-align: right }\n",
              "    </style><table class=\"wandb\">\n",
              "<tr><td>epoch</td><td>▁▂▃▃▄▅▆▆▇█</td></tr><tr><td>loss</td><td>█▁▁▁▁▁▁▁▁▁</td></tr></table><br/>"
            ],
            "text/plain": [
              "<IPython.core.display.HTML object>"
            ]
          },
          "metadata": {}
        },
        {
          "output_type": "display_data",
          "data": {
            "text/html": [
              "Synced 5 W&B file(s), 0 media file(s), 0 artifact file(s) and 0 other file(s)"
            ],
            "text/plain": [
              "<IPython.core.display.HTML object>"
            ]
          },
          "metadata": {}
        },
        {
          "output_type": "display_data",
          "data": {
            "text/html": [
              "\n",
              "                    <br/>Synced <strong style=\"color:#cdcd00\">pretty-sweep-1</strong>: <a href=\"https://wandb.ai/tommyg/test_casting_2/runs/2497wpzh\" target=\"_blank\">https://wandb.ai/tommyg/test_casting_2/runs/2497wpzh</a><br/>\n",
              "                "
            ],
            "text/plain": [
              "<IPython.core.display.HTML object>"
            ]
          },
          "metadata": {}
        },
        {
          "output_type": "stream",
          "name": "stderr",
          "text": [
            "\u001b[34m\u001b[1mwandb\u001b[0m: \u001b[33mWARNING\u001b[0m Ignored wandb.init() arg project when running a sweep\n",
            "\u001b[34m\u001b[1mwandb\u001b[0m: \u001b[33mWARNING\u001b[0m Ignored wandb.init() arg entity when running a sweep\n"
          ]
        },
        {
          "output_type": "display_data",
          "data": {
            "text/html": [
              "\n",
              "                Tracking run with wandb version 0.12.2<br/>\n",
              "                Syncing run <strong style=\"color:#cdcd00\">pretty-sweep-1</strong> to <a href=\"https://wandb.ai\" target=\"_blank\">Weights & Biases</a> <a href=\"https://docs.wandb.com/integrations/jupyter.html\" target=\"_blank\">(Documentation)</a>.<br/>\n",
              "                Project page: <a href=\"https://wandb.ai/tommyg/test_casting_2\" target=\"_blank\">https://wandb.ai/tommyg/test_casting_2</a><br/>\n",
              "                Sweep page: <a href=\"https://wandb.ai/tommyg/test_casting_2/sweeps/6rkvcus8\" target=\"_blank\">https://wandb.ai/tommyg/test_casting_2/sweeps/6rkvcus8</a><br/>\n",
              "Run page: <a href=\"https://wandb.ai/tommyg/test_casting_2/runs/2497wpzh\" target=\"_blank\">https://wandb.ai/tommyg/test_casting_2/runs/2497wpzh</a><br/>\n",
              "                Run data is saved locally in <code>/content/wandb/run-20210922_114743-2497wpzh</code><br/><br/>\n",
              "            "
            ],
            "text/plain": [
              "<IPython.core.display.HTML object>"
            ]
          },
          "metadata": {}
        },
        {
          "output_type": "stream",
          "name": "stdout",
          "text": [
            "FOLD: 2 | EPOCH:01 | train_loss:0.354245 | valid_loss:2.969447 | time:5.0s \n",
            "FOLD: 2 | EPOCH:02 | train_loss:0.028351 | valid_loss:0.450858 | time:4.2s \n",
            "FOLD: 2 | EPOCH:03 | train_loss:0.026343 | valid_loss:0.328142 | time:4.1s \n",
            "FOLD: 2 | EPOCH:04 | train_loss:0.070451 | valid_loss:0.046692 | time:4.2s \n",
            "FOLD: 2 | EPOCH:05 | train_loss:0.054835 | valid_loss:0.044377 | time:4.1s \n",
            "FOLD: 2 | EPOCH:06 | train_loss:0.082777 | valid_loss:0.691921 | time:4.0s \n",
            "FOLD: 2 | EPOCH:07 | train_loss:0.083120 | valid_loss:0.077327 | time:3.9s \n",
            "FOLD: 2 | EPOCH:08 | train_loss:0.030739 | valid_loss:0.152676 | time:4.0s \n",
            "FOLD: 2 | EPOCH:09 | train_loss:0.008152 | valid_loss:0.091981 | time:3.9s \n",
            "FOLD: 2 | EPOCH:10 | train_loss:0.029703 | valid_loss:0.060533 | time:4.0s \n",
            "final valid_loss :  0.060532905015861616\n",
            "stap= 0\n",
            "stap= 1\n",
            "stap= 2\n",
            "stap= 3\n",
            "stap= 4\n",
            "stap= 5\n"
          ]
        },
        {
          "output_type": "display_data",
          "data": {
            "text/html": [
              "<br/>Waiting for W&B process to finish, PID 419<br/>Program ended successfully."
            ],
            "text/plain": [
              "<IPython.core.display.HTML object>"
            ]
          },
          "metadata": {}
        },
        {
          "output_type": "display_data",
          "data": {
            "application/vnd.jupyter.widget-view+json": {
              "model_id": "deef750dad974a2fb1879acd694ffc1c",
              "version_minor": 0,
              "version_major": 2
            },
            "text/plain": [
              "VBox(children=(Label(value=' 0.00MB of 0.00MB uploaded (0.00MB deduped)\\r'), FloatProgress(value=1.0, max=1.0)…"
            ]
          },
          "metadata": {}
        },
        {
          "output_type": "display_data",
          "data": {
            "text/html": [
              "Find user logs for this run at: <code>/content/wandb/run-20210922_114743-2497wpzh/logs/debug.log</code>"
            ],
            "text/plain": [
              "<IPython.core.display.HTML object>"
            ]
          },
          "metadata": {}
        },
        {
          "output_type": "display_data",
          "data": {
            "text/html": [
              "Find internal logs for this run at: <code>/content/wandb/run-20210922_114743-2497wpzh/logs/debug-internal.log</code>"
            ],
            "text/plain": [
              "<IPython.core.display.HTML object>"
            ]
          },
          "metadata": {}
        },
        {
          "output_type": "display_data",
          "data": {
            "text/html": [
              "<h3>Run summary:</h3><br/><style>\n",
              "    table.wandb td:nth-child(1) { padding: 0 10px; text-align: right }\n",
              "    </style><table class=\"wandb\">\n",
              "<tr><td>epoch</td><td>10</td></tr><tr><td>loss</td><td>0.06053</td></tr></table>"
            ],
            "text/plain": [
              "<IPython.core.display.HTML object>"
            ]
          },
          "metadata": {}
        },
        {
          "output_type": "display_data",
          "data": {
            "text/html": [
              "<h3>Run history:</h3><br/><style>\n",
              "    table.wandb td:nth-child(1) { padding: 0 10px; text-align: right }\n",
              "    </style><table class=\"wandb\">\n",
              "<tr><td>epoch</td><td>▁▂▃▃▄▅▆▆▇█</td></tr><tr><td>loss</td><td>█▂▂▁▁▃▁▁▁▁</td></tr></table><br/>"
            ],
            "text/plain": [
              "<IPython.core.display.HTML object>"
            ]
          },
          "metadata": {}
        },
        {
          "output_type": "display_data",
          "data": {
            "text/html": [
              "Synced 5 W&B file(s), 0 media file(s), 0 artifact file(s) and 0 other file(s)"
            ],
            "text/plain": [
              "<IPython.core.display.HTML object>"
            ]
          },
          "metadata": {}
        },
        {
          "output_type": "display_data",
          "data": {
            "text/html": [
              "\n",
              "                    <br/>Synced <strong style=\"color:#cdcd00\">pretty-sweep-1</strong>: <a href=\"https://wandb.ai/tommyg/test_casting_2/runs/2497wpzh\" target=\"_blank\">https://wandb.ai/tommyg/test_casting_2/runs/2497wpzh</a><br/>\n",
              "                "
            ],
            "text/plain": [
              "<IPython.core.display.HTML object>"
            ]
          },
          "metadata": {}
        },
        {
          "output_type": "stream",
          "name": "stderr",
          "text": [
            "\u001b[34m\u001b[1mwandb\u001b[0m: \u001b[33mWARNING\u001b[0m Ignored wandb.init() arg project when running a sweep\n",
            "\u001b[34m\u001b[1mwandb\u001b[0m: \u001b[33mWARNING\u001b[0m Ignored wandb.init() arg entity when running a sweep\n"
          ]
        },
        {
          "output_type": "display_data",
          "data": {
            "text/html": [
              "\n",
              "                Tracking run with wandb version 0.12.2<br/>\n",
              "                Syncing run <strong style=\"color:#cdcd00\">pretty-sweep-1</strong> to <a href=\"https://wandb.ai\" target=\"_blank\">Weights & Biases</a> <a href=\"https://docs.wandb.com/integrations/jupyter.html\" target=\"_blank\">(Documentation)</a>.<br/>\n",
              "                Project page: <a href=\"https://wandb.ai/tommyg/test_casting_2\" target=\"_blank\">https://wandb.ai/tommyg/test_casting_2</a><br/>\n",
              "                Sweep page: <a href=\"https://wandb.ai/tommyg/test_casting_2/sweeps/6rkvcus8\" target=\"_blank\">https://wandb.ai/tommyg/test_casting_2/sweeps/6rkvcus8</a><br/>\n",
              "Run page: <a href=\"https://wandb.ai/tommyg/test_casting_2/runs/2497wpzh\" target=\"_blank\">https://wandb.ai/tommyg/test_casting_2/runs/2497wpzh</a><br/>\n",
              "                Run data is saved locally in <code>/content/wandb/run-20210922_114833-2497wpzh</code><br/><br/>\n",
              "            "
            ],
            "text/plain": [
              "<IPython.core.display.HTML object>"
            ]
          },
          "metadata": {}
        },
        {
          "output_type": "stream",
          "name": "stdout",
          "text": [
            "FOLD: 3 | EPOCH:01 | train_loss:0.430463 | valid_loss:5.811662 | time:4.9s \n",
            "FOLD: 3 | EPOCH:02 | train_loss:0.099062 | valid_loss:0.742397 | time:4.1s \n",
            "FOLD: 3 | EPOCH:03 | train_loss:0.031653 | valid_loss:0.058175 | time:4.1s \n",
            "FOLD: 3 | EPOCH:04 | train_loss:0.036935 | valid_loss:0.060866 | time:4.0s \n",
            "FOLD: 3 | EPOCH:05 | train_loss:0.057913 | valid_loss:0.040400 | time:4.2s \n",
            "FOLD: 3 | EPOCH:06 | train_loss:0.014206 | valid_loss:0.151570 | time:4.0s \n",
            "FOLD: 3 | EPOCH:07 | train_loss:0.072199 | valid_loss:0.442409 | time:3.9s \n",
            "FOLD: 3 | EPOCH:08 | train_loss:0.070909 | valid_loss:0.127684 | time:4.1s \n",
            "FOLD: 3 | EPOCH:09 | train_loss:0.081697 | valid_loss:0.274977 | time:3.9s \n",
            "FOLD: 3 | EPOCH:10 | train_loss:0.029719 | valid_loss:0.171927 | time:3.9s \n",
            "final valid_loss :  0.1719272697228007\n",
            "stap= 0\n",
            "stap= 1\n",
            "stap= 2\n",
            "stap= 3\n",
            "stap= 4\n",
            "stap= 5\n"
          ]
        },
        {
          "output_type": "display_data",
          "data": {
            "text/html": [
              "<br/>Waiting for W&B process to finish, PID 464<br/>Program ended successfully."
            ],
            "text/plain": [
              "<IPython.core.display.HTML object>"
            ]
          },
          "metadata": {}
        },
        {
          "output_type": "display_data",
          "data": {
            "application/vnd.jupyter.widget-view+json": {
              "model_id": "14296ca73ebc45579f4b4f614c98ba64",
              "version_minor": 0,
              "version_major": 2
            },
            "text/plain": [
              "VBox(children=(Label(value=' 0.00MB of 0.00MB uploaded (0.00MB deduped)\\r'), FloatProgress(value=1.0, max=1.0)…"
            ]
          },
          "metadata": {}
        },
        {
          "output_type": "display_data",
          "data": {
            "text/html": [
              "Find user logs for this run at: <code>/content/wandb/run-20210922_114833-2497wpzh/logs/debug.log</code>"
            ],
            "text/plain": [
              "<IPython.core.display.HTML object>"
            ]
          },
          "metadata": {}
        },
        {
          "output_type": "display_data",
          "data": {
            "text/html": [
              "Find internal logs for this run at: <code>/content/wandb/run-20210922_114833-2497wpzh/logs/debug-internal.log</code>"
            ],
            "text/plain": [
              "<IPython.core.display.HTML object>"
            ]
          },
          "metadata": {}
        },
        {
          "output_type": "display_data",
          "data": {
            "text/html": [
              "<h3>Run summary:</h3><br/><style>\n",
              "    table.wandb td:nth-child(1) { padding: 0 10px; text-align: right }\n",
              "    </style><table class=\"wandb\">\n",
              "<tr><td>epoch</td><td>10</td></tr><tr><td>loss</td><td>0.17193</td></tr></table>"
            ],
            "text/plain": [
              "<IPython.core.display.HTML object>"
            ]
          },
          "metadata": {}
        },
        {
          "output_type": "display_data",
          "data": {
            "text/html": [
              "<h3>Run history:</h3><br/><style>\n",
              "    table.wandb td:nth-child(1) { padding: 0 10px; text-align: right }\n",
              "    </style><table class=\"wandb\">\n",
              "<tr><td>epoch</td><td>▁▂▃▃▄▅▆▆▇█</td></tr><tr><td>loss</td><td>█▂▁▁▁▁▁▁▁▁</td></tr></table><br/>"
            ],
            "text/plain": [
              "<IPython.core.display.HTML object>"
            ]
          },
          "metadata": {}
        },
        {
          "output_type": "display_data",
          "data": {
            "text/html": [
              "Synced 5 W&B file(s), 0 media file(s), 0 artifact file(s) and 0 other file(s)"
            ],
            "text/plain": [
              "<IPython.core.display.HTML object>"
            ]
          },
          "metadata": {}
        },
        {
          "output_type": "display_data",
          "data": {
            "text/html": [
              "\n",
              "                    <br/>Synced <strong style=\"color:#cdcd00\">pretty-sweep-1</strong>: <a href=\"https://wandb.ai/tommyg/test_casting_2/runs/2497wpzh\" target=\"_blank\">https://wandb.ai/tommyg/test_casting_2/runs/2497wpzh</a><br/>\n",
              "                "
            ],
            "text/plain": [
              "<IPython.core.display.HTML object>"
            ]
          },
          "metadata": {}
        },
        {
          "output_type": "stream",
          "name": "stderr",
          "text": [
            "\u001b[34m\u001b[1mwandb\u001b[0m: Agent Starting Run: 3buvw1go with config:\n",
            "\u001b[34m\u001b[1mwandb\u001b[0m: \tbatch_size: 18\n",
            "\u001b[34m\u001b[1mwandb\u001b[0m: \tlearning_rate: 0.0009946790742198692\n",
            "\u001b[34m\u001b[1mwandb\u001b[0m: \u001b[33mWARNING\u001b[0m Ignored wandb.init() arg project when running a sweep\n",
            "\u001b[34m\u001b[1mwandb\u001b[0m: \u001b[33mWARNING\u001b[0m Ignored wandb.init() arg entity when running a sweep\n"
          ]
        },
        {
          "output_type": "display_data",
          "data": {
            "text/html": [
              "\n",
              "                Tracking run with wandb version 0.12.2<br/>\n",
              "                Syncing run <strong style=\"color:#cdcd00\">kind-sweep-2</strong> to <a href=\"https://wandb.ai\" target=\"_blank\">Weights & Biases</a> <a href=\"https://docs.wandb.com/integrations/jupyter.html\" target=\"_blank\">(Documentation)</a>.<br/>\n",
              "                Project page: <a href=\"https://wandb.ai/tommyg/test_casting_2\" target=\"_blank\">https://wandb.ai/tommyg/test_casting_2</a><br/>\n",
              "                Sweep page: <a href=\"https://wandb.ai/tommyg/test_casting_2/sweeps/6rkvcus8\" target=\"_blank\">https://wandb.ai/tommyg/test_casting_2/sweeps/6rkvcus8</a><br/>\n",
              "Run page: <a href=\"https://wandb.ai/tommyg/test_casting_2/runs/3buvw1go\" target=\"_blank\">https://wandb.ai/tommyg/test_casting_2/runs/3buvw1go</a><br/>\n",
              "                Run data is saved locally in <code>/content/wandb/run-20210922_114922-3buvw1go</code><br/><br/>\n",
              "            "
            ],
            "text/plain": [
              "<IPython.core.display.HTML object>"
            ]
          },
          "metadata": {}
        },
        {
          "output_type": "stream",
          "name": "stdout",
          "text": [
            "FOLD: 1 | EPOCH:01 | train_loss:0.377121 | valid_loss:17.492759 | time:4.3s \n",
            "FOLD: 1 | EPOCH:02 | train_loss:0.139070 | valid_loss:0.530196 | time:4.2s \n",
            "FOLD: 1 | EPOCH:03 | train_loss:0.180083 | valid_loss:0.293197 | time:4.2s \n",
            "FOLD: 1 | EPOCH:04 | train_loss:0.147413 | valid_loss:0.198477 | time:4.1s \n",
            "FOLD: 1 | EPOCH:05 | train_loss:0.443944 | valid_loss:0.457109 | time:3.9s \n",
            "FOLD: 1 | EPOCH:06 | train_loss:0.140395 | valid_loss:0.184460 | time:4.3s \n",
            "FOLD: 1 | EPOCH:07 | train_loss:0.110702 | valid_loss:0.056893 | time:4.2s \n",
            "FOLD: 1 | EPOCH:08 | train_loss:0.050659 | valid_loss:0.078050 | time:4.0s \n",
            "FOLD: 1 | EPOCH:09 | train_loss:0.017239 | valid_loss:0.072051 | time:4.0s \n",
            "FOLD: 1 | EPOCH:10 | train_loss:0.007712 | valid_loss:0.125517 | time:3.9s \n",
            "final valid_loss :  0.1255167813040316\n",
            "stap= 0\n",
            "stap= 1\n",
            "stap= 2\n",
            "stap= 3\n",
            "stap= 4\n",
            "stap= 5\n"
          ]
        },
        {
          "output_type": "display_data",
          "data": {
            "text/html": [
              "<br/>Waiting for W&B process to finish, PID 510<br/>Program ended successfully."
            ],
            "text/plain": [
              "<IPython.core.display.HTML object>"
            ]
          },
          "metadata": {}
        },
        {
          "output_type": "display_data",
          "data": {
            "application/vnd.jupyter.widget-view+json": {
              "model_id": "e514cd5c9b2c44269fd82dfb55299287",
              "version_minor": 0,
              "version_major": 2
            },
            "text/plain": [
              "VBox(children=(Label(value=' 0.00MB of 0.00MB uploaded (0.00MB deduped)\\r'), FloatProgress(value=1.0, max=1.0)…"
            ]
          },
          "metadata": {}
        },
        {
          "output_type": "display_data",
          "data": {
            "text/html": [
              "Find user logs for this run at: <code>/content/wandb/run-20210922_114922-3buvw1go/logs/debug.log</code>"
            ],
            "text/plain": [
              "<IPython.core.display.HTML object>"
            ]
          },
          "metadata": {}
        },
        {
          "output_type": "display_data",
          "data": {
            "text/html": [
              "Find internal logs for this run at: <code>/content/wandb/run-20210922_114922-3buvw1go/logs/debug-internal.log</code>"
            ],
            "text/plain": [
              "<IPython.core.display.HTML object>"
            ]
          },
          "metadata": {}
        },
        {
          "output_type": "display_data",
          "data": {
            "text/html": [
              "<h3>Run summary:</h3><br/><style>\n",
              "    table.wandb td:nth-child(1) { padding: 0 10px; text-align: right }\n",
              "    </style><table class=\"wandb\">\n",
              "<tr><td>epoch</td><td>10</td></tr><tr><td>loss</td><td>0.12552</td></tr></table>"
            ],
            "text/plain": [
              "<IPython.core.display.HTML object>"
            ]
          },
          "metadata": {}
        },
        {
          "output_type": "display_data",
          "data": {
            "text/html": [
              "<h3>Run history:</h3><br/><style>\n",
              "    table.wandb td:nth-child(1) { padding: 0 10px; text-align: right }\n",
              "    </style><table class=\"wandb\">\n",
              "<tr><td>epoch</td><td>▁▂▃▃▄▅▆▆▇█</td></tr><tr><td>loss</td><td>█▁▁▁▁▁▁▁▁▁</td></tr></table><br/>"
            ],
            "text/plain": [
              "<IPython.core.display.HTML object>"
            ]
          },
          "metadata": {}
        },
        {
          "output_type": "display_data",
          "data": {
            "text/html": [
              "Synced 5 W&B file(s), 0 media file(s), 0 artifact file(s) and 0 other file(s)"
            ],
            "text/plain": [
              "<IPython.core.display.HTML object>"
            ]
          },
          "metadata": {}
        },
        {
          "output_type": "display_data",
          "data": {
            "text/html": [
              "\n",
              "                    <br/>Synced <strong style=\"color:#cdcd00\">kind-sweep-2</strong>: <a href=\"https://wandb.ai/tommyg/test_casting_2/runs/3buvw1go\" target=\"_blank\">https://wandb.ai/tommyg/test_casting_2/runs/3buvw1go</a><br/>\n",
              "                "
            ],
            "text/plain": [
              "<IPython.core.display.HTML object>"
            ]
          },
          "metadata": {}
        },
        {
          "output_type": "stream",
          "name": "stderr",
          "text": [
            "\u001b[34m\u001b[1mwandb\u001b[0m: \u001b[33mWARNING\u001b[0m Ignored wandb.init() arg project when running a sweep\n",
            "\u001b[34m\u001b[1mwandb\u001b[0m: \u001b[33mWARNING\u001b[0m Ignored wandb.init() arg entity when running a sweep\n"
          ]
        },
        {
          "output_type": "display_data",
          "data": {
            "text/html": [
              "\n",
              "                Tracking run with wandb version 0.12.2<br/>\n",
              "                Syncing run <strong style=\"color:#cdcd00\">kind-sweep-2</strong> to <a href=\"https://wandb.ai\" target=\"_blank\">Weights & Biases</a> <a href=\"https://docs.wandb.com/integrations/jupyter.html\" target=\"_blank\">(Documentation)</a>.<br/>\n",
              "                Project page: <a href=\"https://wandb.ai/tommyg/test_casting_2\" target=\"_blank\">https://wandb.ai/tommyg/test_casting_2</a><br/>\n",
              "                Sweep page: <a href=\"https://wandb.ai/tommyg/test_casting_2/sweeps/6rkvcus8\" target=\"_blank\">https://wandb.ai/tommyg/test_casting_2/sweeps/6rkvcus8</a><br/>\n",
              "Run page: <a href=\"https://wandb.ai/tommyg/test_casting_2/runs/3buvw1go\" target=\"_blank\">https://wandb.ai/tommyg/test_casting_2/runs/3buvw1go</a><br/>\n",
              "                Run data is saved locally in <code>/content/wandb/run-20210922_115011-3buvw1go</code><br/><br/>\n",
              "            "
            ],
            "text/plain": [
              "<IPython.core.display.HTML object>"
            ]
          },
          "metadata": {}
        },
        {
          "output_type": "stream",
          "name": "stdout",
          "text": [
            "FOLD: 2 | EPOCH:01 | train_loss:0.263586 | valid_loss:3.629657 | time:4.4s \n",
            "FOLD: 2 | EPOCH:02 | train_loss:0.124336 | valid_loss:0.591545 | time:4.2s \n",
            "FOLD: 2 | EPOCH:03 | train_loss:0.097633 | valid_loss:0.216908 | time:4.3s \n",
            "FOLD: 2 | EPOCH:04 | train_loss:0.025491 | valid_loss:0.580018 | time:4.0s \n",
            "FOLD: 2 | EPOCH:05 | train_loss:0.145469 | valid_loss:0.217001 | time:4.1s \n",
            "FOLD: 2 | EPOCH:06 | train_loss:0.156786 | valid_loss:0.247079 | time:4.1s \n",
            "FOLD: 2 | EPOCH:07 | train_loss:0.096723 | valid_loss:0.427229 | time:4.1s \n",
            "FOLD: 2 | EPOCH:08 | train_loss:0.254658 | valid_loss:0.841448 | time:4.0s \n",
            "FOLD: 2 | EPOCH:09 | train_loss:0.061709 | valid_loss:0.117014 | time:4.2s \n",
            "FOLD: 2 | EPOCH:10 | train_loss:0.084734 | valid_loss:0.121231 | time:4.0s \n",
            "final valid_loss :  0.12123112250119447\n",
            "stap= 0\n",
            "stap= 1\n",
            "stap= 2\n",
            "stap= 3\n",
            "stap= 4\n",
            "stap= 5\n"
          ]
        },
        {
          "output_type": "display_data",
          "data": {
            "text/html": [
              "<br/>Waiting for W&B process to finish, PID 555<br/>Program ended successfully."
            ],
            "text/plain": [
              "<IPython.core.display.HTML object>"
            ]
          },
          "metadata": {}
        },
        {
          "output_type": "display_data",
          "data": {
            "application/vnd.jupyter.widget-view+json": {
              "model_id": "9cf6099d93cc4810922a2f8c7cdb5a6d",
              "version_minor": 0,
              "version_major": 2
            },
            "text/plain": [
              "VBox(children=(Label(value=' 0.00MB of 0.00MB uploaded (0.00MB deduped)\\r'), FloatProgress(value=1.0, max=1.0)…"
            ]
          },
          "metadata": {}
        },
        {
          "output_type": "display_data",
          "data": {
            "text/html": [
              "Find user logs for this run at: <code>/content/wandb/run-20210922_115011-3buvw1go/logs/debug.log</code>"
            ],
            "text/plain": [
              "<IPython.core.display.HTML object>"
            ]
          },
          "metadata": {}
        },
        {
          "output_type": "display_data",
          "data": {
            "text/html": [
              "Find internal logs for this run at: <code>/content/wandb/run-20210922_115011-3buvw1go/logs/debug-internal.log</code>"
            ],
            "text/plain": [
              "<IPython.core.display.HTML object>"
            ]
          },
          "metadata": {}
        },
        {
          "output_type": "display_data",
          "data": {
            "text/html": [
              "<h3>Run summary:</h3><br/><style>\n",
              "    table.wandb td:nth-child(1) { padding: 0 10px; text-align: right }\n",
              "    </style><table class=\"wandb\">\n",
              "<tr><td>epoch</td><td>10</td></tr><tr><td>loss</td><td>0.12123</td></tr></table>"
            ],
            "text/plain": [
              "<IPython.core.display.HTML object>"
            ]
          },
          "metadata": {}
        },
        {
          "output_type": "display_data",
          "data": {
            "text/html": [
              "<h3>Run history:</h3><br/><style>\n",
              "    table.wandb td:nth-child(1) { padding: 0 10px; text-align: right }\n",
              "    </style><table class=\"wandb\">\n",
              "<tr><td>epoch</td><td>▁▂▃▃▄▅▆▆▇█</td></tr><tr><td>loss</td><td>█▂▁▂▁▁▂▂▁▁</td></tr></table><br/>"
            ],
            "text/plain": [
              "<IPython.core.display.HTML object>"
            ]
          },
          "metadata": {}
        },
        {
          "output_type": "display_data",
          "data": {
            "text/html": [
              "Synced 5 W&B file(s), 0 media file(s), 0 artifact file(s) and 0 other file(s)"
            ],
            "text/plain": [
              "<IPython.core.display.HTML object>"
            ]
          },
          "metadata": {}
        },
        {
          "output_type": "display_data",
          "data": {
            "text/html": [
              "\n",
              "                    <br/>Synced <strong style=\"color:#cdcd00\">kind-sweep-2</strong>: <a href=\"https://wandb.ai/tommyg/test_casting_2/runs/3buvw1go\" target=\"_blank\">https://wandb.ai/tommyg/test_casting_2/runs/3buvw1go</a><br/>\n",
              "                "
            ],
            "text/plain": [
              "<IPython.core.display.HTML object>"
            ]
          },
          "metadata": {}
        },
        {
          "output_type": "stream",
          "name": "stderr",
          "text": [
            "\u001b[34m\u001b[1mwandb\u001b[0m: \u001b[33mWARNING\u001b[0m Ignored wandb.init() arg project when running a sweep\n",
            "\u001b[34m\u001b[1mwandb\u001b[0m: \u001b[33mWARNING\u001b[0m Ignored wandb.init() arg entity when running a sweep\n"
          ]
        },
        {
          "output_type": "display_data",
          "data": {
            "text/html": [
              "\n",
              "                Tracking run with wandb version 0.12.2<br/>\n",
              "                Syncing run <strong style=\"color:#cdcd00\">kind-sweep-2</strong> to <a href=\"https://wandb.ai\" target=\"_blank\">Weights & Biases</a> <a href=\"https://docs.wandb.com/integrations/jupyter.html\" target=\"_blank\">(Documentation)</a>.<br/>\n",
              "                Project page: <a href=\"https://wandb.ai/tommyg/test_casting_2\" target=\"_blank\">https://wandb.ai/tommyg/test_casting_2</a><br/>\n",
              "                Sweep page: <a href=\"https://wandb.ai/tommyg/test_casting_2/sweeps/6rkvcus8\" target=\"_blank\">https://wandb.ai/tommyg/test_casting_2/sweeps/6rkvcus8</a><br/>\n",
              "Run page: <a href=\"https://wandb.ai/tommyg/test_casting_2/runs/3buvw1go\" target=\"_blank\">https://wandb.ai/tommyg/test_casting_2/runs/3buvw1go</a><br/>\n",
              "                Run data is saved locally in <code>/content/wandb/run-20210922_115100-3buvw1go</code><br/><br/>\n",
              "            "
            ],
            "text/plain": [
              "<IPython.core.display.HTML object>"
            ]
          },
          "metadata": {}
        },
        {
          "output_type": "stream",
          "name": "stdout",
          "text": [
            "FOLD: 3 | EPOCH:01 | train_loss:0.257327 | valid_loss:15.610069 | time:4.3s \n",
            "FOLD: 3 | EPOCH:02 | train_loss:0.427826 | valid_loss:0.473402 | time:4.2s \n",
            "FOLD: 3 | EPOCH:03 | train_loss:0.144219 | valid_loss:0.074619 | time:4.2s \n",
            "FOLD: 3 | EPOCH:04 | train_loss:0.057608 | valid_loss:0.018286 | time:4.2s \n",
            "FOLD: 3 | EPOCH:05 | train_loss:0.143468 | valid_loss:0.124014 | time:4.1s \n",
            "FOLD: 3 | EPOCH:06 | train_loss:0.048445 | valid_loss:0.071366 | time:4.1s \n",
            "FOLD: 3 | EPOCH:07 | train_loss:0.052496 | valid_loss:0.160716 | time:4.0s \n",
            "FOLD: 3 | EPOCH:08 | train_loss:0.110517 | valid_loss:0.239928 | time:4.0s \n",
            "FOLD: 3 | EPOCH:09 | train_loss:0.067290 | valid_loss:0.022177 | time:4.1s \n",
            "FOLD: 3 | EPOCH:10 | train_loss:0.101411 | valid_loss:0.070222 | time:4.1s \n",
            "final valid_loss :  0.07022157348692418\n",
            "stap= 0\n",
            "stap= 1\n",
            "stap= 2\n",
            "stap= 3\n",
            "stap= 4\n",
            "stap= 5\n"
          ]
        },
        {
          "output_type": "display_data",
          "data": {
            "text/html": [
              "<br/>Waiting for W&B process to finish, PID 600<br/>Program ended successfully."
            ],
            "text/plain": [
              "<IPython.core.display.HTML object>"
            ]
          },
          "metadata": {}
        },
        {
          "output_type": "display_data",
          "data": {
            "application/vnd.jupyter.widget-view+json": {
              "model_id": "4f2e3a064f8f4e1eac59abcff936cd12",
              "version_minor": 0,
              "version_major": 2
            },
            "text/plain": [
              "VBox(children=(Label(value=' 0.00MB of 0.00MB uploaded (0.00MB deduped)\\r'), FloatProgress(value=1.0, max=1.0)…"
            ]
          },
          "metadata": {}
        },
        {
          "output_type": "display_data",
          "data": {
            "text/html": [
              "Find user logs for this run at: <code>/content/wandb/run-20210922_115100-3buvw1go/logs/debug.log</code>"
            ],
            "text/plain": [
              "<IPython.core.display.HTML object>"
            ]
          },
          "metadata": {}
        },
        {
          "output_type": "display_data",
          "data": {
            "text/html": [
              "Find internal logs for this run at: <code>/content/wandb/run-20210922_115100-3buvw1go/logs/debug-internal.log</code>"
            ],
            "text/plain": [
              "<IPython.core.display.HTML object>"
            ]
          },
          "metadata": {}
        },
        {
          "output_type": "display_data",
          "data": {
            "text/html": [
              "<h3>Run summary:</h3><br/><style>\n",
              "    table.wandb td:nth-child(1) { padding: 0 10px; text-align: right }\n",
              "    </style><table class=\"wandb\">\n",
              "<tr><td>epoch</td><td>10</td></tr><tr><td>loss</td><td>0.07022</td></tr></table>"
            ],
            "text/plain": [
              "<IPython.core.display.HTML object>"
            ]
          },
          "metadata": {}
        },
        {
          "output_type": "display_data",
          "data": {
            "text/html": [
              "<h3>Run history:</h3><br/><style>\n",
              "    table.wandb td:nth-child(1) { padding: 0 10px; text-align: right }\n",
              "    </style><table class=\"wandb\">\n",
              "<tr><td>epoch</td><td>▁▂▃▃▄▅▆▆▇█</td></tr><tr><td>loss</td><td>█▁▁▁▁▁▁▁▁▁</td></tr></table><br/>"
            ],
            "text/plain": [
              "<IPython.core.display.HTML object>"
            ]
          },
          "metadata": {}
        },
        {
          "output_type": "display_data",
          "data": {
            "text/html": [
              "Synced 5 W&B file(s), 0 media file(s), 0 artifact file(s) and 0 other file(s)"
            ],
            "text/plain": [
              "<IPython.core.display.HTML object>"
            ]
          },
          "metadata": {}
        },
        {
          "output_type": "display_data",
          "data": {
            "text/html": [
              "\n",
              "                    <br/>Synced <strong style=\"color:#cdcd00\">kind-sweep-2</strong>: <a href=\"https://wandb.ai/tommyg/test_casting_2/runs/3buvw1go\" target=\"_blank\">https://wandb.ai/tommyg/test_casting_2/runs/3buvw1go</a><br/>\n",
              "                "
            ],
            "text/plain": [
              "<IPython.core.display.HTML object>"
            ]
          },
          "metadata": {}
        },
        {
          "output_type": "stream",
          "name": "stderr",
          "text": [
            "\u001b[34m\u001b[1mwandb\u001b[0m: Agent Starting Run: nag6qed3 with config:\n",
            "\u001b[34m\u001b[1mwandb\u001b[0m: \tbatch_size: 20\n",
            "\u001b[34m\u001b[1mwandb\u001b[0m: \tlearning_rate: 0.0005603572536221588\n",
            "\u001b[34m\u001b[1mwandb\u001b[0m: \u001b[33mWARNING\u001b[0m Ignored wandb.init() arg project when running a sweep\n",
            "\u001b[34m\u001b[1mwandb\u001b[0m: \u001b[33mWARNING\u001b[0m Ignored wandb.init() arg entity when running a sweep\n"
          ]
        },
        {
          "output_type": "display_data",
          "data": {
            "text/html": [
              "\n",
              "                Tracking run with wandb version 0.12.2<br/>\n",
              "                Syncing run <strong style=\"color:#cdcd00\">easy-sweep-3</strong> to <a href=\"https://wandb.ai\" target=\"_blank\">Weights & Biases</a> <a href=\"https://docs.wandb.com/integrations/jupyter.html\" target=\"_blank\">(Documentation)</a>.<br/>\n",
              "                Project page: <a href=\"https://wandb.ai/tommyg/test_casting_2\" target=\"_blank\">https://wandb.ai/tommyg/test_casting_2</a><br/>\n",
              "                Sweep page: <a href=\"https://wandb.ai/tommyg/test_casting_2/sweeps/6rkvcus8\" target=\"_blank\">https://wandb.ai/tommyg/test_casting_2/sweeps/6rkvcus8</a><br/>\n",
              "Run page: <a href=\"https://wandb.ai/tommyg/test_casting_2/runs/nag6qed3\" target=\"_blank\">https://wandb.ai/tommyg/test_casting_2/runs/nag6qed3</a><br/>\n",
              "                Run data is saved locally in <code>/content/wandb/run-20210922_115151-nag6qed3</code><br/><br/>\n",
              "            "
            ],
            "text/plain": [
              "<IPython.core.display.HTML object>"
            ]
          },
          "metadata": {}
        },
        {
          "output_type": "stream",
          "name": "stdout",
          "text": [
            "FOLD: 1 | EPOCH:01 | train_loss:0.458669 | valid_loss:2.738469 | time:4.2s \n",
            "FOLD: 1 | EPOCH:02 | train_loss:0.117303 | valid_loss:0.376945 | time:4.1s \n",
            "FOLD: 1 | EPOCH:03 | train_loss:0.104781 | valid_loss:0.051148 | time:4.0s \n",
            "FOLD: 1 | EPOCH:04 | train_loss:0.069176 | valid_loss:0.208959 | time:4.0s \n",
            "FOLD: 1 | EPOCH:05 | train_loss:0.118316 | valid_loss:0.236904 | time:4.1s \n",
            "FOLD: 1 | EPOCH:06 | train_loss:0.048587 | valid_loss:0.128506 | time:4.0s \n",
            "FOLD: 1 | EPOCH:07 | train_loss:0.064759 | valid_loss:0.063385 | time:4.0s \n",
            "FOLD: 1 | EPOCH:08 | train_loss:0.012060 | valid_loss:0.025982 | time:4.0s \n",
            "FOLD: 1 | EPOCH:09 | train_loss:0.009725 | valid_loss:0.062735 | time:4.0s \n",
            "FOLD: 1 | EPOCH:10 | train_loss:0.006317 | valid_loss:0.019657 | time:4.1s \n",
            "final valid_loss :  0.019656838360242547\n",
            "stap= 0\n",
            "stap= 1\n",
            "stap= 2\n",
            "stap= 3\n",
            "stap= 4\n"
          ]
        },
        {
          "output_type": "display_data",
          "data": {
            "text/html": [
              "<br/>Waiting for W&B process to finish, PID 647<br/>Program ended successfully."
            ],
            "text/plain": [
              "<IPython.core.display.HTML object>"
            ]
          },
          "metadata": {}
        },
        {
          "output_type": "display_data",
          "data": {
            "application/vnd.jupyter.widget-view+json": {
              "model_id": "d4a4fb1ad9454d738c152af921e40e3f",
              "version_minor": 0,
              "version_major": 2
            },
            "text/plain": [
              "VBox(children=(Label(value=' 0.00MB of 0.00MB uploaded (0.00MB deduped)\\r'), FloatProgress(value=1.0, max=1.0)…"
            ]
          },
          "metadata": {}
        },
        {
          "output_type": "display_data",
          "data": {
            "text/html": [
              "Find user logs for this run at: <code>/content/wandb/run-20210922_115151-nag6qed3/logs/debug.log</code>"
            ],
            "text/plain": [
              "<IPython.core.display.HTML object>"
            ]
          },
          "metadata": {}
        },
        {
          "output_type": "display_data",
          "data": {
            "text/html": [
              "Find internal logs for this run at: <code>/content/wandb/run-20210922_115151-nag6qed3/logs/debug-internal.log</code>"
            ],
            "text/plain": [
              "<IPython.core.display.HTML object>"
            ]
          },
          "metadata": {}
        },
        {
          "output_type": "display_data",
          "data": {
            "text/html": [
              "<h3>Run summary:</h3><br/><style>\n",
              "    table.wandb td:nth-child(1) { padding: 0 10px; text-align: right }\n",
              "    </style><table class=\"wandb\">\n",
              "<tr><td>epoch</td><td>10</td></tr><tr><td>loss</td><td>0.01966</td></tr></table>"
            ],
            "text/plain": [
              "<IPython.core.display.HTML object>"
            ]
          },
          "metadata": {}
        },
        {
          "output_type": "display_data",
          "data": {
            "text/html": [
              "<h3>Run history:</h3><br/><style>\n",
              "    table.wandb td:nth-child(1) { padding: 0 10px; text-align: right }\n",
              "    </style><table class=\"wandb\">\n",
              "<tr><td>epoch</td><td>▁▂▃▃▄▅▆▆▇█</td></tr><tr><td>loss</td><td>█▂▁▁▂▁▁▁▁▁</td></tr></table><br/>"
            ],
            "text/plain": [
              "<IPython.core.display.HTML object>"
            ]
          },
          "metadata": {}
        },
        {
          "output_type": "display_data",
          "data": {
            "text/html": [
              "Synced 5 W&B file(s), 0 media file(s), 0 artifact file(s) and 0 other file(s)"
            ],
            "text/plain": [
              "<IPython.core.display.HTML object>"
            ]
          },
          "metadata": {}
        },
        {
          "output_type": "display_data",
          "data": {
            "text/html": [
              "\n",
              "                    <br/>Synced <strong style=\"color:#cdcd00\">easy-sweep-3</strong>: <a href=\"https://wandb.ai/tommyg/test_casting_2/runs/nag6qed3\" target=\"_blank\">https://wandb.ai/tommyg/test_casting_2/runs/nag6qed3</a><br/>\n",
              "                "
            ],
            "text/plain": [
              "<IPython.core.display.HTML object>"
            ]
          },
          "metadata": {}
        },
        {
          "output_type": "stream",
          "name": "stderr",
          "text": [
            "\u001b[34m\u001b[1mwandb\u001b[0m: \u001b[33mWARNING\u001b[0m Ignored wandb.init() arg project when running a sweep\n",
            "\u001b[34m\u001b[1mwandb\u001b[0m: \u001b[33mWARNING\u001b[0m Ignored wandb.init() arg entity when running a sweep\n"
          ]
        },
        {
          "output_type": "display_data",
          "data": {
            "text/html": [
              "\n",
              "                Tracking run with wandb version 0.12.2<br/>\n",
              "                Syncing run <strong style=\"color:#cdcd00\">easy-sweep-3</strong> to <a href=\"https://wandb.ai\" target=\"_blank\">Weights & Biases</a> <a href=\"https://docs.wandb.com/integrations/jupyter.html\" target=\"_blank\">(Documentation)</a>.<br/>\n",
              "                Project page: <a href=\"https://wandb.ai/tommyg/test_casting_2\" target=\"_blank\">https://wandb.ai/tommyg/test_casting_2</a><br/>\n",
              "                Sweep page: <a href=\"https://wandb.ai/tommyg/test_casting_2/sweeps/6rkvcus8\" target=\"_blank\">https://wandb.ai/tommyg/test_casting_2/sweeps/6rkvcus8</a><br/>\n",
              "Run page: <a href=\"https://wandb.ai/tommyg/test_casting_2/runs/nag6qed3\" target=\"_blank\">https://wandb.ai/tommyg/test_casting_2/runs/nag6qed3</a><br/>\n",
              "                Run data is saved locally in <code>/content/wandb/run-20210922_115239-nag6qed3</code><br/><br/>\n",
              "            "
            ],
            "text/plain": [
              "<IPython.core.display.HTML object>"
            ]
          },
          "metadata": {}
        },
        {
          "output_type": "stream",
          "name": "stdout",
          "text": [
            "FOLD: 2 | EPOCH:01 | train_loss:0.411497 | valid_loss:8.605953 | time:4.3s \n",
            "FOLD: 2 | EPOCH:02 | train_loss:0.045503 | valid_loss:0.202712 | time:4.1s \n",
            "FOLD: 2 | EPOCH:03 | train_loss:0.154748 | valid_loss:0.016484 | time:4.1s \n",
            "FOLD: 2 | EPOCH:04 | train_loss:0.080109 | valid_loss:0.027045 | time:4.0s \n",
            "FOLD: 2 | EPOCH:05 | train_loss:0.015781 | valid_loss:0.063260 | time:4.0s \n",
            "FOLD: 2 | EPOCH:06 | train_loss:0.098600 | valid_loss:0.245421 | time:4.0s \n",
            "FOLD: 2 | EPOCH:07 | train_loss:0.113675 | valid_loss:0.118048 | time:4.0s \n",
            "FOLD: 2 | EPOCH:08 | train_loss:0.082457 | valid_loss:0.070479 | time:3.9s \n",
            "FOLD: 2 | EPOCH:09 | train_loss:0.064176 | valid_loss:0.056741 | time:3.9s \n",
            "FOLD: 2 | EPOCH:10 | train_loss:0.025698 | valid_loss:0.008587 | time:4.1s \n",
            "final valid_loss :  0.00858727905433625\n",
            "stap= 0\n",
            "stap= 1\n",
            "stap= 2\n",
            "stap= 3\n",
            "stap= 4\n"
          ]
        },
        {
          "output_type": "display_data",
          "data": {
            "text/html": [
              "<br/>Waiting for W&B process to finish, PID 692<br/>Program ended successfully."
            ],
            "text/plain": [
              "<IPython.core.display.HTML object>"
            ]
          },
          "metadata": {}
        },
        {
          "output_type": "display_data",
          "data": {
            "application/vnd.jupyter.widget-view+json": {
              "model_id": "a3c0300e8fb34742b5e2a1857621f431",
              "version_minor": 0,
              "version_major": 2
            },
            "text/plain": [
              "VBox(children=(Label(value=' 0.00MB of 0.00MB uploaded (0.00MB deduped)\\r'), FloatProgress(value=1.0, max=1.0)…"
            ]
          },
          "metadata": {}
        },
        {
          "output_type": "display_data",
          "data": {
            "text/html": [
              "Find user logs for this run at: <code>/content/wandb/run-20210922_115239-nag6qed3/logs/debug.log</code>"
            ],
            "text/plain": [
              "<IPython.core.display.HTML object>"
            ]
          },
          "metadata": {}
        },
        {
          "output_type": "display_data",
          "data": {
            "text/html": [
              "Find internal logs for this run at: <code>/content/wandb/run-20210922_115239-nag6qed3/logs/debug-internal.log</code>"
            ],
            "text/plain": [
              "<IPython.core.display.HTML object>"
            ]
          },
          "metadata": {}
        },
        {
          "output_type": "display_data",
          "data": {
            "text/html": [
              "<h3>Run summary:</h3><br/><style>\n",
              "    table.wandb td:nth-child(1) { padding: 0 10px; text-align: right }\n",
              "    </style><table class=\"wandb\">\n",
              "<tr><td>epoch</td><td>10</td></tr><tr><td>loss</td><td>0.00859</td></tr></table>"
            ],
            "text/plain": [
              "<IPython.core.display.HTML object>"
            ]
          },
          "metadata": {}
        },
        {
          "output_type": "display_data",
          "data": {
            "text/html": [
              "<h3>Run history:</h3><br/><style>\n",
              "    table.wandb td:nth-child(1) { padding: 0 10px; text-align: right }\n",
              "    </style><table class=\"wandb\">\n",
              "<tr><td>epoch</td><td>▁▂▃▃▄▅▆▆▇█</td></tr><tr><td>loss</td><td>█▁▁▁▁▁▁▁▁▁</td></tr></table><br/>"
            ],
            "text/plain": [
              "<IPython.core.display.HTML object>"
            ]
          },
          "metadata": {}
        },
        {
          "output_type": "display_data",
          "data": {
            "text/html": [
              "Synced 5 W&B file(s), 0 media file(s), 0 artifact file(s) and 0 other file(s)"
            ],
            "text/plain": [
              "<IPython.core.display.HTML object>"
            ]
          },
          "metadata": {}
        },
        {
          "output_type": "display_data",
          "data": {
            "text/html": [
              "\n",
              "                    <br/>Synced <strong style=\"color:#cdcd00\">easy-sweep-3</strong>: <a href=\"https://wandb.ai/tommyg/test_casting_2/runs/nag6qed3\" target=\"_blank\">https://wandb.ai/tommyg/test_casting_2/runs/nag6qed3</a><br/>\n",
              "                "
            ],
            "text/plain": [
              "<IPython.core.display.HTML object>"
            ]
          },
          "metadata": {}
        },
        {
          "output_type": "stream",
          "name": "stderr",
          "text": [
            "\u001b[34m\u001b[1mwandb\u001b[0m: \u001b[33mWARNING\u001b[0m Ignored wandb.init() arg project when running a sweep\n",
            "\u001b[34m\u001b[1mwandb\u001b[0m: \u001b[33mWARNING\u001b[0m Ignored wandb.init() arg entity when running a sweep\n"
          ]
        },
        {
          "output_type": "display_data",
          "data": {
            "text/html": [
              "\n",
              "                Tracking run with wandb version 0.12.2<br/>\n",
              "                Syncing run <strong style=\"color:#cdcd00\">easy-sweep-3</strong> to <a href=\"https://wandb.ai\" target=\"_blank\">Weights & Biases</a> <a href=\"https://docs.wandb.com/integrations/jupyter.html\" target=\"_blank\">(Documentation)</a>.<br/>\n",
              "                Project page: <a href=\"https://wandb.ai/tommyg/test_casting_2\" target=\"_blank\">https://wandb.ai/tommyg/test_casting_2</a><br/>\n",
              "                Sweep page: <a href=\"https://wandb.ai/tommyg/test_casting_2/sweeps/6rkvcus8\" target=\"_blank\">https://wandb.ai/tommyg/test_casting_2/sweeps/6rkvcus8</a><br/>\n",
              "Run page: <a href=\"https://wandb.ai/tommyg/test_casting_2/runs/nag6qed3\" target=\"_blank\">https://wandb.ai/tommyg/test_casting_2/runs/nag6qed3</a><br/>\n",
              "                Run data is saved locally in <code>/content/wandb/run-20210922_115328-nag6qed3</code><br/><br/>\n",
              "            "
            ],
            "text/plain": [
              "<IPython.core.display.HTML object>"
            ]
          },
          "metadata": {}
        },
        {
          "output_type": "stream",
          "name": "stdout",
          "text": [
            "FOLD: 3 | EPOCH:01 | train_loss:0.408217 | valid_loss:2.683777 | time:4.3s \n",
            "FOLD: 3 | EPOCH:02 | train_loss:0.108590 | valid_loss:0.236512 | time:4.1s \n",
            "FOLD: 3 | EPOCH:03 | train_loss:0.091900 | valid_loss:0.149490 | time:4.1s \n",
            "FOLD: 3 | EPOCH:04 | train_loss:0.119039 | valid_loss:0.177765 | time:3.9s \n",
            "FOLD: 3 | EPOCH:05 | train_loss:0.045419 | valid_loss:0.065679 | time:4.1s \n",
            "FOLD: 3 | EPOCH:06 | train_loss:0.062023 | valid_loss:0.019470 | time:4.1s \n",
            "FOLD: 3 | EPOCH:07 | train_loss:0.014925 | valid_loss:0.012479 | time:4.1s \n",
            "FOLD: 3 | EPOCH:08 | train_loss:0.010801 | valid_loss:0.006162 | time:4.1s \n",
            "FOLD: 3 | EPOCH:09 | train_loss:0.070547 | valid_loss:0.043534 | time:3.9s \n",
            "FOLD: 3 | EPOCH:10 | train_loss:0.018719 | valid_loss:0.027715 | time:4.0s \n",
            "final valid_loss :  0.027715173736214637\n",
            "stap= 0\n",
            "stap= 1\n",
            "stap= 2\n",
            "stap= 3\n",
            "stap= 4\n"
          ]
        },
        {
          "output_type": "display_data",
          "data": {
            "text/html": [
              "<br/>Waiting for W&B process to finish, PID 735<br/>Program ended successfully."
            ],
            "text/plain": [
              "<IPython.core.display.HTML object>"
            ]
          },
          "metadata": {}
        },
        {
          "output_type": "display_data",
          "data": {
            "application/vnd.jupyter.widget-view+json": {
              "model_id": "7663f960d7dc477c872a9c619bf617d6",
              "version_minor": 0,
              "version_major": 2
            },
            "text/plain": [
              "VBox(children=(Label(value=' 0.00MB of 0.00MB uploaded (0.00MB deduped)\\r'), FloatProgress(value=1.0, max=1.0)…"
            ]
          },
          "metadata": {}
        },
        {
          "output_type": "display_data",
          "data": {
            "text/html": [
              "Find user logs for this run at: <code>/content/wandb/run-20210922_115328-nag6qed3/logs/debug.log</code>"
            ],
            "text/plain": [
              "<IPython.core.display.HTML object>"
            ]
          },
          "metadata": {}
        },
        {
          "output_type": "display_data",
          "data": {
            "text/html": [
              "Find internal logs for this run at: <code>/content/wandb/run-20210922_115328-nag6qed3/logs/debug-internal.log</code>"
            ],
            "text/plain": [
              "<IPython.core.display.HTML object>"
            ]
          },
          "metadata": {}
        },
        {
          "output_type": "display_data",
          "data": {
            "text/html": [
              "<h3>Run summary:</h3><br/><style>\n",
              "    table.wandb td:nth-child(1) { padding: 0 10px; text-align: right }\n",
              "    </style><table class=\"wandb\">\n",
              "<tr><td>epoch</td><td>10</td></tr><tr><td>loss</td><td>0.02772</td></tr></table>"
            ],
            "text/plain": [
              "<IPython.core.display.HTML object>"
            ]
          },
          "metadata": {}
        },
        {
          "output_type": "display_data",
          "data": {
            "text/html": [
              "<h3>Run history:</h3><br/><style>\n",
              "    table.wandb td:nth-child(1) { padding: 0 10px; text-align: right }\n",
              "    </style><table class=\"wandb\">\n",
              "<tr><td>epoch</td><td>▁▂▃▃▄▅▆▆▇█</td></tr><tr><td>loss</td><td>█▂▁▁▁▁▁▁▁▁</td></tr></table><br/>"
            ],
            "text/plain": [
              "<IPython.core.display.HTML object>"
            ]
          },
          "metadata": {}
        },
        {
          "output_type": "display_data",
          "data": {
            "text/html": [
              "Synced 5 W&B file(s), 0 media file(s), 0 artifact file(s) and 0 other file(s)"
            ],
            "text/plain": [
              "<IPython.core.display.HTML object>"
            ]
          },
          "metadata": {}
        },
        {
          "output_type": "display_data",
          "data": {
            "text/html": [
              "\n",
              "                    <br/>Synced <strong style=\"color:#cdcd00\">easy-sweep-3</strong>: <a href=\"https://wandb.ai/tommyg/test_casting_2/runs/nag6qed3\" target=\"_blank\">https://wandb.ai/tommyg/test_casting_2/runs/nag6qed3</a><br/>\n",
              "                "
            ],
            "text/plain": [
              "<IPython.core.display.HTML object>"
            ]
          },
          "metadata": {}
        },
        {
          "output_type": "stream",
          "name": "stderr",
          "text": [
            "\u001b[34m\u001b[1mwandb\u001b[0m: Agent Starting Run: hsip18hl with config:\n",
            "\u001b[34m\u001b[1mwandb\u001b[0m: \tbatch_size: 26\n",
            "\u001b[34m\u001b[1mwandb\u001b[0m: \tlearning_rate: 0.0002394975229761437\n",
            "\u001b[34m\u001b[1mwandb\u001b[0m: \u001b[33mWARNING\u001b[0m Ignored wandb.init() arg project when running a sweep\n",
            "\u001b[34m\u001b[1mwandb\u001b[0m: \u001b[33mWARNING\u001b[0m Ignored wandb.init() arg entity when running a sweep\n"
          ]
        },
        {
          "output_type": "display_data",
          "data": {
            "text/html": [
              "\n",
              "                Tracking run with wandb version 0.12.2<br/>\n",
              "                Syncing run <strong style=\"color:#cdcd00\">still-sweep-4</strong> to <a href=\"https://wandb.ai\" target=\"_blank\">Weights & Biases</a> <a href=\"https://docs.wandb.com/integrations/jupyter.html\" target=\"_blank\">(Documentation)</a>.<br/>\n",
              "                Project page: <a href=\"https://wandb.ai/tommyg/test_casting_2\" target=\"_blank\">https://wandb.ai/tommyg/test_casting_2</a><br/>\n",
              "                Sweep page: <a href=\"https://wandb.ai/tommyg/test_casting_2/sweeps/6rkvcus8\" target=\"_blank\">https://wandb.ai/tommyg/test_casting_2/sweeps/6rkvcus8</a><br/>\n",
              "Run page: <a href=\"https://wandb.ai/tommyg/test_casting_2/runs/hsip18hl\" target=\"_blank\">https://wandb.ai/tommyg/test_casting_2/runs/hsip18hl</a><br/>\n",
              "                Run data is saved locally in <code>/content/wandb/run-20210922_115419-hsip18hl</code><br/><br/>\n",
              "            "
            ],
            "text/plain": [
              "<IPython.core.display.HTML object>"
            ]
          },
          "metadata": {}
        },
        {
          "output_type": "stream",
          "name": "stdout",
          "text": [
            "FOLD: 1 | EPOCH:01 | train_loss:0.559904 | valid_loss:4.502429 | time:4.2s \n",
            "FOLD: 1 | EPOCH:02 | train_loss:0.226484 | valid_loss:3.858711 | time:4.0s \n",
            "FOLD: 1 | EPOCH:03 | train_loss:0.097159 | valid_loss:0.202796 | time:3.9s \n",
            "FOLD: 1 | EPOCH:04 | train_loss:0.034299 | valid_loss:0.029847 | time:4.0s \n",
            "FOLD: 1 | EPOCH:05 | train_loss:0.010763 | valid_loss:0.018198 | time:4.0s \n",
            "FOLD: 1 | EPOCH:06 | train_loss:0.006593 | valid_loss:0.019996 | time:3.8s \n",
            "FOLD: 1 | EPOCH:07 | train_loss:0.002949 | valid_loss:0.006545 | time:4.0s \n",
            "FOLD: 1 | EPOCH:08 | train_loss:0.020324 | valid_loss:0.025582 | time:3.7s \n",
            "FOLD: 1 | EPOCH:09 | train_loss:0.023313 | valid_loss:0.042778 | time:3.8s \n",
            "FOLD: 1 | EPOCH:10 | train_loss:0.003400 | valid_loss:0.081943 | time:3.8s \n",
            "final valid_loss :  0.08194314048159868\n",
            "stap= 0\n",
            "stap= 1\n",
            "stap= 2\n",
            "stap= 3\n"
          ]
        },
        {
          "output_type": "display_data",
          "data": {
            "text/html": [
              "<br/>Waiting for W&B process to finish, PID 776<br/>Program ended successfully."
            ],
            "text/plain": [
              "<IPython.core.display.HTML object>"
            ]
          },
          "metadata": {}
        },
        {
          "output_type": "display_data",
          "data": {
            "application/vnd.jupyter.widget-view+json": {
              "model_id": "c235b510651249cdace6cd26a6930142",
              "version_minor": 0,
              "version_major": 2
            },
            "text/plain": [
              "VBox(children=(Label(value=' 0.00MB of 0.00MB uploaded (0.00MB deduped)\\r'), FloatProgress(value=1.0, max=1.0)…"
            ]
          },
          "metadata": {}
        },
        {
          "output_type": "display_data",
          "data": {
            "text/html": [
              "Find user logs for this run at: <code>/content/wandb/run-20210922_115419-hsip18hl/logs/debug.log</code>"
            ],
            "text/plain": [
              "<IPython.core.display.HTML object>"
            ]
          },
          "metadata": {}
        },
        {
          "output_type": "display_data",
          "data": {
            "text/html": [
              "Find internal logs for this run at: <code>/content/wandb/run-20210922_115419-hsip18hl/logs/debug-internal.log</code>"
            ],
            "text/plain": [
              "<IPython.core.display.HTML object>"
            ]
          },
          "metadata": {}
        },
        {
          "output_type": "display_data",
          "data": {
            "text/html": [
              "<h3>Run summary:</h3><br/><style>\n",
              "    table.wandb td:nth-child(1) { padding: 0 10px; text-align: right }\n",
              "    </style><table class=\"wandb\">\n",
              "<tr><td>epoch</td><td>10</td></tr><tr><td>loss</td><td>0.08194</td></tr></table>"
            ],
            "text/plain": [
              "<IPython.core.display.HTML object>"
            ]
          },
          "metadata": {}
        },
        {
          "output_type": "display_data",
          "data": {
            "text/html": [
              "<h3>Run history:</h3><br/><style>\n",
              "    table.wandb td:nth-child(1) { padding: 0 10px; text-align: right }\n",
              "    </style><table class=\"wandb\">\n",
              "<tr><td>epoch</td><td>▁▂▃▃▄▅▆▆▇█</td></tr><tr><td>loss</td><td>█▇▁▁▁▁▁▁▁▁</td></tr></table><br/>"
            ],
            "text/plain": [
              "<IPython.core.display.HTML object>"
            ]
          },
          "metadata": {}
        },
        {
          "output_type": "display_data",
          "data": {
            "text/html": [
              "Synced 5 W&B file(s), 0 media file(s), 0 artifact file(s) and 0 other file(s)"
            ],
            "text/plain": [
              "<IPython.core.display.HTML object>"
            ]
          },
          "metadata": {}
        },
        {
          "output_type": "display_data",
          "data": {
            "text/html": [
              "\n",
              "                    <br/>Synced <strong style=\"color:#cdcd00\">still-sweep-4</strong>: <a href=\"https://wandb.ai/tommyg/test_casting_2/runs/hsip18hl\" target=\"_blank\">https://wandb.ai/tommyg/test_casting_2/runs/hsip18hl</a><br/>\n",
              "                "
            ],
            "text/plain": [
              "<IPython.core.display.HTML object>"
            ]
          },
          "metadata": {}
        },
        {
          "output_type": "stream",
          "name": "stderr",
          "text": [
            "\u001b[34m\u001b[1mwandb\u001b[0m: \u001b[33mWARNING\u001b[0m Ignored wandb.init() arg project when running a sweep\n",
            "\u001b[34m\u001b[1mwandb\u001b[0m: \u001b[33mWARNING\u001b[0m Ignored wandb.init() arg entity when running a sweep\n"
          ]
        },
        {
          "output_type": "display_data",
          "data": {
            "text/html": [
              "\n",
              "                Tracking run with wandb version 0.12.2<br/>\n",
              "                Syncing run <strong style=\"color:#cdcd00\">still-sweep-4</strong> to <a href=\"https://wandb.ai\" target=\"_blank\">Weights & Biases</a> <a href=\"https://docs.wandb.com/integrations/jupyter.html\" target=\"_blank\">(Documentation)</a>.<br/>\n",
              "                Project page: <a href=\"https://wandb.ai/tommyg/test_casting_2\" target=\"_blank\">https://wandb.ai/tommyg/test_casting_2</a><br/>\n",
              "                Sweep page: <a href=\"https://wandb.ai/tommyg/test_casting_2/sweeps/6rkvcus8\" target=\"_blank\">https://wandb.ai/tommyg/test_casting_2/sweeps/6rkvcus8</a><br/>\n",
              "Run page: <a href=\"https://wandb.ai/tommyg/test_casting_2/runs/hsip18hl\" target=\"_blank\">https://wandb.ai/tommyg/test_casting_2/runs/hsip18hl</a><br/>\n",
              "                Run data is saved locally in <code>/content/wandb/run-20210922_115506-hsip18hl</code><br/><br/>\n",
              "            "
            ],
            "text/plain": [
              "<IPython.core.display.HTML object>"
            ]
          },
          "metadata": {}
        },
        {
          "output_type": "stream",
          "name": "stdout",
          "text": [
            "FOLD: 2 | EPOCH:01 | train_loss:0.547595 | valid_loss:12.462460 | time:4.1s \n",
            "FOLD: 2 | EPOCH:02 | train_loss:0.209686 | valid_loss:1.674155 | time:4.0s \n",
            "FOLD: 2 | EPOCH:03 | train_loss:0.071932 | valid_loss:0.213954 | time:4.0s \n",
            "FOLD: 2 | EPOCH:04 | train_loss:0.045836 | valid_loss:0.038100 | time:4.0s \n",
            "FOLD: 2 | EPOCH:05 | train_loss:0.015628 | valid_loss:0.025653 | time:3.9s \n",
            "FOLD: 2 | EPOCH:06 | train_loss:0.020463 | valid_loss:0.026090 | time:3.8s \n",
            "FOLD: 2 | EPOCH:07 | train_loss:0.007781 | valid_loss:0.029436 | time:3.8s \n",
            "FOLD: 2 | EPOCH:08 | train_loss:0.024448 | valid_loss:0.027517 | time:3.8s \n",
            "FOLD: 2 | EPOCH:09 | train_loss:0.052749 | valid_loss:0.030538 | time:3.8s \n",
            "FOLD: 2 | EPOCH:10 | train_loss:0.050901 | valid_loss:0.075891 | time:3.8s \n",
            "final valid_loss :  0.07589146913960576\n",
            "stap= 0\n",
            "stap= 1\n",
            "stap= 2\n",
            "stap= 3\n"
          ]
        },
        {
          "output_type": "display_data",
          "data": {
            "text/html": [
              "<br/>Waiting for W&B process to finish, PID 811<br/>Program ended successfully."
            ],
            "text/plain": [
              "<IPython.core.display.HTML object>"
            ]
          },
          "metadata": {}
        },
        {
          "output_type": "display_data",
          "data": {
            "application/vnd.jupyter.widget-view+json": {
              "model_id": "fb5dd48185294d9fa9b4f623706533d7",
              "version_minor": 0,
              "version_major": 2
            },
            "text/plain": [
              "VBox(children=(Label(value=' 0.00MB of 0.00MB uploaded (0.00MB deduped)\\r'), FloatProgress(value=1.0, max=1.0)…"
            ]
          },
          "metadata": {}
        },
        {
          "output_type": "display_data",
          "data": {
            "text/html": [
              "Find user logs for this run at: <code>/content/wandb/run-20210922_115506-hsip18hl/logs/debug.log</code>"
            ],
            "text/plain": [
              "<IPython.core.display.HTML object>"
            ]
          },
          "metadata": {}
        },
        {
          "output_type": "display_data",
          "data": {
            "text/html": [
              "Find internal logs for this run at: <code>/content/wandb/run-20210922_115506-hsip18hl/logs/debug-internal.log</code>"
            ],
            "text/plain": [
              "<IPython.core.display.HTML object>"
            ]
          },
          "metadata": {}
        },
        {
          "output_type": "display_data",
          "data": {
            "text/html": [
              "<h3>Run summary:</h3><br/><style>\n",
              "    table.wandb td:nth-child(1) { padding: 0 10px; text-align: right }\n",
              "    </style><table class=\"wandb\">\n",
              "<tr><td>epoch</td><td>10</td></tr><tr><td>loss</td><td>0.07589</td></tr></table>"
            ],
            "text/plain": [
              "<IPython.core.display.HTML object>"
            ]
          },
          "metadata": {}
        },
        {
          "output_type": "display_data",
          "data": {
            "text/html": [
              "<h3>Run history:</h3><br/><style>\n",
              "    table.wandb td:nth-child(1) { padding: 0 10px; text-align: right }\n",
              "    </style><table class=\"wandb\">\n",
              "<tr><td>epoch</td><td>▁▂▃▃▄▅▆▆▇█</td></tr><tr><td>loss</td><td>█▂▁▁▁▁▁▁▁▁</td></tr></table><br/>"
            ],
            "text/plain": [
              "<IPython.core.display.HTML object>"
            ]
          },
          "metadata": {}
        },
        {
          "output_type": "display_data",
          "data": {
            "text/html": [
              "Synced 5 W&B file(s), 0 media file(s), 0 artifact file(s) and 0 other file(s)"
            ],
            "text/plain": [
              "<IPython.core.display.HTML object>"
            ]
          },
          "metadata": {}
        },
        {
          "output_type": "display_data",
          "data": {
            "text/html": [
              "\n",
              "                    <br/>Synced <strong style=\"color:#cdcd00\">still-sweep-4</strong>: <a href=\"https://wandb.ai/tommyg/test_casting_2/runs/hsip18hl\" target=\"_blank\">https://wandb.ai/tommyg/test_casting_2/runs/hsip18hl</a><br/>\n",
              "                "
            ],
            "text/plain": [
              "<IPython.core.display.HTML object>"
            ]
          },
          "metadata": {}
        },
        {
          "output_type": "stream",
          "name": "stderr",
          "text": [
            "\u001b[34m\u001b[1mwandb\u001b[0m: \u001b[33mWARNING\u001b[0m Ignored wandb.init() arg project when running a sweep\n",
            "\u001b[34m\u001b[1mwandb\u001b[0m: \u001b[33mWARNING\u001b[0m Ignored wandb.init() arg entity when running a sweep\n"
          ]
        },
        {
          "output_type": "display_data",
          "data": {
            "text/html": [
              "\n",
              "                Tracking run with wandb version 0.12.2<br/>\n",
              "                Syncing run <strong style=\"color:#cdcd00\">still-sweep-4</strong> to <a href=\"https://wandb.ai\" target=\"_blank\">Weights & Biases</a> <a href=\"https://docs.wandb.com/integrations/jupyter.html\" target=\"_blank\">(Documentation)</a>.<br/>\n",
              "                Project page: <a href=\"https://wandb.ai/tommyg/test_casting_2\" target=\"_blank\">https://wandb.ai/tommyg/test_casting_2</a><br/>\n",
              "                Sweep page: <a href=\"https://wandb.ai/tommyg/test_casting_2/sweeps/6rkvcus8\" target=\"_blank\">https://wandb.ai/tommyg/test_casting_2/sweeps/6rkvcus8</a><br/>\n",
              "Run page: <a href=\"https://wandb.ai/tommyg/test_casting_2/runs/hsip18hl\" target=\"_blank\">https://wandb.ai/tommyg/test_casting_2/runs/hsip18hl</a><br/>\n",
              "                Run data is saved locally in <code>/content/wandb/run-20210922_115553-hsip18hl</code><br/><br/>\n",
              "            "
            ],
            "text/plain": [
              "<IPython.core.display.HTML object>"
            ]
          },
          "metadata": {}
        },
        {
          "output_type": "stream",
          "name": "stdout",
          "text": [
            "FOLD: 3 | EPOCH:01 | train_loss:0.507860 | valid_loss:3.399165 | time:4.1s \n",
            "FOLD: 3 | EPOCH:02 | train_loss:0.169374 | valid_loss:1.103678 | time:3.9s \n",
            "FOLD: 3 | EPOCH:03 | train_loss:0.102624 | valid_loss:0.152039 | time:4.0s \n",
            "FOLD: 3 | EPOCH:04 | train_loss:0.044373 | valid_loss:0.041458 | time:4.0s \n",
            "FOLD: 3 | EPOCH:05 | train_loss:0.014960 | valid_loss:0.063759 | time:3.8s \n",
            "FOLD: 3 | EPOCH:06 | train_loss:0.020523 | valid_loss:0.017205 | time:3.9s \n",
            "FOLD: 3 | EPOCH:07 | train_loss:0.078462 | valid_loss:0.062726 | time:3.8s \n",
            "FOLD: 3 | EPOCH:08 | train_loss:0.017206 | valid_loss:0.988580 | time:3.9s \n",
            "FOLD: 3 | EPOCH:09 | train_loss:0.023260 | valid_loss:0.089137 | time:3.8s \n",
            "FOLD: 3 | EPOCH:10 | train_loss:0.026271 | valid_loss:0.068525 | time:3.8s \n",
            "final valid_loss :  0.06852512774639763\n",
            "stap= 0\n",
            "stap= 1\n",
            "stap= 2\n",
            "stap= 3\n"
          ]
        },
        {
          "output_type": "display_data",
          "data": {
            "text/html": [
              "<br/>Waiting for W&B process to finish, PID 846<br/>Program ended successfully."
            ],
            "text/plain": [
              "<IPython.core.display.HTML object>"
            ]
          },
          "metadata": {}
        },
        {
          "output_type": "display_data",
          "data": {
            "application/vnd.jupyter.widget-view+json": {
              "model_id": "0b9f65dfa8c1443cb261cda01073d179",
              "version_minor": 0,
              "version_major": 2
            },
            "text/plain": [
              "VBox(children=(Label(value=' 0.00MB of 0.00MB uploaded (0.00MB deduped)\\r'), FloatProgress(value=1.0, max=1.0)…"
            ]
          },
          "metadata": {}
        },
        {
          "output_type": "display_data",
          "data": {
            "text/html": [
              "Find user logs for this run at: <code>/content/wandb/run-20210922_115553-hsip18hl/logs/debug.log</code>"
            ],
            "text/plain": [
              "<IPython.core.display.HTML object>"
            ]
          },
          "metadata": {}
        },
        {
          "output_type": "display_data",
          "data": {
            "text/html": [
              "Find internal logs for this run at: <code>/content/wandb/run-20210922_115553-hsip18hl/logs/debug-internal.log</code>"
            ],
            "text/plain": [
              "<IPython.core.display.HTML object>"
            ]
          },
          "metadata": {}
        },
        {
          "output_type": "display_data",
          "data": {
            "text/html": [
              "<h3>Run summary:</h3><br/><style>\n",
              "    table.wandb td:nth-child(1) { padding: 0 10px; text-align: right }\n",
              "    </style><table class=\"wandb\">\n",
              "<tr><td>epoch</td><td>10</td></tr><tr><td>loss</td><td>0.06853</td></tr></table>"
            ],
            "text/plain": [
              "<IPython.core.display.HTML object>"
            ]
          },
          "metadata": {}
        },
        {
          "output_type": "display_data",
          "data": {
            "text/html": [
              "<h3>Run history:</h3><br/><style>\n",
              "    table.wandb td:nth-child(1) { padding: 0 10px; text-align: right }\n",
              "    </style><table class=\"wandb\">\n",
              "<tr><td>epoch</td><td>▁▂▃▃▄▅▆▆▇█</td></tr><tr><td>loss</td><td>█▃▁▁▁▁▁▃▁▁</td></tr></table><br/>"
            ],
            "text/plain": [
              "<IPython.core.display.HTML object>"
            ]
          },
          "metadata": {}
        },
        {
          "output_type": "display_data",
          "data": {
            "text/html": [
              "Synced 5 W&B file(s), 0 media file(s), 0 artifact file(s) and 0 other file(s)"
            ],
            "text/plain": [
              "<IPython.core.display.HTML object>"
            ]
          },
          "metadata": {}
        },
        {
          "output_type": "display_data",
          "data": {
            "text/html": [
              "\n",
              "                    <br/>Synced <strong style=\"color:#cdcd00\">still-sweep-4</strong>: <a href=\"https://wandb.ai/tommyg/test_casting_2/runs/hsip18hl\" target=\"_blank\">https://wandb.ai/tommyg/test_casting_2/runs/hsip18hl</a><br/>\n",
              "                "
            ],
            "text/plain": [
              "<IPython.core.display.HTML object>"
            ]
          },
          "metadata": {}
        },
        {
          "output_type": "stream",
          "name": "stderr",
          "text": [
            "\u001b[34m\u001b[1mwandb\u001b[0m: Agent Starting Run: o9fmykh6 with config:\n",
            "\u001b[34m\u001b[1mwandb\u001b[0m: \tbatch_size: 22\n",
            "\u001b[34m\u001b[1mwandb\u001b[0m: \tlearning_rate: 0.000806186070476991\n",
            "\u001b[34m\u001b[1mwandb\u001b[0m: \u001b[33mWARNING\u001b[0m Ignored wandb.init() arg project when running a sweep\n",
            "\u001b[34m\u001b[1mwandb\u001b[0m: \u001b[33mWARNING\u001b[0m Ignored wandb.init() arg entity when running a sweep\n"
          ]
        },
        {
          "output_type": "display_data",
          "data": {
            "text/html": [
              "\n",
              "                Tracking run with wandb version 0.12.2<br/>\n",
              "                Syncing run <strong style=\"color:#cdcd00\">legendary-sweep-5</strong> to <a href=\"https://wandb.ai\" target=\"_blank\">Weights & Biases</a> <a href=\"https://docs.wandb.com/integrations/jupyter.html\" target=\"_blank\">(Documentation)</a>.<br/>\n",
              "                Project page: <a href=\"https://wandb.ai/tommyg/test_casting_2\" target=\"_blank\">https://wandb.ai/tommyg/test_casting_2</a><br/>\n",
              "                Sweep page: <a href=\"https://wandb.ai/tommyg/test_casting_2/sweeps/6rkvcus8\" target=\"_blank\">https://wandb.ai/tommyg/test_casting_2/sweeps/6rkvcus8</a><br/>\n",
              "Run page: <a href=\"https://wandb.ai/tommyg/test_casting_2/runs/o9fmykh6\" target=\"_blank\">https://wandb.ai/tommyg/test_casting_2/runs/o9fmykh6</a><br/>\n",
              "                Run data is saved locally in <code>/content/wandb/run-20210922_115642-o9fmykh6</code><br/><br/>\n",
              "            "
            ],
            "text/plain": [
              "<IPython.core.display.HTML object>"
            ]
          },
          "metadata": {}
        },
        {
          "output_type": "stream",
          "name": "stdout",
          "text": [
            "FOLD: 1 | EPOCH:01 | train_loss:0.365128 | valid_loss:3.258156 | time:4.1s \n",
            "FOLD: 1 | EPOCH:02 | train_loss:0.223035 | valid_loss:0.546348 | time:4.0s \n",
            "FOLD: 1 | EPOCH:03 | train_loss:0.124293 | valid_loss:0.326786 | time:4.1s \n",
            "FOLD: 1 | EPOCH:04 | train_loss:0.083130 | valid_loss:0.026158 | time:4.0s \n",
            "FOLD: 1 | EPOCH:05 | train_loss:0.138105 | valid_loss:0.093455 | time:3.8s \n",
            "FOLD: 1 | EPOCH:06 | train_loss:0.038511 | valid_loss:0.066612 | time:3.8s \n",
            "FOLD: 1 | EPOCH:07 | train_loss:0.043479 | valid_loss:0.018825 | time:4.0s \n",
            "FOLD: 1 | EPOCH:08 | train_loss:0.013232 | valid_loss:0.206973 | time:3.9s \n",
            "FOLD: 1 | EPOCH:09 | train_loss:0.011526 | valid_loss:0.006754 | time:4.1s \n",
            "FOLD: 1 | EPOCH:10 | train_loss:0.001623 | valid_loss:0.010084 | time:3.9s \n",
            "final valid_loss :  0.01008395657663641\n",
            "stap= 0\n",
            "stap= 1\n",
            "stap= 2\n",
            "stap= 3\n",
            "stap= 4\n"
          ]
        },
        {
          "output_type": "display_data",
          "data": {
            "text/html": [
              "<br/>Waiting for W&B process to finish, PID 883<br/>Program ended successfully."
            ],
            "text/plain": [
              "<IPython.core.display.HTML object>"
            ]
          },
          "metadata": {}
        },
        {
          "output_type": "display_data",
          "data": {
            "application/vnd.jupyter.widget-view+json": {
              "model_id": "7a48c95d6d6645ca807d5d1ed197205a",
              "version_minor": 0,
              "version_major": 2
            },
            "text/plain": [
              "VBox(children=(Label(value=' 0.00MB of 0.00MB uploaded (0.00MB deduped)\\r'), FloatProgress(value=1.0, max=1.0)…"
            ]
          },
          "metadata": {}
        },
        {
          "output_type": "display_data",
          "data": {
            "text/html": [
              "Find user logs for this run at: <code>/content/wandb/run-20210922_115642-o9fmykh6/logs/debug.log</code>"
            ],
            "text/plain": [
              "<IPython.core.display.HTML object>"
            ]
          },
          "metadata": {}
        },
        {
          "output_type": "display_data",
          "data": {
            "text/html": [
              "Find internal logs for this run at: <code>/content/wandb/run-20210922_115642-o9fmykh6/logs/debug-internal.log</code>"
            ],
            "text/plain": [
              "<IPython.core.display.HTML object>"
            ]
          },
          "metadata": {}
        },
        {
          "output_type": "display_data",
          "data": {
            "text/html": [
              "<h3>Run summary:</h3><br/><style>\n",
              "    table.wandb td:nth-child(1) { padding: 0 10px; text-align: right }\n",
              "    </style><table class=\"wandb\">\n",
              "<tr><td>epoch</td><td>10</td></tr><tr><td>loss</td><td>0.01008</td></tr></table>"
            ],
            "text/plain": [
              "<IPython.core.display.HTML object>"
            ]
          },
          "metadata": {}
        },
        {
          "output_type": "display_data",
          "data": {
            "text/html": [
              "<h3>Run history:</h3><br/><style>\n",
              "    table.wandb td:nth-child(1) { padding: 0 10px; text-align: right }\n",
              "    </style><table class=\"wandb\">\n",
              "<tr><td>epoch</td><td>▁▂▃▃▄▅▆▆▇█</td></tr><tr><td>loss</td><td>█▂▂▁▁▁▁▁▁▁</td></tr></table><br/>"
            ],
            "text/plain": [
              "<IPython.core.display.HTML object>"
            ]
          },
          "metadata": {}
        },
        {
          "output_type": "display_data",
          "data": {
            "text/html": [
              "Synced 5 W&B file(s), 0 media file(s), 0 artifact file(s) and 0 other file(s)"
            ],
            "text/plain": [
              "<IPython.core.display.HTML object>"
            ]
          },
          "metadata": {}
        },
        {
          "output_type": "display_data",
          "data": {
            "text/html": [
              "\n",
              "                    <br/>Synced <strong style=\"color:#cdcd00\">legendary-sweep-5</strong>: <a href=\"https://wandb.ai/tommyg/test_casting_2/runs/o9fmykh6\" target=\"_blank\">https://wandb.ai/tommyg/test_casting_2/runs/o9fmykh6</a><br/>\n",
              "                "
            ],
            "text/plain": [
              "<IPython.core.display.HTML object>"
            ]
          },
          "metadata": {}
        },
        {
          "output_type": "stream",
          "name": "stderr",
          "text": [
            "\u001b[34m\u001b[1mwandb\u001b[0m: \u001b[33mWARNING\u001b[0m Ignored wandb.init() arg project when running a sweep\n",
            "\u001b[34m\u001b[1mwandb\u001b[0m: \u001b[33mWARNING\u001b[0m Ignored wandb.init() arg entity when running a sweep\n"
          ]
        },
        {
          "output_type": "display_data",
          "data": {
            "text/html": [
              "\n",
              "                Tracking run with wandb version 0.12.2<br/>\n",
              "                Syncing run <strong style=\"color:#cdcd00\">legendary-sweep-5</strong> to <a href=\"https://wandb.ai\" target=\"_blank\">Weights & Biases</a> <a href=\"https://docs.wandb.com/integrations/jupyter.html\" target=\"_blank\">(Documentation)</a>.<br/>\n",
              "                Project page: <a href=\"https://wandb.ai/tommyg/test_casting_2\" target=\"_blank\">https://wandb.ai/tommyg/test_casting_2</a><br/>\n",
              "                Sweep page: <a href=\"https://wandb.ai/tommyg/test_casting_2/sweeps/6rkvcus8\" target=\"_blank\">https://wandb.ai/tommyg/test_casting_2/sweeps/6rkvcus8</a><br/>\n",
              "Run page: <a href=\"https://wandb.ai/tommyg/test_casting_2/runs/o9fmykh6\" target=\"_blank\">https://wandb.ai/tommyg/test_casting_2/runs/o9fmykh6</a><br/>\n",
              "                Run data is saved locally in <code>/content/wandb/run-20210922_115729-o9fmykh6</code><br/><br/>\n",
              "            "
            ],
            "text/plain": [
              "<IPython.core.display.HTML object>"
            ]
          },
          "metadata": {}
        },
        {
          "output_type": "stream",
          "name": "stdout",
          "text": [
            "FOLD: 2 | EPOCH:01 | train_loss:0.386021 | valid_loss:2.459163 | time:4.1s \n",
            "FOLD: 2 | EPOCH:02 | train_loss:0.190540 | valid_loss:0.388388 | time:4.0s \n",
            "FOLD: 2 | EPOCH:03 | train_loss:0.107761 | valid_loss:0.327798 | time:4.0s \n",
            "FOLD: 2 | EPOCH:04 | train_loss:0.053200 | valid_loss:0.505753 | time:3.9s \n",
            "FOLD: 2 | EPOCH:05 | train_loss:0.020018 | valid_loss:0.061629 | time:4.2s \n",
            "FOLD: 2 | EPOCH:06 | train_loss:0.017979 | valid_loss:0.139837 | time:3.9s \n",
            "FOLD: 2 | EPOCH:07 | train_loss:0.003082 | valid_loss:0.111524 | time:3.8s \n",
            "FOLD: 2 | EPOCH:08 | train_loss:0.006605 | valid_loss:0.012743 | time:4.2s \n",
            "FOLD: 2 | EPOCH:09 | train_loss:0.007504 | valid_loss:0.003271 | time:4.0s \n",
            "FOLD: 2 | EPOCH:10 | train_loss:0.002603 | valid_loss:0.002713 | time:4.0s \n",
            "final valid_loss :  0.002712689134568791\n",
            "stap= 0\n",
            "stap= 1\n",
            "stap= 2\n",
            "stap= 3\n",
            "stap= 4\n"
          ]
        },
        {
          "output_type": "display_data",
          "data": {
            "text/html": [
              "<br/>Waiting for W&B process to finish, PID 916<br/>Program ended successfully."
            ],
            "text/plain": [
              "<IPython.core.display.HTML object>"
            ]
          },
          "metadata": {}
        },
        {
          "output_type": "display_data",
          "data": {
            "application/vnd.jupyter.widget-view+json": {
              "model_id": "201c7edc6aea4621a67201ede819abfc",
              "version_minor": 0,
              "version_major": 2
            },
            "text/plain": [
              "VBox(children=(Label(value=' 0.00MB of 0.00MB uploaded (0.00MB deduped)\\r'), FloatProgress(value=1.0, max=1.0)…"
            ]
          },
          "metadata": {}
        },
        {
          "output_type": "display_data",
          "data": {
            "text/html": [
              "Find user logs for this run at: <code>/content/wandb/run-20210922_115729-o9fmykh6/logs/debug.log</code>"
            ],
            "text/plain": [
              "<IPython.core.display.HTML object>"
            ]
          },
          "metadata": {}
        },
        {
          "output_type": "display_data",
          "data": {
            "text/html": [
              "Find internal logs for this run at: <code>/content/wandb/run-20210922_115729-o9fmykh6/logs/debug-internal.log</code>"
            ],
            "text/plain": [
              "<IPython.core.display.HTML object>"
            ]
          },
          "metadata": {}
        },
        {
          "output_type": "display_data",
          "data": {
            "text/html": [
              "<h3>Run summary:</h3><br/><style>\n",
              "    table.wandb td:nth-child(1) { padding: 0 10px; text-align: right }\n",
              "    </style><table class=\"wandb\">\n",
              "<tr><td>epoch</td><td>10</td></tr><tr><td>loss</td><td>0.00271</td></tr></table>"
            ],
            "text/plain": [
              "<IPython.core.display.HTML object>"
            ]
          },
          "metadata": {}
        },
        {
          "output_type": "display_data",
          "data": {
            "text/html": [
              "<h3>Run history:</h3><br/><style>\n",
              "    table.wandb td:nth-child(1) { padding: 0 10px; text-align: right }\n",
              "    </style><table class=\"wandb\">\n",
              "<tr><td>epoch</td><td>▁▂▃▃▄▅▆▆▇█</td></tr><tr><td>loss</td><td>█▂▂▂▁▁▁▁▁▁</td></tr></table><br/>"
            ],
            "text/plain": [
              "<IPython.core.display.HTML object>"
            ]
          },
          "metadata": {}
        },
        {
          "output_type": "display_data",
          "data": {
            "text/html": [
              "Synced 5 W&B file(s), 0 media file(s), 0 artifact file(s) and 0 other file(s)"
            ],
            "text/plain": [
              "<IPython.core.display.HTML object>"
            ]
          },
          "metadata": {}
        },
        {
          "output_type": "display_data",
          "data": {
            "text/html": [
              "\n",
              "                    <br/>Synced <strong style=\"color:#cdcd00\">legendary-sweep-5</strong>: <a href=\"https://wandb.ai/tommyg/test_casting_2/runs/o9fmykh6\" target=\"_blank\">https://wandb.ai/tommyg/test_casting_2/runs/o9fmykh6</a><br/>\n",
              "                "
            ],
            "text/plain": [
              "<IPython.core.display.HTML object>"
            ]
          },
          "metadata": {}
        },
        {
          "output_type": "stream",
          "name": "stderr",
          "text": [
            "\u001b[34m\u001b[1mwandb\u001b[0m: \u001b[33mWARNING\u001b[0m Ignored wandb.init() arg project when running a sweep\n",
            "\u001b[34m\u001b[1mwandb\u001b[0m: \u001b[33mWARNING\u001b[0m Ignored wandb.init() arg entity when running a sweep\n"
          ]
        },
        {
          "output_type": "display_data",
          "data": {
            "text/html": [
              "\n",
              "                Tracking run with wandb version 0.12.2<br/>\n",
              "                Syncing run <strong style=\"color:#cdcd00\">legendary-sweep-5</strong> to <a href=\"https://wandb.ai\" target=\"_blank\">Weights & Biases</a> <a href=\"https://docs.wandb.com/integrations/jupyter.html\" target=\"_blank\">(Documentation)</a>.<br/>\n",
              "                Project page: <a href=\"https://wandb.ai/tommyg/test_casting_2\" target=\"_blank\">https://wandb.ai/tommyg/test_casting_2</a><br/>\n",
              "                Sweep page: <a href=\"https://wandb.ai/tommyg/test_casting_2/sweeps/6rkvcus8\" target=\"_blank\">https://wandb.ai/tommyg/test_casting_2/sweeps/6rkvcus8</a><br/>\n",
              "Run page: <a href=\"https://wandb.ai/tommyg/test_casting_2/runs/o9fmykh6\" target=\"_blank\">https://wandb.ai/tommyg/test_casting_2/runs/o9fmykh6</a><br/>\n",
              "                Run data is saved locally in <code>/content/wandb/run-20210922_115817-o9fmykh6</code><br/><br/>\n",
              "            "
            ],
            "text/plain": [
              "<IPython.core.display.HTML object>"
            ]
          },
          "metadata": {}
        },
        {
          "output_type": "stream",
          "name": "stdout",
          "text": [
            "FOLD: 3 | EPOCH:01 | train_loss:0.345273 | valid_loss:20.925450 | time:4.1s \n",
            "FOLD: 3 | EPOCH:02 | train_loss:0.187301 | valid_loss:5.197004 | time:4.0s \n",
            "FOLD: 3 | EPOCH:03 | train_loss:0.109656 | valid_loss:0.141241 | time:4.1s \n",
            "FOLD: 3 | EPOCH:04 | train_loss:0.040297 | valid_loss:0.139246 | time:4.1s \n",
            "FOLD: 3 | EPOCH:05 | train_loss:0.035800 | valid_loss:0.066142 | time:4.0s \n",
            "FOLD: 3 | EPOCH:06 | train_loss:0.018788 | valid_loss:0.051152 | time:4.1s \n",
            "FOLD: 3 | EPOCH:07 | train_loss:0.036842 | valid_loss:0.035833 | time:4.0s \n",
            "FOLD: 3 | EPOCH:08 | train_loss:0.022405 | valid_loss:0.048973 | time:3.9s \n",
            "FOLD: 3 | EPOCH:09 | train_loss:0.021038 | valid_loss:0.025999 | time:4.1s \n",
            "FOLD: 3 | EPOCH:10 | train_loss:0.008920 | valid_loss:0.009881 | time:4.0s \n",
            "final valid_loss :  0.00988102561677806\n",
            "stap= 0\n",
            "stap= 1\n",
            "stap= 2\n",
            "stap= 3\n",
            "stap= 4\n"
          ]
        },
        {
          "output_type": "display_data",
          "data": {
            "text/html": [
              "<br/>Waiting for W&B process to finish, PID 951<br/>Program ended successfully."
            ],
            "text/plain": [
              "<IPython.core.display.HTML object>"
            ]
          },
          "metadata": {}
        },
        {
          "output_type": "display_data",
          "data": {
            "application/vnd.jupyter.widget-view+json": {
              "model_id": "b2cfbc8dfe9d4f3f9164d2b0c6385a84",
              "version_minor": 0,
              "version_major": 2
            },
            "text/plain": [
              "VBox(children=(Label(value=' 0.00MB of 0.00MB uploaded (0.00MB deduped)\\r'), FloatProgress(value=1.0, max=1.0)…"
            ]
          },
          "metadata": {}
        },
        {
          "output_type": "display_data",
          "data": {
            "text/html": [
              "Find user logs for this run at: <code>/content/wandb/run-20210922_115817-o9fmykh6/logs/debug.log</code>"
            ],
            "text/plain": [
              "<IPython.core.display.HTML object>"
            ]
          },
          "metadata": {}
        },
        {
          "output_type": "display_data",
          "data": {
            "text/html": [
              "Find internal logs for this run at: <code>/content/wandb/run-20210922_115817-o9fmykh6/logs/debug-internal.log</code>"
            ],
            "text/plain": [
              "<IPython.core.display.HTML object>"
            ]
          },
          "metadata": {}
        },
        {
          "output_type": "display_data",
          "data": {
            "text/html": [
              "<h3>Run summary:</h3><br/><style>\n",
              "    table.wandb td:nth-child(1) { padding: 0 10px; text-align: right }\n",
              "    </style><table class=\"wandb\">\n",
              "<tr><td>epoch</td><td>10</td></tr><tr><td>loss</td><td>0.00988</td></tr></table>"
            ],
            "text/plain": [
              "<IPython.core.display.HTML object>"
            ]
          },
          "metadata": {}
        },
        {
          "output_type": "display_data",
          "data": {
            "text/html": [
              "<h3>Run history:</h3><br/><style>\n",
              "    table.wandb td:nth-child(1) { padding: 0 10px; text-align: right }\n",
              "    </style><table class=\"wandb\">\n",
              "<tr><td>epoch</td><td>▁▂▃▃▄▅▆▆▇█</td></tr><tr><td>loss</td><td>█▃▁▁▁▁▁▁▁▁</td></tr></table><br/>"
            ],
            "text/plain": [
              "<IPython.core.display.HTML object>"
            ]
          },
          "metadata": {}
        },
        {
          "output_type": "display_data",
          "data": {
            "text/html": [
              "Synced 5 W&B file(s), 0 media file(s), 0 artifact file(s) and 0 other file(s)"
            ],
            "text/plain": [
              "<IPython.core.display.HTML object>"
            ]
          },
          "metadata": {}
        },
        {
          "output_type": "display_data",
          "data": {
            "text/html": [
              "\n",
              "                    <br/>Synced <strong style=\"color:#cdcd00\">legendary-sweep-5</strong>: <a href=\"https://wandb.ai/tommyg/test_casting_2/runs/o9fmykh6\" target=\"_blank\">https://wandb.ai/tommyg/test_casting_2/runs/o9fmykh6</a><br/>\n",
              "                "
            ],
            "text/plain": [
              "<IPython.core.display.HTML object>"
            ]
          },
          "metadata": {}
        }
      ]
    },
    {
      "cell_type": "code",
      "metadata": {
        "id": "T1IJr9uYeyM-"
      },
      "source": [
        "# print (pred)"
      ],
      "execution_count": 28,
      "outputs": []
    },
    {
      "cell_type": "markdown",
      "metadata": {
        "id": "-jRpbLYev6nt"
      },
      "source": [
        "\n",
        "# 結果出力\n"
      ]
    },
    {
      "cell_type": "markdown",
      "metadata": {
        "id": "-lL-utLGt96J"
      },
      "source": [
        "## サンプルcsv読み込み"
      ]
    },
    {
      "cell_type": "code",
      "metadata": {
        "colab": {
          "base_uri": "https://localhost:8080/",
          "height": 441
        },
        "id": "gP8g8Ns7pimU",
        "outputId": "bfed9778-fc2b-4b33-ab8e-022e4b1a2bab"
      },
      "source": [
        "test_samples = pd.read_csv(BASE_PATH + \"sample_submission.csv\", header=None)\n",
        "\n",
        "pred_df = test_samples.set_axis(['filename', 'y'], axis=1)\n",
        "\n",
        "print(pred_df.shape)\n",
        "pred_df\n"
      ],
      "execution_count": 29,
      "outputs": [
        {
          "output_type": "stream",
          "name": "stdout",
          "text": [
            "(100, 2)\n"
          ]
        },
        {
          "output_type": "execute_result",
          "data": {
            "text/html": [
              "<div>\n",
              "<style scoped>\n",
              "    .dataframe tbody tr th:only-of-type {\n",
              "        vertical-align: middle;\n",
              "    }\n",
              "\n",
              "    .dataframe tbody tr th {\n",
              "        vertical-align: top;\n",
              "    }\n",
              "\n",
              "    .dataframe thead th {\n",
              "        text-align: right;\n",
              "    }\n",
              "</style>\n",
              "<table border=\"1\" class=\"dataframe\">\n",
              "  <thead>\n",
              "    <tr style=\"text-align: right;\">\n",
              "      <th></th>\n",
              "      <th>filename</th>\n",
              "      <th>y</th>\n",
              "    </tr>\n",
              "  </thead>\n",
              "  <tbody>\n",
              "    <tr>\n",
              "      <th>0</th>\n",
              "      <td>19871.jpeg</td>\n",
              "      <td>0</td>\n",
              "    </tr>\n",
              "    <tr>\n",
              "      <th>1</th>\n",
              "      <td>29934.jpeg</td>\n",
              "      <td>0</td>\n",
              "    </tr>\n",
              "    <tr>\n",
              "      <th>2</th>\n",
              "      <td>39826.jpeg</td>\n",
              "      <td>0</td>\n",
              "    </tr>\n",
              "    <tr>\n",
              "      <th>3</th>\n",
              "      <td>49888.jpeg</td>\n",
              "      <td>0</td>\n",
              "    </tr>\n",
              "    <tr>\n",
              "      <th>4</th>\n",
              "      <td>59918.jpeg</td>\n",
              "      <td>0</td>\n",
              "    </tr>\n",
              "    <tr>\n",
              "      <th>...</th>\n",
              "      <td>...</td>\n",
              "      <td>...</td>\n",
              "    </tr>\n",
              "    <tr>\n",
              "      <th>95</th>\n",
              "      <td>969983.jpeg</td>\n",
              "      <td>0</td>\n",
              "    </tr>\n",
              "    <tr>\n",
              "      <th>96</th>\n",
              "      <td>979891.jpeg</td>\n",
              "      <td>0</td>\n",
              "    </tr>\n",
              "    <tr>\n",
              "      <th>97</th>\n",
              "      <td>989921.jpeg</td>\n",
              "      <td>0</td>\n",
              "    </tr>\n",
              "    <tr>\n",
              "      <th>98</th>\n",
              "      <td>999921.jpeg</td>\n",
              "      <td>0</td>\n",
              "    </tr>\n",
              "    <tr>\n",
              "      <th>99</th>\n",
              "      <td>1009937.jpeg</td>\n",
              "      <td>0</td>\n",
              "    </tr>\n",
              "  </tbody>\n",
              "</table>\n",
              "<p>100 rows × 2 columns</p>\n",
              "</div>"
            ],
            "text/plain": [
              "        filename  y\n",
              "0     19871.jpeg  0\n",
              "1     29934.jpeg  0\n",
              "2     39826.jpeg  0\n",
              "3     49888.jpeg  0\n",
              "4     59918.jpeg  0\n",
              "..           ... ..\n",
              "95   969983.jpeg  0\n",
              "96   979891.jpeg  0\n",
              "97   989921.jpeg  0\n",
              "98   999921.jpeg  0\n",
              "99  1009937.jpeg  0\n",
              "\n",
              "[100 rows x 2 columns]"
            ]
          },
          "metadata": {},
          "execution_count": 29
        }
      ]
    },
    {
      "cell_type": "markdown",
      "metadata": {
        "id": "3if5KTfF6ymg"
      },
      "source": [
        "## ファイル名をテストデータで入力している順にする\n",
        "\n",
        "テストディレクトリの読み出し順"
      ]
    },
    {
      "cell_type": "code",
      "metadata": {
        "colab": {
          "base_uri": "https://localhost:8080/",
          "height": 461
        },
        "id": "IoYtVGNa4_G9",
        "outputId": "d75eaeec-a69b-4428-fb07-df3098f213cb"
      },
      "source": [
        "test_data_dir = BASE_PATH + \"test_data/\"\n",
        "test_image_paths = [str(p) for p in Path(test_data_dir).glob(\"*.jpeg\")]\n",
        "\n",
        "print(test_image_paths)\n",
        "\n",
        "for i in range(len(test_image_paths)):\n",
        "  test_image_paths[i] = test_image_paths[i].rsplit('/', 1)[1]\n",
        "\n",
        "pred_df['filename'] = test_image_paths\n",
        "\n",
        "pred_df"
      ],
      "execution_count": 30,
      "outputs": [
        {
          "output_type": "stream",
          "name": "stdout",
          "text": [
            "['/content/drive/MyDrive/Colab Notebooks/SIGNATE_鋳造/test_data/229958.jpeg', '/content/drive/MyDrive/Colab Notebooks/SIGNATE_鋳造/test_data/559880.jpeg', '/content/drive/MyDrive/Colab Notebooks/SIGNATE_鋳造/test_data/699970.jpeg', '/content/drive/MyDrive/Colab Notebooks/SIGNATE_鋳造/test_data/609988.jpeg', '/content/drive/MyDrive/Colab Notebooks/SIGNATE_鋳造/test_data/929917.jpeg', '/content/drive/MyDrive/Colab Notebooks/SIGNATE_鋳造/test_data/89914.jpeg', '/content/drive/MyDrive/Colab Notebooks/SIGNATE_鋳造/test_data/79963.jpeg', '/content/drive/MyDrive/Colab Notebooks/SIGNATE_鋳造/test_data/779897.jpeg', '/content/drive/MyDrive/Colab Notebooks/SIGNATE_鋳造/test_data/549992.jpeg', '/content/drive/MyDrive/Colab Notebooks/SIGNATE_鋳造/test_data/709966.jpeg', '/content/drive/MyDrive/Colab Notebooks/SIGNATE_鋳造/test_data/589947.jpeg', '/content/drive/MyDrive/Colab Notebooks/SIGNATE_鋳造/test_data/949956.jpeg', '/content/drive/MyDrive/Colab Notebooks/SIGNATE_鋳造/test_data/269945.jpeg', '/content/drive/MyDrive/Colab Notebooks/SIGNATE_鋳造/test_data/719946.jpeg', '/content/drive/MyDrive/Colab Notebooks/SIGNATE_鋳造/test_data/889886.jpeg', '/content/drive/MyDrive/Colab Notebooks/SIGNATE_鋳造/test_data/689927.jpeg', '/content/drive/MyDrive/Colab Notebooks/SIGNATE_鋳造/test_data/339986.jpeg', '/content/drive/MyDrive/Colab Notebooks/SIGNATE_鋳造/test_data/849890.jpeg', '/content/drive/MyDrive/Colab Notebooks/SIGNATE_鋳造/test_data/219889.jpeg', '/content/drive/MyDrive/Colab Notebooks/SIGNATE_鋳造/test_data/279912.jpeg', '/content/drive/MyDrive/Colab Notebooks/SIGNATE_鋳造/test_data/409965.jpeg', '/content/drive/MyDrive/Colab Notebooks/SIGNATE_鋳造/test_data/569906.jpeg', '/content/drive/MyDrive/Colab Notebooks/SIGNATE_鋳造/test_data/499929.jpeg', '/content/drive/MyDrive/Colab Notebooks/SIGNATE_鋳造/test_data/399924.jpeg', '/content/drive/MyDrive/Colab Notebooks/SIGNATE_鋳造/test_data/129893.jpeg', '/content/drive/MyDrive/Colab Notebooks/SIGNATE_鋳造/test_data/809920.jpeg', '/content/drive/MyDrive/Colab Notebooks/SIGNATE_鋳造/test_data/309928.jpeg', '/content/drive/MyDrive/Colab Notebooks/SIGNATE_鋳造/test_data/49888.jpeg', '/content/drive/MyDrive/Colab Notebooks/SIGNATE_鋳造/test_data/169903.jpeg', '/content/drive/MyDrive/Colab Notebooks/SIGNATE_鋳造/test_data/979891.jpeg', '/content/drive/MyDrive/Colab Notebooks/SIGNATE_鋳造/test_data/199935.jpeg', '/content/drive/MyDrive/Colab Notebooks/SIGNATE_鋳造/test_data/999921.jpeg', '/content/drive/MyDrive/Colab Notebooks/SIGNATE_鋳造/test_data/139981.jpeg', '/content/drive/MyDrive/Colab Notebooks/SIGNATE_鋳造/test_data/299953.jpeg', '/content/drive/MyDrive/Colab Notebooks/SIGNATE_鋳造/test_data/149997.jpeg', '/content/drive/MyDrive/Colab Notebooks/SIGNATE_鋳造/test_data/729911.jpeg', '/content/drive/MyDrive/Colab Notebooks/SIGNATE_鋳造/test_data/459909.jpeg', '/content/drive/MyDrive/Colab Notebooks/SIGNATE_鋳造/test_data/389908.jpeg', '/content/drive/MyDrive/Colab Notebooks/SIGNATE_鋳造/test_data/429933.jpeg', '/content/drive/MyDrive/Colab Notebooks/SIGNATE_鋳造/test_data/119892.jpeg', '/content/drive/MyDrive/Colab Notebooks/SIGNATE_鋳造/test_data/799977.jpeg', '/content/drive/MyDrive/Colab Notebooks/SIGNATE_鋳造/test_data/859982.jpeg', '/content/drive/MyDrive/Colab Notebooks/SIGNATE_鋳造/test_data/69975.jpeg', '/content/drive/MyDrive/Colab Notebooks/SIGNATE_鋳造/test_data/179915.jpeg', '/content/drive/MyDrive/Colab Notebooks/SIGNATE_鋳造/test_data/599930.jpeg', '/content/drive/MyDrive/Colab Notebooks/SIGNATE_鋳造/test_data/579910.jpeg', '/content/drive/MyDrive/Colab Notebooks/SIGNATE_鋳造/test_data/109996.jpeg', '/content/drive/MyDrive/Colab Notebooks/SIGNATE_鋳造/test_data/1009937.jpeg', '/content/drive/MyDrive/Colab Notebooks/SIGNATE_鋳造/test_data/209923.jpeg', '/content/drive/MyDrive/Colab Notebooks/SIGNATE_鋳造/test_data/969983.jpeg', '/content/drive/MyDrive/Colab Notebooks/SIGNATE_鋳造/test_data/749878.jpeg', '/content/drive/MyDrive/Colab Notebooks/SIGNATE_鋳造/test_data/369861.jpeg', '/content/drive/MyDrive/Colab Notebooks/SIGNATE_鋳造/test_data/539843.jpeg', '/content/drive/MyDrive/Colab Notebooks/SIGNATE_鋳造/test_data/29934.jpeg', '/content/drive/MyDrive/Colab Notebooks/SIGNATE_鋳造/test_data/379924.jpeg', '/content/drive/MyDrive/Colab Notebooks/SIGNATE_鋳造/test_data/879941.jpeg', '/content/drive/MyDrive/Colab Notebooks/SIGNATE_鋳造/test_data/629822.jpeg', '/content/drive/MyDrive/Colab Notebooks/SIGNATE_鋳造/test_data/99851.jpeg', '/content/drive/MyDrive/Colab Notebooks/SIGNATE_鋳造/test_data/509856.jpeg', '/content/drive/MyDrive/Colab Notebooks/SIGNATE_鋳造/test_data/899886.jpeg', '/content/drive/MyDrive/Colab Notebooks/SIGNATE_鋳造/test_data/449821.jpeg', '/content/drive/MyDrive/Colab Notebooks/SIGNATE_鋳造/test_data/479840.jpeg', '/content/drive/MyDrive/Colab Notebooks/SIGNATE_鋳造/test_data/439948.jpeg', '/content/drive/MyDrive/Colab Notebooks/SIGNATE_鋳造/test_data/39826.jpeg', '/content/drive/MyDrive/Colab Notebooks/SIGNATE_鋳造/test_data/839998.jpeg', '/content/drive/MyDrive/Colab Notebooks/SIGNATE_鋳造/test_data/519895.jpeg', '/content/drive/MyDrive/Colab Notebooks/SIGNATE_鋳造/test_data/909994.jpeg', '/content/drive/MyDrive/Colab Notebooks/SIGNATE_鋳造/test_data/659835.jpeg', '/content/drive/MyDrive/Colab Notebooks/SIGNATE_鋳造/test_data/329953.jpeg', '/content/drive/MyDrive/Colab Notebooks/SIGNATE_鋳造/test_data/349836.jpeg', '/content/drive/MyDrive/Colab Notebooks/SIGNATE_鋳造/test_data/829920.jpeg', '/content/drive/MyDrive/Colab Notebooks/SIGNATE_鋳造/test_data/319945.jpeg', '/content/drive/MyDrive/Colab Notebooks/SIGNATE_鋳造/test_data/239962.jpeg', '/content/drive/MyDrive/Colab Notebooks/SIGNATE_鋳造/test_data/289969.jpeg', '/content/drive/MyDrive/Colab Notebooks/SIGNATE_鋳造/test_data/669862.jpeg', '/content/drive/MyDrive/Colab Notebooks/SIGNATE_鋳造/test_data/639930.jpeg', '/content/drive/MyDrive/Colab Notebooks/SIGNATE_鋳造/test_data/919995.jpeg', '/content/drive/MyDrive/Colab Notebooks/SIGNATE_鋳造/test_data/739881.jpeg', '/content/drive/MyDrive/Colab Notebooks/SIGNATE_鋳造/test_data/759854.jpeg', '/content/drive/MyDrive/Colab Notebooks/SIGNATE_鋳造/test_data/19871.jpeg', '/content/drive/MyDrive/Colab Notebooks/SIGNATE_鋳造/test_data/619967.jpeg', '/content/drive/MyDrive/Colab Notebooks/SIGNATE_鋳造/test_data/939891.jpeg', '/content/drive/MyDrive/Colab Notebooks/SIGNATE_鋳造/test_data/259831.jpeg', '/content/drive/MyDrive/Colab Notebooks/SIGNATE_鋳造/test_data/789907.jpeg', '/content/drive/MyDrive/Colab Notebooks/SIGNATE_鋳造/test_data/679931.jpeg', '/content/drive/MyDrive/Colab Notebooks/SIGNATE_鋳造/test_data/359973.jpeg', '/content/drive/MyDrive/Colab Notebooks/SIGNATE_鋳造/test_data/989921.jpeg', '/content/drive/MyDrive/Colab Notebooks/SIGNATE_鋳造/test_data/959829.jpeg', '/content/drive/MyDrive/Colab Notebooks/SIGNATE_鋳造/test_data/649971.jpeg', '/content/drive/MyDrive/Colab Notebooks/SIGNATE_鋳造/test_data/529883.jpeg', '/content/drive/MyDrive/Colab Notebooks/SIGNATE_鋳造/test_data/869957.jpeg', '/content/drive/MyDrive/Colab Notebooks/SIGNATE_鋳造/test_data/159915.jpeg', '/content/drive/MyDrive/Colab Notebooks/SIGNATE_鋳造/test_data/469837.jpeg', '/content/drive/MyDrive/Colab Notebooks/SIGNATE_鋳造/test_data/489913.jpeg', '/content/drive/MyDrive/Colab Notebooks/SIGNATE_鋳造/test_data/419909.jpeg', '/content/drive/MyDrive/Colab Notebooks/SIGNATE_鋳造/test_data/819873.jpeg', '/content/drive/MyDrive/Colab Notebooks/SIGNATE_鋳造/test_data/769946.jpeg', '/content/drive/MyDrive/Colab Notebooks/SIGNATE_鋳造/test_data/59918.jpeg', '/content/drive/MyDrive/Colab Notebooks/SIGNATE_鋳造/test_data/189978.jpeg', '/content/drive/MyDrive/Colab Notebooks/SIGNATE_鋳造/test_data/249889.jpeg']\n"
          ]
        },
        {
          "output_type": "execute_result",
          "data": {
            "text/html": [
              "<div>\n",
              "<style scoped>\n",
              "    .dataframe tbody tr th:only-of-type {\n",
              "        vertical-align: middle;\n",
              "    }\n",
              "\n",
              "    .dataframe tbody tr th {\n",
              "        vertical-align: top;\n",
              "    }\n",
              "\n",
              "    .dataframe thead th {\n",
              "        text-align: right;\n",
              "    }\n",
              "</style>\n",
              "<table border=\"1\" class=\"dataframe\">\n",
              "  <thead>\n",
              "    <tr style=\"text-align: right;\">\n",
              "      <th></th>\n",
              "      <th>filename</th>\n",
              "      <th>y</th>\n",
              "    </tr>\n",
              "  </thead>\n",
              "  <tbody>\n",
              "    <tr>\n",
              "      <th>0</th>\n",
              "      <td>229958.jpeg</td>\n",
              "      <td>0</td>\n",
              "    </tr>\n",
              "    <tr>\n",
              "      <th>1</th>\n",
              "      <td>559880.jpeg</td>\n",
              "      <td>0</td>\n",
              "    </tr>\n",
              "    <tr>\n",
              "      <th>2</th>\n",
              "      <td>699970.jpeg</td>\n",
              "      <td>0</td>\n",
              "    </tr>\n",
              "    <tr>\n",
              "      <th>3</th>\n",
              "      <td>609988.jpeg</td>\n",
              "      <td>0</td>\n",
              "    </tr>\n",
              "    <tr>\n",
              "      <th>4</th>\n",
              "      <td>929917.jpeg</td>\n",
              "      <td>0</td>\n",
              "    </tr>\n",
              "    <tr>\n",
              "      <th>...</th>\n",
              "      <td>...</td>\n",
              "      <td>...</td>\n",
              "    </tr>\n",
              "    <tr>\n",
              "      <th>95</th>\n",
              "      <td>819873.jpeg</td>\n",
              "      <td>0</td>\n",
              "    </tr>\n",
              "    <tr>\n",
              "      <th>96</th>\n",
              "      <td>769946.jpeg</td>\n",
              "      <td>0</td>\n",
              "    </tr>\n",
              "    <tr>\n",
              "      <th>97</th>\n",
              "      <td>59918.jpeg</td>\n",
              "      <td>0</td>\n",
              "    </tr>\n",
              "    <tr>\n",
              "      <th>98</th>\n",
              "      <td>189978.jpeg</td>\n",
              "      <td>0</td>\n",
              "    </tr>\n",
              "    <tr>\n",
              "      <th>99</th>\n",
              "      <td>249889.jpeg</td>\n",
              "      <td>0</td>\n",
              "    </tr>\n",
              "  </tbody>\n",
              "</table>\n",
              "<p>100 rows × 2 columns</p>\n",
              "</div>"
            ],
            "text/plain": [
              "       filename  y\n",
              "0   229958.jpeg  0\n",
              "1   559880.jpeg  0\n",
              "2   699970.jpeg  0\n",
              "3   609988.jpeg  0\n",
              "4   929917.jpeg  0\n",
              "..          ... ..\n",
              "95  819873.jpeg  0\n",
              "96  769946.jpeg  0\n",
              "97   59918.jpeg  0\n",
              "98  189978.jpeg  0\n",
              "99  249889.jpeg  0\n",
              "\n",
              "[100 rows x 2 columns]"
            ]
          },
          "metadata": {},
          "execution_count": 30
        }
      ]
    },
    {
      "cell_type": "markdown",
      "metadata": {
        "id": "FCC6TRoSuFDk"
      },
      "source": [
        "## 学習結果をセット\n",
        "\n",
        "---\n",
        "\n",
        "今はコメントオフ"
      ]
    },
    {
      "cell_type": "code",
      "metadata": {
        "id": "q-ZsTwPDt1pg"
      },
      "source": [
        "# pred_df['y'] = np.argmax(pred, axis=1).astype('int')\n",
        "\n",
        "# pred_df"
      ],
      "execution_count": 31,
      "outputs": []
    },
    {
      "cell_type": "code",
      "metadata": {
        "id": "gB-QBMwcoN6e"
      },
      "source": [
        "# for i in range(CLASSES):\n",
        "#     pred_df[f'pred_{i}'] = pred[:, i]\n",
        "\n",
        "# now = datetime.datetime.now(datetime.timezone(datetime.timedelta(hours=9)))\n",
        "\n",
        "# #詳細\n",
        "# str_detail_file = OUTPUT_DIR  + 'SGN_Casting_detail_EffB0_' +  now.strftime('%m%d%H%M') +'.csv'\n",
        "# pred_df.to_csv(str_detail_file, index=False)\n",
        "\n",
        "# str_file = OUTPUT_DIR  + 'SGN_Casting_submit__EffB0_' +  now.strftime('%m%d%H%M') +'.csv'\n",
        "# pred_df[['filename', 'y']].to_csv(str_file, header=False, index=False)\n",
        "\n",
        "# display(pred_df.head())"
      ],
      "execution_count": 32,
      "outputs": []
    },
    {
      "cell_type": "markdown",
      "metadata": {
        "id": "v8AH400idpTk"
      },
      "source": [
        "# 終わり"
      ]
    },
    {
      "cell_type": "code",
      "metadata": {
        "id": "bdBIu4za5umf",
        "colab": {
          "base_uri": "https://localhost:8080/"
        },
        "outputId": "b42e3508-30a8-472c-ed86-9782dc4d69e8"
      },
      "source": [
        "#終了時刻\n",
        "time_of_finish = datetime.datetime.now(datetime.timezone(datetime.timedelta(hours=9)))\n",
        "print(\"finish_time=\",time_of_finish)\n",
        "print(\"total_time=\",time_of_finish-time_of_begin)"
      ],
      "execution_count": 33,
      "outputs": [
        {
          "output_type": "stream",
          "name": "stdout",
          "text": [
            "finish_time= 2021-09-22 20:59:06.738763+09:00\n",
            "total_time= 0:13:47.907965\n"
          ]
        }
      ]
    }
  ]
}