{
  "nbformat": 4,
  "nbformat_minor": 0,
  "metadata": {
    "colab": {
      "name": "SGN_Casting_20210918_WandB_1.ipynb",
      "provenance": [],
      "collapsed_sections": [],
      "toc_visible": true,
      "include_colab_link": true
    },
    "kernelspec": {
      "display_name": "Python 3",
      "name": "python3"
    },
    "accelerator": "GPU",
    "widgets": {
      "application/vnd.jupyter.widget-state+json": {
        "26006b68968b4af6823a69f57266ef8f": {
          "model_module": "@jupyter-widgets/controls",
          "model_name": "VBoxModel",
          "model_module_version": "1.5.0",
          "state": {
            "_view_name": "VBoxView",
            "_dom_classes": [],
            "_model_name": "VBoxModel",
            "_view_module": "@jupyter-widgets/controls",
            "_model_module_version": "1.5.0",
            "_view_count": null,
            "_view_module_version": "1.5.0",
            "box_style": "",
            "layout": "IPY_MODEL_1968147511d6480cb333b1b0b2f2edba",
            "_model_module": "@jupyter-widgets/controls",
            "children": [
              "IPY_MODEL_564aca4b396a4aa0a72fc4dcc5405469",
              "IPY_MODEL_68794ec285c1468b816cbc7d792bc5e6"
            ]
          }
        },
        "1968147511d6480cb333b1b0b2f2edba": {
          "model_module": "@jupyter-widgets/base",
          "model_name": "LayoutModel",
          "model_module_version": "1.2.0",
          "state": {
            "_view_name": "LayoutView",
            "grid_template_rows": null,
            "right": null,
            "justify_content": null,
            "_view_module": "@jupyter-widgets/base",
            "overflow": null,
            "_model_module_version": "1.2.0",
            "_view_count": null,
            "flex_flow": null,
            "width": null,
            "min_width": null,
            "border": null,
            "align_items": null,
            "bottom": null,
            "_model_module": "@jupyter-widgets/base",
            "top": null,
            "grid_column": null,
            "overflow_y": null,
            "overflow_x": null,
            "grid_auto_flow": null,
            "grid_area": null,
            "grid_template_columns": null,
            "flex": null,
            "_model_name": "LayoutModel",
            "justify_items": null,
            "grid_row": null,
            "max_height": null,
            "align_content": null,
            "visibility": null,
            "align_self": null,
            "height": null,
            "min_height": null,
            "padding": null,
            "grid_auto_rows": null,
            "grid_gap": null,
            "max_width": null,
            "order": null,
            "_view_module_version": "1.2.0",
            "grid_template_areas": null,
            "object_position": null,
            "object_fit": null,
            "grid_auto_columns": null,
            "margin": null,
            "display": null,
            "left": null
          }
        },
        "564aca4b396a4aa0a72fc4dcc5405469": {
          "model_module": "@jupyter-widgets/controls",
          "model_name": "LabelModel",
          "model_module_version": "1.5.0",
          "state": {
            "_view_name": "LabelView",
            "style": "IPY_MODEL_a0f77ba2ebf445c4ad3e47e5dea8524f",
            "_dom_classes": [],
            "description": "",
            "_model_name": "LabelModel",
            "placeholder": "​",
            "_view_module": "@jupyter-widgets/controls",
            "_model_module_version": "1.5.0",
            "value": " 0.01MB of 0.01MB uploaded (0.00MB deduped)\r",
            "_view_count": null,
            "_view_module_version": "1.5.0",
            "description_tooltip": null,
            "_model_module": "@jupyter-widgets/controls",
            "layout": "IPY_MODEL_d394e0120a0648f7baab5d8e790c5cb8"
          }
        },
        "68794ec285c1468b816cbc7d792bc5e6": {
          "model_module": "@jupyter-widgets/controls",
          "model_name": "FloatProgressModel",
          "model_module_version": "1.5.0",
          "state": {
            "_view_name": "ProgressView",
            "style": "IPY_MODEL_73baa83006494de89f145f70b20ace5d",
            "_dom_classes": [],
            "description": "",
            "_model_name": "FloatProgressModel",
            "bar_style": "",
            "max": 1,
            "_view_module": "@jupyter-widgets/controls",
            "_model_module_version": "1.5.0",
            "value": 1,
            "_view_count": null,
            "_view_module_version": "1.5.0",
            "orientation": "horizontal",
            "min": 0,
            "description_tooltip": null,
            "_model_module": "@jupyter-widgets/controls",
            "layout": "IPY_MODEL_c9302666834b4d40b658121d5cda58e9"
          }
        },
        "a0f77ba2ebf445c4ad3e47e5dea8524f": {
          "model_module": "@jupyter-widgets/controls",
          "model_name": "DescriptionStyleModel",
          "model_module_version": "1.5.0",
          "state": {
            "_view_name": "StyleView",
            "_model_name": "DescriptionStyleModel",
            "description_width": "",
            "_view_module": "@jupyter-widgets/base",
            "_model_module_version": "1.5.0",
            "_view_count": null,
            "_view_module_version": "1.2.0",
            "_model_module": "@jupyter-widgets/controls"
          }
        },
        "d394e0120a0648f7baab5d8e790c5cb8": {
          "model_module": "@jupyter-widgets/base",
          "model_name": "LayoutModel",
          "model_module_version": "1.2.0",
          "state": {
            "_view_name": "LayoutView",
            "grid_template_rows": null,
            "right": null,
            "justify_content": null,
            "_view_module": "@jupyter-widgets/base",
            "overflow": null,
            "_model_module_version": "1.2.0",
            "_view_count": null,
            "flex_flow": null,
            "width": null,
            "min_width": null,
            "border": null,
            "align_items": null,
            "bottom": null,
            "_model_module": "@jupyter-widgets/base",
            "top": null,
            "grid_column": null,
            "overflow_y": null,
            "overflow_x": null,
            "grid_auto_flow": null,
            "grid_area": null,
            "grid_template_columns": null,
            "flex": null,
            "_model_name": "LayoutModel",
            "justify_items": null,
            "grid_row": null,
            "max_height": null,
            "align_content": null,
            "visibility": null,
            "align_self": null,
            "height": null,
            "min_height": null,
            "padding": null,
            "grid_auto_rows": null,
            "grid_gap": null,
            "max_width": null,
            "order": null,
            "_view_module_version": "1.2.0",
            "grid_template_areas": null,
            "object_position": null,
            "object_fit": null,
            "grid_auto_columns": null,
            "margin": null,
            "display": null,
            "left": null
          }
        },
        "73baa83006494de89f145f70b20ace5d": {
          "model_module": "@jupyter-widgets/controls",
          "model_name": "ProgressStyleModel",
          "model_module_version": "1.5.0",
          "state": {
            "_view_name": "StyleView",
            "_model_name": "ProgressStyleModel",
            "description_width": "",
            "_view_module": "@jupyter-widgets/base",
            "_model_module_version": "1.5.0",
            "_view_count": null,
            "_view_module_version": "1.2.0",
            "bar_color": null,
            "_model_module": "@jupyter-widgets/controls"
          }
        },
        "c9302666834b4d40b658121d5cda58e9": {
          "model_module": "@jupyter-widgets/base",
          "model_name": "LayoutModel",
          "model_module_version": "1.2.0",
          "state": {
            "_view_name": "LayoutView",
            "grid_template_rows": null,
            "right": null,
            "justify_content": null,
            "_view_module": "@jupyter-widgets/base",
            "overflow": null,
            "_model_module_version": "1.2.0",
            "_view_count": null,
            "flex_flow": null,
            "width": null,
            "min_width": null,
            "border": null,
            "align_items": null,
            "bottom": null,
            "_model_module": "@jupyter-widgets/base",
            "top": null,
            "grid_column": null,
            "overflow_y": null,
            "overflow_x": null,
            "grid_auto_flow": null,
            "grid_area": null,
            "grid_template_columns": null,
            "flex": null,
            "_model_name": "LayoutModel",
            "justify_items": null,
            "grid_row": null,
            "max_height": null,
            "align_content": null,
            "visibility": null,
            "align_self": null,
            "height": null,
            "min_height": null,
            "padding": null,
            "grid_auto_rows": null,
            "grid_gap": null,
            "max_width": null,
            "order": null,
            "_view_module_version": "1.2.0",
            "grid_template_areas": null,
            "object_position": null,
            "object_fit": null,
            "grid_auto_columns": null,
            "margin": null,
            "display": null,
            "left": null
          }
        },
        "f2cb872e298047f4b16bf36653f3848a": {
          "model_module": "@jupyter-widgets/controls",
          "model_name": "VBoxModel",
          "model_module_version": "1.5.0",
          "state": {
            "_view_name": "VBoxView",
            "_dom_classes": [],
            "_model_name": "VBoxModel",
            "_view_module": "@jupyter-widgets/controls",
            "_model_module_version": "1.5.0",
            "_view_count": null,
            "_view_module_version": "1.5.0",
            "box_style": "",
            "layout": "IPY_MODEL_45ce6948aa7d4f27b3aac55ed3d4a8a3",
            "_model_module": "@jupyter-widgets/controls",
            "children": [
              "IPY_MODEL_e7b069a71c9f45ba814843b9aff91e4c",
              "IPY_MODEL_249d643cc7984354a4e82d203b2829b8"
            ]
          }
        },
        "45ce6948aa7d4f27b3aac55ed3d4a8a3": {
          "model_module": "@jupyter-widgets/base",
          "model_name": "LayoutModel",
          "model_module_version": "1.2.0",
          "state": {
            "_view_name": "LayoutView",
            "grid_template_rows": null,
            "right": null,
            "justify_content": null,
            "_view_module": "@jupyter-widgets/base",
            "overflow": null,
            "_model_module_version": "1.2.0",
            "_view_count": null,
            "flex_flow": null,
            "width": null,
            "min_width": null,
            "border": null,
            "align_items": null,
            "bottom": null,
            "_model_module": "@jupyter-widgets/base",
            "top": null,
            "grid_column": null,
            "overflow_y": null,
            "overflow_x": null,
            "grid_auto_flow": null,
            "grid_area": null,
            "grid_template_columns": null,
            "flex": null,
            "_model_name": "LayoutModel",
            "justify_items": null,
            "grid_row": null,
            "max_height": null,
            "align_content": null,
            "visibility": null,
            "align_self": null,
            "height": null,
            "min_height": null,
            "padding": null,
            "grid_auto_rows": null,
            "grid_gap": null,
            "max_width": null,
            "order": null,
            "_view_module_version": "1.2.0",
            "grid_template_areas": null,
            "object_position": null,
            "object_fit": null,
            "grid_auto_columns": null,
            "margin": null,
            "display": null,
            "left": null
          }
        },
        "e7b069a71c9f45ba814843b9aff91e4c": {
          "model_module": "@jupyter-widgets/controls",
          "model_name": "LabelModel",
          "model_module_version": "1.5.0",
          "state": {
            "_view_name": "LabelView",
            "style": "IPY_MODEL_d7477e798deb414bbeb3ad22322d877d",
            "_dom_classes": [],
            "description": "",
            "_model_name": "LabelModel",
            "placeholder": "​",
            "_view_module": "@jupyter-widgets/controls",
            "_model_module_version": "1.5.0",
            "value": " 0.01MB of 0.01MB uploaded (0.00MB deduped)\r",
            "_view_count": null,
            "_view_module_version": "1.5.0",
            "description_tooltip": null,
            "_model_module": "@jupyter-widgets/controls",
            "layout": "IPY_MODEL_db09b916a85147e0b842bc7304ffc04a"
          }
        },
        "249d643cc7984354a4e82d203b2829b8": {
          "model_module": "@jupyter-widgets/controls",
          "model_name": "FloatProgressModel",
          "model_module_version": "1.5.0",
          "state": {
            "_view_name": "ProgressView",
            "style": "IPY_MODEL_4298f60724b04bd9954d96b012bd631e",
            "_dom_classes": [],
            "description": "",
            "_model_name": "FloatProgressModel",
            "bar_style": "",
            "max": 1,
            "_view_module": "@jupyter-widgets/controls",
            "_model_module_version": "1.5.0",
            "value": 1,
            "_view_count": null,
            "_view_module_version": "1.5.0",
            "orientation": "horizontal",
            "min": 0,
            "description_tooltip": null,
            "_model_module": "@jupyter-widgets/controls",
            "layout": "IPY_MODEL_f534c9a72d71403d83427a0bfe3c3654"
          }
        },
        "d7477e798deb414bbeb3ad22322d877d": {
          "model_module": "@jupyter-widgets/controls",
          "model_name": "DescriptionStyleModel",
          "model_module_version": "1.5.0",
          "state": {
            "_view_name": "StyleView",
            "_model_name": "DescriptionStyleModel",
            "description_width": "",
            "_view_module": "@jupyter-widgets/base",
            "_model_module_version": "1.5.0",
            "_view_count": null,
            "_view_module_version": "1.2.0",
            "_model_module": "@jupyter-widgets/controls"
          }
        },
        "db09b916a85147e0b842bc7304ffc04a": {
          "model_module": "@jupyter-widgets/base",
          "model_name": "LayoutModel",
          "model_module_version": "1.2.0",
          "state": {
            "_view_name": "LayoutView",
            "grid_template_rows": null,
            "right": null,
            "justify_content": null,
            "_view_module": "@jupyter-widgets/base",
            "overflow": null,
            "_model_module_version": "1.2.0",
            "_view_count": null,
            "flex_flow": null,
            "width": null,
            "min_width": null,
            "border": null,
            "align_items": null,
            "bottom": null,
            "_model_module": "@jupyter-widgets/base",
            "top": null,
            "grid_column": null,
            "overflow_y": null,
            "overflow_x": null,
            "grid_auto_flow": null,
            "grid_area": null,
            "grid_template_columns": null,
            "flex": null,
            "_model_name": "LayoutModel",
            "justify_items": null,
            "grid_row": null,
            "max_height": null,
            "align_content": null,
            "visibility": null,
            "align_self": null,
            "height": null,
            "min_height": null,
            "padding": null,
            "grid_auto_rows": null,
            "grid_gap": null,
            "max_width": null,
            "order": null,
            "_view_module_version": "1.2.0",
            "grid_template_areas": null,
            "object_position": null,
            "object_fit": null,
            "grid_auto_columns": null,
            "margin": null,
            "display": null,
            "left": null
          }
        },
        "4298f60724b04bd9954d96b012bd631e": {
          "model_module": "@jupyter-widgets/controls",
          "model_name": "ProgressStyleModel",
          "model_module_version": "1.5.0",
          "state": {
            "_view_name": "StyleView",
            "_model_name": "ProgressStyleModel",
            "description_width": "",
            "_view_module": "@jupyter-widgets/base",
            "_model_module_version": "1.5.0",
            "_view_count": null,
            "_view_module_version": "1.2.0",
            "bar_color": null,
            "_model_module": "@jupyter-widgets/controls"
          }
        },
        "f534c9a72d71403d83427a0bfe3c3654": {
          "model_module": "@jupyter-widgets/base",
          "model_name": "LayoutModel",
          "model_module_version": "1.2.0",
          "state": {
            "_view_name": "LayoutView",
            "grid_template_rows": null,
            "right": null,
            "justify_content": null,
            "_view_module": "@jupyter-widgets/base",
            "overflow": null,
            "_model_module_version": "1.2.0",
            "_view_count": null,
            "flex_flow": null,
            "width": null,
            "min_width": null,
            "border": null,
            "align_items": null,
            "bottom": null,
            "_model_module": "@jupyter-widgets/base",
            "top": null,
            "grid_column": null,
            "overflow_y": null,
            "overflow_x": null,
            "grid_auto_flow": null,
            "grid_area": null,
            "grid_template_columns": null,
            "flex": null,
            "_model_name": "LayoutModel",
            "justify_items": null,
            "grid_row": null,
            "max_height": null,
            "align_content": null,
            "visibility": null,
            "align_self": null,
            "height": null,
            "min_height": null,
            "padding": null,
            "grid_auto_rows": null,
            "grid_gap": null,
            "max_width": null,
            "order": null,
            "_view_module_version": "1.2.0",
            "grid_template_areas": null,
            "object_position": null,
            "object_fit": null,
            "grid_auto_columns": null,
            "margin": null,
            "display": null,
            "left": null
          }
        },
        "1190b47b7fc44102bc38d8d257ce8df6": {
          "model_module": "@jupyter-widgets/controls",
          "model_name": "VBoxModel",
          "model_module_version": "1.5.0",
          "state": {
            "_view_name": "VBoxView",
            "_dom_classes": [],
            "_model_name": "VBoxModel",
            "_view_module": "@jupyter-widgets/controls",
            "_model_module_version": "1.5.0",
            "_view_count": null,
            "_view_module_version": "1.5.0",
            "box_style": "",
            "layout": "IPY_MODEL_547c59b1d7b041a58ba912cc2519ca64",
            "_model_module": "@jupyter-widgets/controls",
            "children": [
              "IPY_MODEL_663c3d886f5c46c497e296b92e56d999",
              "IPY_MODEL_db39c4bf8c4f4bc79f751018a2290020"
            ]
          }
        },
        "547c59b1d7b041a58ba912cc2519ca64": {
          "model_module": "@jupyter-widgets/base",
          "model_name": "LayoutModel",
          "model_module_version": "1.2.0",
          "state": {
            "_view_name": "LayoutView",
            "grid_template_rows": null,
            "right": null,
            "justify_content": null,
            "_view_module": "@jupyter-widgets/base",
            "overflow": null,
            "_model_module_version": "1.2.0",
            "_view_count": null,
            "flex_flow": null,
            "width": null,
            "min_width": null,
            "border": null,
            "align_items": null,
            "bottom": null,
            "_model_module": "@jupyter-widgets/base",
            "top": null,
            "grid_column": null,
            "overflow_y": null,
            "overflow_x": null,
            "grid_auto_flow": null,
            "grid_area": null,
            "grid_template_columns": null,
            "flex": null,
            "_model_name": "LayoutModel",
            "justify_items": null,
            "grid_row": null,
            "max_height": null,
            "align_content": null,
            "visibility": null,
            "align_self": null,
            "height": null,
            "min_height": null,
            "padding": null,
            "grid_auto_rows": null,
            "grid_gap": null,
            "max_width": null,
            "order": null,
            "_view_module_version": "1.2.0",
            "grid_template_areas": null,
            "object_position": null,
            "object_fit": null,
            "grid_auto_columns": null,
            "margin": null,
            "display": null,
            "left": null
          }
        },
        "663c3d886f5c46c497e296b92e56d999": {
          "model_module": "@jupyter-widgets/controls",
          "model_name": "LabelModel",
          "model_module_version": "1.5.0",
          "state": {
            "_view_name": "LabelView",
            "style": "IPY_MODEL_107f230e6af74657bfe6f20cc4c93933",
            "_dom_classes": [],
            "description": "",
            "_model_name": "LabelModel",
            "placeholder": "​",
            "_view_module": "@jupyter-widgets/controls",
            "_model_module_version": "1.5.0",
            "value": " 0.01MB of 0.01MB uploaded (0.00MB deduped)\r",
            "_view_count": null,
            "_view_module_version": "1.5.0",
            "description_tooltip": null,
            "_model_module": "@jupyter-widgets/controls",
            "layout": "IPY_MODEL_5340a477e8114df7bb6588f2f5fef052"
          }
        },
        "db39c4bf8c4f4bc79f751018a2290020": {
          "model_module": "@jupyter-widgets/controls",
          "model_name": "FloatProgressModel",
          "model_module_version": "1.5.0",
          "state": {
            "_view_name": "ProgressView",
            "style": "IPY_MODEL_45ed0d8d0fac4700b8b17fc3904c9c25",
            "_dom_classes": [],
            "description": "",
            "_model_name": "FloatProgressModel",
            "bar_style": "",
            "max": 1,
            "_view_module": "@jupyter-widgets/controls",
            "_model_module_version": "1.5.0",
            "value": 1,
            "_view_count": null,
            "_view_module_version": "1.5.0",
            "orientation": "horizontal",
            "min": 0,
            "description_tooltip": null,
            "_model_module": "@jupyter-widgets/controls",
            "layout": "IPY_MODEL_40c1fb5679a14a01b1bf706d180f6a69"
          }
        },
        "107f230e6af74657bfe6f20cc4c93933": {
          "model_module": "@jupyter-widgets/controls",
          "model_name": "DescriptionStyleModel",
          "model_module_version": "1.5.0",
          "state": {
            "_view_name": "StyleView",
            "_model_name": "DescriptionStyleModel",
            "description_width": "",
            "_view_module": "@jupyter-widgets/base",
            "_model_module_version": "1.5.0",
            "_view_count": null,
            "_view_module_version": "1.2.0",
            "_model_module": "@jupyter-widgets/controls"
          }
        },
        "5340a477e8114df7bb6588f2f5fef052": {
          "model_module": "@jupyter-widgets/base",
          "model_name": "LayoutModel",
          "model_module_version": "1.2.0",
          "state": {
            "_view_name": "LayoutView",
            "grid_template_rows": null,
            "right": null,
            "justify_content": null,
            "_view_module": "@jupyter-widgets/base",
            "overflow": null,
            "_model_module_version": "1.2.0",
            "_view_count": null,
            "flex_flow": null,
            "width": null,
            "min_width": null,
            "border": null,
            "align_items": null,
            "bottom": null,
            "_model_module": "@jupyter-widgets/base",
            "top": null,
            "grid_column": null,
            "overflow_y": null,
            "overflow_x": null,
            "grid_auto_flow": null,
            "grid_area": null,
            "grid_template_columns": null,
            "flex": null,
            "_model_name": "LayoutModel",
            "justify_items": null,
            "grid_row": null,
            "max_height": null,
            "align_content": null,
            "visibility": null,
            "align_self": null,
            "height": null,
            "min_height": null,
            "padding": null,
            "grid_auto_rows": null,
            "grid_gap": null,
            "max_width": null,
            "order": null,
            "_view_module_version": "1.2.0",
            "grid_template_areas": null,
            "object_position": null,
            "object_fit": null,
            "grid_auto_columns": null,
            "margin": null,
            "display": null,
            "left": null
          }
        },
        "45ed0d8d0fac4700b8b17fc3904c9c25": {
          "model_module": "@jupyter-widgets/controls",
          "model_name": "ProgressStyleModel",
          "model_module_version": "1.5.0",
          "state": {
            "_view_name": "StyleView",
            "_model_name": "ProgressStyleModel",
            "description_width": "",
            "_view_module": "@jupyter-widgets/base",
            "_model_module_version": "1.5.0",
            "_view_count": null,
            "_view_module_version": "1.2.0",
            "bar_color": null,
            "_model_module": "@jupyter-widgets/controls"
          }
        },
        "40c1fb5679a14a01b1bf706d180f6a69": {
          "model_module": "@jupyter-widgets/base",
          "model_name": "LayoutModel",
          "model_module_version": "1.2.0",
          "state": {
            "_view_name": "LayoutView",
            "grid_template_rows": null,
            "right": null,
            "justify_content": null,
            "_view_module": "@jupyter-widgets/base",
            "overflow": null,
            "_model_module_version": "1.2.0",
            "_view_count": null,
            "flex_flow": null,
            "width": null,
            "min_width": null,
            "border": null,
            "align_items": null,
            "bottom": null,
            "_model_module": "@jupyter-widgets/base",
            "top": null,
            "grid_column": null,
            "overflow_y": null,
            "overflow_x": null,
            "grid_auto_flow": null,
            "grid_area": null,
            "grid_template_columns": null,
            "flex": null,
            "_model_name": "LayoutModel",
            "justify_items": null,
            "grid_row": null,
            "max_height": null,
            "align_content": null,
            "visibility": null,
            "align_self": null,
            "height": null,
            "min_height": null,
            "padding": null,
            "grid_auto_rows": null,
            "grid_gap": null,
            "max_width": null,
            "order": null,
            "_view_module_version": "1.2.0",
            "grid_template_areas": null,
            "object_position": null,
            "object_fit": null,
            "grid_auto_columns": null,
            "margin": null,
            "display": null,
            "left": null
          }
        },
        "c59e76397fb84aedb624cfc8e67277a0": {
          "model_module": "@jupyter-widgets/controls",
          "model_name": "VBoxModel",
          "model_module_version": "1.5.0",
          "state": {
            "_view_name": "VBoxView",
            "_dom_classes": [],
            "_model_name": "VBoxModel",
            "_view_module": "@jupyter-widgets/controls",
            "_model_module_version": "1.5.0",
            "_view_count": null,
            "_view_module_version": "1.5.0",
            "box_style": "",
            "layout": "IPY_MODEL_6d181474c73f46c9b2785310214da094",
            "_model_module": "@jupyter-widgets/controls",
            "children": [
              "IPY_MODEL_127f1a8e60804d76b66c916f56e057b1",
              "IPY_MODEL_1c6b53bb195d46ff8bd815559a7efb9d"
            ]
          }
        },
        "6d181474c73f46c9b2785310214da094": {
          "model_module": "@jupyter-widgets/base",
          "model_name": "LayoutModel",
          "model_module_version": "1.2.0",
          "state": {
            "_view_name": "LayoutView",
            "grid_template_rows": null,
            "right": null,
            "justify_content": null,
            "_view_module": "@jupyter-widgets/base",
            "overflow": null,
            "_model_module_version": "1.2.0",
            "_view_count": null,
            "flex_flow": null,
            "width": null,
            "min_width": null,
            "border": null,
            "align_items": null,
            "bottom": null,
            "_model_module": "@jupyter-widgets/base",
            "top": null,
            "grid_column": null,
            "overflow_y": null,
            "overflow_x": null,
            "grid_auto_flow": null,
            "grid_area": null,
            "grid_template_columns": null,
            "flex": null,
            "_model_name": "LayoutModel",
            "justify_items": null,
            "grid_row": null,
            "max_height": null,
            "align_content": null,
            "visibility": null,
            "align_self": null,
            "height": null,
            "min_height": null,
            "padding": null,
            "grid_auto_rows": null,
            "grid_gap": null,
            "max_width": null,
            "order": null,
            "_view_module_version": "1.2.0",
            "grid_template_areas": null,
            "object_position": null,
            "object_fit": null,
            "grid_auto_columns": null,
            "margin": null,
            "display": null,
            "left": null
          }
        },
        "127f1a8e60804d76b66c916f56e057b1": {
          "model_module": "@jupyter-widgets/controls",
          "model_name": "LabelModel",
          "model_module_version": "1.5.0",
          "state": {
            "_view_name": "LabelView",
            "style": "IPY_MODEL_9cfcda8e93164b518af692da7123fdfe",
            "_dom_classes": [],
            "description": "",
            "_model_name": "LabelModel",
            "placeholder": "​",
            "_view_module": "@jupyter-widgets/controls",
            "_model_module_version": "1.5.0",
            "value": " 0.01MB of 0.01MB uploaded (0.00MB deduped)\r",
            "_view_count": null,
            "_view_module_version": "1.5.0",
            "description_tooltip": null,
            "_model_module": "@jupyter-widgets/controls",
            "layout": "IPY_MODEL_bf754f62fd8f497ebc2a691880310feb"
          }
        },
        "1c6b53bb195d46ff8bd815559a7efb9d": {
          "model_module": "@jupyter-widgets/controls",
          "model_name": "FloatProgressModel",
          "model_module_version": "1.5.0",
          "state": {
            "_view_name": "ProgressView",
            "style": "IPY_MODEL_8d27a6c0fc7248aeae92678d1c85237b",
            "_dom_classes": [],
            "description": "",
            "_model_name": "FloatProgressModel",
            "bar_style": "",
            "max": 1,
            "_view_module": "@jupyter-widgets/controls",
            "_model_module_version": "1.5.0",
            "value": 1,
            "_view_count": null,
            "_view_module_version": "1.5.0",
            "orientation": "horizontal",
            "min": 0,
            "description_tooltip": null,
            "_model_module": "@jupyter-widgets/controls",
            "layout": "IPY_MODEL_f85d0a286a0e4a2e8c047e3f0b2673e8"
          }
        },
        "9cfcda8e93164b518af692da7123fdfe": {
          "model_module": "@jupyter-widgets/controls",
          "model_name": "DescriptionStyleModel",
          "model_module_version": "1.5.0",
          "state": {
            "_view_name": "StyleView",
            "_model_name": "DescriptionStyleModel",
            "description_width": "",
            "_view_module": "@jupyter-widgets/base",
            "_model_module_version": "1.5.0",
            "_view_count": null,
            "_view_module_version": "1.2.0",
            "_model_module": "@jupyter-widgets/controls"
          }
        },
        "bf754f62fd8f497ebc2a691880310feb": {
          "model_module": "@jupyter-widgets/base",
          "model_name": "LayoutModel",
          "model_module_version": "1.2.0",
          "state": {
            "_view_name": "LayoutView",
            "grid_template_rows": null,
            "right": null,
            "justify_content": null,
            "_view_module": "@jupyter-widgets/base",
            "overflow": null,
            "_model_module_version": "1.2.0",
            "_view_count": null,
            "flex_flow": null,
            "width": null,
            "min_width": null,
            "border": null,
            "align_items": null,
            "bottom": null,
            "_model_module": "@jupyter-widgets/base",
            "top": null,
            "grid_column": null,
            "overflow_y": null,
            "overflow_x": null,
            "grid_auto_flow": null,
            "grid_area": null,
            "grid_template_columns": null,
            "flex": null,
            "_model_name": "LayoutModel",
            "justify_items": null,
            "grid_row": null,
            "max_height": null,
            "align_content": null,
            "visibility": null,
            "align_self": null,
            "height": null,
            "min_height": null,
            "padding": null,
            "grid_auto_rows": null,
            "grid_gap": null,
            "max_width": null,
            "order": null,
            "_view_module_version": "1.2.0",
            "grid_template_areas": null,
            "object_position": null,
            "object_fit": null,
            "grid_auto_columns": null,
            "margin": null,
            "display": null,
            "left": null
          }
        },
        "8d27a6c0fc7248aeae92678d1c85237b": {
          "model_module": "@jupyter-widgets/controls",
          "model_name": "ProgressStyleModel",
          "model_module_version": "1.5.0",
          "state": {
            "_view_name": "StyleView",
            "_model_name": "ProgressStyleModel",
            "description_width": "",
            "_view_module": "@jupyter-widgets/base",
            "_model_module_version": "1.5.0",
            "_view_count": null,
            "_view_module_version": "1.2.0",
            "bar_color": null,
            "_model_module": "@jupyter-widgets/controls"
          }
        },
        "f85d0a286a0e4a2e8c047e3f0b2673e8": {
          "model_module": "@jupyter-widgets/base",
          "model_name": "LayoutModel",
          "model_module_version": "1.2.0",
          "state": {
            "_view_name": "LayoutView",
            "grid_template_rows": null,
            "right": null,
            "justify_content": null,
            "_view_module": "@jupyter-widgets/base",
            "overflow": null,
            "_model_module_version": "1.2.0",
            "_view_count": null,
            "flex_flow": null,
            "width": null,
            "min_width": null,
            "border": null,
            "align_items": null,
            "bottom": null,
            "_model_module": "@jupyter-widgets/base",
            "top": null,
            "grid_column": null,
            "overflow_y": null,
            "overflow_x": null,
            "grid_auto_flow": null,
            "grid_area": null,
            "grid_template_columns": null,
            "flex": null,
            "_model_name": "LayoutModel",
            "justify_items": null,
            "grid_row": null,
            "max_height": null,
            "align_content": null,
            "visibility": null,
            "align_self": null,
            "height": null,
            "min_height": null,
            "padding": null,
            "grid_auto_rows": null,
            "grid_gap": null,
            "max_width": null,
            "order": null,
            "_view_module_version": "1.2.0",
            "grid_template_areas": null,
            "object_position": null,
            "object_fit": null,
            "grid_auto_columns": null,
            "margin": null,
            "display": null,
            "left": null
          }
        },
        "ce3e9961059246768b38e898f928d9c3": {
          "model_module": "@jupyter-widgets/controls",
          "model_name": "VBoxModel",
          "model_module_version": "1.5.0",
          "state": {
            "_view_name": "VBoxView",
            "_dom_classes": [],
            "_model_name": "VBoxModel",
            "_view_module": "@jupyter-widgets/controls",
            "_model_module_version": "1.5.0",
            "_view_count": null,
            "_view_module_version": "1.5.0",
            "box_style": "",
            "layout": "IPY_MODEL_1e3c6f207e77479fbef1ecdfb5c30b43",
            "_model_module": "@jupyter-widgets/controls",
            "children": [
              "IPY_MODEL_7beb4a01a42d496c8ab68c4444d8831f",
              "IPY_MODEL_1306ea5f8c1347fb9ad4e9699a7e5809"
            ]
          }
        },
        "1e3c6f207e77479fbef1ecdfb5c30b43": {
          "model_module": "@jupyter-widgets/base",
          "model_name": "LayoutModel",
          "model_module_version": "1.2.0",
          "state": {
            "_view_name": "LayoutView",
            "grid_template_rows": null,
            "right": null,
            "justify_content": null,
            "_view_module": "@jupyter-widgets/base",
            "overflow": null,
            "_model_module_version": "1.2.0",
            "_view_count": null,
            "flex_flow": null,
            "width": null,
            "min_width": null,
            "border": null,
            "align_items": null,
            "bottom": null,
            "_model_module": "@jupyter-widgets/base",
            "top": null,
            "grid_column": null,
            "overflow_y": null,
            "overflow_x": null,
            "grid_auto_flow": null,
            "grid_area": null,
            "grid_template_columns": null,
            "flex": null,
            "_model_name": "LayoutModel",
            "justify_items": null,
            "grid_row": null,
            "max_height": null,
            "align_content": null,
            "visibility": null,
            "align_self": null,
            "height": null,
            "min_height": null,
            "padding": null,
            "grid_auto_rows": null,
            "grid_gap": null,
            "max_width": null,
            "order": null,
            "_view_module_version": "1.2.0",
            "grid_template_areas": null,
            "object_position": null,
            "object_fit": null,
            "grid_auto_columns": null,
            "margin": null,
            "display": null,
            "left": null
          }
        },
        "7beb4a01a42d496c8ab68c4444d8831f": {
          "model_module": "@jupyter-widgets/controls",
          "model_name": "LabelModel",
          "model_module_version": "1.5.0",
          "state": {
            "_view_name": "LabelView",
            "style": "IPY_MODEL_147820a589644094b93469ebb8c6b351",
            "_dom_classes": [],
            "description": "",
            "_model_name": "LabelModel",
            "placeholder": "​",
            "_view_module": "@jupyter-widgets/controls",
            "_model_module_version": "1.5.0",
            "value": " 0.01MB of 0.01MB uploaded (0.00MB deduped)\r",
            "_view_count": null,
            "_view_module_version": "1.5.0",
            "description_tooltip": null,
            "_model_module": "@jupyter-widgets/controls",
            "layout": "IPY_MODEL_4a225561576b49ada914c250646a3f6c"
          }
        },
        "1306ea5f8c1347fb9ad4e9699a7e5809": {
          "model_module": "@jupyter-widgets/controls",
          "model_name": "FloatProgressModel",
          "model_module_version": "1.5.0",
          "state": {
            "_view_name": "ProgressView",
            "style": "IPY_MODEL_6f21fb10e6fa4179ab77e14bb9507d1d",
            "_dom_classes": [],
            "description": "",
            "_model_name": "FloatProgressModel",
            "bar_style": "",
            "max": 1,
            "_view_module": "@jupyter-widgets/controls",
            "_model_module_version": "1.5.0",
            "value": 1,
            "_view_count": null,
            "_view_module_version": "1.5.0",
            "orientation": "horizontal",
            "min": 0,
            "description_tooltip": null,
            "_model_module": "@jupyter-widgets/controls",
            "layout": "IPY_MODEL_839b44fdc5b44c92b03237a84f2d0fcd"
          }
        },
        "147820a589644094b93469ebb8c6b351": {
          "model_module": "@jupyter-widgets/controls",
          "model_name": "DescriptionStyleModel",
          "model_module_version": "1.5.0",
          "state": {
            "_view_name": "StyleView",
            "_model_name": "DescriptionStyleModel",
            "description_width": "",
            "_view_module": "@jupyter-widgets/base",
            "_model_module_version": "1.5.0",
            "_view_count": null,
            "_view_module_version": "1.2.0",
            "_model_module": "@jupyter-widgets/controls"
          }
        },
        "4a225561576b49ada914c250646a3f6c": {
          "model_module": "@jupyter-widgets/base",
          "model_name": "LayoutModel",
          "model_module_version": "1.2.0",
          "state": {
            "_view_name": "LayoutView",
            "grid_template_rows": null,
            "right": null,
            "justify_content": null,
            "_view_module": "@jupyter-widgets/base",
            "overflow": null,
            "_model_module_version": "1.2.0",
            "_view_count": null,
            "flex_flow": null,
            "width": null,
            "min_width": null,
            "border": null,
            "align_items": null,
            "bottom": null,
            "_model_module": "@jupyter-widgets/base",
            "top": null,
            "grid_column": null,
            "overflow_y": null,
            "overflow_x": null,
            "grid_auto_flow": null,
            "grid_area": null,
            "grid_template_columns": null,
            "flex": null,
            "_model_name": "LayoutModel",
            "justify_items": null,
            "grid_row": null,
            "max_height": null,
            "align_content": null,
            "visibility": null,
            "align_self": null,
            "height": null,
            "min_height": null,
            "padding": null,
            "grid_auto_rows": null,
            "grid_gap": null,
            "max_width": null,
            "order": null,
            "_view_module_version": "1.2.0",
            "grid_template_areas": null,
            "object_position": null,
            "object_fit": null,
            "grid_auto_columns": null,
            "margin": null,
            "display": null,
            "left": null
          }
        },
        "6f21fb10e6fa4179ab77e14bb9507d1d": {
          "model_module": "@jupyter-widgets/controls",
          "model_name": "ProgressStyleModel",
          "model_module_version": "1.5.0",
          "state": {
            "_view_name": "StyleView",
            "_model_name": "ProgressStyleModel",
            "description_width": "",
            "_view_module": "@jupyter-widgets/base",
            "_model_module_version": "1.5.0",
            "_view_count": null,
            "_view_module_version": "1.2.0",
            "bar_color": null,
            "_model_module": "@jupyter-widgets/controls"
          }
        },
        "839b44fdc5b44c92b03237a84f2d0fcd": {
          "model_module": "@jupyter-widgets/base",
          "model_name": "LayoutModel",
          "model_module_version": "1.2.0",
          "state": {
            "_view_name": "LayoutView",
            "grid_template_rows": null,
            "right": null,
            "justify_content": null,
            "_view_module": "@jupyter-widgets/base",
            "overflow": null,
            "_model_module_version": "1.2.0",
            "_view_count": null,
            "flex_flow": null,
            "width": null,
            "min_width": null,
            "border": null,
            "align_items": null,
            "bottom": null,
            "_model_module": "@jupyter-widgets/base",
            "top": null,
            "grid_column": null,
            "overflow_y": null,
            "overflow_x": null,
            "grid_auto_flow": null,
            "grid_area": null,
            "grid_template_columns": null,
            "flex": null,
            "_model_name": "LayoutModel",
            "justify_items": null,
            "grid_row": null,
            "max_height": null,
            "align_content": null,
            "visibility": null,
            "align_self": null,
            "height": null,
            "min_height": null,
            "padding": null,
            "grid_auto_rows": null,
            "grid_gap": null,
            "max_width": null,
            "order": null,
            "_view_module_version": "1.2.0",
            "grid_template_areas": null,
            "object_position": null,
            "object_fit": null,
            "grid_auto_columns": null,
            "margin": null,
            "display": null,
            "left": null
          }
        }
      }
    }
  },
  "cells": [
    {
      "cell_type": "markdown",
      "metadata": {
        "id": "view-in-github",
        "colab_type": "text"
      },
      "source": [
        "<a href=\"https://colab.research.google.com/github/33quitykubby/SIGNATE_Practice/blob/main/Tommy_G/SGN_Casting_20210918_WandB_1.ipynb\" target=\"_parent\"><img src=\"https://colab.research.google.com/assets/colab-badge.svg\" alt=\"Open In Colab\"/></a>"
      ]
    },
    {
      "cell_type": "markdown",
      "metadata": {
        "id": "RldyjemLqDXe"
      },
      "source": [
        "# **【練習問題】鋳造製品の欠陥検出**  \n",
        "https://signate.jp/competitions/406/data\n",
        "\n",
        "---\n",
        "\n",
        "Pytorchを使った2値分類  \n",
        "モデル：EfficientNet B0  \n",
        "Weights and Biasesの導入テスト"
      ]
    },
    {
      "cell_type": "markdown",
      "metadata": {
        "id": "CMCwGXe-WupI"
      },
      "source": [
        "参考  \n",
        "https://axa.biopapyrus.jp/deep-learning/pytorch/simple-cnn-classification.html\n",
        "\n",
        "Dataloader  \n",
        "https://pystyle.info/pytorch-how-to-create-custom-dataset-class/  \n",
        "https://qiita.com/kumonk/items/0f3cad018cc9aec67a63\n",
        "\n",
        "交差検証  \n",
        "https://qiita.com/ground0state/items/ad879a84bf946ef94da8  \n",
        "\n",
        "学習  \n",
        "https://hntk03.hatenablog.com/entry/2019/08/27/112435\n",
        "\n",
        "コンペ：prob space 宗教画テーマの分類  \n",
        "トピック EfficientNetB0使ったベースライン紹介(skywalker氏)  \n",
        "https://comp.probspace.com/competitions/religious_art/submissions\\\\"
      ]
    },
    {
      "cell_type": "markdown",
      "metadata": {
        "id": "4yjr95zhc49p"
      },
      "source": [
        "## Weights and Biases  \n",
        "---\n",
        "https://wandb.ai/home\n",
        "\n",
        "参考  \n",
        "pytorch + WandB  \n",
        "https://theaisummer.com/weights-and-biases-tutorial/\n",
        "\n",
        "colab + WandB  \n",
        "https://colab.research.google.com/github/wandb/examples/blob/master/colabs/pytorch/Simple_PyTorch_Integration.ipynb#scrollTo=sAZBTFNQq0ys"
      ]
    },
    {
      "cell_type": "markdown",
      "metadata": {
        "id": "bm3vSEEp0CHz"
      },
      "source": [
        "# マウント"
      ]
    },
    {
      "cell_type": "code",
      "metadata": {
        "id": "wZ9lKM-fidq7"
      },
      "source": [
        ""
      ],
      "execution_count": 168,
      "outputs": []
    },
    {
      "cell_type": "code",
      "metadata": {
        "colab": {
          "base_uri": "https://localhost:8080/"
        },
        "id": "AiFICu0bz-8q",
        "outputId": "61a6f10b-5c06-4005-95ff-7148b39639df"
      },
      "source": [
        "from google.colab import drive\n",
        "drive.mount('/content/drive')"
      ],
      "execution_count": 169,
      "outputs": [
        {
          "output_type": "stream",
          "name": "stdout",
          "text": [
            "Drive already mounted at /content/drive; to attempt to forcibly remount, call drive.mount(\"/content/drive\", force_remount=True).\n"
          ]
        }
      ]
    },
    {
      "cell_type": "markdown",
      "metadata": {
        "id": "hVNoUNk0bAL2"
      },
      "source": [
        "# Setting"
      ]
    },
    {
      "cell_type": "code",
      "metadata": {
        "colab": {
          "base_uri": "https://localhost:8080/"
        },
        "id": "OO0lVjLbbIZu",
        "outputId": "2c4d75bd-a63a-4bae-e7af-9d9fbf1dc5a3"
      },
      "source": [
        "!nvidia-smi"
      ],
      "execution_count": 170,
      "outputs": [
        {
          "output_type": "stream",
          "name": "stdout",
          "text": [
            "Sat Sep 18 15:49:51 2021       \n",
            "+-----------------------------------------------------------------------------+\n",
            "| NVIDIA-SMI 470.63.01    Driver Version: 460.32.03    CUDA Version: 11.2     |\n",
            "|-------------------------------+----------------------+----------------------+\n",
            "| GPU  Name        Persistence-M| Bus-Id        Disp.A | Volatile Uncorr. ECC |\n",
            "| Fan  Temp  Perf  Pwr:Usage/Cap|         Memory-Usage | GPU-Util  Compute M. |\n",
            "|                               |                      |               MIG M. |\n",
            "|===============================+======================+======================|\n",
            "|   0  Tesla K80           Off  | 00000000:00:04.0 Off |                    0 |\n",
            "| N/A   42C    P0    58W / 149W |   6049MiB / 11441MiB |      0%      Default |\n",
            "|                               |                      |                  N/A |\n",
            "+-------------------------------+----------------------+----------------------+\n",
            "                                                                               \n",
            "+-----------------------------------------------------------------------------+\n",
            "| Processes:                                                                  |\n",
            "|  GPU   GI   CI        PID   Type   Process name                  GPU Memory |\n",
            "|        ID   ID                                                   Usage      |\n",
            "|=============================================================================|\n",
            "|  No running processes found                                                 |\n",
            "+-----------------------------------------------------------------------------+\n"
          ]
        }
      ]
    },
    {
      "cell_type": "code",
      "metadata": {
        "id": "ST8jePcWbKem"
      },
      "source": [
        "# !pip uninstall albumentations -y\n",
        "# !pip install albumentations==0.4.5 -q\n",
        "!pip install albumentations==0.5.0 -q"
      ],
      "execution_count": 171,
      "outputs": []
    },
    {
      "cell_type": "code",
      "metadata": {
        "id": "Om6NpJutbMih"
      },
      "source": [
        "!pip install timm -q"
      ],
      "execution_count": 172,
      "outputs": []
    },
    {
      "cell_type": "markdown",
      "metadata": {
        "id": "uD8FWoQBce0L"
      },
      "source": [
        "# Weights and Biases セットアップ\n",
        "---\n",
        "https://wandb.ai/home"
      ]
    },
    {
      "cell_type": "code",
      "metadata": {
        "colab": {
          "base_uri": "https://localhost:8080/"
        },
        "id": "_gov-kJDc2Ih",
        "outputId": "09ccfb7e-909e-418b-ecbb-cf8d992dd967"
      },
      "source": [
        "!pip install wandb --upgrade"
      ],
      "execution_count": 173,
      "outputs": [
        {
          "output_type": "stream",
          "name": "stdout",
          "text": [
            "Requirement already satisfied: wandb in /usr/local/lib/python3.7/dist-packages (0.12.2)\n",
            "Requirement already satisfied: configparser>=3.8.1 in /usr/local/lib/python3.7/dist-packages (from wandb) (5.0.2)\n",
            "Requirement already satisfied: shortuuid>=0.5.0 in /usr/local/lib/python3.7/dist-packages (from wandb) (1.0.1)\n",
            "Requirement already satisfied: PyYAML in /usr/local/lib/python3.7/dist-packages (from wandb) (3.13)\n",
            "Requirement already satisfied: promise<3,>=2.0 in /usr/local/lib/python3.7/dist-packages (from wandb) (2.3)\n",
            "Requirement already satisfied: subprocess32>=3.5.3 in /usr/local/lib/python3.7/dist-packages (from wandb) (3.5.4)\n",
            "Requirement already satisfied: python-dateutil>=2.6.1 in /usr/local/lib/python3.7/dist-packages (from wandb) (2.8.2)\n",
            "Requirement already satisfied: six>=1.13.0 in /usr/local/lib/python3.7/dist-packages (from wandb) (1.15.0)\n",
            "Requirement already satisfied: GitPython>=1.0.0 in /usr/local/lib/python3.7/dist-packages (from wandb) (3.1.24)\n",
            "Requirement already satisfied: pathtools in /usr/local/lib/python3.7/dist-packages (from wandb) (0.1.2)\n",
            "Requirement already satisfied: protobuf>=3.12.0 in /usr/local/lib/python3.7/dist-packages (from wandb) (3.17.3)\n",
            "Requirement already satisfied: requests<3,>=2.0.0 in /usr/local/lib/python3.7/dist-packages (from wandb) (2.23.0)\n",
            "Requirement already satisfied: Click!=8.0.0,>=7.0 in /usr/local/lib/python3.7/dist-packages (from wandb) (7.1.2)\n",
            "Requirement already satisfied: docker-pycreds>=0.4.0 in /usr/local/lib/python3.7/dist-packages (from wandb) (0.4.0)\n",
            "Requirement already satisfied: psutil>=5.0.0 in /usr/local/lib/python3.7/dist-packages (from wandb) (5.4.8)\n",
            "Requirement already satisfied: sentry-sdk>=1.0.0 in /usr/local/lib/python3.7/dist-packages (from wandb) (1.3.1)\n",
            "Requirement already satisfied: yaspin>=1.0.0 in /usr/local/lib/python3.7/dist-packages (from wandb) (2.1.0)\n",
            "Requirement already satisfied: typing-extensions>=3.7.4.3 in /usr/local/lib/python3.7/dist-packages (from GitPython>=1.0.0->wandb) (3.7.4.3)\n",
            "Requirement already satisfied: gitdb<5,>=4.0.1 in /usr/local/lib/python3.7/dist-packages (from GitPython>=1.0.0->wandb) (4.0.7)\n",
            "Requirement already satisfied: smmap<5,>=3.0.1 in /usr/local/lib/python3.7/dist-packages (from gitdb<5,>=4.0.1->GitPython>=1.0.0->wandb) (4.0.0)\n",
            "Requirement already satisfied: idna<3,>=2.5 in /usr/local/lib/python3.7/dist-packages (from requests<3,>=2.0.0->wandb) (2.10)\n",
            "Requirement already satisfied: urllib3!=1.25.0,!=1.25.1,<1.26,>=1.21.1 in /usr/local/lib/python3.7/dist-packages (from requests<3,>=2.0.0->wandb) (1.24.3)\n",
            "Requirement already satisfied: certifi>=2017.4.17 in /usr/local/lib/python3.7/dist-packages (from requests<3,>=2.0.0->wandb) (2021.5.30)\n",
            "Requirement already satisfied: chardet<4,>=3.0.2 in /usr/local/lib/python3.7/dist-packages (from requests<3,>=2.0.0->wandb) (3.0.4)\n",
            "Requirement already satisfied: termcolor<2.0.0,>=1.1.0 in /usr/local/lib/python3.7/dist-packages (from yaspin>=1.0.0->wandb) (1.1.0)\n"
          ]
        }
      ]
    },
    {
      "cell_type": "code",
      "metadata": {
        "colab": {
          "base_uri": "https://localhost:8080/"
        },
        "id": "4qw5oUYleh_a",
        "outputId": "ba856dd8-8077-4469-abf5-be99a74d7727"
      },
      "source": [
        "import wandb\n",
        "\n",
        "# 認証コードを入力する必要がある\n",
        "wandb.login()"
      ],
      "execution_count": 174,
      "outputs": [
        {
          "output_type": "execute_result",
          "data": {
            "text/plain": [
              "True"
            ]
          },
          "metadata": {},
          "execution_count": 174
        }
      ]
    },
    {
      "cell_type": "code",
      "metadata": {
        "id": "-IgNDjhbo4Wa"
      },
      "source": [
        "# Weight and Biasesのプロジェクト名\n",
        "WAB_PROJECT_NAME = \"test_casting\"\n",
        "\n",
        "#\n",
        "WAB_ACCONT = \"tommyg\""
      ],
      "execution_count": 175,
      "outputs": []
    },
    {
      "cell_type": "markdown",
      "metadata": {
        "id": "JHMr41d5zjf6"
      },
      "source": [
        "# パス指定"
      ]
    },
    {
      "cell_type": "code",
      "metadata": {
        "id": "NLh2Ztdt0Vdr"
      },
      "source": [
        "BASE_PATH = '/content/drive/MyDrive/Colab Notebooks/SIGNATE_鋳造/'\n",
        "\n",
        "OUTPUT_DIR = '/content/drive/Othercomputers/myPC/GoogleDrive/OutputFile/Signate_Casting/'\n"
      ],
      "execution_count": 176,
      "outputs": []
    },
    {
      "cell_type": "markdown",
      "metadata": {
        "id": "Ro7AvASOJXn5"
      },
      "source": [
        "# **import**"
      ]
    },
    {
      "cell_type": "code",
      "metadata": {
        "id": "lvt04YLKidvv"
      },
      "source": [
        "import warnings\n",
        "warnings.simplefilter('ignore')\n",
        "import os\n",
        "import gc\n",
        "gc.enable()\n",
        "import sys\n",
        "import glob\n",
        "import time\n",
        "import random\n",
        "import numpy as np\n",
        "import pandas as pd\n",
        "from PIL import Image\n",
        "import matplotlib.pyplot as plt\n",
        "import torch\n",
        "import torchvision\n",
        "import torch.nn as nn\n",
        "import torch.nn.functional as Func\n",
        "import torch.optim as optim\n",
        "from torchvision import datasets, models, transforms\n",
        "from sklearn.model_selection import GroupKFold, StratifiedKFold\n",
        "from datetime import datetime\n",
        "from tqdm.autonotebook import tqdm as tqdm\n",
        "import albumentations as A\n",
        "from albumentations.pytorch import ToTensorV2\n",
        "from sklearn.metrics import roc_auc_score\n",
        "import timm\n",
        "\n",
        "import datetime\n",
        "\n",
        "from torch.utils.data import DataLoader, Dataset\n",
        "from torchvision import transforms\n",
        "from pathlib import Path"
      ],
      "execution_count": 177,
      "outputs": []
    },
    {
      "cell_type": "code",
      "metadata": {
        "id": "Qqk7xVQXilAv",
        "colab": {
          "base_uri": "https://localhost:8080/"
        },
        "outputId": "6092c7f8-e527-4cbd-a34e-7c5b1819f706"
      },
      "source": [
        "  !rm /etc/localtime\n",
        "  !ln -s /usr/share/zoneinfo/Asia/Tokyo /etc/localtime\n",
        "  !date\n",
        "\n",
        "#終了時刻\n",
        "time_of_begin = datetime.datetime.now(datetime.timezone(datetime.timedelta(hours=9)))"
      ],
      "execution_count": 178,
      "outputs": [
        {
          "output_type": "stream",
          "name": "stdout",
          "text": [
            "Sat Sep 18 15:50:01 JST 2021\n"
          ]
        }
      ]
    },
    {
      "cell_type": "markdown",
      "metadata": {
        "id": "L_Aj0xV6A-yK"
      },
      "source": [
        "# 乱数シード固定"
      ]
    },
    {
      "cell_type": "code",
      "metadata": {
        "id": "-6wWYV33hP4E"
      },
      "source": [
        "def seed_everything(seed:int==42):\n",
        "    random.seed(seed)\n",
        "    os.environ['PYTHONHASHSEED'] = str(seed)\n",
        "    np.random.seed(seed)\n",
        "    \n",
        "    torch.manual_seed(seed)\n",
        "    torch.cuda.manual_seed_all(seed)\n",
        "    torch.backends.cudnn.deterministic = True\n",
        "\n",
        "seed_everything(32)"
      ],
      "execution_count": 179,
      "outputs": []
    },
    {
      "cell_type": "code",
      "metadata": {
        "id": "WB-k7BdGLYEE"
      },
      "source": [
        "\n",
        "# wandb.init(project='test', entity=WAB_ACCONT)"
      ],
      "execution_count": 180,
      "outputs": []
    },
    {
      "cell_type": "markdown",
      "metadata": {
        "id": "YYbOZFvgmimv"
      },
      "source": [
        "# データ読み込み"
      ]
    },
    {
      "cell_type": "markdown",
      "metadata": {
        "id": "NE9IYwPGMk3E"
      },
      "source": [
        "## MyDataset(未使用)"
      ]
    },
    {
      "cell_type": "code",
      "metadata": {
        "id": "-DmEuDhOhwrj"
      },
      "source": [
        "import torchvision.transforms as transforms\n",
        "\n",
        "class MyDataset(torch.utils.data.Dataset):\n",
        "\n",
        "  def __init__(self, imageSize, dir_path, transform=None):\n",
        "    self.transforms = transforms.Compose([\n",
        "                                          transforms.Resize(imageSize),\n",
        "                                          transforms.ToTensor(),\n",
        "    ])\n",
        "\n",
        "    train_data_dir = dir_path + \"train_data/\"\n",
        "    self.image_paths = [str(p) for p in Path(train_data_dir).glob(\"*.jpeg\")]\n",
        "    self.data_num = len(self.image_paths) #lenの返り値\n",
        "\n",
        "    # ラベル用のデータ読み込み\n",
        "    self.train_labels = pd.read_csv(dir_path + \"train.csv\", index_col='id')\n",
        "\n",
        "  def __len__(self):\n",
        "    return self.data_num\n",
        "\n",
        "  def __getitem__(self, idx):\n",
        "    p = self.image_paths[idx]\n",
        "    image = Image.open(p)\n",
        "\n",
        "    print(p)\n",
        "\n",
        "    if self.transform:\n",
        "      out_data = self.transform(image)\n",
        "\n",
        "    #ラベル取り出し\n",
        "    str_p = p.rsplit('/', 1)[1]    \n",
        "    label = self.train_labels['target'][str_p]\n",
        "\n",
        "    return out_data, out_label\n"
      ],
      "execution_count": 181,
      "outputs": []
    },
    {
      "cell_type": "markdown",
      "metadata": {
        "id": "QJ8O6ZIzPNHB"
      },
      "source": [
        "## TrainDataset"
      ]
    },
    {
      "cell_type": "code",
      "metadata": {
        "id": "3aOKfKA4PNHD"
      },
      "source": [
        "import torchvision.transforms as transforms\n",
        "\n",
        "class TrainDataset(torch.utils.data.Dataset):\n",
        "\n",
        "  def __init__(self, imageSize, dir_path, index, transform=None):\n",
        "    self.transform = A.Compose([\n",
        "                                          A.Resize(imageSize,imageSize),\n",
        "                                          A.VerticalFlip(p=0.5),\n",
        "                                          A.HorizontalFlip(p=0.5),\n",
        "                                          # A.Normalize(),\n",
        "                                          ToTensorV2(),\n",
        "    ])\n",
        "\n",
        "    train_data_dir = dir_path + \"train_data/\"\n",
        "    self.image_paths = [str(p) for p in Path(train_data_dir).glob(\"*.jpeg\")]\n",
        "\n",
        "    self.index = index\n",
        "    # print(index[1])\n",
        "    # print(index[249])\n",
        "\n",
        "    self.data_num = len(self.index) #lenの返り値\n",
        "\n",
        "    # ラベル用のデータ読み込み\n",
        "    self.train_labels = pd.read_csv(dir_path + \"train.csv\", index_col='id')\n",
        "\n",
        "  def __len__(self):\n",
        "    return self.data_num\n",
        "\n",
        "  def __getitem__(self, idx):\n",
        "    current_index = self.index[idx]\n",
        "    # print(idx)\n",
        "    # print(current_index)\n",
        "\n",
        "    p = self.image_paths[current_index]\n",
        "    image = Image.open(p)\n",
        "    image = np.array(image)\n",
        "\n",
        "    img = self.transform(image=image)\n",
        "    out_data = img['image']\n",
        "\n",
        "    #ラベル取り出し\n",
        "    str_p = p.rsplit('/', 1)[1]    \n",
        "    out_label = self.train_labels['target'][str_p]\n",
        "\n",
        "    return {\n",
        "            'image' : torch.tensor(out_data, dtype=torch.float),\n",
        "            'target' : torch.tensor(out_label, dtype=torch.float).long(),}\n"
      ],
      "execution_count": 182,
      "outputs": []
    },
    {
      "cell_type": "markdown",
      "metadata": {
        "id": "3iBgztf-IJ_O"
      },
      "source": [
        "## TestDataset"
      ]
    },
    {
      "cell_type": "code",
      "metadata": {
        "id": "EQ63Vtb8IJ_R"
      },
      "source": [
        "class TestDataset(torch.utils.data.Dataset):\n",
        "\n",
        "  def __init__(self, imageSize, dir_path, transform=None):\n",
        "    self.transform = A.Compose([\n",
        "                                          A.Resize(imageSize,imageSize),\n",
        "                                          # A.Normalize(),\n",
        "                                          ToTensorV2(),\n",
        "    ])\n",
        "\n",
        "\n",
        "    train_data_dir = dir_path + \"test_data/\"\n",
        "    self.image_paths = [str(p) for p in Path(train_data_dir).glob(\"*.jpeg\")]\n",
        "\n",
        "    self.data_num = len(self.image_paths) #lenの返り値\n",
        "\n",
        "  def __len__(self):\n",
        "    return self.data_num\n",
        "\n",
        "  def __getitem__(self, idx):\n",
        "    # print(self.image_paths[idx])\n",
        "    p = self.image_paths[idx]\n",
        "    image = Image.open(p)\n",
        "    image = np.array(image)\n",
        "\n",
        "    img = self.transform(image=image)\n",
        "    out_data = img['image']\n",
        "\n",
        "    return {\n",
        "            'image' : torch.tensor(out_data, dtype=torch.float),}\n"
      ],
      "execution_count": 183,
      "outputs": []
    },
    {
      "cell_type": "markdown",
      "metadata": {
        "id": "oLOJcpMDTbvX"
      },
      "source": [
        "# 全データ取得"
      ]
    },
    {
      "cell_type": "code",
      "metadata": {
        "id": "gpOxqIvzIWNV",
        "colab": {
          "base_uri": "https://localhost:8080/",
          "height": 473
        },
        "outputId": "e4a8bbf7-3c27-467b-9ced-1e80ac84a3cc"
      },
      "source": [
        "train_labels = pd.read_csv(BASE_PATH + \"train.csv\", index_col='id')\n",
        "\n",
        "print(train_labels.shape)\n",
        "train_labels"
      ],
      "execution_count": 184,
      "outputs": [
        {
          "output_type": "stream",
          "name": "stdout",
          "text": [
            "(250, 1)\n"
          ]
        },
        {
          "output_type": "execute_result",
          "data": {
            "text/html": [
              "<div>\n",
              "<style scoped>\n",
              "    .dataframe tbody tr th:only-of-type {\n",
              "        vertical-align: middle;\n",
              "    }\n",
              "\n",
              "    .dataframe tbody tr th {\n",
              "        vertical-align: top;\n",
              "    }\n",
              "\n",
              "    .dataframe thead th {\n",
              "        text-align: right;\n",
              "    }\n",
              "</style>\n",
              "<table border=\"1\" class=\"dataframe\">\n",
              "  <thead>\n",
              "    <tr style=\"text-align: right;\">\n",
              "      <th></th>\n",
              "      <th>target</th>\n",
              "    </tr>\n",
              "    <tr>\n",
              "      <th>id</th>\n",
              "      <th></th>\n",
              "    </tr>\n",
              "  </thead>\n",
              "  <tbody>\n",
              "    <tr>\n",
              "      <th>cast_def_0_335.jpeg</th>\n",
              "      <td>0</td>\n",
              "    </tr>\n",
              "    <tr>\n",
              "      <th>cast_def_0_323.jpeg</th>\n",
              "      <td>0</td>\n",
              "    </tr>\n",
              "    <tr>\n",
              "      <th>cast_def_0_61.jpeg</th>\n",
              "      <td>0</td>\n",
              "    </tr>\n",
              "    <tr>\n",
              "      <th>cast_def_0_163.jpeg</th>\n",
              "      <td>0</td>\n",
              "    </tr>\n",
              "    <tr>\n",
              "      <th>cast_def_0_175.jpeg</th>\n",
              "      <td>0</td>\n",
              "    </tr>\n",
              "    <tr>\n",
              "      <th>...</th>\n",
              "      <td>...</td>\n",
              "    </tr>\n",
              "    <tr>\n",
              "      <th>cast_ok_0_346.jpeg</th>\n",
              "      <td>1</td>\n",
              "    </tr>\n",
              "    <tr>\n",
              "      <th>cast_ok_0_307.jpeg</th>\n",
              "      <td>1</td>\n",
              "    </tr>\n",
              "    <tr>\n",
              "      <th>cast_ok_0_242.jpeg</th>\n",
              "      <td>1</td>\n",
              "    </tr>\n",
              "    <tr>\n",
              "      <th>cast_ok_0_184.jpeg</th>\n",
              "      <td>1</td>\n",
              "    </tr>\n",
              "    <tr>\n",
              "      <th>cast_ok_0_350.jpeg</th>\n",
              "      <td>1</td>\n",
              "    </tr>\n",
              "  </tbody>\n",
              "</table>\n",
              "<p>250 rows × 1 columns</p>\n",
              "</div>"
            ],
            "text/plain": [
              "                     target\n",
              "id                         \n",
              "cast_def_0_335.jpeg       0\n",
              "cast_def_0_323.jpeg       0\n",
              "cast_def_0_61.jpeg        0\n",
              "cast_def_0_163.jpeg       0\n",
              "cast_def_0_175.jpeg       0\n",
              "...                     ...\n",
              "cast_ok_0_346.jpeg        1\n",
              "cast_ok_0_307.jpeg        1\n",
              "cast_ok_0_242.jpeg        1\n",
              "cast_ok_0_184.jpeg        1\n",
              "cast_ok_0_350.jpeg        1\n",
              "\n",
              "[250 rows x 1 columns]"
            ]
          },
          "metadata": {},
          "execution_count": 184
        }
      ]
    },
    {
      "cell_type": "markdown",
      "metadata": {
        "id": "Wb1_nlnunBkD"
      },
      "source": [
        "# Model"
      ]
    },
    {
      "cell_type": "code",
      "metadata": {
        "id": "Ed8DRzUCfVsc"
      },
      "source": [
        "# モデル\n",
        "MODEL_DEFINE = 'efficientnet_b0'\n",
        "\n",
        "# クラス\n",
        "CLASSES = 2\n",
        "\n",
        "# エポック\n",
        "EPOCHS = 10\n"
      ],
      "execution_count": 185,
      "outputs": []
    },
    {
      "cell_type": "code",
      "metadata": {
        "id": "PEJ-ucVInFQt"
      },
      "source": [
        "class Model(nn.Module):    \n",
        "    def __init__(self, pretrained=False):\n",
        "        super().__init__()\n",
        "        self.modelbase = timm.create_model(MODEL_DEFINE, \n",
        "                                          pretrained=pretrained,\n",
        "                                          in_chans=3)        \n",
        "        self.n_features = self.modelbase.classifier.in_features\n",
        "        self.modelbase.classifier = nn.Linear(self.n_features, CLASSES)\n",
        "\n",
        "    def forward(self, x):\n",
        "        output = self.modelbase(x)\n",
        "        output = Func.log_softmax(output, dim = 1)\n",
        "        return output\n"
      ],
      "execution_count": 186,
      "outputs": []
    },
    {
      "cell_type": "code",
      "metadata": {
        "id": "6N6GrRoXK6Mj"
      },
      "source": [
        "momdel = Model()\n",
        "\n",
        "# model"
      ],
      "execution_count": 187,
      "outputs": []
    },
    {
      "cell_type": "markdown",
      "metadata": {
        "id": "aUqEOR_xKLhF"
      },
      "source": [
        "# 学習"
      ]
    },
    {
      "cell_type": "code",
      "metadata": {
        "id": "65ixLoYDhelk"
      },
      "source": [
        "# 学習率\n",
        "LEARNING_RATE = 1e-3\n",
        "\n",
        "# 減衰率\n",
        "WEIGHT_DECAY = 1e-5\n",
        "\n",
        "# GPU/CPU\n",
        "DEVICE = torch.device('cuda' if torch.cuda.is_available() else 'cpu')\n",
        "\n",
        "# ベストケースのモデル情報の格納場所\n",
        "MODEL_DIR = BASE_PATH + \"model_data/\"\n",
        "\n",
        "# fold数\n",
        "FOLDS = 3"
      ],
      "execution_count": 188,
      "outputs": []
    },
    {
      "cell_type": "markdown",
      "metadata": {
        "id": "8SGxSHTMKp4a"
      },
      "source": [
        "## 学習関数"
      ]
    },
    {
      "cell_type": "code",
      "metadata": {
        "id": "5lNxEQbSKx8p"
      },
      "source": [
        "def func_train(model, device, optimizer, loss_function, train_loader):\n",
        "    model.train()\n",
        "    running_loss = 0\n",
        "    correct = 0\n",
        "    total = 0\n",
        "    \n",
        "    for batch_idx,  train in enumerate(train_loader):\n",
        "        images = train['image'].to(device)\n",
        "        labels = train['target'].to(device)\n",
        "        \n",
        "        optimizer.zero_grad() \n",
        "        preds = model(images)\n",
        "        \n",
        "        loss = loss_function(preds, labels)\n",
        "        loss.backward()\n",
        "        optimizer.step()\n",
        "        \n",
        "        running_loss += loss.item()\n",
        "        \n",
        "    train_loss = running_loss / len(train_loader)\n",
        "    \n",
        "    return train_loss"
      ],
      "execution_count": 189,
      "outputs": []
    },
    {
      "cell_type": "markdown",
      "metadata": {
        "id": "YGRAohZFnx5t"
      },
      "source": [
        "## valid関数"
      ]
    },
    {
      "cell_type": "code",
      "metadata": {
        "id": "eUMuwsMUnx6B"
      },
      "source": [
        "\n",
        "def func_valid(model, device, loss_function, dataloader ):    \n",
        "    model.eval()\n",
        "    running_loss = 0\n",
        "    test_preds = []\n",
        "\n",
        "    for batch_idx, valid in enumerate(dataloader):\n",
        "        images = valid['image'].to(device)\n",
        "        labels = valid['target'].to(device)\n",
        "        preds = model(images)     \n",
        "        \n",
        "        loss = loss_function(preds, labels) \n",
        "        running_loss += loss.item()\n",
        "\n",
        "    valid_loss = running_loss / len(dataloader)   \n",
        "    return valid_loss"
      ],
      "execution_count": 190,
      "outputs": []
    },
    {
      "cell_type": "markdown",
      "metadata": {
        "id": "nmDjvVExXfVu"
      },
      "source": [
        "## テスト関数"
      ]
    },
    {
      "cell_type": "code",
      "metadata": {
        "id": "MiHXyISkWVt4"
      },
      "source": [
        "\n",
        "def func_test(model, device, dataloader ):    \n",
        "    model.eval()        \n",
        "    final_loss = 0\n",
        "    test_preds = []\n",
        "\n",
        "    for step, test in enumerate(dataloader):\n",
        "        print(\"stap=\",step)    \n",
        "        images = test['image'].to(device)\n",
        "        preds = model(images)            \n",
        "        test_preds.append(preds.sigmoid().detach().cpu().numpy())                \n",
        "    \n",
        "    test_preds = np.concatenate(test_preds)    \n",
        "    return test_preds"
      ],
      "execution_count": 191,
      "outputs": []
    },
    {
      "cell_type": "markdown",
      "metadata": {
        "id": "P9bxYc-TXiEL"
      },
      "source": [
        "## 学習と推論の実行（メインの関数）"
      ]
    },
    {
      "cell_type": "code",
      "metadata": {
        "id": "OClC8zR9KiCy"
      },
      "source": [
        "def do_train_predict(config=None):\n",
        "\n",
        "  with wandb.init(project=WAB_PROJECT_NAME, entity=WAB_ACCONT, config=config):\n",
        "\n",
        "    config = wandb.config\n",
        "    \n",
        "    # kf = StratifiedKFold(n_splits=3)\n",
        "    from sklearn.model_selection import KFold\n",
        "\n",
        "\n",
        "    kf = KFold(n_splits=FOLDS, shuffle=True)\n",
        "    # batch_size = 16\n",
        "    batch_size = config.batch_size\n",
        "\n",
        "    # テストデータの数を知りたい\n",
        "    dir = BASE_PATH + \"test_data/\"\n",
        "    test_len = sum(os.path.isfile(os.path.join(dir,name)) for name in os.listdir(dir))\n",
        "\n",
        "    # pred初期化\n",
        "    pred = np.zeros((test_len, CLASSES))\n",
        "\n",
        "    cv = 0\n",
        "    for _fold, (train_index, valid_index) in enumerate(kf.split(train_labels)):\n",
        "      # print(train_index)\n",
        "      # print(valid_index)  \n",
        "\n",
        "      # loss最小値の初期化(とりあえず100)\n",
        "      min_loss = 100\n",
        "\n",
        "\n",
        "      train_dataset = TrainDataset(224, dir_path=BASE_PATH, index = train_index)\n",
        "      train_dataloader = DataLoader(train_dataset, batch_size, shuffle=True)\n",
        "\n",
        "      valid_dataset = TrainDataset(224, dir_path=BASE_PATH, index = valid_index)\n",
        "      valid_dataloader = DataLoader(valid_dataset, batch_size, shuffle=False)\n",
        "\n",
        "      model = Model(pretrained=True)\n",
        "      model.to(DEVICE)\n",
        "      optimizer = torch.optim.Adam(model.parameters(),\n",
        "                                    # lr=LEARNING_RATE,\n",
        "                                    lr = config.learning_rate,\n",
        "                                    weight_decay=WEIGHT_DECAY)\n",
        "      \n",
        "      loss_function = nn.CrossEntropyLoss()\n",
        "\n",
        "      start_time = time.time()\n",
        "      end_time = start_time\n",
        "\n",
        "      # 学習\n",
        "      # EPOCHS = 2 # for test\n",
        "      for epoch in range(EPOCHS):\n",
        "        start_time = time.time()\n",
        "\n",
        "        train_loss = func_train(model, DEVICE, optimizer, loss_function, train_dataloader)\n",
        "        valid_loss = func_valid(model, DEVICE, loss_function, valid_dataloader)\n",
        "\n",
        "        if valid_loss < min_loss:\n",
        "            min_loss = valid_loss            \n",
        "            MODEL_PATH = f\"{MODEL_DIR}best_{MODEL_DEFINE}_fold{_fold+1}.pth\"\n",
        "            torch.save(model.state_dict(), MODEL_PATH)\n",
        "        # else:\n",
        "        #     continue\n",
        "\n",
        "        end_time = time.time()\n",
        "        print(f\"FOLD: {_fold+1} | EPOCH:{epoch+1:02d} | train_loss:{train_loss:.6f} | valid_loss:{valid_loss:.6f} | time:{end_time-start_time:.1f}s \")\n",
        "        wandb.log({'epoch': epoch + 1, 'loss': valid_loss})\n",
        "\n",
        "      print(\"final valid_loss : \",valid_loss )\n",
        "\n",
        "      model.load_state_dict(torch.load(MODEL_PATH))\n",
        "      test_dataset = TestDataset(224, dir_path=BASE_PATH)\n",
        "      test_dataloader = DataLoader(test_dataset, batch_size, shuffle=False)\n",
        "\n",
        "      pred_list = func_test(model, DEVICE, test_dataloader)\n",
        "\n",
        "      # print(pred_list)\n",
        "\n",
        "      pred += pred_list/FOLDS\n"
      ],
      "execution_count": 192,
      "outputs": []
    },
    {
      "cell_type": "markdown",
      "metadata": {
        "id": "EBI-z3Q8izz8"
      },
      "source": [
        "## Weights and Biases処理"
      ]
    },
    {
      "cell_type": "code",
      "metadata": {
        "id": "U0NE0ra6SxSk"
      },
      "source": [
        "import math\n",
        "\n",
        "sweep_config = {\n",
        "                'method': 'random',\n",
        "                # 'metric': {'goal': 'minimize', 'name': 'loss'},\n",
        "                'parameters': {\n",
        "                    'batch_size': {\n",
        "                        'distribution': 'q_log_uniform',\n",
        "                        'max': math.log(32),\n",
        "                        'min': math.log(16),\n",
        "                        'q': 1\n",
        "                    },\n",
        "                #     'epochs': {'value': 5},\n",
        "                #     'fc_layer_size': {'values': [128, 256, 512]},\n",
        "                    'learning_rate': {'distribution': 'uniform',\n",
        "                                      'max': 1e-3,\n",
        "                                      'min': 1e-4},\n",
        "                    # 'optimizer': {'values': ['adam', 'sgd']\n",
        "                }\n",
        " }"
      ],
      "execution_count": 193,
      "outputs": []
    },
    {
      "cell_type": "code",
      "metadata": {
        "colab": {
          "base_uri": "https://localhost:8080/"
        },
        "id": "QT-A074SSrHG",
        "outputId": "344f12ff-99a1-46d2-8d5d-8a2b420b78ed"
      },
      "source": [
        "sweep_id = wandb.sweep(sweep_config, project=WAB_PROJECT_NAME)"
      ],
      "execution_count": 194,
      "outputs": [
        {
          "output_type": "stream",
          "name": "stdout",
          "text": [
            "Create sweep with ID: nzov1xuw\n",
            "Sweep URL: https://wandb.ai/tommyg/test_casting/sweeps/nzov1xuw\n"
          ]
        }
      ]
    },
    {
      "cell_type": "code",
      "metadata": {
        "colab": {
          "base_uri": "https://localhost:8080/",
          "height": 1000,
          "referenced_widgets": [
            "26006b68968b4af6823a69f57266ef8f",
            "1968147511d6480cb333b1b0b2f2edba",
            "564aca4b396a4aa0a72fc4dcc5405469",
            "68794ec285c1468b816cbc7d792bc5e6",
            "a0f77ba2ebf445c4ad3e47e5dea8524f",
            "d394e0120a0648f7baab5d8e790c5cb8",
            "73baa83006494de89f145f70b20ace5d",
            "c9302666834b4d40b658121d5cda58e9",
            "f2cb872e298047f4b16bf36653f3848a",
            "45ce6948aa7d4f27b3aac55ed3d4a8a3",
            "e7b069a71c9f45ba814843b9aff91e4c",
            "249d643cc7984354a4e82d203b2829b8",
            "d7477e798deb414bbeb3ad22322d877d",
            "db09b916a85147e0b842bc7304ffc04a",
            "4298f60724b04bd9954d96b012bd631e",
            "f534c9a72d71403d83427a0bfe3c3654",
            "1190b47b7fc44102bc38d8d257ce8df6",
            "547c59b1d7b041a58ba912cc2519ca64",
            "663c3d886f5c46c497e296b92e56d999",
            "db39c4bf8c4f4bc79f751018a2290020",
            "107f230e6af74657bfe6f20cc4c93933",
            "5340a477e8114df7bb6588f2f5fef052",
            "45ed0d8d0fac4700b8b17fc3904c9c25",
            "40c1fb5679a14a01b1bf706d180f6a69",
            "c59e76397fb84aedb624cfc8e67277a0",
            "6d181474c73f46c9b2785310214da094",
            "127f1a8e60804d76b66c916f56e057b1",
            "1c6b53bb195d46ff8bd815559a7efb9d",
            "9cfcda8e93164b518af692da7123fdfe",
            "bf754f62fd8f497ebc2a691880310feb",
            "8d27a6c0fc7248aeae92678d1c85237b",
            "f85d0a286a0e4a2e8c047e3f0b2673e8",
            "ce3e9961059246768b38e898f928d9c3",
            "1e3c6f207e77479fbef1ecdfb5c30b43",
            "7beb4a01a42d496c8ab68c4444d8831f",
            "1306ea5f8c1347fb9ad4e9699a7e5809",
            "147820a589644094b93469ebb8c6b351",
            "4a225561576b49ada914c250646a3f6c",
            "6f21fb10e6fa4179ab77e14bb9507d1d",
            "839b44fdc5b44c92b03237a84f2d0fcd"
          ]
        },
        "id": "2hdt5bX4Q8-V",
        "outputId": "42c11b16-7888-4e26-81de-6172264a3cea"
      },
      "source": [
        "wandb.agent(sweep_id, function=do_train_predict, count=5)"
      ],
      "execution_count": 195,
      "outputs": [
        {
          "output_type": "stream",
          "name": "stderr",
          "text": [
            "\u001b[34m\u001b[1mwandb\u001b[0m: Agent Starting Run: 8b8woxda with config:\n",
            "\u001b[34m\u001b[1mwandb\u001b[0m: \tbatch_size: 25\n",
            "\u001b[34m\u001b[1mwandb\u001b[0m: \tlearning_rate: 0.0008548130033258428\n",
            "\u001b[34m\u001b[1mwandb\u001b[0m: \u001b[33mWARNING\u001b[0m Ignored wandb.init() arg project when running a sweep\n",
            "\u001b[34m\u001b[1mwandb\u001b[0m: \u001b[33mWARNING\u001b[0m Ignored wandb.init() arg entity when running a sweep\n"
          ]
        },
        {
          "output_type": "display_data",
          "data": {
            "text/html": [
              "\n",
              "                Tracking run with wandb version 0.12.2<br/>\n",
              "                Syncing run <strong style=\"color:#cdcd00\">rural-sweep-1</strong> to <a href=\"https://wandb.ai\" target=\"_blank\">Weights & Biases</a> <a href=\"https://docs.wandb.com/integrations/jupyter.html\" target=\"_blank\">(Documentation)</a>.<br/>\n",
              "                Project page: <a href=\"https://wandb.ai/tommyg/test_casting\" target=\"_blank\">https://wandb.ai/tommyg/test_casting</a><br/>\n",
              "                Sweep page: <a href=\"https://wandb.ai/tommyg/test_casting/sweeps/nzov1xuw\" target=\"_blank\">https://wandb.ai/tommyg/test_casting/sweeps/nzov1xuw</a><br/>\n",
              "Run page: <a href=\"https://wandb.ai/tommyg/test_casting/runs/8b8woxda\" target=\"_blank\">https://wandb.ai/tommyg/test_casting/runs/8b8woxda</a><br/>\n",
              "                Run data is saved locally in <code>/content/wandb/run-20210918_065003-8b8woxda</code><br/><br/>\n",
              "            "
            ],
            "text/plain": [
              "<IPython.core.display.HTML object>"
            ]
          },
          "metadata": {}
        },
        {
          "output_type": "stream",
          "name": "stdout",
          "text": [
            "FOLD: 1 | EPOCH:01 | train_loss:0.396220 | valid_loss:9.239107 | time:4.0s \n",
            "FOLD: 1 | EPOCH:02 | train_loss:0.089656 | valid_loss:1.388269 | time:4.1s \n",
            "FOLD: 1 | EPOCH:03 | train_loss:0.183782 | valid_loss:0.094682 | time:4.0s \n",
            "FOLD: 1 | EPOCH:04 | train_loss:0.067568 | valid_loss:0.067555 | time:4.0s \n",
            "FOLD: 1 | EPOCH:05 | train_loss:0.033665 | valid_loss:0.033882 | time:4.0s \n",
            "FOLD: 1 | EPOCH:06 | train_loss:0.055084 | valid_loss:0.039659 | time:3.9s \n",
            "FOLD: 1 | EPOCH:07 | train_loss:0.059060 | valid_loss:0.015464 | time:4.0s \n",
            "FOLD: 1 | EPOCH:08 | train_loss:0.062960 | valid_loss:0.004367 | time:4.0s \n",
            "FOLD: 1 | EPOCH:09 | train_loss:0.028171 | valid_loss:0.005746 | time:3.8s \n",
            "FOLD: 1 | EPOCH:10 | train_loss:0.010233 | valid_loss:0.011133 | time:3.9s \n",
            "final valid_loss :  0.01113258514305926\n",
            "stap= 0\n",
            "stap= 1\n",
            "stap= 2\n",
            "stap= 3\n",
            "FOLD: 2 | EPOCH:01 | train_loss:0.342704 | valid_loss:37.351717 | time:4.1s \n",
            "FOLD: 2 | EPOCH:02 | train_loss:0.060632 | valid_loss:1.389771 | time:4.0s \n",
            "FOLD: 2 | EPOCH:03 | train_loss:0.118261 | valid_loss:0.457379 | time:4.1s \n",
            "FOLD: 2 | EPOCH:04 | train_loss:0.103923 | valid_loss:0.065571 | time:4.1s \n",
            "FOLD: 2 | EPOCH:05 | train_loss:0.044882 | valid_loss:0.025842 | time:4.0s \n",
            "FOLD: 2 | EPOCH:06 | train_loss:0.008817 | valid_loss:0.011924 | time:3.9s \n",
            "FOLD: 2 | EPOCH:07 | train_loss:0.003574 | valid_loss:0.030056 | time:3.8s \n",
            "FOLD: 2 | EPOCH:08 | train_loss:0.003562 | valid_loss:0.051998 | time:3.8s \n",
            "FOLD: 2 | EPOCH:09 | train_loss:0.003780 | valid_loss:0.095979 | time:3.9s \n",
            "FOLD: 2 | EPOCH:10 | train_loss:0.001669 | valid_loss:0.111558 | time:3.8s \n",
            "final valid_loss :  0.11155798627441982\n",
            "stap= 0\n",
            "stap= 1\n",
            "stap= 2\n",
            "stap= 3\n",
            "FOLD: 3 | EPOCH:01 | train_loss:0.397495 | valid_loss:6.080641 | time:4.0s \n",
            "FOLD: 3 | EPOCH:02 | train_loss:0.091761 | valid_loss:1.833102 | time:4.1s \n",
            "FOLD: 3 | EPOCH:03 | train_loss:0.031316 | valid_loss:0.547959 | time:4.1s \n",
            "FOLD: 3 | EPOCH:04 | train_loss:0.034576 | valid_loss:0.124978 | time:3.9s \n",
            "FOLD: 3 | EPOCH:05 | train_loss:0.139459 | valid_loss:0.016414 | time:4.1s \n",
            "FOLD: 3 | EPOCH:06 | train_loss:0.077269 | valid_loss:0.031515 | time:3.8s \n",
            "FOLD: 3 | EPOCH:07 | train_loss:0.026078 | valid_loss:0.129918 | time:3.9s \n",
            "FOLD: 3 | EPOCH:08 | train_loss:0.027898 | valid_loss:0.048749 | time:3.8s \n",
            "FOLD: 3 | EPOCH:09 | train_loss:0.014885 | valid_loss:0.032647 | time:3.8s \n",
            "FOLD: 3 | EPOCH:10 | train_loss:0.106485 | valid_loss:0.051913 | time:3.7s \n",
            "final valid_loss :  0.051912820017605554\n",
            "stap= 0\n",
            "stap= 1\n",
            "stap= 2\n",
            "stap= 3\n"
          ]
        },
        {
          "output_type": "display_data",
          "data": {
            "text/html": [
              "<br/>Waiting for W&B process to finish, PID 1451<br/>Program ended successfully."
            ],
            "text/plain": [
              "<IPython.core.display.HTML object>"
            ]
          },
          "metadata": {}
        },
        {
          "output_type": "display_data",
          "data": {
            "application/vnd.jupyter.widget-view+json": {
              "model_id": "26006b68968b4af6823a69f57266ef8f",
              "version_minor": 0,
              "version_major": 2
            },
            "text/plain": [
              "VBox(children=(Label(value=' 0.00MB of 0.00MB uploaded (0.00MB deduped)\\r'), FloatProgress(value=1.0, max=1.0)…"
            ]
          },
          "metadata": {}
        },
        {
          "output_type": "display_data",
          "data": {
            "text/html": [
              "Find user logs for this run at: <code>/content/wandb/run-20210918_065003-8b8woxda/logs/debug.log</code>"
            ],
            "text/plain": [
              "<IPython.core.display.HTML object>"
            ]
          },
          "metadata": {}
        },
        {
          "output_type": "display_data",
          "data": {
            "text/html": [
              "Find internal logs for this run at: <code>/content/wandb/run-20210918_065003-8b8woxda/logs/debug-internal.log</code>"
            ],
            "text/plain": [
              "<IPython.core.display.HTML object>"
            ]
          },
          "metadata": {}
        },
        {
          "output_type": "display_data",
          "data": {
            "text/html": [
              "<h3>Run summary:</h3><br/><style>\n",
              "    table.wandb td:nth-child(1) { padding: 0 10px; text-align: right }\n",
              "    </style><table class=\"wandb\">\n",
              "<tr><td>epoch</td><td>10</td></tr><tr><td>loss</td><td>0.05191</td></tr></table>"
            ],
            "text/plain": [
              "<IPython.core.display.HTML object>"
            ]
          },
          "metadata": {}
        },
        {
          "output_type": "display_data",
          "data": {
            "text/html": [
              "<h3>Run history:</h3><br/><style>\n",
              "    table.wandb td:nth-child(1) { padding: 0 10px; text-align: right }\n",
              "    </style><table class=\"wandb\">\n",
              "<tr><td>epoch</td><td>▁▂▃▃▄▅▆▆▇█▁▂▃▃▄▅▆▆▇█▁▂▃▃▄▅▆▆▇█</td></tr><tr><td>loss</td><td>▃▁▁▁▁▁▁▁▁▁█▁▁▁▁▁▁▁▁▁▂▁▁▁▁▁▁▁▁▁</td></tr></table><br/>"
            ],
            "text/plain": [
              "<IPython.core.display.HTML object>"
            ]
          },
          "metadata": {}
        },
        {
          "output_type": "display_data",
          "data": {
            "text/html": [
              "Synced 5 W&B file(s), 0 media file(s), 0 artifact file(s) and 0 other file(s)"
            ],
            "text/plain": [
              "<IPython.core.display.HTML object>"
            ]
          },
          "metadata": {}
        },
        {
          "output_type": "display_data",
          "data": {
            "text/html": [
              "\n",
              "                    <br/>Synced <strong style=\"color:#cdcd00\">rural-sweep-1</strong>: <a href=\"https://wandb.ai/tommyg/test_casting/runs/8b8woxda\" target=\"_blank\">https://wandb.ai/tommyg/test_casting/runs/8b8woxda</a><br/>\n",
              "                "
            ],
            "text/plain": [
              "<IPython.core.display.HTML object>"
            ]
          },
          "metadata": {}
        },
        {
          "output_type": "stream",
          "name": "stderr",
          "text": [
            "\u001b[34m\u001b[1mwandb\u001b[0m: Agent Starting Run: 1ykgkekb with config:\n",
            "\u001b[34m\u001b[1mwandb\u001b[0m: \tbatch_size: 26\n",
            "\u001b[34m\u001b[1mwandb\u001b[0m: \tlearning_rate: 0.0004803477080926788\n",
            "\u001b[34m\u001b[1mwandb\u001b[0m: \u001b[33mWARNING\u001b[0m Ignored wandb.init() arg project when running a sweep\n",
            "\u001b[34m\u001b[1mwandb\u001b[0m: \u001b[33mWARNING\u001b[0m Ignored wandb.init() arg entity when running a sweep\n"
          ]
        },
        {
          "output_type": "display_data",
          "data": {
            "text/html": [
              "\n",
              "                Tracking run with wandb version 0.12.2<br/>\n",
              "                Syncing run <strong style=\"color:#cdcd00\">fanciful-sweep-2</strong> to <a href=\"https://wandb.ai\" target=\"_blank\">Weights & Biases</a> <a href=\"https://docs.wandb.com/integrations/jupyter.html\" target=\"_blank\">(Documentation)</a>.<br/>\n",
              "                Project page: <a href=\"https://wandb.ai/tommyg/test_casting\" target=\"_blank\">https://wandb.ai/tommyg/test_casting</a><br/>\n",
              "                Sweep page: <a href=\"https://wandb.ai/tommyg/test_casting/sweeps/nzov1xuw\" target=\"_blank\">https://wandb.ai/tommyg/test_casting/sweeps/nzov1xuw</a><br/>\n",
              "Run page: <a href=\"https://wandb.ai/tommyg/test_casting/runs/1ykgkekb\" target=\"_blank\">https://wandb.ai/tommyg/test_casting/runs/1ykgkekb</a><br/>\n",
              "                Run data is saved locally in <code>/content/wandb/run-20210918_065213-1ykgkekb</code><br/><br/>\n",
              "            "
            ],
            "text/plain": [
              "<IPython.core.display.HTML object>"
            ]
          },
          "metadata": {}
        },
        {
          "output_type": "stream",
          "name": "stdout",
          "text": [
            "FOLD: 1 | EPOCH:01 | train_loss:0.421933 | valid_loss:24.088605 | time:4.1s \n",
            "FOLD: 1 | EPOCH:02 | train_loss:0.128174 | valid_loss:5.000033 | time:4.1s \n",
            "FOLD: 1 | EPOCH:03 | train_loss:0.033522 | valid_loss:0.581164 | time:4.2s \n",
            "FOLD: 1 | EPOCH:04 | train_loss:0.041287 | valid_loss:0.129152 | time:4.1s \n",
            "FOLD: 1 | EPOCH:05 | train_loss:0.035701 | valid_loss:0.121275 | time:4.1s \n",
            "FOLD: 1 | EPOCH:06 | train_loss:0.034948 | valid_loss:0.045200 | time:4.1s \n",
            "FOLD: 1 | EPOCH:07 | train_loss:0.050150 | valid_loss:0.233701 | time:4.0s \n",
            "FOLD: 1 | EPOCH:08 | train_loss:0.019372 | valid_loss:0.106940 | time:3.9s \n",
            "FOLD: 1 | EPOCH:09 | train_loss:0.020371 | valid_loss:0.169245 | time:4.0s \n",
            "FOLD: 1 | EPOCH:10 | train_loss:0.009424 | valid_loss:0.066690 | time:4.0s \n",
            "final valid_loss :  0.06668991316109896\n",
            "stap= 0\n",
            "stap= 1\n",
            "stap= 2\n",
            "stap= 3\n",
            "FOLD: 2 | EPOCH:01 | train_loss:0.389021 | valid_loss:5.571976 | time:4.1s \n",
            "FOLD: 2 | EPOCH:02 | train_loss:0.092625 | valid_loss:0.481833 | time:4.2s \n",
            "FOLD: 2 | EPOCH:03 | train_loss:0.043873 | valid_loss:0.073497 | time:4.0s \n",
            "FOLD: 2 | EPOCH:04 | train_loss:0.024416 | valid_loss:0.190032 | time:4.0s \n",
            "FOLD: 2 | EPOCH:05 | train_loss:0.048564 | valid_loss:0.046430 | time:4.1s \n",
            "FOLD: 2 | EPOCH:06 | train_loss:0.039379 | valid_loss:0.511827 | time:4.0s \n",
            "FOLD: 2 | EPOCH:07 | train_loss:0.051697 | valid_loss:0.096285 | time:3.9s \n",
            "FOLD: 2 | EPOCH:08 | train_loss:0.083999 | valid_loss:0.092425 | time:3.9s \n",
            "FOLD: 2 | EPOCH:09 | train_loss:0.013005 | valid_loss:0.018461 | time:4.1s \n",
            "FOLD: 2 | EPOCH:10 | train_loss:0.008208 | valid_loss:0.033649 | time:3.9s \n",
            "final valid_loss :  0.03364948509261012\n",
            "stap= 0\n",
            "stap= 1\n",
            "stap= 2\n",
            "stap= 3\n",
            "FOLD: 3 | EPOCH:01 | train_loss:0.409689 | valid_loss:29.926724 | time:4.2s \n",
            "FOLD: 3 | EPOCH:02 | train_loss:0.075516 | valid_loss:4.336997 | time:4.1s \n",
            "FOLD: 3 | EPOCH:03 | train_loss:0.013093 | valid_loss:0.201798 | time:4.1s \n",
            "FOLD: 3 | EPOCH:04 | train_loss:0.041942 | valid_loss:0.039899 | time:4.1s \n",
            "FOLD: 3 | EPOCH:05 | train_loss:0.244414 | valid_loss:0.302907 | time:3.8s \n",
            "FOLD: 3 | EPOCH:06 | train_loss:0.070224 | valid_loss:0.069923 | time:4.0s \n",
            "FOLD: 3 | EPOCH:07 | train_loss:0.050132 | valid_loss:0.041756 | time:4.0s \n",
            "FOLD: 3 | EPOCH:08 | train_loss:0.016474 | valid_loss:0.042386 | time:4.0s \n",
            "FOLD: 3 | EPOCH:09 | train_loss:0.019207 | valid_loss:0.020332 | time:4.1s \n",
            "FOLD: 3 | EPOCH:10 | train_loss:0.023445 | valid_loss:0.021215 | time:4.0s \n",
            "final valid_loss :  0.021215204149484634\n",
            "stap= 0\n",
            "stap= 1\n",
            "stap= 2\n",
            "stap= 3\n"
          ]
        },
        {
          "output_type": "display_data",
          "data": {
            "text/html": [
              "<br/>Waiting for W&B process to finish, PID 1516<br/>Program ended successfully."
            ],
            "text/plain": [
              "<IPython.core.display.HTML object>"
            ]
          },
          "metadata": {}
        },
        {
          "output_type": "display_data",
          "data": {
            "application/vnd.jupyter.widget-view+json": {
              "model_id": "f2cb872e298047f4b16bf36653f3848a",
              "version_minor": 0,
              "version_major": 2
            },
            "text/plain": [
              "VBox(children=(Label(value=' 0.00MB of 0.00MB uploaded (0.00MB deduped)\\r'), FloatProgress(value=1.0, max=1.0)…"
            ]
          },
          "metadata": {}
        },
        {
          "output_type": "display_data",
          "data": {
            "text/html": [
              "Find user logs for this run at: <code>/content/wandb/run-20210918_065213-1ykgkekb/logs/debug.log</code>"
            ],
            "text/plain": [
              "<IPython.core.display.HTML object>"
            ]
          },
          "metadata": {}
        },
        {
          "output_type": "display_data",
          "data": {
            "text/html": [
              "Find internal logs for this run at: <code>/content/wandb/run-20210918_065213-1ykgkekb/logs/debug-internal.log</code>"
            ],
            "text/plain": [
              "<IPython.core.display.HTML object>"
            ]
          },
          "metadata": {}
        },
        {
          "output_type": "display_data",
          "data": {
            "text/html": [
              "<h3>Run summary:</h3><br/><style>\n",
              "    table.wandb td:nth-child(1) { padding: 0 10px; text-align: right }\n",
              "    </style><table class=\"wandb\">\n",
              "<tr><td>epoch</td><td>10</td></tr><tr><td>loss</td><td>0.02122</td></tr></table>"
            ],
            "text/plain": [
              "<IPython.core.display.HTML object>"
            ]
          },
          "metadata": {}
        },
        {
          "output_type": "display_data",
          "data": {
            "text/html": [
              "<h3>Run history:</h3><br/><style>\n",
              "    table.wandb td:nth-child(1) { padding: 0 10px; text-align: right }\n",
              "    </style><table class=\"wandb\">\n",
              "<tr><td>epoch</td><td>▁▂▃▃▄▅▆▆▇█▁▂▃▃▄▅▆▆▇█▁▂▃▃▄▅▆▆▇█</td></tr><tr><td>loss</td><td>▇▂▁▁▁▁▁▁▁▁▂▁▁▁▁▁▁▁▁▁█▂▁▁▁▁▁▁▁▁</td></tr></table><br/>"
            ],
            "text/plain": [
              "<IPython.core.display.HTML object>"
            ]
          },
          "metadata": {}
        },
        {
          "output_type": "display_data",
          "data": {
            "text/html": [
              "Synced 5 W&B file(s), 0 media file(s), 0 artifact file(s) and 0 other file(s)"
            ],
            "text/plain": [
              "<IPython.core.display.HTML object>"
            ]
          },
          "metadata": {}
        },
        {
          "output_type": "display_data",
          "data": {
            "text/html": [
              "\n",
              "                    <br/>Synced <strong style=\"color:#cdcd00\">fanciful-sweep-2</strong>: <a href=\"https://wandb.ai/tommyg/test_casting/runs/1ykgkekb\" target=\"_blank\">https://wandb.ai/tommyg/test_casting/runs/1ykgkekb</a><br/>\n",
              "                "
            ],
            "text/plain": [
              "<IPython.core.display.HTML object>"
            ]
          },
          "metadata": {}
        },
        {
          "output_type": "stream",
          "name": "stderr",
          "text": [
            "\u001b[34m\u001b[1mwandb\u001b[0m: Agent Starting Run: p716syd4 with config:\n",
            "\u001b[34m\u001b[1mwandb\u001b[0m: \tbatch_size: 17\n",
            "\u001b[34m\u001b[1mwandb\u001b[0m: \tlearning_rate: 0.00019994417715386216\n",
            "\u001b[34m\u001b[1mwandb\u001b[0m: \u001b[33mWARNING\u001b[0m Ignored wandb.init() arg project when running a sweep\n",
            "\u001b[34m\u001b[1mwandb\u001b[0m: \u001b[33mWARNING\u001b[0m Ignored wandb.init() arg entity when running a sweep\n"
          ]
        },
        {
          "output_type": "display_data",
          "data": {
            "text/html": [
              "\n",
              "                Tracking run with wandb version 0.12.2<br/>\n",
              "                Syncing run <strong style=\"color:#cdcd00\">logical-sweep-3</strong> to <a href=\"https://wandb.ai\" target=\"_blank\">Weights & Biases</a> <a href=\"https://docs.wandb.com/integrations/jupyter.html\" target=\"_blank\">(Documentation)</a>.<br/>\n",
              "                Project page: <a href=\"https://wandb.ai/tommyg/test_casting\" target=\"_blank\">https://wandb.ai/tommyg/test_casting</a><br/>\n",
              "                Sweep page: <a href=\"https://wandb.ai/tommyg/test_casting/sweeps/nzov1xuw\" target=\"_blank\">https://wandb.ai/tommyg/test_casting/sweeps/nzov1xuw</a><br/>\n",
              "Run page: <a href=\"https://wandb.ai/tommyg/test_casting/runs/p716syd4\" target=\"_blank\">https://wandb.ai/tommyg/test_casting/runs/p716syd4</a><br/>\n",
              "                Run data is saved locally in <code>/content/wandb/run-20210918_065425-p716syd4</code><br/><br/>\n",
              "            "
            ],
            "text/plain": [
              "<IPython.core.display.HTML object>"
            ]
          },
          "metadata": {}
        },
        {
          "output_type": "stream",
          "name": "stdout",
          "text": [
            "FOLD: 1 | EPOCH:01 | train_loss:0.542065 | valid_loss:11.771064 | time:4.5s \n",
            "FOLD: 1 | EPOCH:02 | train_loss:0.210908 | valid_loss:0.379830 | time:4.4s \n",
            "FOLD: 1 | EPOCH:03 | train_loss:0.067551 | valid_loss:0.043252 | time:4.4s \n",
            "FOLD: 1 | EPOCH:04 | train_loss:0.047538 | valid_loss:0.047096 | time:4.2s \n",
            "FOLD: 1 | EPOCH:05 | train_loss:0.016319 | valid_loss:0.012811 | time:4.5s \n",
            "FOLD: 1 | EPOCH:06 | train_loss:0.016721 | valid_loss:0.056974 | time:4.3s \n",
            "FOLD: 1 | EPOCH:07 | train_loss:0.029716 | valid_loss:0.074077 | time:4.2s \n",
            "FOLD: 1 | EPOCH:08 | train_loss:0.015194 | valid_loss:0.079417 | time:4.3s \n",
            "FOLD: 1 | EPOCH:09 | train_loss:0.035153 | valid_loss:0.033614 | time:4.1s \n",
            "FOLD: 1 | EPOCH:10 | train_loss:0.036501 | valid_loss:0.022549 | time:4.2s \n",
            "final valid_loss :  0.022548941150307655\n",
            "stap= 0\n",
            "stap= 1\n",
            "stap= 2\n",
            "stap= 3\n",
            "stap= 4\n",
            "stap= 5\n",
            "FOLD: 2 | EPOCH:01 | train_loss:0.543833 | valid_loss:1.031670 | time:4.4s \n",
            "FOLD: 2 | EPOCH:02 | train_loss:0.207520 | valid_loss:0.267430 | time:4.4s \n",
            "FOLD: 2 | EPOCH:03 | train_loss:0.092093 | valid_loss:0.037364 | time:4.3s \n",
            "FOLD: 2 | EPOCH:04 | train_loss:0.048482 | valid_loss:0.050139 | time:4.2s \n",
            "FOLD: 2 | EPOCH:05 | train_loss:0.030261 | valid_loss:0.010381 | time:4.3s \n",
            "FOLD: 2 | EPOCH:06 | train_loss:0.015328 | valid_loss:0.015513 | time:4.2s \n",
            "FOLD: 2 | EPOCH:07 | train_loss:0.013778 | valid_loss:0.031113 | time:4.3s \n",
            "FOLD: 2 | EPOCH:08 | train_loss:0.048990 | valid_loss:0.135075 | time:4.2s \n",
            "FOLD: 2 | EPOCH:09 | train_loss:0.036821 | valid_loss:0.034404 | time:4.1s \n",
            "FOLD: 2 | EPOCH:10 | train_loss:0.019801 | valid_loss:0.008057 | time:4.4s \n",
            "final valid_loss :  0.008057186845690012\n",
            "stap= 0\n",
            "stap= 1\n",
            "stap= 2\n",
            "stap= 3\n",
            "stap= 4\n",
            "stap= 5\n",
            "FOLD: 3 | EPOCH:01 | train_loss:0.528755 | valid_loss:1.934565 | time:4.4s \n",
            "FOLD: 3 | EPOCH:02 | train_loss:0.199481 | valid_loss:0.333002 | time:4.6s \n",
            "FOLD: 3 | EPOCH:03 | train_loss:0.102108 | valid_loss:0.055479 | time:4.4s \n",
            "FOLD: 3 | EPOCH:04 | train_loss:0.029232 | valid_loss:0.022423 | time:4.4s \n",
            "FOLD: 3 | EPOCH:05 | train_loss:0.034497 | valid_loss:0.016534 | time:4.4s \n",
            "FOLD: 3 | EPOCH:06 | train_loss:0.026968 | valid_loss:0.009833 | time:4.4s \n",
            "FOLD: 3 | EPOCH:07 | train_loss:0.016482 | valid_loss:0.015063 | time:4.3s \n",
            "FOLD: 3 | EPOCH:08 | train_loss:0.031982 | valid_loss:0.021465 | time:4.3s \n",
            "FOLD: 3 | EPOCH:09 | train_loss:0.047853 | valid_loss:0.032131 | time:4.2s \n",
            "FOLD: 3 | EPOCH:10 | train_loss:0.013276 | valid_loss:0.013309 | time:4.2s \n",
            "final valid_loss :  0.01330943456850946\n",
            "stap= 0\n",
            "stap= 1\n",
            "stap= 2\n",
            "stap= 3\n",
            "stap= 4\n",
            "stap= 5\n"
          ]
        },
        {
          "output_type": "display_data",
          "data": {
            "text/html": [
              "<br/>Waiting for W&B process to finish, PID 1583<br/>Program ended successfully."
            ],
            "text/plain": [
              "<IPython.core.display.HTML object>"
            ]
          },
          "metadata": {}
        },
        {
          "output_type": "display_data",
          "data": {
            "application/vnd.jupyter.widget-view+json": {
              "model_id": "1190b47b7fc44102bc38d8d257ce8df6",
              "version_minor": 0,
              "version_major": 2
            },
            "text/plain": [
              "VBox(children=(Label(value=' 0.00MB of 0.00MB uploaded (0.00MB deduped)\\r'), FloatProgress(value=1.0, max=1.0)…"
            ]
          },
          "metadata": {}
        },
        {
          "output_type": "display_data",
          "data": {
            "text/html": [
              "Find user logs for this run at: <code>/content/wandb/run-20210918_065425-p716syd4/logs/debug.log</code>"
            ],
            "text/plain": [
              "<IPython.core.display.HTML object>"
            ]
          },
          "metadata": {}
        },
        {
          "output_type": "display_data",
          "data": {
            "text/html": [
              "Find internal logs for this run at: <code>/content/wandb/run-20210918_065425-p716syd4/logs/debug-internal.log</code>"
            ],
            "text/plain": [
              "<IPython.core.display.HTML object>"
            ]
          },
          "metadata": {}
        },
        {
          "output_type": "display_data",
          "data": {
            "text/html": [
              "<h3>Run summary:</h3><br/><style>\n",
              "    table.wandb td:nth-child(1) { padding: 0 10px; text-align: right }\n",
              "    </style><table class=\"wandb\">\n",
              "<tr><td>epoch</td><td>10</td></tr><tr><td>loss</td><td>0.01331</td></tr></table>"
            ],
            "text/plain": [
              "<IPython.core.display.HTML object>"
            ]
          },
          "metadata": {}
        },
        {
          "output_type": "display_data",
          "data": {
            "text/html": [
              "<h3>Run history:</h3><br/><style>\n",
              "    table.wandb td:nth-child(1) { padding: 0 10px; text-align: right }\n",
              "    </style><table class=\"wandb\">\n",
              "<tr><td>epoch</td><td>▁▂▃▃▄▅▆▆▇█▁▂▃▃▄▅▆▆▇█▁▂▃▃▄▅▆▆▇█</td></tr><tr><td>loss</td><td>█▁▁▁▁▁▁▁▁▁▂▁▁▁▁▁▁▁▁▁▂▁▁▁▁▁▁▁▁▁</td></tr></table><br/>"
            ],
            "text/plain": [
              "<IPython.core.display.HTML object>"
            ]
          },
          "metadata": {}
        },
        {
          "output_type": "display_data",
          "data": {
            "text/html": [
              "Synced 5 W&B file(s), 0 media file(s), 0 artifact file(s) and 0 other file(s)"
            ],
            "text/plain": [
              "<IPython.core.display.HTML object>"
            ]
          },
          "metadata": {}
        },
        {
          "output_type": "display_data",
          "data": {
            "text/html": [
              "\n",
              "                    <br/>Synced <strong style=\"color:#cdcd00\">logical-sweep-3</strong>: <a href=\"https://wandb.ai/tommyg/test_casting/runs/p716syd4\" target=\"_blank\">https://wandb.ai/tommyg/test_casting/runs/p716syd4</a><br/>\n",
              "                "
            ],
            "text/plain": [
              "<IPython.core.display.HTML object>"
            ]
          },
          "metadata": {}
        },
        {
          "output_type": "stream",
          "name": "stderr",
          "text": [
            "\u001b[34m\u001b[1mwandb\u001b[0m: Agent Starting Run: fwgri6cq with config:\n",
            "\u001b[34m\u001b[1mwandb\u001b[0m: \tbatch_size: 23\n",
            "\u001b[34m\u001b[1mwandb\u001b[0m: \tlearning_rate: 0.0007710842985502588\n",
            "\u001b[34m\u001b[1mwandb\u001b[0m: \u001b[33mWARNING\u001b[0m Ignored wandb.init() arg project when running a sweep\n",
            "\u001b[34m\u001b[1mwandb\u001b[0m: \u001b[33mWARNING\u001b[0m Ignored wandb.init() arg entity when running a sweep\n"
          ]
        },
        {
          "output_type": "display_data",
          "data": {
            "text/html": [
              "\n",
              "                Tracking run with wandb version 0.12.2<br/>\n",
              "                Syncing run <strong style=\"color:#cdcd00\">golden-sweep-4</strong> to <a href=\"https://wandb.ai\" target=\"_blank\">Weights & Biases</a> <a href=\"https://docs.wandb.com/integrations/jupyter.html\" target=\"_blank\">(Documentation)</a>.<br/>\n",
              "                Project page: <a href=\"https://wandb.ai/tommyg/test_casting\" target=\"_blank\">https://wandb.ai/tommyg/test_casting</a><br/>\n",
              "                Sweep page: <a href=\"https://wandb.ai/tommyg/test_casting/sweeps/nzov1xuw\" target=\"_blank\">https://wandb.ai/tommyg/test_casting/sweeps/nzov1xuw</a><br/>\n",
              "Run page: <a href=\"https://wandb.ai/tommyg/test_casting/runs/fwgri6cq\" target=\"_blank\">https://wandb.ai/tommyg/test_casting/runs/fwgri6cq</a><br/>\n",
              "                Run data is saved locally in <code>/content/wandb/run-20210918_065646-fwgri6cq</code><br/><br/>\n",
              "            "
            ],
            "text/plain": [
              "<IPython.core.display.HTML object>"
            ]
          },
          "metadata": {}
        },
        {
          "output_type": "stream",
          "name": "stdout",
          "text": [
            "FOLD: 1 | EPOCH:01 | train_loss:0.358243 | valid_loss:17.476789 | time:4.2s \n",
            "FOLD: 1 | EPOCH:02 | train_loss:0.267409 | valid_loss:0.327708 | time:4.2s \n",
            "FOLD: 1 | EPOCH:03 | train_loss:0.129186 | valid_loss:0.147599 | time:4.1s \n",
            "FOLD: 1 | EPOCH:04 | train_loss:0.053027 | valid_loss:0.102084 | time:4.1s \n",
            "FOLD: 1 | EPOCH:05 | train_loss:0.021919 | valid_loss:0.079460 | time:4.2s \n",
            "FOLD: 1 | EPOCH:06 | train_loss:0.011750 | valid_loss:0.044343 | time:4.2s \n",
            "FOLD: 1 | EPOCH:07 | train_loss:0.010457 | valid_loss:0.027534 | time:4.2s \n",
            "FOLD: 1 | EPOCH:08 | train_loss:0.015173 | valid_loss:0.040883 | time:4.0s \n",
            "FOLD: 1 | EPOCH:09 | train_loss:0.044261 | valid_loss:0.057419 | time:4.0s \n",
            "FOLD: 1 | EPOCH:10 | train_loss:0.042933 | valid_loss:0.315283 | time:4.0s \n",
            "final valid_loss :  0.31528344471007586\n",
            "stap= 0\n",
            "stap= 1\n",
            "stap= 2\n",
            "stap= 3\n",
            "stap= 4\n",
            "FOLD: 2 | EPOCH:01 | train_loss:0.394558 | valid_loss:11.470041 | time:3.9s \n",
            "FOLD: 2 | EPOCH:02 | train_loss:0.132993 | valid_loss:1.880262 | time:4.1s \n",
            "FOLD: 2 | EPOCH:03 | train_loss:0.083014 | valid_loss:0.145821 | time:4.2s \n",
            "FOLD: 2 | EPOCH:04 | train_loss:0.040839 | valid_loss:0.008981 | time:4.2s \n",
            "FOLD: 2 | EPOCH:05 | train_loss:0.046425 | valid_loss:0.020098 | time:4.0s \n",
            "FOLD: 2 | EPOCH:06 | train_loss:0.062488 | valid_loss:0.024688 | time:4.1s \n",
            "FOLD: 2 | EPOCH:07 | train_loss:0.033372 | valid_loss:0.085647 | time:4.0s \n",
            "FOLD: 2 | EPOCH:08 | train_loss:0.015977 | valid_loss:0.058257 | time:4.0s \n",
            "FOLD: 2 | EPOCH:09 | train_loss:0.101361 | valid_loss:0.065302 | time:4.0s \n",
            "FOLD: 2 | EPOCH:10 | train_loss:0.124985 | valid_loss:0.381213 | time:4.0s \n",
            "final valid_loss :  0.3812131694285199\n",
            "stap= 0\n",
            "stap= 1\n",
            "stap= 2\n",
            "stap= 3\n",
            "stap= 4\n",
            "FOLD: 3 | EPOCH:01 | train_loss:0.376119 | valid_loss:7.040458 | time:4.1s \n",
            "FOLD: 3 | EPOCH:02 | train_loss:0.169949 | valid_loss:0.563166 | time:4.1s \n",
            "FOLD: 3 | EPOCH:03 | train_loss:0.050063 | valid_loss:0.218597 | time:4.2s \n",
            "FOLD: 3 | EPOCH:04 | train_loss:0.034784 | valid_loss:0.006950 | time:4.2s \n",
            "FOLD: 3 | EPOCH:05 | train_loss:0.017268 | valid_loss:0.199198 | time:4.0s \n",
            "FOLD: 3 | EPOCH:06 | train_loss:0.013942 | valid_loss:0.258608 | time:4.0s \n",
            "FOLD: 3 | EPOCH:07 | train_loss:0.150591 | valid_loss:0.012258 | time:4.0s \n",
            "FOLD: 3 | EPOCH:08 | train_loss:0.133104 | valid_loss:0.082715 | time:4.0s \n",
            "FOLD: 3 | EPOCH:09 | train_loss:0.045978 | valid_loss:0.043917 | time:3.9s \n",
            "FOLD: 3 | EPOCH:10 | train_loss:0.058715 | valid_loss:0.026945 | time:4.0s \n",
            "final valid_loss :  0.026945050805807114\n",
            "stap= 0\n",
            "stap= 1\n",
            "stap= 2\n",
            "stap= 3\n",
            "stap= 4\n"
          ]
        },
        {
          "output_type": "display_data",
          "data": {
            "text/html": [
              "<br/>Waiting for W&B process to finish, PID 1651<br/>Program ended successfully."
            ],
            "text/plain": [
              "<IPython.core.display.HTML object>"
            ]
          },
          "metadata": {}
        },
        {
          "output_type": "display_data",
          "data": {
            "application/vnd.jupyter.widget-view+json": {
              "model_id": "c59e76397fb84aedb624cfc8e67277a0",
              "version_minor": 0,
              "version_major": 2
            },
            "text/plain": [
              "VBox(children=(Label(value=' 0.00MB of 0.00MB uploaded (0.00MB deduped)\\r'), FloatProgress(value=1.0, max=1.0)…"
            ]
          },
          "metadata": {}
        },
        {
          "output_type": "display_data",
          "data": {
            "text/html": [
              "Find user logs for this run at: <code>/content/wandb/run-20210918_065646-fwgri6cq/logs/debug.log</code>"
            ],
            "text/plain": [
              "<IPython.core.display.HTML object>"
            ]
          },
          "metadata": {}
        },
        {
          "output_type": "display_data",
          "data": {
            "text/html": [
              "Find internal logs for this run at: <code>/content/wandb/run-20210918_065646-fwgri6cq/logs/debug-internal.log</code>"
            ],
            "text/plain": [
              "<IPython.core.display.HTML object>"
            ]
          },
          "metadata": {}
        },
        {
          "output_type": "display_data",
          "data": {
            "text/html": [
              "<h3>Run summary:</h3><br/><style>\n",
              "    table.wandb td:nth-child(1) { padding: 0 10px; text-align: right }\n",
              "    </style><table class=\"wandb\">\n",
              "<tr><td>epoch</td><td>10</td></tr><tr><td>loss</td><td>0.02695</td></tr></table>"
            ],
            "text/plain": [
              "<IPython.core.display.HTML object>"
            ]
          },
          "metadata": {}
        },
        {
          "output_type": "display_data",
          "data": {
            "text/html": [
              "<h3>Run history:</h3><br/><style>\n",
              "    table.wandb td:nth-child(1) { padding: 0 10px; text-align: right }\n",
              "    </style><table class=\"wandb\">\n",
              "<tr><td>epoch</td><td>▁▂▃▃▄▅▆▆▇█▁▂▃▃▄▅▆▆▇█▁▂▃▃▄▅▆▆▇█</td></tr><tr><td>loss</td><td>█▁▁▁▁▁▁▁▁▁▆▂▁▁▁▁▁▁▁▁▄▁▁▁▁▁▁▁▁▁</td></tr></table><br/>"
            ],
            "text/plain": [
              "<IPython.core.display.HTML object>"
            ]
          },
          "metadata": {}
        },
        {
          "output_type": "display_data",
          "data": {
            "text/html": [
              "Synced 5 W&B file(s), 0 media file(s), 0 artifact file(s) and 0 other file(s)"
            ],
            "text/plain": [
              "<IPython.core.display.HTML object>"
            ]
          },
          "metadata": {}
        },
        {
          "output_type": "display_data",
          "data": {
            "text/html": [
              "\n",
              "                    <br/>Synced <strong style=\"color:#cdcd00\">golden-sweep-4</strong>: <a href=\"https://wandb.ai/tommyg/test_casting/runs/fwgri6cq\" target=\"_blank\">https://wandb.ai/tommyg/test_casting/runs/fwgri6cq</a><br/>\n",
              "                "
            ],
            "text/plain": [
              "<IPython.core.display.HTML object>"
            ]
          },
          "metadata": {}
        },
        {
          "output_type": "stream",
          "name": "stderr",
          "text": [
            "\u001b[34m\u001b[1mwandb\u001b[0m: Agent Starting Run: eevwwa9l with config:\n",
            "\u001b[34m\u001b[1mwandb\u001b[0m: \tbatch_size: 17\n",
            "\u001b[34m\u001b[1mwandb\u001b[0m: \tlearning_rate: 0.00094900211839269\n",
            "\u001b[34m\u001b[1mwandb\u001b[0m: \u001b[33mWARNING\u001b[0m Ignored wandb.init() arg project when running a sweep\n",
            "\u001b[34m\u001b[1mwandb\u001b[0m: \u001b[33mWARNING\u001b[0m Ignored wandb.init() arg entity when running a sweep\n"
          ]
        },
        {
          "output_type": "display_data",
          "data": {
            "text/html": [
              "\n",
              "                Tracking run with wandb version 0.12.2<br/>\n",
              "                Syncing run <strong style=\"color:#cdcd00\">blooming-sweep-5</strong> to <a href=\"https://wandb.ai\" target=\"_blank\">Weights & Biases</a> <a href=\"https://docs.wandb.com/integrations/jupyter.html\" target=\"_blank\">(Documentation)</a>.<br/>\n",
              "                Project page: <a href=\"https://wandb.ai/tommyg/test_casting\" target=\"_blank\">https://wandb.ai/tommyg/test_casting</a><br/>\n",
              "                Sweep page: <a href=\"https://wandb.ai/tommyg/test_casting/sweeps/nzov1xuw\" target=\"_blank\">https://wandb.ai/tommyg/test_casting/sweeps/nzov1xuw</a><br/>\n",
              "Run page: <a href=\"https://wandb.ai/tommyg/test_casting/runs/eevwwa9l\" target=\"_blank\">https://wandb.ai/tommyg/test_casting/runs/eevwwa9l</a><br/>\n",
              "                Run data is saved locally in <code>/content/wandb/run-20210918_065859-eevwwa9l</code><br/><br/>\n",
              "            "
            ],
            "text/plain": [
              "<IPython.core.display.HTML object>"
            ]
          },
          "metadata": {}
        },
        {
          "output_type": "stream",
          "name": "stdout",
          "text": [
            "FOLD: 1 | EPOCH:01 | train_loss:0.341379 | valid_loss:0.915790 | time:4.4s \n",
            "FOLD: 1 | EPOCH:02 | train_loss:0.222398 | valid_loss:0.172619 | time:4.4s \n",
            "FOLD: 1 | EPOCH:03 | train_loss:0.168252 | valid_loss:0.634351 | time:4.2s \n",
            "FOLD: 1 | EPOCH:04 | train_loss:0.121688 | valid_loss:0.097255 | time:4.4s \n",
            "FOLD: 1 | EPOCH:05 | train_loss:0.106024 | valid_loss:0.044752 | time:4.3s \n",
            "FOLD: 1 | EPOCH:06 | train_loss:0.024588 | valid_loss:0.008765 | time:4.3s \n",
            "FOLD: 1 | EPOCH:07 | train_loss:0.068459 | valid_loss:0.014383 | time:4.2s \n",
            "FOLD: 1 | EPOCH:08 | train_loss:0.032862 | valid_loss:0.106695 | time:4.3s \n",
            "FOLD: 1 | EPOCH:09 | train_loss:0.017931 | valid_loss:0.019029 | time:4.2s \n",
            "FOLD: 1 | EPOCH:10 | train_loss:0.005230 | valid_loss:0.047155 | time:4.2s \n",
            "final valid_loss :  0.04715489359514322\n",
            "stap= 0\n",
            "stap= 1\n",
            "stap= 2\n",
            "stap= 3\n",
            "stap= 4\n",
            "stap= 5\n",
            "FOLD: 2 | EPOCH:01 | train_loss:0.423941 | valid_loss:0.617796 | time:4.3s \n",
            "FOLD: 2 | EPOCH:02 | train_loss:0.084527 | valid_loss:1.733652 | time:4.3s \n",
            "FOLD: 2 | EPOCH:03 | train_loss:0.219176 | valid_loss:0.054144 | time:4.4s \n",
            "FOLD: 2 | EPOCH:04 | train_loss:0.115416 | valid_loss:0.358790 | time:4.2s \n",
            "FOLD: 2 | EPOCH:05 | train_loss:0.018761 | valid_loss:0.217645 | time:4.3s \n",
            "FOLD: 2 | EPOCH:06 | train_loss:0.021236 | valid_loss:0.149359 | time:4.2s \n",
            "FOLD: 2 | EPOCH:07 | train_loss:0.005661 | valid_loss:0.018476 | time:4.4s \n",
            "FOLD: 2 | EPOCH:08 | train_loss:0.050289 | valid_loss:0.869253 | time:4.2s \n",
            "FOLD: 2 | EPOCH:09 | train_loss:0.116144 | valid_loss:0.169302 | time:4.1s \n",
            "FOLD: 2 | EPOCH:10 | train_loss:0.022836 | valid_loss:0.033706 | time:4.1s \n",
            "final valid_loss :  0.03370636538602412\n",
            "stap= 0\n",
            "stap= 1\n",
            "stap= 2\n",
            "stap= 3\n",
            "stap= 4\n",
            "stap= 5\n",
            "FOLD: 3 | EPOCH:01 | train_loss:0.334591 | valid_loss:1.466205 | time:4.3s \n",
            "FOLD: 3 | EPOCH:02 | train_loss:0.204873 | valid_loss:0.516998 | time:4.4s \n",
            "FOLD: 3 | EPOCH:03 | train_loss:0.139484 | valid_loss:0.065625 | time:4.4s \n",
            "FOLD: 3 | EPOCH:04 | train_loss:0.139817 | valid_loss:0.332408 | time:4.2s \n",
            "FOLD: 3 | EPOCH:05 | train_loss:0.074504 | valid_loss:0.080997 | time:4.2s \n",
            "FOLD: 3 | EPOCH:06 | train_loss:0.020579 | valid_loss:0.082017 | time:4.3s \n",
            "FOLD: 3 | EPOCH:07 | train_loss:0.036846 | valid_loss:0.062763 | time:4.4s \n",
            "FOLD: 3 | EPOCH:08 | train_loss:0.074386 | valid_loss:0.383126 | time:4.2s \n",
            "FOLD: 3 | EPOCH:09 | train_loss:0.146510 | valid_loss:0.169094 | time:4.2s \n",
            "FOLD: 3 | EPOCH:10 | train_loss:0.034302 | valid_loss:0.044277 | time:4.5s \n",
            "final valid_loss :  0.04427698394283652\n",
            "stap= 0\n",
            "stap= 1\n",
            "stap= 2\n",
            "stap= 3\n",
            "stap= 4\n",
            "stap= 5\n"
          ]
        },
        {
          "output_type": "display_data",
          "data": {
            "text/html": [
              "<br/>Waiting for W&B process to finish, PID 1716<br/>Program ended successfully."
            ],
            "text/plain": [
              "<IPython.core.display.HTML object>"
            ]
          },
          "metadata": {}
        },
        {
          "output_type": "display_data",
          "data": {
            "application/vnd.jupyter.widget-view+json": {
              "model_id": "ce3e9961059246768b38e898f928d9c3",
              "version_minor": 0,
              "version_major": 2
            },
            "text/plain": [
              "VBox(children=(Label(value=' 0.00MB of 0.00MB uploaded (0.00MB deduped)\\r'), FloatProgress(value=1.0, max=1.0)…"
            ]
          },
          "metadata": {}
        },
        {
          "output_type": "display_data",
          "data": {
            "text/html": [
              "Find user logs for this run at: <code>/content/wandb/run-20210918_065859-eevwwa9l/logs/debug.log</code>"
            ],
            "text/plain": [
              "<IPython.core.display.HTML object>"
            ]
          },
          "metadata": {}
        },
        {
          "output_type": "display_data",
          "data": {
            "text/html": [
              "Find internal logs for this run at: <code>/content/wandb/run-20210918_065859-eevwwa9l/logs/debug-internal.log</code>"
            ],
            "text/plain": [
              "<IPython.core.display.HTML object>"
            ]
          },
          "metadata": {}
        },
        {
          "output_type": "display_data",
          "data": {
            "text/html": [
              "<h3>Run summary:</h3><br/><style>\n",
              "    table.wandb td:nth-child(1) { padding: 0 10px; text-align: right }\n",
              "    </style><table class=\"wandb\">\n",
              "<tr><td>epoch</td><td>10</td></tr><tr><td>loss</td><td>0.04428</td></tr></table>"
            ],
            "text/plain": [
              "<IPython.core.display.HTML object>"
            ]
          },
          "metadata": {}
        },
        {
          "output_type": "display_data",
          "data": {
            "text/html": [
              "<h3>Run history:</h3><br/><style>\n",
              "    table.wandb td:nth-child(1) { padding: 0 10px; text-align: right }\n",
              "    </style><table class=\"wandb\">\n",
              "<tr><td>epoch</td><td>▁▂▃▃▄▅▆▆▇█▁▂▃▃▄▅▆▆▇█▁▂▃▃▄▅▆▆▇█</td></tr><tr><td>loss</td><td>▅▂▄▁▁▁▁▁▁▁▃█▁▂▂▂▁▄▂▁▇▃▁▂▁▁▁▃▂▁</td></tr></table><br/>"
            ],
            "text/plain": [
              "<IPython.core.display.HTML object>"
            ]
          },
          "metadata": {}
        },
        {
          "output_type": "display_data",
          "data": {
            "text/html": [
              "Synced 5 W&B file(s), 0 media file(s), 0 artifact file(s) and 0 other file(s)"
            ],
            "text/plain": [
              "<IPython.core.display.HTML object>"
            ]
          },
          "metadata": {}
        },
        {
          "output_type": "display_data",
          "data": {
            "text/html": [
              "\n",
              "                    <br/>Synced <strong style=\"color:#cdcd00\">blooming-sweep-5</strong>: <a href=\"https://wandb.ai/tommyg/test_casting/runs/eevwwa9l\" target=\"_blank\">https://wandb.ai/tommyg/test_casting/runs/eevwwa9l</a><br/>\n",
              "                "
            ],
            "text/plain": [
              "<IPython.core.display.HTML object>"
            ]
          },
          "metadata": {}
        }
      ]
    },
    {
      "cell_type": "code",
      "metadata": {
        "id": "T1IJr9uYeyM-"
      },
      "source": [
        "# print (pred)"
      ],
      "execution_count": 196,
      "outputs": []
    },
    {
      "cell_type": "markdown",
      "metadata": {
        "id": "-jRpbLYev6nt"
      },
      "source": [
        "\n",
        "# 結果出力\n"
      ]
    },
    {
      "cell_type": "markdown",
      "metadata": {
        "id": "-lL-utLGt96J"
      },
      "source": [
        "## サンプルcsv読み込み"
      ]
    },
    {
      "cell_type": "code",
      "metadata": {
        "colab": {
          "base_uri": "https://localhost:8080/",
          "height": 442
        },
        "id": "gP8g8Ns7pimU",
        "outputId": "79f8bf13-3538-4fa8-b768-d5e021f41fac"
      },
      "source": [
        "test_samples = pd.read_csv(BASE_PATH + \"sample_submission.csv\", header=None)\n",
        "\n",
        "pred_df = test_samples.set_axis(['filename', 'y'], axis=1)\n",
        "\n",
        "print(pred_df.shape)\n",
        "pred_df\n"
      ],
      "execution_count": 197,
      "outputs": [
        {
          "output_type": "stream",
          "name": "stdout",
          "text": [
            "(100, 2)\n"
          ]
        },
        {
          "output_type": "execute_result",
          "data": {
            "text/html": [
              "<div>\n",
              "<style scoped>\n",
              "    .dataframe tbody tr th:only-of-type {\n",
              "        vertical-align: middle;\n",
              "    }\n",
              "\n",
              "    .dataframe tbody tr th {\n",
              "        vertical-align: top;\n",
              "    }\n",
              "\n",
              "    .dataframe thead th {\n",
              "        text-align: right;\n",
              "    }\n",
              "</style>\n",
              "<table border=\"1\" class=\"dataframe\">\n",
              "  <thead>\n",
              "    <tr style=\"text-align: right;\">\n",
              "      <th></th>\n",
              "      <th>filename</th>\n",
              "      <th>y</th>\n",
              "    </tr>\n",
              "  </thead>\n",
              "  <tbody>\n",
              "    <tr>\n",
              "      <th>0</th>\n",
              "      <td>19871.jpeg</td>\n",
              "      <td>0</td>\n",
              "    </tr>\n",
              "    <tr>\n",
              "      <th>1</th>\n",
              "      <td>29934.jpeg</td>\n",
              "      <td>0</td>\n",
              "    </tr>\n",
              "    <tr>\n",
              "      <th>2</th>\n",
              "      <td>39826.jpeg</td>\n",
              "      <td>0</td>\n",
              "    </tr>\n",
              "    <tr>\n",
              "      <th>3</th>\n",
              "      <td>49888.jpeg</td>\n",
              "      <td>0</td>\n",
              "    </tr>\n",
              "    <tr>\n",
              "      <th>4</th>\n",
              "      <td>59918.jpeg</td>\n",
              "      <td>0</td>\n",
              "    </tr>\n",
              "    <tr>\n",
              "      <th>...</th>\n",
              "      <td>...</td>\n",
              "      <td>...</td>\n",
              "    </tr>\n",
              "    <tr>\n",
              "      <th>95</th>\n",
              "      <td>969983.jpeg</td>\n",
              "      <td>0</td>\n",
              "    </tr>\n",
              "    <tr>\n",
              "      <th>96</th>\n",
              "      <td>979891.jpeg</td>\n",
              "      <td>0</td>\n",
              "    </tr>\n",
              "    <tr>\n",
              "      <th>97</th>\n",
              "      <td>989921.jpeg</td>\n",
              "      <td>0</td>\n",
              "    </tr>\n",
              "    <tr>\n",
              "      <th>98</th>\n",
              "      <td>999921.jpeg</td>\n",
              "      <td>0</td>\n",
              "    </tr>\n",
              "    <tr>\n",
              "      <th>99</th>\n",
              "      <td>1009937.jpeg</td>\n",
              "      <td>0</td>\n",
              "    </tr>\n",
              "  </tbody>\n",
              "</table>\n",
              "<p>100 rows × 2 columns</p>\n",
              "</div>"
            ],
            "text/plain": [
              "        filename  y\n",
              "0     19871.jpeg  0\n",
              "1     29934.jpeg  0\n",
              "2     39826.jpeg  0\n",
              "3     49888.jpeg  0\n",
              "4     59918.jpeg  0\n",
              "..           ... ..\n",
              "95   969983.jpeg  0\n",
              "96   979891.jpeg  0\n",
              "97   989921.jpeg  0\n",
              "98   999921.jpeg  0\n",
              "99  1009937.jpeg  0\n",
              "\n",
              "[100 rows x 2 columns]"
            ]
          },
          "metadata": {},
          "execution_count": 197
        }
      ]
    },
    {
      "cell_type": "markdown",
      "metadata": {
        "id": "3if5KTfF6ymg"
      },
      "source": [
        "## ファイル名をテストデータで入力している順にする\n",
        "\n",
        "テストディレクトリの読み出し順"
      ]
    },
    {
      "cell_type": "code",
      "metadata": {
        "colab": {
          "base_uri": "https://localhost:8080/",
          "height": 462
        },
        "id": "IoYtVGNa4_G9",
        "outputId": "616f2a7c-1af8-4da3-92f7-6a8c0f51c3b9"
      },
      "source": [
        "test_data_dir = BASE_PATH + \"test_data/\"\n",
        "test_image_paths = [str(p) for p in Path(test_data_dir).glob(\"*.jpeg\")]\n",
        "\n",
        "print(test_image_paths)\n",
        "\n",
        "for i in range(len(test_image_paths)):\n",
        "  test_image_paths[i] = test_image_paths[i].rsplit('/', 1)[1]\n",
        "\n",
        "pred_df['filename'] = test_image_paths\n",
        "\n",
        "pred_df"
      ],
      "execution_count": 198,
      "outputs": [
        {
          "output_type": "stream",
          "name": "stdout",
          "text": [
            "['/content/drive/MyDrive/Colab Notebooks/SIGNATE_鋳造/test_data/229958.jpeg', '/content/drive/MyDrive/Colab Notebooks/SIGNATE_鋳造/test_data/559880.jpeg', '/content/drive/MyDrive/Colab Notebooks/SIGNATE_鋳造/test_data/699970.jpeg', '/content/drive/MyDrive/Colab Notebooks/SIGNATE_鋳造/test_data/609988.jpeg', '/content/drive/MyDrive/Colab Notebooks/SIGNATE_鋳造/test_data/929917.jpeg', '/content/drive/MyDrive/Colab Notebooks/SIGNATE_鋳造/test_data/89914.jpeg', '/content/drive/MyDrive/Colab Notebooks/SIGNATE_鋳造/test_data/79963.jpeg', '/content/drive/MyDrive/Colab Notebooks/SIGNATE_鋳造/test_data/779897.jpeg', '/content/drive/MyDrive/Colab Notebooks/SIGNATE_鋳造/test_data/549992.jpeg', '/content/drive/MyDrive/Colab Notebooks/SIGNATE_鋳造/test_data/709966.jpeg', '/content/drive/MyDrive/Colab Notebooks/SIGNATE_鋳造/test_data/589947.jpeg', '/content/drive/MyDrive/Colab Notebooks/SIGNATE_鋳造/test_data/949956.jpeg', '/content/drive/MyDrive/Colab Notebooks/SIGNATE_鋳造/test_data/269945.jpeg', '/content/drive/MyDrive/Colab Notebooks/SIGNATE_鋳造/test_data/719946.jpeg', '/content/drive/MyDrive/Colab Notebooks/SIGNATE_鋳造/test_data/889886.jpeg', '/content/drive/MyDrive/Colab Notebooks/SIGNATE_鋳造/test_data/689927.jpeg', '/content/drive/MyDrive/Colab Notebooks/SIGNATE_鋳造/test_data/339986.jpeg', '/content/drive/MyDrive/Colab Notebooks/SIGNATE_鋳造/test_data/849890.jpeg', '/content/drive/MyDrive/Colab Notebooks/SIGNATE_鋳造/test_data/219889.jpeg', '/content/drive/MyDrive/Colab Notebooks/SIGNATE_鋳造/test_data/279912.jpeg', '/content/drive/MyDrive/Colab Notebooks/SIGNATE_鋳造/test_data/409965.jpeg', '/content/drive/MyDrive/Colab Notebooks/SIGNATE_鋳造/test_data/569906.jpeg', '/content/drive/MyDrive/Colab Notebooks/SIGNATE_鋳造/test_data/499929.jpeg', '/content/drive/MyDrive/Colab Notebooks/SIGNATE_鋳造/test_data/399924.jpeg', '/content/drive/MyDrive/Colab Notebooks/SIGNATE_鋳造/test_data/129893.jpeg', '/content/drive/MyDrive/Colab Notebooks/SIGNATE_鋳造/test_data/809920.jpeg', '/content/drive/MyDrive/Colab Notebooks/SIGNATE_鋳造/test_data/309928.jpeg', '/content/drive/MyDrive/Colab Notebooks/SIGNATE_鋳造/test_data/49888.jpeg', '/content/drive/MyDrive/Colab Notebooks/SIGNATE_鋳造/test_data/169903.jpeg', '/content/drive/MyDrive/Colab Notebooks/SIGNATE_鋳造/test_data/979891.jpeg', '/content/drive/MyDrive/Colab Notebooks/SIGNATE_鋳造/test_data/199935.jpeg', '/content/drive/MyDrive/Colab Notebooks/SIGNATE_鋳造/test_data/999921.jpeg', '/content/drive/MyDrive/Colab Notebooks/SIGNATE_鋳造/test_data/139981.jpeg', '/content/drive/MyDrive/Colab Notebooks/SIGNATE_鋳造/test_data/299953.jpeg', '/content/drive/MyDrive/Colab Notebooks/SIGNATE_鋳造/test_data/149997.jpeg', '/content/drive/MyDrive/Colab Notebooks/SIGNATE_鋳造/test_data/729911.jpeg', '/content/drive/MyDrive/Colab Notebooks/SIGNATE_鋳造/test_data/459909.jpeg', '/content/drive/MyDrive/Colab Notebooks/SIGNATE_鋳造/test_data/389908.jpeg', '/content/drive/MyDrive/Colab Notebooks/SIGNATE_鋳造/test_data/429933.jpeg', '/content/drive/MyDrive/Colab Notebooks/SIGNATE_鋳造/test_data/119892.jpeg', '/content/drive/MyDrive/Colab Notebooks/SIGNATE_鋳造/test_data/799977.jpeg', '/content/drive/MyDrive/Colab Notebooks/SIGNATE_鋳造/test_data/859982.jpeg', '/content/drive/MyDrive/Colab Notebooks/SIGNATE_鋳造/test_data/69975.jpeg', '/content/drive/MyDrive/Colab Notebooks/SIGNATE_鋳造/test_data/179915.jpeg', '/content/drive/MyDrive/Colab Notebooks/SIGNATE_鋳造/test_data/599930.jpeg', '/content/drive/MyDrive/Colab Notebooks/SIGNATE_鋳造/test_data/579910.jpeg', '/content/drive/MyDrive/Colab Notebooks/SIGNATE_鋳造/test_data/109996.jpeg', '/content/drive/MyDrive/Colab Notebooks/SIGNATE_鋳造/test_data/1009937.jpeg', '/content/drive/MyDrive/Colab Notebooks/SIGNATE_鋳造/test_data/209923.jpeg', '/content/drive/MyDrive/Colab Notebooks/SIGNATE_鋳造/test_data/969983.jpeg', '/content/drive/MyDrive/Colab Notebooks/SIGNATE_鋳造/test_data/749878.jpeg', '/content/drive/MyDrive/Colab Notebooks/SIGNATE_鋳造/test_data/369861.jpeg', '/content/drive/MyDrive/Colab Notebooks/SIGNATE_鋳造/test_data/539843.jpeg', '/content/drive/MyDrive/Colab Notebooks/SIGNATE_鋳造/test_data/29934.jpeg', '/content/drive/MyDrive/Colab Notebooks/SIGNATE_鋳造/test_data/379924.jpeg', '/content/drive/MyDrive/Colab Notebooks/SIGNATE_鋳造/test_data/879941.jpeg', '/content/drive/MyDrive/Colab Notebooks/SIGNATE_鋳造/test_data/629822.jpeg', '/content/drive/MyDrive/Colab Notebooks/SIGNATE_鋳造/test_data/99851.jpeg', '/content/drive/MyDrive/Colab Notebooks/SIGNATE_鋳造/test_data/509856.jpeg', '/content/drive/MyDrive/Colab Notebooks/SIGNATE_鋳造/test_data/899886.jpeg', '/content/drive/MyDrive/Colab Notebooks/SIGNATE_鋳造/test_data/449821.jpeg', '/content/drive/MyDrive/Colab Notebooks/SIGNATE_鋳造/test_data/479840.jpeg', '/content/drive/MyDrive/Colab Notebooks/SIGNATE_鋳造/test_data/439948.jpeg', '/content/drive/MyDrive/Colab Notebooks/SIGNATE_鋳造/test_data/39826.jpeg', '/content/drive/MyDrive/Colab Notebooks/SIGNATE_鋳造/test_data/839998.jpeg', '/content/drive/MyDrive/Colab Notebooks/SIGNATE_鋳造/test_data/519895.jpeg', '/content/drive/MyDrive/Colab Notebooks/SIGNATE_鋳造/test_data/909994.jpeg', '/content/drive/MyDrive/Colab Notebooks/SIGNATE_鋳造/test_data/659835.jpeg', '/content/drive/MyDrive/Colab Notebooks/SIGNATE_鋳造/test_data/329953.jpeg', '/content/drive/MyDrive/Colab Notebooks/SIGNATE_鋳造/test_data/349836.jpeg', '/content/drive/MyDrive/Colab Notebooks/SIGNATE_鋳造/test_data/829920.jpeg', '/content/drive/MyDrive/Colab Notebooks/SIGNATE_鋳造/test_data/319945.jpeg', '/content/drive/MyDrive/Colab Notebooks/SIGNATE_鋳造/test_data/239962.jpeg', '/content/drive/MyDrive/Colab Notebooks/SIGNATE_鋳造/test_data/289969.jpeg', '/content/drive/MyDrive/Colab Notebooks/SIGNATE_鋳造/test_data/669862.jpeg', '/content/drive/MyDrive/Colab Notebooks/SIGNATE_鋳造/test_data/639930.jpeg', '/content/drive/MyDrive/Colab Notebooks/SIGNATE_鋳造/test_data/919995.jpeg', '/content/drive/MyDrive/Colab Notebooks/SIGNATE_鋳造/test_data/739881.jpeg', '/content/drive/MyDrive/Colab Notebooks/SIGNATE_鋳造/test_data/759854.jpeg', '/content/drive/MyDrive/Colab Notebooks/SIGNATE_鋳造/test_data/19871.jpeg', '/content/drive/MyDrive/Colab Notebooks/SIGNATE_鋳造/test_data/619967.jpeg', '/content/drive/MyDrive/Colab Notebooks/SIGNATE_鋳造/test_data/939891.jpeg', '/content/drive/MyDrive/Colab Notebooks/SIGNATE_鋳造/test_data/259831.jpeg', '/content/drive/MyDrive/Colab Notebooks/SIGNATE_鋳造/test_data/789907.jpeg', '/content/drive/MyDrive/Colab Notebooks/SIGNATE_鋳造/test_data/679931.jpeg', '/content/drive/MyDrive/Colab Notebooks/SIGNATE_鋳造/test_data/359973.jpeg', '/content/drive/MyDrive/Colab Notebooks/SIGNATE_鋳造/test_data/989921.jpeg', '/content/drive/MyDrive/Colab Notebooks/SIGNATE_鋳造/test_data/959829.jpeg', '/content/drive/MyDrive/Colab Notebooks/SIGNATE_鋳造/test_data/649971.jpeg', '/content/drive/MyDrive/Colab Notebooks/SIGNATE_鋳造/test_data/529883.jpeg', '/content/drive/MyDrive/Colab Notebooks/SIGNATE_鋳造/test_data/869957.jpeg', '/content/drive/MyDrive/Colab Notebooks/SIGNATE_鋳造/test_data/159915.jpeg', '/content/drive/MyDrive/Colab Notebooks/SIGNATE_鋳造/test_data/469837.jpeg', '/content/drive/MyDrive/Colab Notebooks/SIGNATE_鋳造/test_data/489913.jpeg', '/content/drive/MyDrive/Colab Notebooks/SIGNATE_鋳造/test_data/419909.jpeg', '/content/drive/MyDrive/Colab Notebooks/SIGNATE_鋳造/test_data/819873.jpeg', '/content/drive/MyDrive/Colab Notebooks/SIGNATE_鋳造/test_data/769946.jpeg', '/content/drive/MyDrive/Colab Notebooks/SIGNATE_鋳造/test_data/59918.jpeg', '/content/drive/MyDrive/Colab Notebooks/SIGNATE_鋳造/test_data/189978.jpeg', '/content/drive/MyDrive/Colab Notebooks/SIGNATE_鋳造/test_data/249889.jpeg']\n"
          ]
        },
        {
          "output_type": "execute_result",
          "data": {
            "text/html": [
              "<div>\n",
              "<style scoped>\n",
              "    .dataframe tbody tr th:only-of-type {\n",
              "        vertical-align: middle;\n",
              "    }\n",
              "\n",
              "    .dataframe tbody tr th {\n",
              "        vertical-align: top;\n",
              "    }\n",
              "\n",
              "    .dataframe thead th {\n",
              "        text-align: right;\n",
              "    }\n",
              "</style>\n",
              "<table border=\"1\" class=\"dataframe\">\n",
              "  <thead>\n",
              "    <tr style=\"text-align: right;\">\n",
              "      <th></th>\n",
              "      <th>filename</th>\n",
              "      <th>y</th>\n",
              "    </tr>\n",
              "  </thead>\n",
              "  <tbody>\n",
              "    <tr>\n",
              "      <th>0</th>\n",
              "      <td>229958.jpeg</td>\n",
              "      <td>0</td>\n",
              "    </tr>\n",
              "    <tr>\n",
              "      <th>1</th>\n",
              "      <td>559880.jpeg</td>\n",
              "      <td>0</td>\n",
              "    </tr>\n",
              "    <tr>\n",
              "      <th>2</th>\n",
              "      <td>699970.jpeg</td>\n",
              "      <td>0</td>\n",
              "    </tr>\n",
              "    <tr>\n",
              "      <th>3</th>\n",
              "      <td>609988.jpeg</td>\n",
              "      <td>0</td>\n",
              "    </tr>\n",
              "    <tr>\n",
              "      <th>4</th>\n",
              "      <td>929917.jpeg</td>\n",
              "      <td>0</td>\n",
              "    </tr>\n",
              "    <tr>\n",
              "      <th>...</th>\n",
              "      <td>...</td>\n",
              "      <td>...</td>\n",
              "    </tr>\n",
              "    <tr>\n",
              "      <th>95</th>\n",
              "      <td>819873.jpeg</td>\n",
              "      <td>0</td>\n",
              "    </tr>\n",
              "    <tr>\n",
              "      <th>96</th>\n",
              "      <td>769946.jpeg</td>\n",
              "      <td>0</td>\n",
              "    </tr>\n",
              "    <tr>\n",
              "      <th>97</th>\n",
              "      <td>59918.jpeg</td>\n",
              "      <td>0</td>\n",
              "    </tr>\n",
              "    <tr>\n",
              "      <th>98</th>\n",
              "      <td>189978.jpeg</td>\n",
              "      <td>0</td>\n",
              "    </tr>\n",
              "    <tr>\n",
              "      <th>99</th>\n",
              "      <td>249889.jpeg</td>\n",
              "      <td>0</td>\n",
              "    </tr>\n",
              "  </tbody>\n",
              "</table>\n",
              "<p>100 rows × 2 columns</p>\n",
              "</div>"
            ],
            "text/plain": [
              "       filename  y\n",
              "0   229958.jpeg  0\n",
              "1   559880.jpeg  0\n",
              "2   699970.jpeg  0\n",
              "3   609988.jpeg  0\n",
              "4   929917.jpeg  0\n",
              "..          ... ..\n",
              "95  819873.jpeg  0\n",
              "96  769946.jpeg  0\n",
              "97   59918.jpeg  0\n",
              "98  189978.jpeg  0\n",
              "99  249889.jpeg  0\n",
              "\n",
              "[100 rows x 2 columns]"
            ]
          },
          "metadata": {},
          "execution_count": 198
        }
      ]
    },
    {
      "cell_type": "markdown",
      "metadata": {
        "id": "FCC6TRoSuFDk"
      },
      "source": [
        "## 学習結果をセット\n",
        "\n",
        "---\n",
        "\n",
        "今はコメントオフ"
      ]
    },
    {
      "cell_type": "code",
      "metadata": {
        "id": "q-ZsTwPDt1pg"
      },
      "source": [
        "# pred_df['y'] = np.argmax(pred, axis=1).astype('int')\n",
        "\n",
        "# pred_df"
      ],
      "execution_count": 199,
      "outputs": []
    },
    {
      "cell_type": "code",
      "metadata": {
        "id": "gB-QBMwcoN6e"
      },
      "source": [
        "# for i in range(CLASSES):\n",
        "#     pred_df[f'pred_{i}'] = pred[:, i]\n",
        "\n",
        "# now = datetime.datetime.now(datetime.timezone(datetime.timedelta(hours=9)))\n",
        "\n",
        "# #詳細\n",
        "# str_detail_file = OUTPUT_DIR  + 'SGN_Casting_detail_EffB0_' +  now.strftime('%m%d%H%M') +'.csv'\n",
        "# pred_df.to_csv(str_detail_file, index=False)\n",
        "\n",
        "# str_file = OUTPUT_DIR  + 'SGN_Casting_submit__EffB0_' +  now.strftime('%m%d%H%M') +'.csv'\n",
        "# pred_df[['filename', 'y']].to_csv(str_file, header=False, index=False)\n",
        "\n",
        "# display(pred_df.head())"
      ],
      "execution_count": 200,
      "outputs": []
    },
    {
      "cell_type": "markdown",
      "metadata": {
        "id": "v8AH400idpTk"
      },
      "source": [
        "# 終わり"
      ]
    },
    {
      "cell_type": "code",
      "metadata": {
        "id": "bdBIu4za5umf",
        "colab": {
          "base_uri": "https://localhost:8080/"
        },
        "outputId": "5d014023-74d5-4af9-eaf0-bdb28ea873e8"
      },
      "source": [
        "#終了時刻\n",
        "time_of_finish = datetime.datetime.now(datetime.timezone(datetime.timedelta(hours=9)))\n",
        "print(\"finish_time=\",time_of_finish)\n",
        "print(\"total_time=\",time_of_finish-time_of_begin)"
      ],
      "execution_count": 201,
      "outputs": [
        {
          "output_type": "stream",
          "name": "stdout",
          "text": [
            "finish_time= 2021-09-18 16:01:18.069152+09:00\n",
            "total_time= 0:11:16.075944\n"
          ]
        }
      ]
    }
  ]
}