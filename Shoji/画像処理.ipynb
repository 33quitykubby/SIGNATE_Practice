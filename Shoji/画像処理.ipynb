{
  "nbformat": 4,
  "nbformat_minor": 0,
  "metadata": {
    "colab": {
      "name": "画像処理.ipynb",
      "provenance": [],
      "collapsed_sections": [],
      "mount_file_id": "1aHzbq_Wzju_IozqlB0r-rKIp5wPcmnH7",
      "authorship_tag": "ABX9TyOz+e2ZkRujRTVZlNzGjA6c",
      "include_colab_link": true
    },
    "kernelspec": {
      "name": "python3",
      "display_name": "Python 3"
    },
    "language_info": {
      "name": "python"
    }
  },
  "cells": [
    {
      "cell_type": "markdown",
      "metadata": {
        "id": "view-in-github",
        "colab_type": "text"
      },
      "source": [
        "<a href=\"https://colab.research.google.com/github/tomollow/SIGNATE_Practice/blob/main/Shoji/%E7%94%BB%E5%83%8F%E5%87%A6%E7%90%86.ipynb\" target=\"_parent\"><img src=\"https://colab.research.google.com/assets/colab-badge.svg\" alt=\"Open In Colab\"/></a>"
      ]
    },
    {
      "cell_type": "markdown",
      "metadata": {
        "id": "4P_XqdpxT9hG"
      },
      "source": [
        "## ファイルパス設定"
      ]
    },
    {
      "cell_type": "code",
      "metadata": {
        "id": "4tx4jTl9omFQ"
      },
      "source": [
        "import os\n",
        "\n",
        "BASE_PATH = './drive/MyDrive/SIGNATE/AI_Quest/2021協働/'\n",
        "\n",
        "INPUT_DIR = BASE_PATH + 'data/input/org/'\n",
        "TARGET_DIR = BASE_PATH + 'data/input/divide/'\n",
        "if not os.path.exists(TARGET_DIR):os.makedirs(TARGET_DIR)"
      ],
      "execution_count": 19,
      "outputs": []
    },
    {
      "cell_type": "markdown",
      "metadata": {
        "id": "6lquJssUUEih"
      },
      "source": [
        "## ファイルリスト取得（昇順）"
      ]
    },
    {
      "cell_type": "code",
      "metadata": {
        "id": "CKoBZnR2pFS9"
      },
      "source": [
        "import glob\n",
        "\n",
        "imagefiles = glob.glob(INPUT_DIR + '*.bmp')\n",
        "imagefiles.sort()\n",
        "\n",
        "imagefiles"
      ],
      "execution_count": null,
      "outputs": []
    },
    {
      "cell_type": "markdown",
      "metadata": {
        "id": "t_ufKnHxULYI"
      },
      "source": [
        "## グラフで日本語を使用できるように"
      ]
    },
    {
      "cell_type": "code",
      "metadata": {
        "colab": {
          "base_uri": "https://localhost:8080/"
        },
        "id": "zq8JbHPsTczK",
        "outputId": "9522adf4-90a3-42e9-fec7-145e34f8dae0"
      },
      "source": [
        "!pip install japanize_matplotlib"
      ],
      "execution_count": 43,
      "outputs": [
        {
          "output_type": "stream",
          "name": "stdout",
          "text": [
            "Collecting japanize_matplotlib\n",
            "  Downloading japanize-matplotlib-1.1.3.tar.gz (4.1 MB)\n",
            "\u001b[K     |████████████████████████████████| 4.1 MB 6.7 MB/s \n",
            "\u001b[?25hRequirement already satisfied: matplotlib in /usr/local/lib/python3.7/dist-packages (from japanize_matplotlib) (3.2.2)\n",
            "Requirement already satisfied: numpy>=1.11 in /usr/local/lib/python3.7/dist-packages (from matplotlib->japanize_matplotlib) (1.19.5)\n",
            "Requirement already satisfied: kiwisolver>=1.0.1 in /usr/local/lib/python3.7/dist-packages (from matplotlib->japanize_matplotlib) (1.3.2)\n",
            "Requirement already satisfied: python-dateutil>=2.1 in /usr/local/lib/python3.7/dist-packages (from matplotlib->japanize_matplotlib) (2.8.2)\n",
            "Requirement already satisfied: pyparsing!=2.0.4,!=2.1.2,!=2.1.6,>=2.0.1 in /usr/local/lib/python3.7/dist-packages (from matplotlib->japanize_matplotlib) (2.4.7)\n",
            "Requirement already satisfied: cycler>=0.10 in /usr/local/lib/python3.7/dist-packages (from matplotlib->japanize_matplotlib) (0.10.0)\n",
            "Requirement already satisfied: six in /usr/local/lib/python3.7/dist-packages (from cycler>=0.10->matplotlib->japanize_matplotlib) (1.15.0)\n",
            "Building wheels for collected packages: japanize-matplotlib\n",
            "  Building wheel for japanize-matplotlib (setup.py) ... \u001b[?25l\u001b[?25hdone\n",
            "  Created wheel for japanize-matplotlib: filename=japanize_matplotlib-1.1.3-py3-none-any.whl size=4120274 sha256=a4094bf0d066cb880306d04afd8e006b4dca5f5c7bf362cc33b81e725de8265e\n",
            "  Stored in directory: /root/.cache/pip/wheels/83/97/6b/e9e0cde099cc40f972b8dd23367308f7705ae06cd6d4714658\n",
            "Successfully built japanize-matplotlib\n",
            "Installing collected packages: japanize-matplotlib\n",
            "Successfully installed japanize-matplotlib-1.1.3\n"
          ]
        }
      ]
    },
    {
      "cell_type": "markdown",
      "metadata": {
        "id": "tL0sljuqURaV"
      },
      "source": [
        "## 画像分割\n",
        "\n",
        "```dW```: 幅の分割サイズ[pixel]<BR>\n",
        "```dH```: 高さの分割サイズ[pixel]<BR>\n",
        "```dr```: 分割サイズに乗ずる割合\n",
        "\n",
        "\n"
      ]
    },
    {
      "cell_type": "code",
      "metadata": {
        "id": "DwoPCN83pi9N"
      },
      "source": [
        "import os\n",
        "import cv2\n",
        "import matplotlib.pyplot as plt\n",
        "import japanize_matplotlib\n",
        "\n",
        "def show(title, img, ratio):\n",
        "    height, width, channels = img.shape\n",
        "    print(f'width: {width}, height: {height}')\n",
        "    plt.figure(figsize=(width/100.0, height/100.0), dpi=100 * ratio)\n",
        "    plt.imshow(img)\n",
        "    plt.title(title, fontsize = 60)\n",
        "    plt.xticks([]), plt.yticks([])\n",
        "    plt.show()\n",
        "\n",
        "dW = 224 #幅の分割サイズ[pixel]\n",
        "dH = 224 #高さの分割サイズ[pixel]\n",
        "dr = 0.1 #分割サイズに乗ずる割合\n",
        "divx = dW * dr #幅の重複サイズ\n",
        "divy = dH * dr #高さ重複サイズ\n",
        "\n",
        "def numplot(size, div, ddiv):\n",
        "    pre = 0\n",
        "    for j in range(100):\n",
        "        min = (pre - 0) if j == 0 else pre - ddiv\n",
        "        max = min + div\n",
        "        if  max > size:\n",
        "            min = size - 1 - div\n",
        "        max = min + div\n",
        "        pre = max\n",
        "\n",
        "        if max == size - 1:\n",
        "          return j \n",
        "\n",
        "def divide(num, img, ratio):\n",
        "    height, width, channels = img.shape\n",
        "    ih = numplot(height, dH, divy)\n",
        "    iw = numplot(width, dW, divx)\n",
        "    #print(ih, iw)\n",
        "    prey = 0\n",
        "    plt.figure(figsize=(dW/100.0 * iw, dH/100.0 * ih), dpi=100 * ratio)\n",
        "    for i in range(ih):\n",
        "        ymin = (prey - 0) if i == 0 else prey - divy\n",
        "        if  i == ih - 1:\n",
        "            ymin = height - 1 - dH\n",
        "        ymax = ymin + dH\n",
        "        prey = ymax\n",
        "        prex = 0\n",
        "        for j in range(iw):\n",
        "            xmin = (prex - 0) if j == 0 else prex - divx\n",
        "            xmax = xmin + dW\n",
        "            if  j == iw - 1:\n",
        "                xmin = width - 1 - dW\n",
        "            xmax = xmin + dW\n",
        "            #print(j, int(xmin), int(ymin), int(xmax), int(ymax))\n",
        "            prex = xmax\n",
        "\n",
        "            plt.subplot(ih, iw, iw * i + j + 1)\n",
        "            #print(ih + 1, iw + 1, ih * i + j + 1)\n",
        "            crop_img = img[int(ymin):int(ymax), int(xmin):int(xmax)]\n",
        "            plt.imshow(crop_img)\n",
        "            #plt.axis('off')\n",
        "            plt.xticks([]), plt.yticks([])\n",
        "            if j == 0:\n",
        "                plt.ylabel(f\"{i + 1:02}\", fontsize = 30)\n",
        "            if i == 0:\n",
        "                plt.title(f\"{j + 1:02}\", fontsize = 30)\n",
        "\n",
        "            cv2.imwrite(TARGET_DIR + f'{num + 1:02}-{j + 1:02}-{i + 1:02}.jpg', crop_img)\n",
        "        #break\n",
        "    plt.show()\n",
        "\n",
        "num = 0\n",
        "for file in imagefiles:\n",
        "    #print(file)\n",
        "    img = cv2.imread(file)\n",
        "    title = os.path.split(file)[1]\n",
        "    show(title, img, 0.2)\n",
        "\n",
        "    divide(num, img, 1.0)\n",
        "    #crop_img = img[0:200, 0:300]\n",
        "    #show(crop_img, 1.0)\n",
        "    num = num + 1\n",
        "    #break\n",
        "    \n"
      ],
      "execution_count": null,
      "outputs": []
    }
  ]
}